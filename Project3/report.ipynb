{
 "cells": [
  {
   "attachments": {},
   "cell_type": "markdown",
   "metadata": {},
   "source": [
    "# Report 3"
   ]
  },
  {
   "attachments": {},
   "cell_type": "markdown",
   "metadata": {},
   "source": [
    "## Basic Graph Algorithms"
   ]
  },
  {
   "attachments": {},
   "cell_type": "markdown",
   "metadata": {},
   "source": [
    "#### Marcin Kapiszewski 156048\n",
    "#### Adam Tomys 156057"
   ]
  },
  {
   "attachments": {},
   "cell_type": "markdown",
   "metadata": {},
   "source": [
    "Group 2"
   ]
  },
  {
   "attachments": {},
   "cell_type": "markdown",
   "metadata": {},
   "source": [
    "### Compared diraph representations:\n",
    "\n",
    "1. Incidence matrix:\n",
    "    - Matrix consists of vertices (rows), arcs (columns), and values(cells)\n",
    "    - Values:\n",
    "        - 1 means the head of the arc\n",
    "        - 0 means that the arc is not connected to that node\n",
    "        - -1 means the tail of the arc\n",
    "2. Adjacency matrix:\n",
    "    - Matrix consists of starting vertices (rows), ending vertices (columns), and values(cells)\n",
    "    - Values:\n",
    "        - 1 means that the given arc from tail to head exists\n",
    "        - 0 means that the given arc from tail to head does not exist\n",
    "        - -1 means that there is an arc from ending vertice to starting vertice (this value is not required)\n",
    "3. Arc list:\n",
    "    - The list contains entires containing arcs\n",
    "    - arc is represented as a tuple containing the tail and the head\n",
    "4. Adjacency list:\n",
    "    - It consists of one node for each vertice\n",
    "    - Each node contains all of the successors of the vertice\n",
    "    - Its possible to store all precessors too but as an additional list\n",
    "5. Forward star (in our case uses AVL tree):\n",
    "    - It is the same as the previos one, but instead of storing successors in a list it uses an AVL tree (in our case) or hashtable"
   ]
  },
  {
   "attachments": {},
   "cell_type": "markdown",
   "metadata": {},
   "source": [
    "### Implementation Difficulties:\n",
    "NO difficulties so far"
   ]
  },
  {
   "attachments": {},
   "cell_type": "markdown",
   "metadata": {},
   "source": [
    "### DAG Generation:\n",
    "TODO you better understood it and its not written anyway"
   ]
  },
  {
   "cell_type": "code",
   "execution_count": 9,
   "metadata": {},
   "outputs": [
    {
     "name": "stdout",
     "output_type": "stream",
     "text": [
      "The autoreload extension is already loaded. To reload it, use:\n",
      "  %reload_ext autoreload\n"
     ]
    }
   ],
   "source": [
    "%load_ext autoreload\n",
    "%autoreload 2"
   ]
  },
  {
   "attachments": {},
   "cell_type": "markdown",
   "metadata": {},
   "source": [
    "### COMPARE GRAPH REPRESENTATION DEPENDING ON DAG SATURATION AND DENSITY\n",
    "TODO Probably should be done mathematically not by program"
   ]
  },
  {
   "attachments": {},
   "cell_type": "markdown",
   "metadata": {},
   "source": [
    "### Compared topological sorts:\n",
    "\n",
    "1. Inspired by Kahn algorithm:\n",
    "    - First we count for each node the number of predecessors\n",
    "    - We initalize an output list, a number of visited nodes as 0, and a queue containing all vertices that do not have any predecessors\n",
    "    - While our queue is not empty:\n",
    "        - Increment visited nodes by one\n",
    "        - Remove a vertice from queue and add it to the output\n",
    "        - For each successor of dequeued node:\n",
    "            - Decrease their number of predecessors by one\n",
    "            - If the number is now 0 add it to the queue\n",
    "    - If the number of visisted nodes is diffrent than the number of all nodes it is not possible to sort this graph and an error or message should be returned\n",
    "    - Otherwise return out output list\n",
    "2. Making use of DFS (graph coloring):\n",
    "    - Our code used recursion for this\n",
    "    - First we initialize a stack as our output and a set for visited nodes\n",
    "    - Now we iterate over every node:\n",
    "        - If it was not visited already we call our helper function dfs\n",
    "    - At the end we return out stack as a list (stack was used for fast pushing new values on the left)\n",
    "\n",
    "    - Our helper dfs function:\n",
    "        - It takes the graph, the current node, the set of visited nodes, and the output stack as arguments\n",
    "        - It adds the node to the visited set\n",
    "        - For each successors of the node if that successor was not visited it calls dfs again\n",
    "        - At the end the current node is pushed to the left of the stack"
   ]
  },
  {
   "cell_type": "code",
   "execution_count": null,
   "metadata": {},
   "outputs": [],
   "source": [
    "# SPACE FOR TESTING SORTING ALGORITHMS"
   ]
  },
  {
   "attachments": {},
   "cell_type": "markdown",
   "metadata": {},
   "source": [
    "### Conclusions:\n",
    "\n",
    "TODO first rest of report needed\n",
    "    \n"
   ]
  }
 ],
 "metadata": {
  "kernelspec": {
   "display_name": "base",
   "language": "python",
   "name": "python3"
  },
  "language_info": {
   "codemirror_mode": {
    "name": "ipython",
    "version": 3
   },
   "file_extension": ".py",
   "mimetype": "text/x-python",
   "name": "python",
   "nbconvert_exporter": "python",
   "pygments_lexer": "ipython3",
   "version": "3.9.16"
  },
  "orig_nbformat": 4
 },
 "nbformat": 4,
 "nbformat_minor": 2
}
