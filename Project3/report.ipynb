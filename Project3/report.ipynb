{
 "cells": [
  {
   "attachments": {},
   "cell_type": "markdown",
   "metadata": {},
   "source": [
    "# Report 3"
   ]
  },
  {
   "attachments": {},
   "cell_type": "markdown",
   "metadata": {},
   "source": [
    "## Basic Graph Algorithms"
   ]
  },
  {
   "attachments": {},
   "cell_type": "markdown",
   "metadata": {},
   "source": [
    "#### Marcin Kapiszewski 156048\n",
    "#### Adam Tomys 156057"
   ]
  },
  {
   "attachments": {},
   "cell_type": "markdown",
   "metadata": {},
   "source": [
    "Group 2"
   ]
  },
  {
   "attachments": {},
   "cell_type": "markdown",
   "metadata": {},
   "source": [
    "### Compared diraph representations:\n",
    "\n",
    "1. Incidence matrix:\n",
    "    - Matrix consists of vertices (rows), arcs (columns), and values(cells)\n",
    "    - Values:\n",
    "        - 1 means the head of the arc\n",
    "        - 0 means that the arc is not connected to that node\n",
    "        - -1 means the tail of the arc\n",
    "2. Adjacency matrix:\n",
    "    - Matrix consists of starting vertices (rows), ending vertices (columns), and values(cells)\n",
    "    - Values:\n",
    "        - 1 means that the given arc from tail to head exists\n",
    "        - 0 means that the given arc from tail to head does not exist\n",
    "        - -1 means that there is an arc from ending vertice to starting vertice (this value is not required)\n",
    "3. Arc list:\n",
    "    - The list contains entires containing arcs\n",
    "    - arc is represented as a tuple containing the tail and the head\n",
    "4. Adjacency list:\n",
    "    - It consists of one node for each vertice\n",
    "    - Each node contains all of the successors of the vertice\n",
    "    - Its possible to store all precessors too but as an additional list\n",
    "5. Forward star (in our case uses built in hashtable):\n",
    "    - It is the same as the previos one, but instead of storing successors in a list it uses an AVL tree (in our case) or hashtable"
   ]
  },
  {
   "attachments": {},
   "cell_type": "markdown",
   "metadata": {},
   "source": [
    "### Implementation Difficulties:\n",
    "NO difficulties"
   ]
  },
  {
   "attachments": {},
   "cell_type": "markdown",
   "metadata": {},
   "source": [
    "### DAG Generation:\n",
    "TODO you better understood it and its not written anyway"
   ]
  },
  {
   "cell_type": "code",
   "execution_count": 1,
   "metadata": {},
   "outputs": [],
   "source": [
    "%load_ext autoreload\n",
    "%autoreload 2"
   ]
  },
  {
   "attachments": {},
   "cell_type": "markdown",
   "metadata": {},
   "source": [
    "### Memory Comparision:\n",
    "V - number of vertices, A - number of arcs\n",
    "1. Incidence matrix:\n",
    "    - V * A\n",
    "    - stores bools or small signed integers (if -1 is used to represent the tail)\n",
    "2. Adjacency matrix:\n",
    "    - V * V\n",
    "    - stores bools or small signed integers (if -1 is used to represent \"reversed\" arc)\n",
    "3. Arc list:\n",
    "    - 2 * A\n",
    "    - stores ids of heads and tails, typically represented by integers\n",
    "4. Adjacency list:\n",
    "    - V + E\n",
    "    - stores ids of heads and tails, typically represented by integers\n",
    "5. Forward star (in our case uses built in hashtable):\n",
    "    - V + E\n",
    "    - stores ids of heads and tails, typically represented by integers"
   ]
  },
  {
   "attachments": {},
   "cell_type": "markdown",
   "metadata": {},
   "source": [
    "### Compared topological sorts:\n",
    "\n",
    "1. Inspired by Kahn algorithm:\n",
    "    - First we count for each node the number of predecessors\n",
    "    - We initalize an output list, a number of visited nodes as 0, and a queue containing all vertices that do not have any predecessors\n",
    "    - While our queue is not empty:\n",
    "        - Increment visited nodes by one\n",
    "        - Remove a vertice from queue and add it to the output\n",
    "        - For each successor of dequeued node:\n",
    "            - Decrease their number of predecessors by one\n",
    "            - If the number is now 0 add it to the queue\n",
    "    - If the number of visisted nodes is diffrent than the number of all nodes it is not possible to sort this graph and an error or message should be returned\n",
    "    - Otherwise return out output list\n",
    "2. Making use of DFS (graph coloring):\n",
    "    - Our code used recursion for this\n",
    "    - First we initialize a stack as our output and a set for visited nodes\n",
    "    - Now we iterate over every node:\n",
    "        - If it was not visited already we call our helper function dfs\n",
    "    - At the end we return out stack as a list (stack was used for fast pushing new values on the left)\n",
    "\n",
    "    - Our helper dfs function:\n",
    "        - It takes the graph, the current node, the set of visited nodes, and the output stack as arguments\n",
    "        - It adds the node to the visited set\n",
    "        - For each successors of the node if that successor was not visited it calls dfs again\n",
    "        - At the end the current node is pushed to the left of the stack"
   ]
  },
  {
   "cell_type": "code",
   "execution_count": 2,
   "metadata": {},
   "outputs": [],
   "source": [
    "from collections import defaultdict\n",
    "\n",
    "from generate_DAG import generateDAG\n",
    "\n",
    "from kahn import kahn_sort\n",
    "from dfs_sort import dfs_sort\n",
    "\n",
    "from graph_representations.adjacencyList import AdjacencyList\n",
    "from graph_representations.adjacencyMatrix import AdjacencyMatrix\n",
    "from graph_representations.arcList import ArcList\n",
    "from graph_representations.forwardStar import ForwardStar\n",
    "from graph_representations.incidenceMatrix import IncidenceMatrix\n",
    "from graph_representations.digraphRepresentation import Digraph\n",
    "\n",
    "from evaluate_program import measureTime\n",
    "\n",
    "import plotly.graph_objects as go\n",
    "from plotly.subplots import make_subplots"
   ]
  },
  {
   "cell_type": "code",
   "execution_count": 3,
   "metadata": {},
   "outputs": [],
   "source": [
    "sortAlgorithms = [kahn_sort, dfs_sort]\n",
    "graphRepresentations = [IncidenceMatrix, AdjacencyMatrix, ArcList, AdjacencyList, ForwardStar]\n",
    "nodesNumbers = [100, 200, 300, 400, 500, 750, 1000, 1250, 1500, 2000, 2500, 3000, 4000, 5000]"
   ]
  },
  {
   "cell_type": "code",
   "execution_count": 4,
   "metadata": {},
   "outputs": [],
   "source": [
    "def inicializaceGraph(graph: Digraph, DAG):\n",
    "    len_dag = len(DAG)\n",
    "    for node in range(len_dag):\n",
    "        graph.addNode(node)\n",
    "    for startNode in range(len_dag):\n",
    "        for endNode in range(len_dag):\n",
    "            if DAG[startNode][endNode] == 1:\n",
    "                graph.addEdge(startNode, endNode)"
   ]
  },
  {
   "cell_type": "code",
   "execution_count": 5,
   "metadata": {},
   "outputs": [],
   "source": [
    "def evaluateSortAlgorithm(sortAlgorithm, saturation):\n",
    "    graphRepresentation: Digraph\n",
    "    times = {} # times.nodesNumber.graphRepresentation\n",
    "    for nodesNumber in nodesNumbers:\n",
    "        print(f\"{nodesNumber}:\")\n",
    "        times[nodesNumber] = {}\n",
    "        DAG = generateDAG(nodesNumber, saturation)\n",
    "        for graphRepresentation in graphRepresentations:\n",
    "            if (graphRepresentation.__name__ == \"IncidenceMatrix\" and nodesNumber >= 1500) or (graphRepresentation.__name__ == \"ArcList\" and nodesNumber >= 2000):\n",
    "                continue\n",
    "            graph = graphRepresentation()\n",
    "            inicializaceGraph(graph, DAG)\n",
    "            times[nodesNumber][graphRepresentation.__name__] = measureTime(sortAlgorithm, [graph])\n",
    "            print(f\"\\t{graphRepresentation.__name__} --> {times[nodesNumber][graphRepresentation.__name__]}\")\n",
    "    return times"
   ]
  },
  {
   "cell_type": "code",
   "execution_count": null,
   "metadata": {},
   "outputs": [],
   "source": [
    "import json\n",
    "for saturation in (1.0, 0.75, 0.5, 0.25, 0.1, 0.01):\n",
    "    times = {}\n",
    "    for sortAlgorithm in sortAlgorithms:\n",
    "        times[sortAlgorithm.__name__] = evaluateSortAlgorithm(sortAlgorithm, saturation)\n",
    "    with open(f\"times_{saturation*100}.json\", \"w\") as f:\n",
    "        json.dump(times, f)"
   ]
  },
  {
   "cell_type": "code",
   "execution_count": 8,
   "metadata": {},
   "outputs": [],
   "source": [
    "def compareSortTimesForGraphSizes(times, title):\n",
    "    titles = [f\"nodes: {nodesNumber}  edges:{((nodesNumber-1)*nodesNumber)//2}\" for nodesNumber in  nodesNumbers]\n",
    "    fig = make_subplots(rows=((len(times) - 1)//2 + 1), cols=2,subplot_titles=titles)\n",
    "\n",
    "    i=0\n",
    "    for nodesNumber in nodesNumbers:\n",
    "        d = times[nodesNumber]\n",
    "        fig.add_trace(go.Bar(x=list(d.keys()), y=list(d.values()), text=[round(x,3) for x in d.values()],\n",
    "                            textposition=\"auto\", name=\"\"),\n",
    "                        row=i//2+1, col=i%2+1)\n",
    "        fig.update_yaxes(title_text=\"time [s]\", row=i//2+1, col=i%2+1)\n",
    "        i+=1\n",
    "\n",
    "    fig.update_layout(height=1600, width=1200,\n",
    "                    title_text=title)\n",
    "\n",
    "    fig.show()"
   ]
  },
  {
   "cell_type": "code",
   "execution_count": 9,
   "metadata": {},
   "outputs": [],
   "source": [
    "def compareSortTimesForGraphRepresentation(times, title):\n",
    "    fig = make_subplots(rows=3, cols=2, subplot_titles=[representation.__name__ for representation in graphRepresentations])\n",
    "    colors = {\"kahn_sort\": \"blue\", \"dfs_sort\": \"red\"}\n",
    "    i=0\n",
    "    for graphRepresentation in graphRepresentations:\n",
    "        d = defaultdict(lambda : {})\n",
    "        for sort, sort_times in times.items():\n",
    "            for nodesNumber, time in sort_times.items():\n",
    "                # edgesNumber = ((nodesNumber-1)*nodesNumber)/2\n",
    "                if graphRepresentation.__name__ in time.keys():\n",
    "                    d[nodesNumber] = time[graphRepresentation.__name__]\n",
    "            fig.add_trace(go.Scatter(x=list(d.keys()), y=list(d.values()), text=[round(x,3) for x in d.values()], \n",
    "                                     name=sort, legendgroup=sort, showlegend=(i==0), marker=dict(color=colors[sort])),\n",
    "                            row=i//2+1, col=i%2+1)\n",
    "        fig.update_yaxes(title_text=\"time [s]\", row=i//2+1, col=i%2+1)\n",
    "        i+=1\n",
    "\n",
    "    fig.update_layout(height=800, width=1200,\n",
    "                    title_text=title)\n",
    "\n",
    "    fig.show()"
   ]
  },
  {
   "cell_type": "code",
   "execution_count": 10,
   "metadata": {},
   "outputs": [
    {
     "data": {
      "application/vnd.plotly.v1+json": {
       "config": {
        "plotlyServerURL": "https://plot.ly"
       },
       "data": [
        {
         "legendgroup": "kahn_sort",
         "marker": {
          "color": "blue"
         },
         "name": "kahn_sort",
         "showlegend": true,
         "text": [
          "0.072",
          "0.566",
          "1.926",
          "4.84",
          "9.785",
          "36.257",
          "94.156",
          "194.784"
         ],
         "type": "scatter",
         "x": [
          100,
          200,
          300,
          400,
          500,
          750,
          1000,
          1250
         ],
         "xaxis": "x",
         "y": [
          0.07161092758178711,
          0.5663819313049316,
          1.9264729022979736,
          4.839737892150879,
          9.784564018249512,
          36.25697612762451,
          94.15624809265137,
          194.78385424613953
         ],
         "yaxis": "y"
        },
        {
         "legendgroup": "dfs_sort",
         "marker": {
          "color": "red"
         },
         "name": "dfs_sort",
         "showlegend": true,
         "text": [
          "0.06",
          "0.483",
          "1.637",
          "4.196",
          "8.475",
          "30.302",
          "81.574",
          "170.875"
         ],
         "type": "scatter",
         "x": [
          100,
          200,
          300,
          400,
          500,
          750,
          1000,
          1250
         ],
         "xaxis": "x",
         "y": [
          0.060086727142333984,
          0.48283815383911133,
          1.6367371082305908,
          4.1957690715789795,
          8.47517204284668,
          30.302356958389282,
          81.57430005073547,
          170.87549710273743
         ],
         "yaxis": "y"
        },
        {
         "legendgroup": "kahn_sort",
         "marker": {
          "color": "blue"
         },
         "name": "kahn_sort",
         "showlegend": false,
         "text": [
          "0.002",
          "0.007",
          "0.016",
          "0.03",
          "0.048",
          "0.11",
          "0.199",
          "0.311",
          "0.447",
          "0.8",
          "1.25",
          "1.794",
          "3.173",
          "4.973"
         ],
         "type": "scatter",
         "x": [
          100,
          200,
          300,
          400,
          500,
          750,
          1000,
          1250,
          1500,
          2000,
          2500,
          3000,
          4000,
          5000
         ],
         "xaxis": "x2",
         "y": [
          0.0019719600677490234,
          0.00716090202331543,
          0.016430139541625977,
          0.030128002166748047,
          0.04806923866271973,
          0.11014819145202637,
          0.1986250877380371,
          0.310546875,
          0.4468810558319092,
          0.7996311187744141,
          1.2504498958587646,
          1.7943599224090576,
          3.1726908683776855,
          4.97285795211792
         ],
         "yaxis": "y2"
        },
        {
         "legendgroup": "dfs_sort",
         "marker": {
          "color": "red"
         },
         "name": "dfs_sort",
         "showlegend": false,
         "text": [
          "0.001",
          "0.004",
          "0.009",
          "0.016",
          "0.024",
          "0.056",
          "0.1",
          "0.163",
          "0.226",
          "0.4",
          "0.629",
          "0.908",
          "1.603",
          "2.52"
         ],
         "type": "scatter",
         "x": [
          100,
          200,
          300,
          400,
          500,
          750,
          1000,
          1250,
          1500,
          2000,
          2500,
          3000,
          4000,
          5000
         ],
         "xaxis": "x2",
         "y": [
          0.0009658336639404297,
          0.0038590431213378906,
          0.008516788482666016,
          0.015655994415283203,
          0.024439096450805664,
          0.0563349723815918,
          0.09968686103820801,
          0.1634969711303711,
          0.2255878448486328,
          0.39959025382995605,
          0.6290719509124756,
          0.907505989074707,
          1.6030521392822266,
          2.519521713256836
         ],
         "yaxis": "y2"
        },
        {
         "legendgroup": "kahn_sort",
         "marker": {
          "color": "blue"
         },
         "name": "kahn_sort",
         "showlegend": false,
         "text": [
          "0.016",
          "0.121",
          "0.405",
          "0.959",
          "1.882",
          "6.32",
          "15.004",
          "29.435",
          "50.873"
         ],
         "type": "scatter",
         "x": [
          100,
          200,
          300,
          400,
          500,
          750,
          1000,
          1250,
          1500
         ],
         "xaxis": "x3",
         "y": [
          0.015549898147583008,
          0.12120294570922852,
          0.4051220417022705,
          0.959007978439331,
          1.8824970722198486,
          6.31988263130188,
          15.004318952560425,
          29.4351589679718,
          50.873491287231445
         ],
         "yaxis": "y3"
        },
        {
         "legendgroup": "dfs_sort",
         "marker": {
          "color": "red"
         },
         "name": "dfs_sort",
         "showlegend": false,
         "text": [
          "0.015",
          "0.12",
          "0.446",
          "0.969",
          "1.845",
          "6.252",
          "15.328",
          "29.053",
          "50.302"
         ],
         "type": "scatter",
         "x": [
          100,
          200,
          300,
          400,
          500,
          750,
          1000,
          1250,
          1500
         ],
         "xaxis": "x3",
         "y": [
          0.015048027038574219,
          0.11972784996032715,
          0.44572901725769043,
          0.9687092304229736,
          1.844722032546997,
          6.2520911693573,
          15.327863216400146,
          29.053488969802856,
          50.301897048950195
         ],
         "yaxis": "y3"
        },
        {
         "legendgroup": "kahn_sort",
         "marker": {
          "color": "blue"
         },
         "name": "kahn_sort",
         "showlegend": false,
         "text": [
          "0.001",
          "0.003",
          "0.007",
          "0.013",
          "0.021",
          "0.053",
          "0.091",
          "0.145",
          "0.209",
          "0.375",
          "0.588",
          "0.858",
          "1.513",
          "2.37"
         ],
         "type": "scatter",
         "x": [
          100,
          200,
          300,
          400,
          500,
          750,
          1000,
          1250,
          1500,
          2000,
          2500,
          3000,
          4000,
          5000
         ],
         "xaxis": "x4",
         "y": [
          0.0007147789001464844,
          0.0029311180114746094,
          0.00653386116027832,
          0.012723922729492188,
          0.020762920379638672,
          0.052886962890625,
          0.09068512916564941,
          0.14495396614074707,
          0.209456205368042,
          0.37465500831604004,
          0.5881178379058838,
          0.8580789566040039,
          1.5126302242279053,
          2.3695108890533447
         ],
         "yaxis": "y4"
        },
        {
         "legendgroup": "dfs_sort",
         "marker": {
          "color": "red"
         },
         "name": "dfs_sort",
         "showlegend": false,
         "text": [
          "0.0",
          "0.001",
          "0.001",
          "0.002",
          "0.004",
          "0.009",
          "0.016",
          "0.025",
          "0.037",
          "0.067",
          "0.107",
          "0.151",
          "0.274",
          "0.445"
         ],
         "type": "scatter",
         "x": [
          100,
          200,
          300,
          400,
          500,
          750,
          1000,
          1250,
          1500,
          2000,
          2500,
          3000,
          4000,
          5000
         ],
         "xaxis": "x4",
         "y": [
          0.00016880035400390625,
          0.0005428791046142578,
          0.001338958740234375,
          0.002315998077392578,
          0.0037488937377929688,
          0.008947134017944336,
          0.015990018844604492,
          0.02544999122619629,
          0.03712773323059082,
          0.06660604476928711,
          0.10708284378051758,
          0.15146803855895996,
          0.27390265464782715,
          0.4450199604034424
         ],
         "yaxis": "y4"
        },
        {
         "legendgroup": "kahn_sort",
         "marker": {
          "color": "blue"
         },
         "name": "kahn_sort",
         "showlegend": false,
         "text": [
          "0.001",
          "0.003",
          "0.007",
          "0.014",
          "0.023",
          "0.056",
          "0.098",
          "0.155",
          "0.225",
          "0.404",
          "0.633",
          "0.91",
          "1.61",
          "2.541"
         ],
         "type": "scatter",
         "x": [
          100,
          200,
          300,
          400,
          500,
          750,
          1000,
          1250,
          1500,
          2000,
          2500,
          3000,
          4000,
          5000
         ],
         "xaxis": "x5",
         "y": [
          0.0007939338684082031,
          0.0032308101654052734,
          0.007088899612426758,
          0.013955831527709961,
          0.022804975509643555,
          0.05551004409790039,
          0.09760403633117676,
          0.15511012077331543,
          0.22462105751037598,
          0.4038100242614746,
          0.6329247951507568,
          0.9097528457641602,
          1.6100032329559326,
          2.540808916091919
         ],
         "yaxis": "y5"
        },
        {
         "legendgroup": "dfs_sort",
         "marker": {
          "color": "red"
         },
         "name": "dfs_sort",
         "showlegend": false,
         "text": [
          "0.0",
          "0.001",
          "0.002",
          "0.003",
          "0.005",
          "0.011",
          "0.02",
          "0.031",
          "0.044",
          "0.082",
          "0.129",
          "0.182",
          "0.339",
          "0.529"
         ],
         "type": "scatter",
         "x": [
          100,
          200,
          300,
          400,
          500,
          750,
          1000,
          1250,
          1500,
          2000,
          2500,
          3000,
          4000,
          5000
         ],
         "xaxis": "x5",
         "y": [
          0.0002028942108154297,
          0.0007469654083251953,
          0.0016460418701171875,
          0.0028553009033203125,
          0.004647016525268555,
          0.011123895645141602,
          0.02008199691772461,
          0.030556201934814453,
          0.044245004653930664,
          0.08152985572814941,
          0.12939000129699707,
          0.18229198455810547,
          0.33906078338623047,
          0.529365062713623
         ],
         "yaxis": "y5"
        }
       ],
       "layout": {
        "annotations": [
         {
          "font": {
           "size": 16
          },
          "showarrow": false,
          "text": "IncidenceMatrix",
          "x": 0.225,
          "xanchor": "center",
          "xref": "paper",
          "y": 1,
          "yanchor": "bottom",
          "yref": "paper"
         },
         {
          "font": {
           "size": 16
          },
          "showarrow": false,
          "text": "AdjacencyMatrix",
          "x": 0.775,
          "xanchor": "center",
          "xref": "paper",
          "y": 1,
          "yanchor": "bottom",
          "yref": "paper"
         },
         {
          "font": {
           "size": 16
          },
          "showarrow": false,
          "text": "ArcList",
          "x": 0.225,
          "xanchor": "center",
          "xref": "paper",
          "y": 0.6111111111111112,
          "yanchor": "bottom",
          "yref": "paper"
         },
         {
          "font": {
           "size": 16
          },
          "showarrow": false,
          "text": "AdjacencyList",
          "x": 0.775,
          "xanchor": "center",
          "xref": "paper",
          "y": 0.6111111111111112,
          "yanchor": "bottom",
          "yref": "paper"
         },
         {
          "font": {
           "size": 16
          },
          "showarrow": false,
          "text": "ForwardStar",
          "x": 0.225,
          "xanchor": "center",
          "xref": "paper",
          "y": 0.22222222222222224,
          "yanchor": "bottom",
          "yref": "paper"
         }
        ],
        "height": 800,
        "template": {
         "data": {
          "bar": [
           {
            "error_x": {
             "color": "#2a3f5f"
            },
            "error_y": {
             "color": "#2a3f5f"
            },
            "marker": {
             "line": {
              "color": "#E5ECF6",
              "width": 0.5
             },
             "pattern": {
              "fillmode": "overlay",
              "size": 10,
              "solidity": 0.2
             }
            },
            "type": "bar"
           }
          ],
          "barpolar": [
           {
            "marker": {
             "line": {
              "color": "#E5ECF6",
              "width": 0.5
             },
             "pattern": {
              "fillmode": "overlay",
              "size": 10,
              "solidity": 0.2
             }
            },
            "type": "barpolar"
           }
          ],
          "carpet": [
           {
            "aaxis": {
             "endlinecolor": "#2a3f5f",
             "gridcolor": "white",
             "linecolor": "white",
             "minorgridcolor": "white",
             "startlinecolor": "#2a3f5f"
            },
            "baxis": {
             "endlinecolor": "#2a3f5f",
             "gridcolor": "white",
             "linecolor": "white",
             "minorgridcolor": "white",
             "startlinecolor": "#2a3f5f"
            },
            "type": "carpet"
           }
          ],
          "choropleth": [
           {
            "colorbar": {
             "outlinewidth": 0,
             "ticks": ""
            },
            "type": "choropleth"
           }
          ],
          "contour": [
           {
            "colorbar": {
             "outlinewidth": 0,
             "ticks": ""
            },
            "colorscale": [
             [
              0,
              "#0d0887"
             ],
             [
              0.1111111111111111,
              "#46039f"
             ],
             [
              0.2222222222222222,
              "#7201a8"
             ],
             [
              0.3333333333333333,
              "#9c179e"
             ],
             [
              0.4444444444444444,
              "#bd3786"
             ],
             [
              0.5555555555555556,
              "#d8576b"
             ],
             [
              0.6666666666666666,
              "#ed7953"
             ],
             [
              0.7777777777777778,
              "#fb9f3a"
             ],
             [
              0.8888888888888888,
              "#fdca26"
             ],
             [
              1,
              "#f0f921"
             ]
            ],
            "type": "contour"
           }
          ],
          "contourcarpet": [
           {
            "colorbar": {
             "outlinewidth": 0,
             "ticks": ""
            },
            "type": "contourcarpet"
           }
          ],
          "heatmap": [
           {
            "colorbar": {
             "outlinewidth": 0,
             "ticks": ""
            },
            "colorscale": [
             [
              0,
              "#0d0887"
             ],
             [
              0.1111111111111111,
              "#46039f"
             ],
             [
              0.2222222222222222,
              "#7201a8"
             ],
             [
              0.3333333333333333,
              "#9c179e"
             ],
             [
              0.4444444444444444,
              "#bd3786"
             ],
             [
              0.5555555555555556,
              "#d8576b"
             ],
             [
              0.6666666666666666,
              "#ed7953"
             ],
             [
              0.7777777777777778,
              "#fb9f3a"
             ],
             [
              0.8888888888888888,
              "#fdca26"
             ],
             [
              1,
              "#f0f921"
             ]
            ],
            "type": "heatmap"
           }
          ],
          "heatmapgl": [
           {
            "colorbar": {
             "outlinewidth": 0,
             "ticks": ""
            },
            "colorscale": [
             [
              0,
              "#0d0887"
             ],
             [
              0.1111111111111111,
              "#46039f"
             ],
             [
              0.2222222222222222,
              "#7201a8"
             ],
             [
              0.3333333333333333,
              "#9c179e"
             ],
             [
              0.4444444444444444,
              "#bd3786"
             ],
             [
              0.5555555555555556,
              "#d8576b"
             ],
             [
              0.6666666666666666,
              "#ed7953"
             ],
             [
              0.7777777777777778,
              "#fb9f3a"
             ],
             [
              0.8888888888888888,
              "#fdca26"
             ],
             [
              1,
              "#f0f921"
             ]
            ],
            "type": "heatmapgl"
           }
          ],
          "histogram": [
           {
            "marker": {
             "pattern": {
              "fillmode": "overlay",
              "size": 10,
              "solidity": 0.2
             }
            },
            "type": "histogram"
           }
          ],
          "histogram2d": [
           {
            "colorbar": {
             "outlinewidth": 0,
             "ticks": ""
            },
            "colorscale": [
             [
              0,
              "#0d0887"
             ],
             [
              0.1111111111111111,
              "#46039f"
             ],
             [
              0.2222222222222222,
              "#7201a8"
             ],
             [
              0.3333333333333333,
              "#9c179e"
             ],
             [
              0.4444444444444444,
              "#bd3786"
             ],
             [
              0.5555555555555556,
              "#d8576b"
             ],
             [
              0.6666666666666666,
              "#ed7953"
             ],
             [
              0.7777777777777778,
              "#fb9f3a"
             ],
             [
              0.8888888888888888,
              "#fdca26"
             ],
             [
              1,
              "#f0f921"
             ]
            ],
            "type": "histogram2d"
           }
          ],
          "histogram2dcontour": [
           {
            "colorbar": {
             "outlinewidth": 0,
             "ticks": ""
            },
            "colorscale": [
             [
              0,
              "#0d0887"
             ],
             [
              0.1111111111111111,
              "#46039f"
             ],
             [
              0.2222222222222222,
              "#7201a8"
             ],
             [
              0.3333333333333333,
              "#9c179e"
             ],
             [
              0.4444444444444444,
              "#bd3786"
             ],
             [
              0.5555555555555556,
              "#d8576b"
             ],
             [
              0.6666666666666666,
              "#ed7953"
             ],
             [
              0.7777777777777778,
              "#fb9f3a"
             ],
             [
              0.8888888888888888,
              "#fdca26"
             ],
             [
              1,
              "#f0f921"
             ]
            ],
            "type": "histogram2dcontour"
           }
          ],
          "mesh3d": [
           {
            "colorbar": {
             "outlinewidth": 0,
             "ticks": ""
            },
            "type": "mesh3d"
           }
          ],
          "parcoords": [
           {
            "line": {
             "colorbar": {
              "outlinewidth": 0,
              "ticks": ""
             }
            },
            "type": "parcoords"
           }
          ],
          "pie": [
           {
            "automargin": true,
            "type": "pie"
           }
          ],
          "scatter": [
           {
            "fillpattern": {
             "fillmode": "overlay",
             "size": 10,
             "solidity": 0.2
            },
            "type": "scatter"
           }
          ],
          "scatter3d": [
           {
            "line": {
             "colorbar": {
              "outlinewidth": 0,
              "ticks": ""
             }
            },
            "marker": {
             "colorbar": {
              "outlinewidth": 0,
              "ticks": ""
             }
            },
            "type": "scatter3d"
           }
          ],
          "scattercarpet": [
           {
            "marker": {
             "colorbar": {
              "outlinewidth": 0,
              "ticks": ""
             }
            },
            "type": "scattercarpet"
           }
          ],
          "scattergeo": [
           {
            "marker": {
             "colorbar": {
              "outlinewidth": 0,
              "ticks": ""
             }
            },
            "type": "scattergeo"
           }
          ],
          "scattergl": [
           {
            "marker": {
             "colorbar": {
              "outlinewidth": 0,
              "ticks": ""
             }
            },
            "type": "scattergl"
           }
          ],
          "scattermapbox": [
           {
            "marker": {
             "colorbar": {
              "outlinewidth": 0,
              "ticks": ""
             }
            },
            "type": "scattermapbox"
           }
          ],
          "scatterpolar": [
           {
            "marker": {
             "colorbar": {
              "outlinewidth": 0,
              "ticks": ""
             }
            },
            "type": "scatterpolar"
           }
          ],
          "scatterpolargl": [
           {
            "marker": {
             "colorbar": {
              "outlinewidth": 0,
              "ticks": ""
             }
            },
            "type": "scatterpolargl"
           }
          ],
          "scatterternary": [
           {
            "marker": {
             "colorbar": {
              "outlinewidth": 0,
              "ticks": ""
             }
            },
            "type": "scatterternary"
           }
          ],
          "surface": [
           {
            "colorbar": {
             "outlinewidth": 0,
             "ticks": ""
            },
            "colorscale": [
             [
              0,
              "#0d0887"
             ],
             [
              0.1111111111111111,
              "#46039f"
             ],
             [
              0.2222222222222222,
              "#7201a8"
             ],
             [
              0.3333333333333333,
              "#9c179e"
             ],
             [
              0.4444444444444444,
              "#bd3786"
             ],
             [
              0.5555555555555556,
              "#d8576b"
             ],
             [
              0.6666666666666666,
              "#ed7953"
             ],
             [
              0.7777777777777778,
              "#fb9f3a"
             ],
             [
              0.8888888888888888,
              "#fdca26"
             ],
             [
              1,
              "#f0f921"
             ]
            ],
            "type": "surface"
           }
          ],
          "table": [
           {
            "cells": {
             "fill": {
              "color": "#EBF0F8"
             },
             "line": {
              "color": "white"
             }
            },
            "header": {
             "fill": {
              "color": "#C8D4E3"
             },
             "line": {
              "color": "white"
             }
            },
            "type": "table"
           }
          ]
         },
         "layout": {
          "annotationdefaults": {
           "arrowcolor": "#2a3f5f",
           "arrowhead": 0,
           "arrowwidth": 1
          },
          "autotypenumbers": "strict",
          "coloraxis": {
           "colorbar": {
            "outlinewidth": 0,
            "ticks": ""
           }
          },
          "colorscale": {
           "diverging": [
            [
             0,
             "#8e0152"
            ],
            [
             0.1,
             "#c51b7d"
            ],
            [
             0.2,
             "#de77ae"
            ],
            [
             0.3,
             "#f1b6da"
            ],
            [
             0.4,
             "#fde0ef"
            ],
            [
             0.5,
             "#f7f7f7"
            ],
            [
             0.6,
             "#e6f5d0"
            ],
            [
             0.7,
             "#b8e186"
            ],
            [
             0.8,
             "#7fbc41"
            ],
            [
             0.9,
             "#4d9221"
            ],
            [
             1,
             "#276419"
            ]
           ],
           "sequential": [
            [
             0,
             "#0d0887"
            ],
            [
             0.1111111111111111,
             "#46039f"
            ],
            [
             0.2222222222222222,
             "#7201a8"
            ],
            [
             0.3333333333333333,
             "#9c179e"
            ],
            [
             0.4444444444444444,
             "#bd3786"
            ],
            [
             0.5555555555555556,
             "#d8576b"
            ],
            [
             0.6666666666666666,
             "#ed7953"
            ],
            [
             0.7777777777777778,
             "#fb9f3a"
            ],
            [
             0.8888888888888888,
             "#fdca26"
            ],
            [
             1,
             "#f0f921"
            ]
           ],
           "sequentialminus": [
            [
             0,
             "#0d0887"
            ],
            [
             0.1111111111111111,
             "#46039f"
            ],
            [
             0.2222222222222222,
             "#7201a8"
            ],
            [
             0.3333333333333333,
             "#9c179e"
            ],
            [
             0.4444444444444444,
             "#bd3786"
            ],
            [
             0.5555555555555556,
             "#d8576b"
            ],
            [
             0.6666666666666666,
             "#ed7953"
            ],
            [
             0.7777777777777778,
             "#fb9f3a"
            ],
            [
             0.8888888888888888,
             "#fdca26"
            ],
            [
             1,
             "#f0f921"
            ]
           ]
          },
          "colorway": [
           "#636efa",
           "#EF553B",
           "#00cc96",
           "#ab63fa",
           "#FFA15A",
           "#19d3f3",
           "#FF6692",
           "#B6E880",
           "#FF97FF",
           "#FECB52"
          ],
          "font": {
           "color": "#2a3f5f"
          },
          "geo": {
           "bgcolor": "white",
           "lakecolor": "white",
           "landcolor": "#E5ECF6",
           "showlakes": true,
           "showland": true,
           "subunitcolor": "white"
          },
          "hoverlabel": {
           "align": "left"
          },
          "hovermode": "closest",
          "mapbox": {
           "style": "light"
          },
          "paper_bgcolor": "white",
          "plot_bgcolor": "#E5ECF6",
          "polar": {
           "angularaxis": {
            "gridcolor": "white",
            "linecolor": "white",
            "ticks": ""
           },
           "bgcolor": "#E5ECF6",
           "radialaxis": {
            "gridcolor": "white",
            "linecolor": "white",
            "ticks": ""
           }
          },
          "scene": {
           "xaxis": {
            "backgroundcolor": "#E5ECF6",
            "gridcolor": "white",
            "gridwidth": 2,
            "linecolor": "white",
            "showbackground": true,
            "ticks": "",
            "zerolinecolor": "white"
           },
           "yaxis": {
            "backgroundcolor": "#E5ECF6",
            "gridcolor": "white",
            "gridwidth": 2,
            "linecolor": "white",
            "showbackground": true,
            "ticks": "",
            "zerolinecolor": "white"
           },
           "zaxis": {
            "backgroundcolor": "#E5ECF6",
            "gridcolor": "white",
            "gridwidth": 2,
            "linecolor": "white",
            "showbackground": true,
            "ticks": "",
            "zerolinecolor": "white"
           }
          },
          "shapedefaults": {
           "line": {
            "color": "#2a3f5f"
           }
          },
          "ternary": {
           "aaxis": {
            "gridcolor": "white",
            "linecolor": "white",
            "ticks": ""
           },
           "baxis": {
            "gridcolor": "white",
            "linecolor": "white",
            "ticks": ""
           },
           "bgcolor": "#E5ECF6",
           "caxis": {
            "gridcolor": "white",
            "linecolor": "white",
            "ticks": ""
           }
          },
          "title": {
           "x": 0.05
          },
          "xaxis": {
           "automargin": true,
           "gridcolor": "white",
           "linecolor": "white",
           "ticks": "",
           "title": {
            "standoff": 15
           },
           "zerolinecolor": "white",
           "zerolinewidth": 2
          },
          "yaxis": {
           "automargin": true,
           "gridcolor": "white",
           "linecolor": "white",
           "ticks": "",
           "title": {
            "standoff": 15
           },
           "zerolinecolor": "white",
           "zerolinewidth": 2
          }
         }
        },
        "title": {
         "text": "sort comparision"
        },
        "width": 1200,
        "xaxis": {
         "anchor": "y",
         "domain": [
          0,
          0.45
         ]
        },
        "xaxis2": {
         "anchor": "y2",
         "domain": [
          0.55,
          1
         ]
        },
        "xaxis3": {
         "anchor": "y3",
         "domain": [
          0,
          0.45
         ]
        },
        "xaxis4": {
         "anchor": "y4",
         "domain": [
          0.55,
          1
         ]
        },
        "xaxis5": {
         "anchor": "y5",
         "domain": [
          0,
          0.45
         ]
        },
        "xaxis6": {
         "anchor": "y6",
         "domain": [
          0.55,
          1
         ]
        },
        "yaxis": {
         "anchor": "x",
         "domain": [
          0.7777777777777778,
          1
         ],
         "title": {
          "text": "time [s]"
         }
        },
        "yaxis2": {
         "anchor": "x2",
         "domain": [
          0.7777777777777778,
          1
         ],
         "title": {
          "text": "time [s]"
         }
        },
        "yaxis3": {
         "anchor": "x3",
         "domain": [
          0.3888888888888889,
          0.6111111111111112
         ],
         "title": {
          "text": "time [s]"
         }
        },
        "yaxis4": {
         "anchor": "x4",
         "domain": [
          0.3888888888888889,
          0.6111111111111112
         ],
         "title": {
          "text": "time [s]"
         }
        },
        "yaxis5": {
         "anchor": "x5",
         "domain": [
          0,
          0.22222222222222224
         ],
         "title": {
          "text": "time [s]"
         }
        },
        "yaxis6": {
         "anchor": "x6",
         "domain": [
          0,
          0.22222222222222224
         ]
        }
       }
      }
     },
     "metadata": {},
     "output_type": "display_data"
    }
   ],
   "source": [
    "compareSortTimesForGraphRepresentation(times, \"sort comparision\")"
   ]
  },
  {
   "cell_type": "code",
   "execution_count": 11,
   "metadata": {},
   "outputs": [
    {
     "data": {
      "application/vnd.plotly.v1+json": {
       "config": {
        "plotlyServerURL": "https://plot.ly"
       },
       "data": [
        {
         "name": "",
         "text": [
          "0.072",
          "0.002",
          "0.016",
          "0.001",
          "0.001"
         ],
         "textposition": "auto",
         "type": "bar",
         "x": [
          "IncidenceMatrix",
          "AdjacencyMatrix",
          "ArcList",
          "AdjacencyList",
          "ForwardStar"
         ],
         "xaxis": "x",
         "y": [
          0.07161092758178711,
          0.0019719600677490234,
          0.015549898147583008,
          0.0007147789001464844,
          0.0007939338684082031
         ],
         "yaxis": "y"
        },
        {
         "name": "",
         "text": [
          "0.566",
          "0.007",
          "0.121",
          "0.003",
          "0.003"
         ],
         "textposition": "auto",
         "type": "bar",
         "x": [
          "IncidenceMatrix",
          "AdjacencyMatrix",
          "ArcList",
          "AdjacencyList",
          "ForwardStar"
         ],
         "xaxis": "x2",
         "y": [
          0.5663819313049316,
          0.00716090202331543,
          0.12120294570922852,
          0.0029311180114746094,
          0.0032308101654052734
         ],
         "yaxis": "y2"
        },
        {
         "name": "",
         "text": [
          "1.926",
          "0.016",
          "0.405",
          "0.007",
          "0.007"
         ],
         "textposition": "auto",
         "type": "bar",
         "x": [
          "IncidenceMatrix",
          "AdjacencyMatrix",
          "ArcList",
          "AdjacencyList",
          "ForwardStar"
         ],
         "xaxis": "x3",
         "y": [
          1.9264729022979736,
          0.016430139541625977,
          0.4051220417022705,
          0.00653386116027832,
          0.007088899612426758
         ],
         "yaxis": "y3"
        },
        {
         "name": "",
         "text": [
          "4.84",
          "0.03",
          "0.959",
          "0.013",
          "0.014"
         ],
         "textposition": "auto",
         "type": "bar",
         "x": [
          "IncidenceMatrix",
          "AdjacencyMatrix",
          "ArcList",
          "AdjacencyList",
          "ForwardStar"
         ],
         "xaxis": "x4",
         "y": [
          4.839737892150879,
          0.030128002166748047,
          0.959007978439331,
          0.012723922729492188,
          0.013955831527709961
         ],
         "yaxis": "y4"
        },
        {
         "name": "",
         "text": [
          "9.785",
          "0.048",
          "1.882",
          "0.021",
          "0.023"
         ],
         "textposition": "auto",
         "type": "bar",
         "x": [
          "IncidenceMatrix",
          "AdjacencyMatrix",
          "ArcList",
          "AdjacencyList",
          "ForwardStar"
         ],
         "xaxis": "x5",
         "y": [
          9.784564018249512,
          0.04806923866271973,
          1.8824970722198486,
          0.020762920379638672,
          0.022804975509643555
         ],
         "yaxis": "y5"
        },
        {
         "name": "",
         "text": [
          "36.257",
          "0.11",
          "6.32",
          "0.053",
          "0.056"
         ],
         "textposition": "auto",
         "type": "bar",
         "x": [
          "IncidenceMatrix",
          "AdjacencyMatrix",
          "ArcList",
          "AdjacencyList",
          "ForwardStar"
         ],
         "xaxis": "x6",
         "y": [
          36.25697612762451,
          0.11014819145202637,
          6.31988263130188,
          0.052886962890625,
          0.05551004409790039
         ],
         "yaxis": "y6"
        },
        {
         "name": "",
         "text": [
          "94.156",
          "0.199",
          "15.004",
          "0.091",
          "0.098"
         ],
         "textposition": "auto",
         "type": "bar",
         "x": [
          "IncidenceMatrix",
          "AdjacencyMatrix",
          "ArcList",
          "AdjacencyList",
          "ForwardStar"
         ],
         "xaxis": "x7",
         "y": [
          94.15624809265137,
          0.1986250877380371,
          15.004318952560425,
          0.09068512916564941,
          0.09760403633117676
         ],
         "yaxis": "y7"
        },
        {
         "name": "",
         "text": [
          "194.784",
          "0.311",
          "29.435",
          "0.145",
          "0.155"
         ],
         "textposition": "auto",
         "type": "bar",
         "x": [
          "IncidenceMatrix",
          "AdjacencyMatrix",
          "ArcList",
          "AdjacencyList",
          "ForwardStar"
         ],
         "xaxis": "x8",
         "y": [
          194.78385424613953,
          0.310546875,
          29.4351589679718,
          0.14495396614074707,
          0.15511012077331543
         ],
         "yaxis": "y8"
        },
        {
         "name": "",
         "text": [
          "0.447",
          "50.873",
          "0.209",
          "0.225"
         ],
         "textposition": "auto",
         "type": "bar",
         "x": [
          "AdjacencyMatrix",
          "ArcList",
          "AdjacencyList",
          "ForwardStar"
         ],
         "xaxis": "x9",
         "y": [
          0.4468810558319092,
          50.873491287231445,
          0.209456205368042,
          0.22462105751037598
         ],
         "yaxis": "y9"
        },
        {
         "name": "",
         "text": [
          "0.8",
          "0.375",
          "0.404"
         ],
         "textposition": "auto",
         "type": "bar",
         "x": [
          "AdjacencyMatrix",
          "AdjacencyList",
          "ForwardStar"
         ],
         "xaxis": "x10",
         "y": [
          0.7996311187744141,
          0.37465500831604004,
          0.4038100242614746
         ],
         "yaxis": "y10"
        },
        {
         "name": "",
         "text": [
          "1.25",
          "0.588",
          "0.633"
         ],
         "textposition": "auto",
         "type": "bar",
         "x": [
          "AdjacencyMatrix",
          "AdjacencyList",
          "ForwardStar"
         ],
         "xaxis": "x11",
         "y": [
          1.2504498958587646,
          0.5881178379058838,
          0.6329247951507568
         ],
         "yaxis": "y11"
        },
        {
         "name": "",
         "text": [
          "1.794",
          "0.858",
          "0.91"
         ],
         "textposition": "auto",
         "type": "bar",
         "x": [
          "AdjacencyMatrix",
          "AdjacencyList",
          "ForwardStar"
         ],
         "xaxis": "x12",
         "y": [
          1.7943599224090576,
          0.8580789566040039,
          0.9097528457641602
         ],
         "yaxis": "y12"
        },
        {
         "name": "",
         "text": [
          "3.173",
          "1.513",
          "1.61"
         ],
         "textposition": "auto",
         "type": "bar",
         "x": [
          "AdjacencyMatrix",
          "AdjacencyList",
          "ForwardStar"
         ],
         "xaxis": "x13",
         "y": [
          3.1726908683776855,
          1.5126302242279053,
          1.6100032329559326
         ],
         "yaxis": "y13"
        },
        {
         "name": "",
         "text": [
          "4.973",
          "2.37",
          "2.541"
         ],
         "textposition": "auto",
         "type": "bar",
         "x": [
          "AdjacencyMatrix",
          "AdjacencyList",
          "ForwardStar"
         ],
         "xaxis": "x14",
         "y": [
          4.97285795211792,
          2.3695108890533447,
          2.540808916091919
         ],
         "yaxis": "y14"
        }
       ],
       "layout": {
        "annotations": [
         {
          "font": {
           "size": 16
          },
          "showarrow": false,
          "text": "nodes: 100  edges:4950",
          "x": 0.225,
          "xanchor": "center",
          "xref": "paper",
          "y": 0.9999999999999999,
          "yanchor": "bottom",
          "yref": "paper"
         },
         {
          "font": {
           "size": 16
          },
          "showarrow": false,
          "text": "nodes: 200  edges:19900",
          "x": 0.775,
          "xanchor": "center",
          "xref": "paper",
          "y": 0.9999999999999999,
          "yanchor": "bottom",
          "yref": "paper"
         },
         {
          "font": {
           "size": 16
          },
          "showarrow": false,
          "text": "nodes: 300  edges:44850",
          "x": 0.225,
          "xanchor": "center",
          "xref": "paper",
          "y": 0.8469387755102039,
          "yanchor": "bottom",
          "yref": "paper"
         },
         {
          "font": {
           "size": 16
          },
          "showarrow": false,
          "text": "nodes: 400  edges:79800",
          "x": 0.775,
          "xanchor": "center",
          "xref": "paper",
          "y": 0.8469387755102039,
          "yanchor": "bottom",
          "yref": "paper"
         },
         {
          "font": {
           "size": 16
          },
          "showarrow": false,
          "text": "nodes: 500  edges:124750",
          "x": 0.225,
          "xanchor": "center",
          "xref": "paper",
          "y": 0.6938775510204082,
          "yanchor": "bottom",
          "yref": "paper"
         },
         {
          "font": {
           "size": 16
          },
          "showarrow": false,
          "text": "nodes: 750  edges:280875",
          "x": 0.775,
          "xanchor": "center",
          "xref": "paper",
          "y": 0.6938775510204082,
          "yanchor": "bottom",
          "yref": "paper"
         },
         {
          "font": {
           "size": 16
          },
          "showarrow": false,
          "text": "nodes: 1000  edges:499500",
          "x": 0.225,
          "xanchor": "center",
          "xref": "paper",
          "y": 0.5408163265306122,
          "yanchor": "bottom",
          "yref": "paper"
         },
         {
          "font": {
           "size": 16
          },
          "showarrow": false,
          "text": "nodes: 1250  edges:780625",
          "x": 0.775,
          "xanchor": "center",
          "xref": "paper",
          "y": 0.5408163265306122,
          "yanchor": "bottom",
          "yref": "paper"
         },
         {
          "font": {
           "size": 16
          },
          "showarrow": false,
          "text": "nodes: 1500  edges:1124250",
          "x": 0.225,
          "xanchor": "center",
          "xref": "paper",
          "y": 0.3877551020408163,
          "yanchor": "bottom",
          "yref": "paper"
         },
         {
          "font": {
           "size": 16
          },
          "showarrow": false,
          "text": "nodes: 2000  edges:1999000",
          "x": 0.775,
          "xanchor": "center",
          "xref": "paper",
          "y": 0.3877551020408163,
          "yanchor": "bottom",
          "yref": "paper"
         },
         {
          "font": {
           "size": 16
          },
          "showarrow": false,
          "text": "nodes: 2500  edges:3123750",
          "x": 0.225,
          "xanchor": "center",
          "xref": "paper",
          "y": 0.2346938775510204,
          "yanchor": "bottom",
          "yref": "paper"
         },
         {
          "font": {
           "size": 16
          },
          "showarrow": false,
          "text": "nodes: 3000  edges:4498500",
          "x": 0.775,
          "xanchor": "center",
          "xref": "paper",
          "y": 0.2346938775510204,
          "yanchor": "bottom",
          "yref": "paper"
         },
         {
          "font": {
           "size": 16
          },
          "showarrow": false,
          "text": "nodes: 4000  edges:7998000",
          "x": 0.225,
          "xanchor": "center",
          "xref": "paper",
          "y": 0.08163265306122448,
          "yanchor": "bottom",
          "yref": "paper"
         },
         {
          "font": {
           "size": 16
          },
          "showarrow": false,
          "text": "nodes: 5000  edges:12497500",
          "x": 0.775,
          "xanchor": "center",
          "xref": "paper",
          "y": 0.08163265306122448,
          "yanchor": "bottom",
          "yref": "paper"
         }
        ],
        "height": 1600,
        "template": {
         "data": {
          "bar": [
           {
            "error_x": {
             "color": "#2a3f5f"
            },
            "error_y": {
             "color": "#2a3f5f"
            },
            "marker": {
             "line": {
              "color": "#E5ECF6",
              "width": 0.5
             },
             "pattern": {
              "fillmode": "overlay",
              "size": 10,
              "solidity": 0.2
             }
            },
            "type": "bar"
           }
          ],
          "barpolar": [
           {
            "marker": {
             "line": {
              "color": "#E5ECF6",
              "width": 0.5
             },
             "pattern": {
              "fillmode": "overlay",
              "size": 10,
              "solidity": 0.2
             }
            },
            "type": "barpolar"
           }
          ],
          "carpet": [
           {
            "aaxis": {
             "endlinecolor": "#2a3f5f",
             "gridcolor": "white",
             "linecolor": "white",
             "minorgridcolor": "white",
             "startlinecolor": "#2a3f5f"
            },
            "baxis": {
             "endlinecolor": "#2a3f5f",
             "gridcolor": "white",
             "linecolor": "white",
             "minorgridcolor": "white",
             "startlinecolor": "#2a3f5f"
            },
            "type": "carpet"
           }
          ],
          "choropleth": [
           {
            "colorbar": {
             "outlinewidth": 0,
             "ticks": ""
            },
            "type": "choropleth"
           }
          ],
          "contour": [
           {
            "colorbar": {
             "outlinewidth": 0,
             "ticks": ""
            },
            "colorscale": [
             [
              0,
              "#0d0887"
             ],
             [
              0.1111111111111111,
              "#46039f"
             ],
             [
              0.2222222222222222,
              "#7201a8"
             ],
             [
              0.3333333333333333,
              "#9c179e"
             ],
             [
              0.4444444444444444,
              "#bd3786"
             ],
             [
              0.5555555555555556,
              "#d8576b"
             ],
             [
              0.6666666666666666,
              "#ed7953"
             ],
             [
              0.7777777777777778,
              "#fb9f3a"
             ],
             [
              0.8888888888888888,
              "#fdca26"
             ],
             [
              1,
              "#f0f921"
             ]
            ],
            "type": "contour"
           }
          ],
          "contourcarpet": [
           {
            "colorbar": {
             "outlinewidth": 0,
             "ticks": ""
            },
            "type": "contourcarpet"
           }
          ],
          "heatmap": [
           {
            "colorbar": {
             "outlinewidth": 0,
             "ticks": ""
            },
            "colorscale": [
             [
              0,
              "#0d0887"
             ],
             [
              0.1111111111111111,
              "#46039f"
             ],
             [
              0.2222222222222222,
              "#7201a8"
             ],
             [
              0.3333333333333333,
              "#9c179e"
             ],
             [
              0.4444444444444444,
              "#bd3786"
             ],
             [
              0.5555555555555556,
              "#d8576b"
             ],
             [
              0.6666666666666666,
              "#ed7953"
             ],
             [
              0.7777777777777778,
              "#fb9f3a"
             ],
             [
              0.8888888888888888,
              "#fdca26"
             ],
             [
              1,
              "#f0f921"
             ]
            ],
            "type": "heatmap"
           }
          ],
          "heatmapgl": [
           {
            "colorbar": {
             "outlinewidth": 0,
             "ticks": ""
            },
            "colorscale": [
             [
              0,
              "#0d0887"
             ],
             [
              0.1111111111111111,
              "#46039f"
             ],
             [
              0.2222222222222222,
              "#7201a8"
             ],
             [
              0.3333333333333333,
              "#9c179e"
             ],
             [
              0.4444444444444444,
              "#bd3786"
             ],
             [
              0.5555555555555556,
              "#d8576b"
             ],
             [
              0.6666666666666666,
              "#ed7953"
             ],
             [
              0.7777777777777778,
              "#fb9f3a"
             ],
             [
              0.8888888888888888,
              "#fdca26"
             ],
             [
              1,
              "#f0f921"
             ]
            ],
            "type": "heatmapgl"
           }
          ],
          "histogram": [
           {
            "marker": {
             "pattern": {
              "fillmode": "overlay",
              "size": 10,
              "solidity": 0.2
             }
            },
            "type": "histogram"
           }
          ],
          "histogram2d": [
           {
            "colorbar": {
             "outlinewidth": 0,
             "ticks": ""
            },
            "colorscale": [
             [
              0,
              "#0d0887"
             ],
             [
              0.1111111111111111,
              "#46039f"
             ],
             [
              0.2222222222222222,
              "#7201a8"
             ],
             [
              0.3333333333333333,
              "#9c179e"
             ],
             [
              0.4444444444444444,
              "#bd3786"
             ],
             [
              0.5555555555555556,
              "#d8576b"
             ],
             [
              0.6666666666666666,
              "#ed7953"
             ],
             [
              0.7777777777777778,
              "#fb9f3a"
             ],
             [
              0.8888888888888888,
              "#fdca26"
             ],
             [
              1,
              "#f0f921"
             ]
            ],
            "type": "histogram2d"
           }
          ],
          "histogram2dcontour": [
           {
            "colorbar": {
             "outlinewidth": 0,
             "ticks": ""
            },
            "colorscale": [
             [
              0,
              "#0d0887"
             ],
             [
              0.1111111111111111,
              "#46039f"
             ],
             [
              0.2222222222222222,
              "#7201a8"
             ],
             [
              0.3333333333333333,
              "#9c179e"
             ],
             [
              0.4444444444444444,
              "#bd3786"
             ],
             [
              0.5555555555555556,
              "#d8576b"
             ],
             [
              0.6666666666666666,
              "#ed7953"
             ],
             [
              0.7777777777777778,
              "#fb9f3a"
             ],
             [
              0.8888888888888888,
              "#fdca26"
             ],
             [
              1,
              "#f0f921"
             ]
            ],
            "type": "histogram2dcontour"
           }
          ],
          "mesh3d": [
           {
            "colorbar": {
             "outlinewidth": 0,
             "ticks": ""
            },
            "type": "mesh3d"
           }
          ],
          "parcoords": [
           {
            "line": {
             "colorbar": {
              "outlinewidth": 0,
              "ticks": ""
             }
            },
            "type": "parcoords"
           }
          ],
          "pie": [
           {
            "automargin": true,
            "type": "pie"
           }
          ],
          "scatter": [
           {
            "fillpattern": {
             "fillmode": "overlay",
             "size": 10,
             "solidity": 0.2
            },
            "type": "scatter"
           }
          ],
          "scatter3d": [
           {
            "line": {
             "colorbar": {
              "outlinewidth": 0,
              "ticks": ""
             }
            },
            "marker": {
             "colorbar": {
              "outlinewidth": 0,
              "ticks": ""
             }
            },
            "type": "scatter3d"
           }
          ],
          "scattercarpet": [
           {
            "marker": {
             "colorbar": {
              "outlinewidth": 0,
              "ticks": ""
             }
            },
            "type": "scattercarpet"
           }
          ],
          "scattergeo": [
           {
            "marker": {
             "colorbar": {
              "outlinewidth": 0,
              "ticks": ""
             }
            },
            "type": "scattergeo"
           }
          ],
          "scattergl": [
           {
            "marker": {
             "colorbar": {
              "outlinewidth": 0,
              "ticks": ""
             }
            },
            "type": "scattergl"
           }
          ],
          "scattermapbox": [
           {
            "marker": {
             "colorbar": {
              "outlinewidth": 0,
              "ticks": ""
             }
            },
            "type": "scattermapbox"
           }
          ],
          "scatterpolar": [
           {
            "marker": {
             "colorbar": {
              "outlinewidth": 0,
              "ticks": ""
             }
            },
            "type": "scatterpolar"
           }
          ],
          "scatterpolargl": [
           {
            "marker": {
             "colorbar": {
              "outlinewidth": 0,
              "ticks": ""
             }
            },
            "type": "scatterpolargl"
           }
          ],
          "scatterternary": [
           {
            "marker": {
             "colorbar": {
              "outlinewidth": 0,
              "ticks": ""
             }
            },
            "type": "scatterternary"
           }
          ],
          "surface": [
           {
            "colorbar": {
             "outlinewidth": 0,
             "ticks": ""
            },
            "colorscale": [
             [
              0,
              "#0d0887"
             ],
             [
              0.1111111111111111,
              "#46039f"
             ],
             [
              0.2222222222222222,
              "#7201a8"
             ],
             [
              0.3333333333333333,
              "#9c179e"
             ],
             [
              0.4444444444444444,
              "#bd3786"
             ],
             [
              0.5555555555555556,
              "#d8576b"
             ],
             [
              0.6666666666666666,
              "#ed7953"
             ],
             [
              0.7777777777777778,
              "#fb9f3a"
             ],
             [
              0.8888888888888888,
              "#fdca26"
             ],
             [
              1,
              "#f0f921"
             ]
            ],
            "type": "surface"
           }
          ],
          "table": [
           {
            "cells": {
             "fill": {
              "color": "#EBF0F8"
             },
             "line": {
              "color": "white"
             }
            },
            "header": {
             "fill": {
              "color": "#C8D4E3"
             },
             "line": {
              "color": "white"
             }
            },
            "type": "table"
           }
          ]
         },
         "layout": {
          "annotationdefaults": {
           "arrowcolor": "#2a3f5f",
           "arrowhead": 0,
           "arrowwidth": 1
          },
          "autotypenumbers": "strict",
          "coloraxis": {
           "colorbar": {
            "outlinewidth": 0,
            "ticks": ""
           }
          },
          "colorscale": {
           "diverging": [
            [
             0,
             "#8e0152"
            ],
            [
             0.1,
             "#c51b7d"
            ],
            [
             0.2,
             "#de77ae"
            ],
            [
             0.3,
             "#f1b6da"
            ],
            [
             0.4,
             "#fde0ef"
            ],
            [
             0.5,
             "#f7f7f7"
            ],
            [
             0.6,
             "#e6f5d0"
            ],
            [
             0.7,
             "#b8e186"
            ],
            [
             0.8,
             "#7fbc41"
            ],
            [
             0.9,
             "#4d9221"
            ],
            [
             1,
             "#276419"
            ]
           ],
           "sequential": [
            [
             0,
             "#0d0887"
            ],
            [
             0.1111111111111111,
             "#46039f"
            ],
            [
             0.2222222222222222,
             "#7201a8"
            ],
            [
             0.3333333333333333,
             "#9c179e"
            ],
            [
             0.4444444444444444,
             "#bd3786"
            ],
            [
             0.5555555555555556,
             "#d8576b"
            ],
            [
             0.6666666666666666,
             "#ed7953"
            ],
            [
             0.7777777777777778,
             "#fb9f3a"
            ],
            [
             0.8888888888888888,
             "#fdca26"
            ],
            [
             1,
             "#f0f921"
            ]
           ],
           "sequentialminus": [
            [
             0,
             "#0d0887"
            ],
            [
             0.1111111111111111,
             "#46039f"
            ],
            [
             0.2222222222222222,
             "#7201a8"
            ],
            [
             0.3333333333333333,
             "#9c179e"
            ],
            [
             0.4444444444444444,
             "#bd3786"
            ],
            [
             0.5555555555555556,
             "#d8576b"
            ],
            [
             0.6666666666666666,
             "#ed7953"
            ],
            [
             0.7777777777777778,
             "#fb9f3a"
            ],
            [
             0.8888888888888888,
             "#fdca26"
            ],
            [
             1,
             "#f0f921"
            ]
           ]
          },
          "colorway": [
           "#636efa",
           "#EF553B",
           "#00cc96",
           "#ab63fa",
           "#FFA15A",
           "#19d3f3",
           "#FF6692",
           "#B6E880",
           "#FF97FF",
           "#FECB52"
          ],
          "font": {
           "color": "#2a3f5f"
          },
          "geo": {
           "bgcolor": "white",
           "lakecolor": "white",
           "landcolor": "#E5ECF6",
           "showlakes": true,
           "showland": true,
           "subunitcolor": "white"
          },
          "hoverlabel": {
           "align": "left"
          },
          "hovermode": "closest",
          "mapbox": {
           "style": "light"
          },
          "paper_bgcolor": "white",
          "plot_bgcolor": "#E5ECF6",
          "polar": {
           "angularaxis": {
            "gridcolor": "white",
            "linecolor": "white",
            "ticks": ""
           },
           "bgcolor": "#E5ECF6",
           "radialaxis": {
            "gridcolor": "white",
            "linecolor": "white",
            "ticks": ""
           }
          },
          "scene": {
           "xaxis": {
            "backgroundcolor": "#E5ECF6",
            "gridcolor": "white",
            "gridwidth": 2,
            "linecolor": "white",
            "showbackground": true,
            "ticks": "",
            "zerolinecolor": "white"
           },
           "yaxis": {
            "backgroundcolor": "#E5ECF6",
            "gridcolor": "white",
            "gridwidth": 2,
            "linecolor": "white",
            "showbackground": true,
            "ticks": "",
            "zerolinecolor": "white"
           },
           "zaxis": {
            "backgroundcolor": "#E5ECF6",
            "gridcolor": "white",
            "gridwidth": 2,
            "linecolor": "white",
            "showbackground": true,
            "ticks": "",
            "zerolinecolor": "white"
           }
          },
          "shapedefaults": {
           "line": {
            "color": "#2a3f5f"
           }
          },
          "ternary": {
           "aaxis": {
            "gridcolor": "white",
            "linecolor": "white",
            "ticks": ""
           },
           "baxis": {
            "gridcolor": "white",
            "linecolor": "white",
            "ticks": ""
           },
           "bgcolor": "#E5ECF6",
           "caxis": {
            "gridcolor": "white",
            "linecolor": "white",
            "ticks": ""
           }
          },
          "title": {
           "x": 0.05
          },
          "xaxis": {
           "automargin": true,
           "gridcolor": "white",
           "linecolor": "white",
           "ticks": "",
           "title": {
            "standoff": 15
           },
           "zerolinecolor": "white",
           "zerolinewidth": 2
          },
          "yaxis": {
           "automargin": true,
           "gridcolor": "white",
           "linecolor": "white",
           "ticks": "",
           "title": {
            "standoff": 15
           },
           "zerolinecolor": "white",
           "zerolinewidth": 2
          }
         }
        },
        "title": {
         "text": "kahn_sort"
        },
        "width": 1200,
        "xaxis": {
         "anchor": "y",
         "domain": [
          0,
          0.45
         ]
        },
        "xaxis10": {
         "anchor": "y10",
         "domain": [
          0.55,
          1
         ]
        },
        "xaxis11": {
         "anchor": "y11",
         "domain": [
          0,
          0.45
         ]
        },
        "xaxis12": {
         "anchor": "y12",
         "domain": [
          0.55,
          1
         ]
        },
        "xaxis13": {
         "anchor": "y13",
         "domain": [
          0,
          0.45
         ]
        },
        "xaxis14": {
         "anchor": "y14",
         "domain": [
          0.55,
          1
         ]
        },
        "xaxis2": {
         "anchor": "y2",
         "domain": [
          0.55,
          1
         ]
        },
        "xaxis3": {
         "anchor": "y3",
         "domain": [
          0,
          0.45
         ]
        },
        "xaxis4": {
         "anchor": "y4",
         "domain": [
          0.55,
          1
         ]
        },
        "xaxis5": {
         "anchor": "y5",
         "domain": [
          0,
          0.45
         ]
        },
        "xaxis6": {
         "anchor": "y6",
         "domain": [
          0.55,
          1
         ]
        },
        "xaxis7": {
         "anchor": "y7",
         "domain": [
          0,
          0.45
         ]
        },
        "xaxis8": {
         "anchor": "y8",
         "domain": [
          0.55,
          1
         ]
        },
        "xaxis9": {
         "anchor": "y9",
         "domain": [
          0,
          0.45
         ]
        },
        "yaxis": {
         "anchor": "x",
         "domain": [
          0.9183673469387754,
          0.9999999999999999
         ],
         "title": {
          "text": "time [s]"
         }
        },
        "yaxis10": {
         "anchor": "x10",
         "domain": [
          0.30612244897959184,
          0.3877551020408163
         ],
         "title": {
          "text": "time [s]"
         }
        },
        "yaxis11": {
         "anchor": "x11",
         "domain": [
          0.15306122448979592,
          0.2346938775510204
         ],
         "title": {
          "text": "time [s]"
         }
        },
        "yaxis12": {
         "anchor": "x12",
         "domain": [
          0.15306122448979592,
          0.2346938775510204
         ],
         "title": {
          "text": "time [s]"
         }
        },
        "yaxis13": {
         "anchor": "x13",
         "domain": [
          0,
          0.08163265306122448
         ],
         "title": {
          "text": "time [s]"
         }
        },
        "yaxis14": {
         "anchor": "x14",
         "domain": [
          0,
          0.08163265306122448
         ],
         "title": {
          "text": "time [s]"
         }
        },
        "yaxis2": {
         "anchor": "x2",
         "domain": [
          0.9183673469387754,
          0.9999999999999999
         ],
         "title": {
          "text": "time [s]"
         }
        },
        "yaxis3": {
         "anchor": "x3",
         "domain": [
          0.7653061224489794,
          0.8469387755102039
         ],
         "title": {
          "text": "time [s]"
         }
        },
        "yaxis4": {
         "anchor": "x4",
         "domain": [
          0.7653061224489794,
          0.8469387755102039
         ],
         "title": {
          "text": "time [s]"
         }
        },
        "yaxis5": {
         "anchor": "x5",
         "domain": [
          0.6122448979591837,
          0.6938775510204082
         ],
         "title": {
          "text": "time [s]"
         }
        },
        "yaxis6": {
         "anchor": "x6",
         "domain": [
          0.6122448979591837,
          0.6938775510204082
         ],
         "title": {
          "text": "time [s]"
         }
        },
        "yaxis7": {
         "anchor": "x7",
         "domain": [
          0.4591836734693877,
          0.5408163265306122
         ],
         "title": {
          "text": "time [s]"
         }
        },
        "yaxis8": {
         "anchor": "x8",
         "domain": [
          0.4591836734693877,
          0.5408163265306122
         ],
         "title": {
          "text": "time [s]"
         }
        },
        "yaxis9": {
         "anchor": "x9",
         "domain": [
          0.30612244897959184,
          0.3877551020408163
         ],
         "title": {
          "text": "time [s]"
         }
        }
       }
      }
     },
     "metadata": {},
     "output_type": "display_data"
    }
   ],
   "source": [
    "compareSortTimesForGraphSizes(times[\"kahn_sort\"], \"kahn_sort\")"
   ]
  },
  {
   "cell_type": "code",
   "execution_count": 12,
   "metadata": {},
   "outputs": [
    {
     "data": {
      "application/vnd.plotly.v1+json": {
       "config": {
        "plotlyServerURL": "https://plot.ly"
       },
       "data": [
        {
         "name": "",
         "text": [
          "0.06",
          "0.001",
          "0.015",
          "0.0",
          "0.0"
         ],
         "textposition": "auto",
         "type": "bar",
         "x": [
          "IncidenceMatrix",
          "AdjacencyMatrix",
          "ArcList",
          "AdjacencyList",
          "ForwardStar"
         ],
         "xaxis": "x",
         "y": [
          0.060086727142333984,
          0.0009658336639404297,
          0.015048027038574219,
          0.00016880035400390625,
          0.0002028942108154297
         ],
         "yaxis": "y"
        },
        {
         "name": "",
         "text": [
          "0.483",
          "0.004",
          "0.12",
          "0.001",
          "0.001"
         ],
         "textposition": "auto",
         "type": "bar",
         "x": [
          "IncidenceMatrix",
          "AdjacencyMatrix",
          "ArcList",
          "AdjacencyList",
          "ForwardStar"
         ],
         "xaxis": "x2",
         "y": [
          0.48283815383911133,
          0.0038590431213378906,
          0.11972784996032715,
          0.0005428791046142578,
          0.0007469654083251953
         ],
         "yaxis": "y2"
        },
        {
         "name": "",
         "text": [
          "1.637",
          "0.009",
          "0.446",
          "0.001",
          "0.002"
         ],
         "textposition": "auto",
         "type": "bar",
         "x": [
          "IncidenceMatrix",
          "AdjacencyMatrix",
          "ArcList",
          "AdjacencyList",
          "ForwardStar"
         ],
         "xaxis": "x3",
         "y": [
          1.6367371082305908,
          0.008516788482666016,
          0.44572901725769043,
          0.001338958740234375,
          0.0016460418701171875
         ],
         "yaxis": "y3"
        },
        {
         "name": "",
         "text": [
          "4.196",
          "0.016",
          "0.969",
          "0.002",
          "0.003"
         ],
         "textposition": "auto",
         "type": "bar",
         "x": [
          "IncidenceMatrix",
          "AdjacencyMatrix",
          "ArcList",
          "AdjacencyList",
          "ForwardStar"
         ],
         "xaxis": "x4",
         "y": [
          4.1957690715789795,
          0.015655994415283203,
          0.9687092304229736,
          0.002315998077392578,
          0.0028553009033203125
         ],
         "yaxis": "y4"
        },
        {
         "name": "",
         "text": [
          "8.475",
          "0.024",
          "1.845",
          "0.004",
          "0.005"
         ],
         "textposition": "auto",
         "type": "bar",
         "x": [
          "IncidenceMatrix",
          "AdjacencyMatrix",
          "ArcList",
          "AdjacencyList",
          "ForwardStar"
         ],
         "xaxis": "x5",
         "y": [
          8.47517204284668,
          0.024439096450805664,
          1.844722032546997,
          0.0037488937377929688,
          0.004647016525268555
         ],
         "yaxis": "y5"
        },
        {
         "name": "",
         "text": [
          "30.302",
          "0.056",
          "6.252",
          "0.009",
          "0.011"
         ],
         "textposition": "auto",
         "type": "bar",
         "x": [
          "IncidenceMatrix",
          "AdjacencyMatrix",
          "ArcList",
          "AdjacencyList",
          "ForwardStar"
         ],
         "xaxis": "x6",
         "y": [
          30.302356958389282,
          0.0563349723815918,
          6.2520911693573,
          0.008947134017944336,
          0.011123895645141602
         ],
         "yaxis": "y6"
        },
        {
         "name": "",
         "text": [
          "81.574",
          "0.1",
          "15.328",
          "0.016",
          "0.02"
         ],
         "textposition": "auto",
         "type": "bar",
         "x": [
          "IncidenceMatrix",
          "AdjacencyMatrix",
          "ArcList",
          "AdjacencyList",
          "ForwardStar"
         ],
         "xaxis": "x7",
         "y": [
          81.57430005073547,
          0.09968686103820801,
          15.327863216400146,
          0.015990018844604492,
          0.02008199691772461
         ],
         "yaxis": "y7"
        },
        {
         "name": "",
         "text": [
          "170.875",
          "0.163",
          "29.053",
          "0.025",
          "0.031"
         ],
         "textposition": "auto",
         "type": "bar",
         "x": [
          "IncidenceMatrix",
          "AdjacencyMatrix",
          "ArcList",
          "AdjacencyList",
          "ForwardStar"
         ],
         "xaxis": "x8",
         "y": [
          170.87549710273743,
          0.1634969711303711,
          29.053488969802856,
          0.02544999122619629,
          0.030556201934814453
         ],
         "yaxis": "y8"
        },
        {
         "name": "",
         "text": [
          "0.226",
          "50.302",
          "0.037",
          "0.044"
         ],
         "textposition": "auto",
         "type": "bar",
         "x": [
          "AdjacencyMatrix",
          "ArcList",
          "AdjacencyList",
          "ForwardStar"
         ],
         "xaxis": "x9",
         "y": [
          0.2255878448486328,
          50.301897048950195,
          0.03712773323059082,
          0.044245004653930664
         ],
         "yaxis": "y9"
        },
        {
         "name": "",
         "text": [
          "0.4",
          "0.067",
          "0.082"
         ],
         "textposition": "auto",
         "type": "bar",
         "x": [
          "AdjacencyMatrix",
          "AdjacencyList",
          "ForwardStar"
         ],
         "xaxis": "x10",
         "y": [
          0.39959025382995605,
          0.06660604476928711,
          0.08152985572814941
         ],
         "yaxis": "y10"
        },
        {
         "name": "",
         "text": [
          "0.629",
          "0.107",
          "0.129"
         ],
         "textposition": "auto",
         "type": "bar",
         "x": [
          "AdjacencyMatrix",
          "AdjacencyList",
          "ForwardStar"
         ],
         "xaxis": "x11",
         "y": [
          0.6290719509124756,
          0.10708284378051758,
          0.12939000129699707
         ],
         "yaxis": "y11"
        },
        {
         "name": "",
         "text": [
          "0.908",
          "0.151",
          "0.182"
         ],
         "textposition": "auto",
         "type": "bar",
         "x": [
          "AdjacencyMatrix",
          "AdjacencyList",
          "ForwardStar"
         ],
         "xaxis": "x12",
         "y": [
          0.907505989074707,
          0.15146803855895996,
          0.18229198455810547
         ],
         "yaxis": "y12"
        },
        {
         "name": "",
         "text": [
          "1.603",
          "0.274",
          "0.339"
         ],
         "textposition": "auto",
         "type": "bar",
         "x": [
          "AdjacencyMatrix",
          "AdjacencyList",
          "ForwardStar"
         ],
         "xaxis": "x13",
         "y": [
          1.6030521392822266,
          0.27390265464782715,
          0.33906078338623047
         ],
         "yaxis": "y13"
        },
        {
         "name": "",
         "text": [
          "2.52",
          "0.445",
          "0.529"
         ],
         "textposition": "auto",
         "type": "bar",
         "x": [
          "AdjacencyMatrix",
          "AdjacencyList",
          "ForwardStar"
         ],
         "xaxis": "x14",
         "y": [
          2.519521713256836,
          0.4450199604034424,
          0.529365062713623
         ],
         "yaxis": "y14"
        }
       ],
       "layout": {
        "annotations": [
         {
          "font": {
           "size": 16
          },
          "showarrow": false,
          "text": "nodes: 100  edges:4950",
          "x": 0.225,
          "xanchor": "center",
          "xref": "paper",
          "y": 0.9999999999999999,
          "yanchor": "bottom",
          "yref": "paper"
         },
         {
          "font": {
           "size": 16
          },
          "showarrow": false,
          "text": "nodes: 200  edges:19900",
          "x": 0.775,
          "xanchor": "center",
          "xref": "paper",
          "y": 0.9999999999999999,
          "yanchor": "bottom",
          "yref": "paper"
         },
         {
          "font": {
           "size": 16
          },
          "showarrow": false,
          "text": "nodes: 300  edges:44850",
          "x": 0.225,
          "xanchor": "center",
          "xref": "paper",
          "y": 0.8469387755102039,
          "yanchor": "bottom",
          "yref": "paper"
         },
         {
          "font": {
           "size": 16
          },
          "showarrow": false,
          "text": "nodes: 400  edges:79800",
          "x": 0.775,
          "xanchor": "center",
          "xref": "paper",
          "y": 0.8469387755102039,
          "yanchor": "bottom",
          "yref": "paper"
         },
         {
          "font": {
           "size": 16
          },
          "showarrow": false,
          "text": "nodes: 500  edges:124750",
          "x": 0.225,
          "xanchor": "center",
          "xref": "paper",
          "y": 0.6938775510204082,
          "yanchor": "bottom",
          "yref": "paper"
         },
         {
          "font": {
           "size": 16
          },
          "showarrow": false,
          "text": "nodes: 750  edges:280875",
          "x": 0.775,
          "xanchor": "center",
          "xref": "paper",
          "y": 0.6938775510204082,
          "yanchor": "bottom",
          "yref": "paper"
         },
         {
          "font": {
           "size": 16
          },
          "showarrow": false,
          "text": "nodes: 1000  edges:499500",
          "x": 0.225,
          "xanchor": "center",
          "xref": "paper",
          "y": 0.5408163265306122,
          "yanchor": "bottom",
          "yref": "paper"
         },
         {
          "font": {
           "size": 16
          },
          "showarrow": false,
          "text": "nodes: 1250  edges:780625",
          "x": 0.775,
          "xanchor": "center",
          "xref": "paper",
          "y": 0.5408163265306122,
          "yanchor": "bottom",
          "yref": "paper"
         },
         {
          "font": {
           "size": 16
          },
          "showarrow": false,
          "text": "nodes: 1500  edges:1124250",
          "x": 0.225,
          "xanchor": "center",
          "xref": "paper",
          "y": 0.3877551020408163,
          "yanchor": "bottom",
          "yref": "paper"
         },
         {
          "font": {
           "size": 16
          },
          "showarrow": false,
          "text": "nodes: 2000  edges:1999000",
          "x": 0.775,
          "xanchor": "center",
          "xref": "paper",
          "y": 0.3877551020408163,
          "yanchor": "bottom",
          "yref": "paper"
         },
         {
          "font": {
           "size": 16
          },
          "showarrow": false,
          "text": "nodes: 2500  edges:3123750",
          "x": 0.225,
          "xanchor": "center",
          "xref": "paper",
          "y": 0.2346938775510204,
          "yanchor": "bottom",
          "yref": "paper"
         },
         {
          "font": {
           "size": 16
          },
          "showarrow": false,
          "text": "nodes: 3000  edges:4498500",
          "x": 0.775,
          "xanchor": "center",
          "xref": "paper",
          "y": 0.2346938775510204,
          "yanchor": "bottom",
          "yref": "paper"
         },
         {
          "font": {
           "size": 16
          },
          "showarrow": false,
          "text": "nodes: 4000  edges:7998000",
          "x": 0.225,
          "xanchor": "center",
          "xref": "paper",
          "y": 0.08163265306122448,
          "yanchor": "bottom",
          "yref": "paper"
         },
         {
          "font": {
           "size": 16
          },
          "showarrow": false,
          "text": "nodes: 5000  edges:12497500",
          "x": 0.775,
          "xanchor": "center",
          "xref": "paper",
          "y": 0.08163265306122448,
          "yanchor": "bottom",
          "yref": "paper"
         }
        ],
        "height": 1600,
        "template": {
         "data": {
          "bar": [
           {
            "error_x": {
             "color": "#2a3f5f"
            },
            "error_y": {
             "color": "#2a3f5f"
            },
            "marker": {
             "line": {
              "color": "#E5ECF6",
              "width": 0.5
             },
             "pattern": {
              "fillmode": "overlay",
              "size": 10,
              "solidity": 0.2
             }
            },
            "type": "bar"
           }
          ],
          "barpolar": [
           {
            "marker": {
             "line": {
              "color": "#E5ECF6",
              "width": 0.5
             },
             "pattern": {
              "fillmode": "overlay",
              "size": 10,
              "solidity": 0.2
             }
            },
            "type": "barpolar"
           }
          ],
          "carpet": [
           {
            "aaxis": {
             "endlinecolor": "#2a3f5f",
             "gridcolor": "white",
             "linecolor": "white",
             "minorgridcolor": "white",
             "startlinecolor": "#2a3f5f"
            },
            "baxis": {
             "endlinecolor": "#2a3f5f",
             "gridcolor": "white",
             "linecolor": "white",
             "minorgridcolor": "white",
             "startlinecolor": "#2a3f5f"
            },
            "type": "carpet"
           }
          ],
          "choropleth": [
           {
            "colorbar": {
             "outlinewidth": 0,
             "ticks": ""
            },
            "type": "choropleth"
           }
          ],
          "contour": [
           {
            "colorbar": {
             "outlinewidth": 0,
             "ticks": ""
            },
            "colorscale": [
             [
              0,
              "#0d0887"
             ],
             [
              0.1111111111111111,
              "#46039f"
             ],
             [
              0.2222222222222222,
              "#7201a8"
             ],
             [
              0.3333333333333333,
              "#9c179e"
             ],
             [
              0.4444444444444444,
              "#bd3786"
             ],
             [
              0.5555555555555556,
              "#d8576b"
             ],
             [
              0.6666666666666666,
              "#ed7953"
             ],
             [
              0.7777777777777778,
              "#fb9f3a"
             ],
             [
              0.8888888888888888,
              "#fdca26"
             ],
             [
              1,
              "#f0f921"
             ]
            ],
            "type": "contour"
           }
          ],
          "contourcarpet": [
           {
            "colorbar": {
             "outlinewidth": 0,
             "ticks": ""
            },
            "type": "contourcarpet"
           }
          ],
          "heatmap": [
           {
            "colorbar": {
             "outlinewidth": 0,
             "ticks": ""
            },
            "colorscale": [
             [
              0,
              "#0d0887"
             ],
             [
              0.1111111111111111,
              "#46039f"
             ],
             [
              0.2222222222222222,
              "#7201a8"
             ],
             [
              0.3333333333333333,
              "#9c179e"
             ],
             [
              0.4444444444444444,
              "#bd3786"
             ],
             [
              0.5555555555555556,
              "#d8576b"
             ],
             [
              0.6666666666666666,
              "#ed7953"
             ],
             [
              0.7777777777777778,
              "#fb9f3a"
             ],
             [
              0.8888888888888888,
              "#fdca26"
             ],
             [
              1,
              "#f0f921"
             ]
            ],
            "type": "heatmap"
           }
          ],
          "heatmapgl": [
           {
            "colorbar": {
             "outlinewidth": 0,
             "ticks": ""
            },
            "colorscale": [
             [
              0,
              "#0d0887"
             ],
             [
              0.1111111111111111,
              "#46039f"
             ],
             [
              0.2222222222222222,
              "#7201a8"
             ],
             [
              0.3333333333333333,
              "#9c179e"
             ],
             [
              0.4444444444444444,
              "#bd3786"
             ],
             [
              0.5555555555555556,
              "#d8576b"
             ],
             [
              0.6666666666666666,
              "#ed7953"
             ],
             [
              0.7777777777777778,
              "#fb9f3a"
             ],
             [
              0.8888888888888888,
              "#fdca26"
             ],
             [
              1,
              "#f0f921"
             ]
            ],
            "type": "heatmapgl"
           }
          ],
          "histogram": [
           {
            "marker": {
             "pattern": {
              "fillmode": "overlay",
              "size": 10,
              "solidity": 0.2
             }
            },
            "type": "histogram"
           }
          ],
          "histogram2d": [
           {
            "colorbar": {
             "outlinewidth": 0,
             "ticks": ""
            },
            "colorscale": [
             [
              0,
              "#0d0887"
             ],
             [
              0.1111111111111111,
              "#46039f"
             ],
             [
              0.2222222222222222,
              "#7201a8"
             ],
             [
              0.3333333333333333,
              "#9c179e"
             ],
             [
              0.4444444444444444,
              "#bd3786"
             ],
             [
              0.5555555555555556,
              "#d8576b"
             ],
             [
              0.6666666666666666,
              "#ed7953"
             ],
             [
              0.7777777777777778,
              "#fb9f3a"
             ],
             [
              0.8888888888888888,
              "#fdca26"
             ],
             [
              1,
              "#f0f921"
             ]
            ],
            "type": "histogram2d"
           }
          ],
          "histogram2dcontour": [
           {
            "colorbar": {
             "outlinewidth": 0,
             "ticks": ""
            },
            "colorscale": [
             [
              0,
              "#0d0887"
             ],
             [
              0.1111111111111111,
              "#46039f"
             ],
             [
              0.2222222222222222,
              "#7201a8"
             ],
             [
              0.3333333333333333,
              "#9c179e"
             ],
             [
              0.4444444444444444,
              "#bd3786"
             ],
             [
              0.5555555555555556,
              "#d8576b"
             ],
             [
              0.6666666666666666,
              "#ed7953"
             ],
             [
              0.7777777777777778,
              "#fb9f3a"
             ],
             [
              0.8888888888888888,
              "#fdca26"
             ],
             [
              1,
              "#f0f921"
             ]
            ],
            "type": "histogram2dcontour"
           }
          ],
          "mesh3d": [
           {
            "colorbar": {
             "outlinewidth": 0,
             "ticks": ""
            },
            "type": "mesh3d"
           }
          ],
          "parcoords": [
           {
            "line": {
             "colorbar": {
              "outlinewidth": 0,
              "ticks": ""
             }
            },
            "type": "parcoords"
           }
          ],
          "pie": [
           {
            "automargin": true,
            "type": "pie"
           }
          ],
          "scatter": [
           {
            "fillpattern": {
             "fillmode": "overlay",
             "size": 10,
             "solidity": 0.2
            },
            "type": "scatter"
           }
          ],
          "scatter3d": [
           {
            "line": {
             "colorbar": {
              "outlinewidth": 0,
              "ticks": ""
             }
            },
            "marker": {
             "colorbar": {
              "outlinewidth": 0,
              "ticks": ""
             }
            },
            "type": "scatter3d"
           }
          ],
          "scattercarpet": [
           {
            "marker": {
             "colorbar": {
              "outlinewidth": 0,
              "ticks": ""
             }
            },
            "type": "scattercarpet"
           }
          ],
          "scattergeo": [
           {
            "marker": {
             "colorbar": {
              "outlinewidth": 0,
              "ticks": ""
             }
            },
            "type": "scattergeo"
           }
          ],
          "scattergl": [
           {
            "marker": {
             "colorbar": {
              "outlinewidth": 0,
              "ticks": ""
             }
            },
            "type": "scattergl"
           }
          ],
          "scattermapbox": [
           {
            "marker": {
             "colorbar": {
              "outlinewidth": 0,
              "ticks": ""
             }
            },
            "type": "scattermapbox"
           }
          ],
          "scatterpolar": [
           {
            "marker": {
             "colorbar": {
              "outlinewidth": 0,
              "ticks": ""
             }
            },
            "type": "scatterpolar"
           }
          ],
          "scatterpolargl": [
           {
            "marker": {
             "colorbar": {
              "outlinewidth": 0,
              "ticks": ""
             }
            },
            "type": "scatterpolargl"
           }
          ],
          "scatterternary": [
           {
            "marker": {
             "colorbar": {
              "outlinewidth": 0,
              "ticks": ""
             }
            },
            "type": "scatterternary"
           }
          ],
          "surface": [
           {
            "colorbar": {
             "outlinewidth": 0,
             "ticks": ""
            },
            "colorscale": [
             [
              0,
              "#0d0887"
             ],
             [
              0.1111111111111111,
              "#46039f"
             ],
             [
              0.2222222222222222,
              "#7201a8"
             ],
             [
              0.3333333333333333,
              "#9c179e"
             ],
             [
              0.4444444444444444,
              "#bd3786"
             ],
             [
              0.5555555555555556,
              "#d8576b"
             ],
             [
              0.6666666666666666,
              "#ed7953"
             ],
             [
              0.7777777777777778,
              "#fb9f3a"
             ],
             [
              0.8888888888888888,
              "#fdca26"
             ],
             [
              1,
              "#f0f921"
             ]
            ],
            "type": "surface"
           }
          ],
          "table": [
           {
            "cells": {
             "fill": {
              "color": "#EBF0F8"
             },
             "line": {
              "color": "white"
             }
            },
            "header": {
             "fill": {
              "color": "#C8D4E3"
             },
             "line": {
              "color": "white"
             }
            },
            "type": "table"
           }
          ]
         },
         "layout": {
          "annotationdefaults": {
           "arrowcolor": "#2a3f5f",
           "arrowhead": 0,
           "arrowwidth": 1
          },
          "autotypenumbers": "strict",
          "coloraxis": {
           "colorbar": {
            "outlinewidth": 0,
            "ticks": ""
           }
          },
          "colorscale": {
           "diverging": [
            [
             0,
             "#8e0152"
            ],
            [
             0.1,
             "#c51b7d"
            ],
            [
             0.2,
             "#de77ae"
            ],
            [
             0.3,
             "#f1b6da"
            ],
            [
             0.4,
             "#fde0ef"
            ],
            [
             0.5,
             "#f7f7f7"
            ],
            [
             0.6,
             "#e6f5d0"
            ],
            [
             0.7,
             "#b8e186"
            ],
            [
             0.8,
             "#7fbc41"
            ],
            [
             0.9,
             "#4d9221"
            ],
            [
             1,
             "#276419"
            ]
           ],
           "sequential": [
            [
             0,
             "#0d0887"
            ],
            [
             0.1111111111111111,
             "#46039f"
            ],
            [
             0.2222222222222222,
             "#7201a8"
            ],
            [
             0.3333333333333333,
             "#9c179e"
            ],
            [
             0.4444444444444444,
             "#bd3786"
            ],
            [
             0.5555555555555556,
             "#d8576b"
            ],
            [
             0.6666666666666666,
             "#ed7953"
            ],
            [
             0.7777777777777778,
             "#fb9f3a"
            ],
            [
             0.8888888888888888,
             "#fdca26"
            ],
            [
             1,
             "#f0f921"
            ]
           ],
           "sequentialminus": [
            [
             0,
             "#0d0887"
            ],
            [
             0.1111111111111111,
             "#46039f"
            ],
            [
             0.2222222222222222,
             "#7201a8"
            ],
            [
             0.3333333333333333,
             "#9c179e"
            ],
            [
             0.4444444444444444,
             "#bd3786"
            ],
            [
             0.5555555555555556,
             "#d8576b"
            ],
            [
             0.6666666666666666,
             "#ed7953"
            ],
            [
             0.7777777777777778,
             "#fb9f3a"
            ],
            [
             0.8888888888888888,
             "#fdca26"
            ],
            [
             1,
             "#f0f921"
            ]
           ]
          },
          "colorway": [
           "#636efa",
           "#EF553B",
           "#00cc96",
           "#ab63fa",
           "#FFA15A",
           "#19d3f3",
           "#FF6692",
           "#B6E880",
           "#FF97FF",
           "#FECB52"
          ],
          "font": {
           "color": "#2a3f5f"
          },
          "geo": {
           "bgcolor": "white",
           "lakecolor": "white",
           "landcolor": "#E5ECF6",
           "showlakes": true,
           "showland": true,
           "subunitcolor": "white"
          },
          "hoverlabel": {
           "align": "left"
          },
          "hovermode": "closest",
          "mapbox": {
           "style": "light"
          },
          "paper_bgcolor": "white",
          "plot_bgcolor": "#E5ECF6",
          "polar": {
           "angularaxis": {
            "gridcolor": "white",
            "linecolor": "white",
            "ticks": ""
           },
           "bgcolor": "#E5ECF6",
           "radialaxis": {
            "gridcolor": "white",
            "linecolor": "white",
            "ticks": ""
           }
          },
          "scene": {
           "xaxis": {
            "backgroundcolor": "#E5ECF6",
            "gridcolor": "white",
            "gridwidth": 2,
            "linecolor": "white",
            "showbackground": true,
            "ticks": "",
            "zerolinecolor": "white"
           },
           "yaxis": {
            "backgroundcolor": "#E5ECF6",
            "gridcolor": "white",
            "gridwidth": 2,
            "linecolor": "white",
            "showbackground": true,
            "ticks": "",
            "zerolinecolor": "white"
           },
           "zaxis": {
            "backgroundcolor": "#E5ECF6",
            "gridcolor": "white",
            "gridwidth": 2,
            "linecolor": "white",
            "showbackground": true,
            "ticks": "",
            "zerolinecolor": "white"
           }
          },
          "shapedefaults": {
           "line": {
            "color": "#2a3f5f"
           }
          },
          "ternary": {
           "aaxis": {
            "gridcolor": "white",
            "linecolor": "white",
            "ticks": ""
           },
           "baxis": {
            "gridcolor": "white",
            "linecolor": "white",
            "ticks": ""
           },
           "bgcolor": "#E5ECF6",
           "caxis": {
            "gridcolor": "white",
            "linecolor": "white",
            "ticks": ""
           }
          },
          "title": {
           "x": 0.05
          },
          "xaxis": {
           "automargin": true,
           "gridcolor": "white",
           "linecolor": "white",
           "ticks": "",
           "title": {
            "standoff": 15
           },
           "zerolinecolor": "white",
           "zerolinewidth": 2
          },
          "yaxis": {
           "automargin": true,
           "gridcolor": "white",
           "linecolor": "white",
           "ticks": "",
           "title": {
            "standoff": 15
           },
           "zerolinecolor": "white",
           "zerolinewidth": 2
          }
         }
        },
        "title": {
         "text": "dfs_sort"
        },
        "width": 1200,
        "xaxis": {
         "anchor": "y",
         "domain": [
          0,
          0.45
         ]
        },
        "xaxis10": {
         "anchor": "y10",
         "domain": [
          0.55,
          1
         ]
        },
        "xaxis11": {
         "anchor": "y11",
         "domain": [
          0,
          0.45
         ]
        },
        "xaxis12": {
         "anchor": "y12",
         "domain": [
          0.55,
          1
         ]
        },
        "xaxis13": {
         "anchor": "y13",
         "domain": [
          0,
          0.45
         ]
        },
        "xaxis14": {
         "anchor": "y14",
         "domain": [
          0.55,
          1
         ]
        },
        "xaxis2": {
         "anchor": "y2",
         "domain": [
          0.55,
          1
         ]
        },
        "xaxis3": {
         "anchor": "y3",
         "domain": [
          0,
          0.45
         ]
        },
        "xaxis4": {
         "anchor": "y4",
         "domain": [
          0.55,
          1
         ]
        },
        "xaxis5": {
         "anchor": "y5",
         "domain": [
          0,
          0.45
         ]
        },
        "xaxis6": {
         "anchor": "y6",
         "domain": [
          0.55,
          1
         ]
        },
        "xaxis7": {
         "anchor": "y7",
         "domain": [
          0,
          0.45
         ]
        },
        "xaxis8": {
         "anchor": "y8",
         "domain": [
          0.55,
          1
         ]
        },
        "xaxis9": {
         "anchor": "y9",
         "domain": [
          0,
          0.45
         ]
        },
        "yaxis": {
         "anchor": "x",
         "domain": [
          0.9183673469387754,
          0.9999999999999999
         ],
         "title": {
          "text": "time [s]"
         }
        },
        "yaxis10": {
         "anchor": "x10",
         "domain": [
          0.30612244897959184,
          0.3877551020408163
         ],
         "title": {
          "text": "time [s]"
         }
        },
        "yaxis11": {
         "anchor": "x11",
         "domain": [
          0.15306122448979592,
          0.2346938775510204
         ],
         "title": {
          "text": "time [s]"
         }
        },
        "yaxis12": {
         "anchor": "x12",
         "domain": [
          0.15306122448979592,
          0.2346938775510204
         ],
         "title": {
          "text": "time [s]"
         }
        },
        "yaxis13": {
         "anchor": "x13",
         "domain": [
          0,
          0.08163265306122448
         ],
         "title": {
          "text": "time [s]"
         }
        },
        "yaxis14": {
         "anchor": "x14",
         "domain": [
          0,
          0.08163265306122448
         ],
         "title": {
          "text": "time [s]"
         }
        },
        "yaxis2": {
         "anchor": "x2",
         "domain": [
          0.9183673469387754,
          0.9999999999999999
         ],
         "title": {
          "text": "time [s]"
         }
        },
        "yaxis3": {
         "anchor": "x3",
         "domain": [
          0.7653061224489794,
          0.8469387755102039
         ],
         "title": {
          "text": "time [s]"
         }
        },
        "yaxis4": {
         "anchor": "x4",
         "domain": [
          0.7653061224489794,
          0.8469387755102039
         ],
         "title": {
          "text": "time [s]"
         }
        },
        "yaxis5": {
         "anchor": "x5",
         "domain": [
          0.6122448979591837,
          0.6938775510204082
         ],
         "title": {
          "text": "time [s]"
         }
        },
        "yaxis6": {
         "anchor": "x6",
         "domain": [
          0.6122448979591837,
          0.6938775510204082
         ],
         "title": {
          "text": "time [s]"
         }
        },
        "yaxis7": {
         "anchor": "x7",
         "domain": [
          0.4591836734693877,
          0.5408163265306122
         ],
         "title": {
          "text": "time [s]"
         }
        },
        "yaxis8": {
         "anchor": "x8",
         "domain": [
          0.4591836734693877,
          0.5408163265306122
         ],
         "title": {
          "text": "time [s]"
         }
        },
        "yaxis9": {
         "anchor": "x9",
         "domain": [
          0.30612244897959184,
          0.3877551020408163
         ],
         "title": {
          "text": "time [s]"
         }
        }
       }
      }
     },
     "metadata": {},
     "output_type": "display_data"
    }
   ],
   "source": [
    "compareSortTimesForGraphSizes(times[\"dfs_sort\"], \"dfs_sort\")"
   ]
  },
  {
   "attachments": {},
   "cell_type": "markdown",
   "metadata": {},
   "source": [
    "### Conclusions:\n",
    "\n",
    "TODO first rest of report needed\n",
    "    \n"
   ]
  }
 ],
 "metadata": {
  "kernelspec": {
   "display_name": "base",
   "language": "python",
   "name": "python3"
  },
  "language_info": {
   "codemirror_mode": {
    "name": "ipython",
    "version": 3
   },
   "file_extension": ".py",
   "mimetype": "text/x-python",
   "name": "python",
   "nbconvert_exporter": "python",
   "pygments_lexer": "ipython3",
   "version": "3.9.16"
  },
  "orig_nbformat": 4
 },
 "nbformat": 4,
 "nbformat_minor": 2
}
