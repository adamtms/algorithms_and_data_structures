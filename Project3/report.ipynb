{
 "cells": [
  {
   "attachments": {},
   "cell_type": "markdown",
   "metadata": {},
   "source": [
    "# Report 3"
   ]
  },
  {
   "attachments": {},
   "cell_type": "markdown",
   "metadata": {},
   "source": [
    "## Basic Graph Algorithms"
   ]
  },
  {
   "attachments": {},
   "cell_type": "markdown",
   "metadata": {},
   "source": [
    "#### Marcin Kapiszewski 156048\n",
    "#### Adam Tomys 156057"
   ]
  },
  {
   "attachments": {},
   "cell_type": "markdown",
   "metadata": {},
   "source": [
    "Group 2"
   ]
  },
  {
   "attachments": {},
   "cell_type": "markdown",
   "metadata": {},
   "source": [
    "### Compared diraph representations:\n",
    "\n",
    "1. Incidence matrix:\n",
    "    - Matrix consists of vertices (rows), arcs (columns), and values(cells)\n",
    "    - Values:\n",
    "        - 1 means the head of the arc\n",
    "        - 0 means that the arc is not connected to that node\n",
    "        - -1 means the tail of the arc\n",
    "2. Adjacency matrix:\n",
    "    - Matrix consists of starting vertices (rows), ending vertices (columns), and values(cells)\n",
    "    - Values:\n",
    "        - 1 means that the given arc from tail to head exists\n",
    "        - 0 means that the given arc from tail to head does not exist\n",
    "        - -1 means that there is an arc from ending vertice to starting vertice (this value is not required)\n",
    "3. Arc list:\n",
    "    - The list contains entires containing arcs\n",
    "    - arc is represented as a tuple containing the tail and the head\n",
    "4. Adjacency list:\n",
    "    - It consists of one node for each vertice\n",
    "    - Each node contains all of the successors of the vertice\n",
    "    - Its possible to store all precessors too but as an additional list\n",
    "5. Forward star (in our case uses built in hashtable):\n",
    "    - It is the same as the previos one, but instead of storing successors in a list it uses an AVL tree (in our case) or hashtable"
   ]
  },
  {
   "attachments": {},
   "cell_type": "markdown",
   "metadata": {},
   "source": [
    "### Implementation Difficulties:\n",
    "NO difficulties"
   ]
  },
  {
   "attachments": {},
   "cell_type": "markdown",
   "metadata": {},
   "source": [
    "### DAG Generation:\n",
    "TODO you better understood it and its not written anyway"
   ]
  },
  {
   "cell_type": "code",
   "execution_count": 1,
   "metadata": {},
   "outputs": [],
   "source": [
    "%load_ext autoreload\n",
    "%autoreload 2"
   ]
  },
  {
   "attachments": {},
   "cell_type": "markdown",
   "metadata": {},
   "source": [
    "### Memory Comparision:\n",
    "V - number of vertices, A - number of arcs\n",
    "1. Incidence matrix:\n",
    "    - V * A\n",
    "    - stores bools or small signed integers (if -1 is used to represent the tail)\n",
    "2. Adjacency matrix:\n",
    "    - V * V\n",
    "    - stores bools or small signed integers (if -1 is used to represent \"reversed\" arc)\n",
    "3. Arc list:\n",
    "    - 2 * A\n",
    "    - stores ids of heads and tails, typically represented by integers\n",
    "4. Adjacency list:\n",
    "    - V + E\n",
    "    - stores ids of heads and tails, typically represented by integers\n",
    "5. Forward star (in our case uses built in hashtable):\n",
    "    - V + E\n",
    "    - stores ids of heads and tails, typically represented by integers"
   ]
  },
  {
   "attachments": {},
   "cell_type": "markdown",
   "metadata": {},
   "source": [
    "### Compared topological sorts:\n",
    "\n",
    "1. Inspired by Kahn algorithm:\n",
    "    - First we count for each node the number of predecessors\n",
    "    - We initalize an output list, a number of visited nodes as 0, and a queue containing all vertices that do not have any predecessors\n",
    "    - While our queue is not empty:\n",
    "        - Increment visited nodes by one\n",
    "        - Remove a vertice from queue and add it to the output\n",
    "        - For each successor of dequeued node:\n",
    "            - Decrease their number of predecessors by one\n",
    "            - If the number is now 0 add it to the queue\n",
    "    - If the number of visisted nodes is diffrent than the number of all nodes it is not possible to sort this graph and an error or message should be returned\n",
    "    - Otherwise return out output list\n",
    "2. Making use of DFS (graph coloring):\n",
    "    - Our code used recursion for this\n",
    "    - First we initialize a stack as our output and a set for visited nodes\n",
    "    - Now we iterate over every node:\n",
    "        - If it was not visited already we call our helper function dfs\n",
    "    - At the end we return out stack as a list (stack was used for fast pushing new values on the left)\n",
    "\n",
    "    - Our helper dfs function:\n",
    "        - It takes the graph, the current node, the set of visited nodes, and the output stack as arguments\n",
    "        - It adds the node to the visited set\n",
    "        - For each successors of the node if that successor was not visited it calls dfs again\n",
    "        - At the end the current node is pushed to the left of the stack"
   ]
  },
  {
   "cell_type": "code",
   "execution_count": 9,
   "metadata": {},
   "outputs": [],
   "source": [
    "from collections import defaultdict\n",
    "\n",
    "from generate_DAG import generateDAG\n",
    "\n",
    "from kahn import kahn_sort\n",
    "from dfs_sort import dfs_sort\n",
    "\n",
    "from graph_representations.adjacencyList import AdjacencyList\n",
    "from graph_representations.adjacencyMatrix import AdjacencyMatrix\n",
    "from graph_representations.arcList import ArcList\n",
    "from graph_representations.forwardStar import ForwardStar\n",
    "from graph_representations.incidenceMatrix import IncidenceMatrix\n",
    "from graph_representations.digraphRepresentation import Digraph\n",
    "\n",
    "from evaluate_program import measureTime\n",
    "\n",
    "import plotly.graph_objects as go\n",
    "from plotly.subplots import make_subplots"
   ]
  },
  {
   "cell_type": "code",
   "execution_count": 39,
   "metadata": {},
   "outputs": [],
   "source": [
    "sortAlgorithms = [kahn_sort, dfs_sort]\n",
    "graphRepresentations = [IncidenceMatrix, AdjacencyMatrix, ArcList, AdjacencyList, ForwardStar]\n",
    "nodesNumbers = [100, 200, 300, 400, 500, 750, 1000, 1250, 1500, 2000, 2500, 3000, 4000, 5000]"
   ]
  },
  {
   "cell_type": "code",
   "execution_count": 11,
   "metadata": {},
   "outputs": [],
   "source": [
    "def inicializaceGraph(graph: Digraph, DAG):\n",
    "    len_dag = len(DAG)\n",
    "    for node in range(len_dag):\n",
    "        graph.addNode(node)\n",
    "    for startNode in range(len_dag):\n",
    "        for endNode in range(len_dag):\n",
    "            if DAG[startNode][endNode] == 1:\n",
    "                graph.addEdge(startNode, endNode)"
   ]
  },
  {
   "cell_type": "code",
   "execution_count": 12,
   "metadata": {},
   "outputs": [],
   "source": [
    "def evaluateSortAlgorithm(sortAlgorithm):\n",
    "    graphRepresentation: Digraph\n",
    "    times = {} # times.nodesNumber.graphRepresentation\n",
    "    for nodesNumber in nodesNumbers:\n",
    "        print(f\"{nodesNumber}:\")\n",
    "        times[nodesNumber] = {}\n",
    "        DAG = generateDAG(nodesNumber)\n",
    "        for graphRepresentation in graphRepresentations:\n",
    "            if (graphRepresentation.__name__ == \"IncidenceMatrix\" and nodesNumber >= 1500) or (graphRepresentation.__name__ == \"ArcList\" and nodesNumber >= 2000):\n",
    "                continue\n",
    "            graph = graphRepresentation()\n",
    "            inicializaceGraph(graph, DAG)\n",
    "            times[nodesNumber][graphRepresentation.__name__] = measureTime(sortAlgorithm, [graph])\n",
    "            print(f\"\\t{graphRepresentation.__name__} --> {times[nodesNumber][graphRepresentation.__name__]}\")\n",
    "    return times"
   ]
  },
  {
   "cell_type": "code",
   "execution_count": 6,
   "metadata": {},
   "outputs": [
    {
     "name": "stdout",
     "output_type": "stream",
     "text": [
      "100:\n",
      "\tIncidenceMatrix --> 0.07241463661193848\n",
      "\tAdjacencyMatrix --> 0.007050991058349609\n",
      "\tArcList --> 0.017047643661499023\n",
      "\tAdjacencyList --> 0.0\n",
      "\tForwardStar --> 0.0005192756652832031\n",
      "200:\n",
      "\tIncidenceMatrix --> 0.5595002174377441\n",
      "\tAdjacencyMatrix --> 0.009897470474243164\n",
      "\tArcList --> 0.12316250801086426\n",
      "\tAdjacencyList --> 0.009442806243896484\n",
      "\tForwardStar --> 0.013160228729248047\n",
      "300:\n",
      "\tIncidenceMatrix --> 1.8069813251495361\n",
      "\tAdjacencyMatrix --> 0.017364501953125\n",
      "\tArcList --> 0.40325307846069336\n",
      "\tAdjacencyList --> 0.008790969848632812\n",
      "\tForwardStar --> 0.03179764747619629\n",
      "400:\n",
      "\tIncidenceMatrix --> 3.8091235160827637\n",
      "\tAdjacencyMatrix --> 0.032140493392944336\n",
      "\tArcList --> 0.8691544532775879\n",
      "\tAdjacencyList --> 0.016213178634643555\n",
      "\tForwardStar --> 0.05322575569152832\n",
      "500:\n",
      "\tIncidenceMatrix --> 7.29220724105835\n",
      "\tAdjacencyMatrix --> 0.0441286563873291\n",
      "\tArcList --> 1.8299329280853271\n",
      "\tAdjacencyList --> 0.02230978012084961\n",
      "\tForwardStar --> 0.08801603317260742\n",
      "750:\n",
      "\tIncidenceMatrix --> 26.52824091911316\n",
      "\tAdjacencyMatrix --> 0.10468554496765137\n",
      "\tArcList --> 6.330894231796265\n",
      "\tAdjacencyList --> 0.05260109901428223\n",
      "\tForwardStar --> 0.19329118728637695\n",
      "1000:\n",
      "\tIncidenceMatrix --> 67.31314063072205\n",
      "\tAdjacencyMatrix --> 0.18840789794921875\n",
      "\tArcList --> 14.5560781955719\n",
      "\tAdjacencyList --> 0.09155440330505371\n",
      "\tForwardStar --> 0.33586835861206055\n",
      "1250:\n",
      "\tIncidenceMatrix --> 136.39665746688843\n",
      "\tAdjacencyMatrix --> 0.30031704902648926\n",
      "\tArcList --> 28.332396507263184\n",
      "\tAdjacencyList --> 0.14756560325622559\n",
      "\tForwardStar --> 0.5180943012237549\n",
      "1500:\n",
      "\tAdjacencyMatrix --> 0.42583274841308594\n",
      "\tArcList --> 48.13426876068115\n",
      "\tAdjacencyList --> 0.21286630630493164\n",
      "\tForwardStar --> 0.7454700469970703\n",
      "2000:\n",
      "\tAdjacencyMatrix --> 0.749650239944458\n",
      "\tAdjacencyList --> 0.3732125759124756\n",
      "\tForwardStar --> 1.3409984111785889\n",
      "2500:\n",
      "\tAdjacencyMatrix --> 1.2072796821594238\n",
      "\tAdjacencyList --> 0.592918872833252\n",
      "\tForwardStar --> 2.1020493507385254\n",
      "3000:\n",
      "\tAdjacencyMatrix --> 1.7485928535461426\n",
      "\tAdjacencyList --> 0.8459475040435791\n",
      "\tForwardStar --> 3.0621743202209473\n",
      "4000:\n",
      "\tAdjacencyMatrix --> 3.088930368423462\n",
      "\tAdjacencyList --> 1.5035068988800049\n",
      "\tForwardStar --> 5.493795871734619\n",
      "5000:\n",
      "\tAdjacencyMatrix --> 4.92633843421936\n",
      "\tAdjacencyList --> 2.3795299530029297\n",
      "\tForwardStar --> 8.34325647354126\n",
      "100:\n",
      "\tIncidenceMatrix --> 0.051178932189941406\n",
      "\tAdjacencyMatrix --> 0.0\n",
      "\tArcList --> 0.009866714477539062\n",
      "\tAdjacencyList --> 0.0\n",
      "\tForwardStar --> 0.0\n",
      "200:\n",
      "\tIncidenceMatrix --> 0.3911314010620117\n",
      "\tAdjacencyMatrix --> 0.0\n",
      "\tArcList --> 0.10901832580566406\n",
      "\tAdjacencyList --> 0.0\n",
      "\tForwardStar --> 0.010825395584106445\n",
      "300:\n",
      "\tIncidenceMatrix --> 1.3288967609405518\n",
      "\tAdjacencyMatrix --> 0.009887456893920898\n",
      "\tArcList --> 0.36606431007385254\n",
      "\tAdjacencyList --> 0.0\n",
      "\tForwardStar --> 0.010834455490112305\n",
      "400:\n",
      "\tIncidenceMatrix --> 3.194575309753418\n",
      "\tAdjacencyMatrix --> 0.015344381332397461\n",
      "\tArcList --> 0.8918275833129883\n",
      "\tAdjacencyList --> 0.0\n",
      "\tForwardStar --> 0.022487640380859375\n",
      "500:\n",
      "\tIncidenceMatrix --> 6.239508867263794\n",
      "\tAdjacencyMatrix --> 0.024724245071411133\n",
      "\tArcList --> 2.1770565509796143\n",
      "\tAdjacencyList --> 0.003238677978515625\n",
      "\tForwardStar --> 0.028387069702148438\n",
      "750:\n",
      "\tIncidenceMatrix --> 59.88650989532471\n",
      "\tAdjacencyMatrix --> 0.1251509189605713\n",
      "\tArcList --> 15.85792851448059\n",
      "\tAdjacencyList --> 0.015612602233886719\n",
      "\tForwardStar --> 0.18749737739562988\n",
      "1000:\n",
      "\tIncidenceMatrix --> 147.04980039596558\n",
      "\tAdjacencyMatrix --> 0.21790719032287598\n",
      "\tArcList --> 34.38048839569092\n",
      "\tAdjacencyList --> 0.03240633010864258\n",
      "\tForwardStar --> 0.3109169006347656\n",
      "1250:\n",
      "\tIncidenceMatrix --> 325.3075633049011\n",
      "\tAdjacencyMatrix --> 0.35559701919555664\n",
      "\tArcList --> 65.18653082847595\n",
      "\tAdjacencyList --> 0.04156899452209473\n",
      "\tForwardStar --> 0.4980161190032959\n",
      "1500:\n",
      "\tAdjacencyMatrix --> 0.5044336318969727\n",
      "\tArcList --> 110.88394045829773\n",
      "\tAdjacencyList --> 0.06666803359985352\n",
      "\tForwardStar --> 0.7307136058807373\n",
      "2000:\n",
      "\tAdjacencyMatrix --> 0.36455559730529785\n",
      "\tAdjacencyList --> 0.05082559585571289\n",
      "\tForwardStar --> 0.5551662445068359\n",
      "2500:\n",
      "\tAdjacencyMatrix --> 0.5619864463806152\n",
      "\tAdjacencyList --> 0.08546161651611328\n",
      "\tForwardStar --> 0.8801116943359375\n",
      "3000:\n",
      "\tAdjacencyMatrix --> 0.8314347267150879\n",
      "\tAdjacencyList --> 0.12956738471984863\n",
      "\tForwardStar --> 1.281456708908081\n",
      "4000:\n",
      "\tAdjacencyMatrix --> 1.5111122131347656\n",
      "\tAdjacencyList --> 0.26755356788635254\n",
      "\tForwardStar --> 2.278860569000244\n",
      "5000:\n",
      "\tAdjacencyMatrix --> 2.321565628051758\n",
      "\tAdjacencyList --> 0.45675039291381836\n",
      "\tForwardStar --> 3.684474468231201\n"
     ]
    }
   ],
   "source": [
    "times = {}\n",
    "for sortAlgorithm in sortAlgorithms:\n",
    "    times[sortAlgorithm.__name__] = evaluateSortAlgorithm(sortAlgorithm)"
   ]
  },
  {
   "cell_type": "code",
   "execution_count": 46,
   "metadata": {},
   "outputs": [],
   "source": [
    "def compareSortTimesForGraphSizes(times, title):\n",
    "    titles = [f\"nodes: {nodesNumber}  edges:{((nodesNumber-1)*nodesNumber)//2}\" for nodesNumber in  nodesNumbers]\n",
    "    fig = make_subplots(rows=((len(times) - 1)//2 + 1), cols=2,subplot_titles=titles)\n",
    "\n",
    "    i=0\n",
    "    for nodesNumber in nodesNumbers:\n",
    "        d = times[nodesNumber]\n",
    "        fig.add_trace(go.Bar(x=list(d.keys()), y=list(d.values()), text=[round(x,3) for x in d.values()],\n",
    "                            textposition=\"auto\", name=\"\"),\n",
    "                        row=i//2+1, col=i%2+1)\n",
    "        fig.update_yaxes(title_text=\"time [s]\", row=i//2+1, col=i%2+1)\n",
    "        i+=1\n",
    "\n",
    "    fig.update_layout(height=1600, width=1200,\n",
    "                    title_text=title)\n",
    "\n",
    "    fig.show()"
   ]
  },
  {
   "cell_type": "code",
   "execution_count": 33,
   "metadata": {},
   "outputs": [],
   "source": [
    "def compareSortTimesForGraphRepresentation(times, title):\n",
    "    fig = make_subplots(rows=3, cols=2, subplot_titles=[representation.__name__ for representation in graphRepresentations])\n",
    "    colors = {\"kahn_sort\": \"blue\", \"dfs_sort\": \"red\"}\n",
    "    i=0\n",
    "    for graphRepresentation in graphRepresentations:\n",
    "        d = defaultdict(lambda : {})\n",
    "        for sort, sort_times in times.items():\n",
    "            for nodesNumber, time in sort_times.items():\n",
    "                # edgesNumber = ((nodesNumber-1)*nodesNumber)/2\n",
    "                if graphRepresentation.__name__ in time.keys():\n",
    "                    d[nodesNumber] = time[graphRepresentation.__name__]\n",
    "            fig.add_trace(go.Scatter(x=list(d.keys()), y=list(d.values()), text=[round(x,3) for x in d.values()], \n",
    "                                     name=sort, legendgroup=sort, showlegend=(i==0), marker=dict(color=colors[sort])),\n",
    "                            row=i//2+1, col=i%2+1)\n",
    "        fig.update_yaxes(title_text=\"time [s]\", row=i//2+1, col=i%2+1)\n",
    "        i+=1\n",
    "\n",
    "    fig.update_layout(height=800, width=1200,\n",
    "                    title_text=title)\n",
    "\n",
    "    fig.show()"
   ]
  },
  {
   "cell_type": "code",
   "execution_count": 38,
   "metadata": {},
   "outputs": [
    {
     "data": {
      "application/vnd.plotly.v1+json": {
       "config": {
        "plotlyServerURL": "https://plot.ly"
       },
       "data": [
        {
         "legendgroup": "kahn_sort",
         "marker": {
          "color": "blue"
         },
         "name": "kahn_sort",
         "showlegend": true,
         "text": [
          "0.1",
          "0.83",
          "2.812",
          "6.777",
          "12.843",
          "43.612",
          "105.062",
          "206.415"
         ],
         "type": "scatter",
         "x": [
          "100",
          "200",
          "300",
          "400",
          "500",
          "750",
          "1000",
          "1250"
         ],
         "xaxis": "x",
         "y": [
          0.10009121894836426,
          0.8303403854370117,
          2.811925172805786,
          6.7767555713653564,
          12.843332767486572,
          43.61151456832886,
          105.06217741966248,
          206.4146933555603
         ],
         "yaxis": "y"
        },
        {
         "legendgroup": "dfs_sort",
         "marker": {
          "color": "red"
         },
         "name": "dfs_sort",
         "showlegend": true,
         "text": [
          "0.088",
          "0.684",
          "2.368",
          "5.697",
          "11.286",
          "38.384",
          "96.983",
          "189.15"
         ],
         "type": "scatter",
         "x": [
          "100",
          "200",
          "300",
          "400",
          "500",
          "750",
          "1000",
          "1250"
         ],
         "xaxis": "x",
         "y": [
          0.08846521377563477,
          0.683753252029419,
          2.3681557178497314,
          5.696633577346802,
          11.285679578781128,
          38.38372492790222,
          96.98319435119629,
          189.15009951591492
         ],
         "yaxis": "y"
        },
        {
         "legendgroup": "kahn_sort",
         "marker": {
          "color": "blue"
         },
         "name": "kahn_sort",
         "showlegend": false,
         "text": [
          "0.003",
          "0.01",
          "0.028",
          "0.046",
          "0.072",
          "0.167",
          "0.302",
          "0.492",
          "0.711",
          "1.259",
          "1.984",
          "2.882",
          "5.126",
          "8.011"
         ],
         "type": "scatter",
         "x": [
          "100",
          "200",
          "300",
          "400",
          "500",
          "750",
          "1000",
          "1250",
          "1500",
          "2000",
          "2500",
          "3000",
          "4000",
          "5000"
         ],
         "xaxis": "x2",
         "y": [
          0.0029952526092529297,
          0.010013103485107422,
          0.028391122817993164,
          0.04604196548461914,
          0.07206511497497559,
          0.16715240478515625,
          0.3020033836364746,
          0.4924476146697998,
          0.7106468677520752,
          1.2585368156433105,
          1.9838075637817383,
          2.8818976879119873,
          5.126069784164429,
          8.011027336120605
         ],
         "yaxis": "y2"
        },
        {
         "legendgroup": "dfs_sort",
         "marker": {
          "color": "red"
         },
         "name": "dfs_sort",
         "showlegend": false,
         "text": [
          "0.001",
          "0.005",
          "0.013",
          "0.022",
          "0.034",
          "0.083",
          "0.144",
          "0.224",
          "0.324",
          "0.574",
          "0.905",
          "1.306",
          "2.348",
          "3.644"
         ],
         "type": "scatter",
         "x": [
          "100",
          "200",
          "300",
          "400",
          "500",
          "750",
          "1000",
          "1250",
          "1500",
          "2000",
          "2500",
          "3000",
          "4000",
          "5000"
         ],
         "xaxis": "x2",
         "y": [
          0.0009918212890625,
          0.0050048828125,
          0.013013839721679688,
          0.02202010154724121,
          0.03403067588806152,
          0.08314371109008789,
          0.1436467170715332,
          0.22420501708984375,
          0.3242957592010498,
          0.5735213756561279,
          0.9051010608673096,
          1.3061888217926025,
          2.3481383323669434,
          3.644317626953125
         ],
         "yaxis": "y2"
        },
        {
         "legendgroup": "kahn_sort",
         "marker": {
          "color": "blue"
         },
         "name": "kahn_sort",
         "showlegend": false,
         "text": [
          "0.021",
          "0.143",
          "0.542",
          "1.126",
          "2.265",
          "7.313",
          "17.012",
          "33.197",
          "58.027"
         ],
         "type": "scatter",
         "x": [
          "100",
          "200",
          "300",
          "400",
          "500",
          "750",
          "1000",
          "1250",
          "1500"
         ],
         "xaxis": "x3",
         "y": [
          0.021001577377319336,
          0.14278626441955566,
          0.542381763458252,
          1.1260240077972412,
          2.2651350498199463,
          7.31288480758667,
          17.012296438217163,
          33.19694447517395,
          58.02684688568115
         ],
         "yaxis": "y3"
        },
        {
         "legendgroup": "dfs_sort",
         "marker": {
          "color": "red"
         },
         "name": "dfs_sort",
         "showlegend": false,
         "text": [
          "0.017",
          "0.137",
          "0.486",
          "1.128",
          "2.238",
          "7.317",
          "17.176",
          "33.515",
          "57.387"
         ],
         "type": "scatter",
         "x": [
          "100",
          "200",
          "300",
          "400",
          "500",
          "750",
          "1000",
          "1250",
          "1500"
         ],
         "xaxis": "x3",
         "y": [
          0.017292499542236328,
          0.13712525367736816,
          0.48644328117370605,
          1.1280276775360107,
          2.2384033203125,
          7.316927671432495,
          17.175874948501587,
          33.51469373703003,
          57.38702845573425
         ],
         "yaxis": "y3"
        },
        {
         "legendgroup": "kahn_sort",
         "marker": {
          "color": "blue"
         },
         "name": "kahn_sort",
         "showlegend": false,
         "text": [
          "0.001",
          "0.005",
          "0.013",
          "0.021",
          "0.035",
          "0.085",
          "0.16",
          "0.253",
          "0.37",
          "0.671",
          "1.048",
          "1.508",
          "2.743",
          "4.455"
         ],
         "type": "scatter",
         "x": [
          "100",
          "200",
          "300",
          "400",
          "500",
          "750",
          "1000",
          "1250",
          "1500",
          "2000",
          "2500",
          "3000",
          "4000",
          "5000"
         ],
         "xaxis": "x4",
         "y": [
          0.001001596450805664,
          0.005005359649658203,
          0.013012170791625977,
          0.02101922035217285,
          0.035032033920288086,
          0.08507728576660156,
          0.16014575958251953,
          0.2532308101654053,
          0.37033724784851074,
          0.6707212924957275,
          1.048285722732544,
          1.5084922313690186,
          2.7426340579986572,
          4.455080032348633
         ],
         "yaxis": "y4"
        },
        {
         "legendgroup": "dfs_sort",
         "marker": {
          "color": "red"
         },
         "name": "dfs_sort",
         "showlegend": false,
         "text": [
          "0.0",
          "0.001",
          "0.003",
          "0.004",
          "0.006",
          "0.015",
          "0.027",
          "0.043",
          "0.062",
          "0.11",
          "0.177",
          "0.271",
          "0.473",
          "0.749"
         ],
         "type": "scatter",
         "x": [
          "100",
          "200",
          "300",
          "400",
          "500",
          "750",
          "1000",
          "1250",
          "1500",
          "2000",
          "2500",
          "3000",
          "4000",
          "5000"
         ],
         "xaxis": "x4",
         "y": [
          0,
          0.0010020732879638672,
          0.0030031204223632812,
          0.0040035247802734375,
          0.006005525588989258,
          0.015013456344604492,
          0.02702474594116211,
          0.04303932189941406,
          0.062056779861450195,
          0.11010050773620605,
          0.1765587329864502,
          0.27124691009521484,
          0.473430871963501,
          0.7486815452575684
         ],
         "yaxis": "y4"
        },
        {
         "legendgroup": "kahn_sort",
         "marker": {
          "color": "blue"
         },
         "name": "kahn_sort",
         "showlegend": false,
         "text": [
          "0.001",
          "0.005",
          "0.015",
          "0.025",
          "0.04",
          "0.096",
          "0.179",
          "0.282",
          "0.417",
          "0.746",
          "1.182",
          "1.771",
          "3.045",
          "4.673"
         ],
         "type": "scatter",
         "x": [
          "100",
          "200",
          "300",
          "400",
          "500",
          "750",
          "1000",
          "1250",
          "1500",
          "2000",
          "2500",
          "3000",
          "4000",
          "5000"
         ],
         "xaxis": "x5",
         "y": [
          0.0010013580322265625,
          0.0050046443939208984,
          0.015013456344604492,
          0.02502298355102539,
          0.04003572463989258,
          0.09608888626098633,
          0.17916250228881836,
          0.2822575569152832,
          0.41709208488464355,
          0.7456786632537842,
          1.1819939613342285,
          1.770611047744751,
          3.044771909713745,
          4.672515153884888
         ],
         "yaxis": "y5"
        },
        {
         "legendgroup": "dfs_sort",
         "marker": {
          "color": "red"
         },
         "name": "dfs_sort",
         "showlegend": false,
         "text": [
          "0.0",
          "0.001",
          "0.003",
          "0.005",
          "0.009",
          "0.018",
          "0.034",
          "0.057",
          "0.076",
          "0.138",
          "0.216",
          "0.313",
          "0.597",
          "0.927"
         ],
         "type": "scatter",
         "x": [
          "100",
          "200",
          "300",
          "400",
          "500",
          "750",
          "1000",
          "1250",
          "1500",
          "2000",
          "2500",
          "3000",
          "4000",
          "5000"
         ],
         "xaxis": "x5",
         "y": [
          0,
          0.001001119613647461,
          0.0030028820037841797,
          0.004902362823486328,
          0.009008646011352539,
          0.018015384674072266,
          0.03403115272521973,
          0.0570526123046875,
          0.07606935501098633,
          0.13812518119812012,
          0.21619749069213867,
          0.31329894065856934,
          0.596543550491333,
          0.9268443584442139
         ],
         "yaxis": "y5"
        }
       ],
       "layout": {
        "annotations": [
         {
          "font": {
           "size": 16
          },
          "showarrow": false,
          "text": "IncidenceMatrix",
          "x": 0.225,
          "xanchor": "center",
          "xref": "paper",
          "y": 1,
          "yanchor": "bottom",
          "yref": "paper"
         },
         {
          "font": {
           "size": 16
          },
          "showarrow": false,
          "text": "AdjacencyMatrix",
          "x": 0.775,
          "xanchor": "center",
          "xref": "paper",
          "y": 1,
          "yanchor": "bottom",
          "yref": "paper"
         },
         {
          "font": {
           "size": 16
          },
          "showarrow": false,
          "text": "ArcList",
          "x": 0.225,
          "xanchor": "center",
          "xref": "paper",
          "y": 0.6111111111111112,
          "yanchor": "bottom",
          "yref": "paper"
         },
         {
          "font": {
           "size": 16
          },
          "showarrow": false,
          "text": "AdjacencyList",
          "x": 0.775,
          "xanchor": "center",
          "xref": "paper",
          "y": 0.6111111111111112,
          "yanchor": "bottom",
          "yref": "paper"
         },
         {
          "font": {
           "size": 16
          },
          "showarrow": false,
          "text": "ForwardStar",
          "x": 0.225,
          "xanchor": "center",
          "xref": "paper",
          "y": 0.22222222222222224,
          "yanchor": "bottom",
          "yref": "paper"
         }
        ],
        "height": 800,
        "template": {
         "data": {
          "bar": [
           {
            "error_x": {
             "color": "#2a3f5f"
            },
            "error_y": {
             "color": "#2a3f5f"
            },
            "marker": {
             "line": {
              "color": "#E5ECF6",
              "width": 0.5
             },
             "pattern": {
              "fillmode": "overlay",
              "size": 10,
              "solidity": 0.2
             }
            },
            "type": "bar"
           }
          ],
          "barpolar": [
           {
            "marker": {
             "line": {
              "color": "#E5ECF6",
              "width": 0.5
             },
             "pattern": {
              "fillmode": "overlay",
              "size": 10,
              "solidity": 0.2
             }
            },
            "type": "barpolar"
           }
          ],
          "carpet": [
           {
            "aaxis": {
             "endlinecolor": "#2a3f5f",
             "gridcolor": "white",
             "linecolor": "white",
             "minorgridcolor": "white",
             "startlinecolor": "#2a3f5f"
            },
            "baxis": {
             "endlinecolor": "#2a3f5f",
             "gridcolor": "white",
             "linecolor": "white",
             "minorgridcolor": "white",
             "startlinecolor": "#2a3f5f"
            },
            "type": "carpet"
           }
          ],
          "choropleth": [
           {
            "colorbar": {
             "outlinewidth": 0,
             "ticks": ""
            },
            "type": "choropleth"
           }
          ],
          "contour": [
           {
            "colorbar": {
             "outlinewidth": 0,
             "ticks": ""
            },
            "colorscale": [
             [
              0,
              "#0d0887"
             ],
             [
              0.1111111111111111,
              "#46039f"
             ],
             [
              0.2222222222222222,
              "#7201a8"
             ],
             [
              0.3333333333333333,
              "#9c179e"
             ],
             [
              0.4444444444444444,
              "#bd3786"
             ],
             [
              0.5555555555555556,
              "#d8576b"
             ],
             [
              0.6666666666666666,
              "#ed7953"
             ],
             [
              0.7777777777777778,
              "#fb9f3a"
             ],
             [
              0.8888888888888888,
              "#fdca26"
             ],
             [
              1,
              "#f0f921"
             ]
            ],
            "type": "contour"
           }
          ],
          "contourcarpet": [
           {
            "colorbar": {
             "outlinewidth": 0,
             "ticks": ""
            },
            "type": "contourcarpet"
           }
          ],
          "heatmap": [
           {
            "colorbar": {
             "outlinewidth": 0,
             "ticks": ""
            },
            "colorscale": [
             [
              0,
              "#0d0887"
             ],
             [
              0.1111111111111111,
              "#46039f"
             ],
             [
              0.2222222222222222,
              "#7201a8"
             ],
             [
              0.3333333333333333,
              "#9c179e"
             ],
             [
              0.4444444444444444,
              "#bd3786"
             ],
             [
              0.5555555555555556,
              "#d8576b"
             ],
             [
              0.6666666666666666,
              "#ed7953"
             ],
             [
              0.7777777777777778,
              "#fb9f3a"
             ],
             [
              0.8888888888888888,
              "#fdca26"
             ],
             [
              1,
              "#f0f921"
             ]
            ],
            "type": "heatmap"
           }
          ],
          "heatmapgl": [
           {
            "colorbar": {
             "outlinewidth": 0,
             "ticks": ""
            },
            "colorscale": [
             [
              0,
              "#0d0887"
             ],
             [
              0.1111111111111111,
              "#46039f"
             ],
             [
              0.2222222222222222,
              "#7201a8"
             ],
             [
              0.3333333333333333,
              "#9c179e"
             ],
             [
              0.4444444444444444,
              "#bd3786"
             ],
             [
              0.5555555555555556,
              "#d8576b"
             ],
             [
              0.6666666666666666,
              "#ed7953"
             ],
             [
              0.7777777777777778,
              "#fb9f3a"
             ],
             [
              0.8888888888888888,
              "#fdca26"
             ],
             [
              1,
              "#f0f921"
             ]
            ],
            "type": "heatmapgl"
           }
          ],
          "histogram": [
           {
            "marker": {
             "pattern": {
              "fillmode": "overlay",
              "size": 10,
              "solidity": 0.2
             }
            },
            "type": "histogram"
           }
          ],
          "histogram2d": [
           {
            "colorbar": {
             "outlinewidth": 0,
             "ticks": ""
            },
            "colorscale": [
             [
              0,
              "#0d0887"
             ],
             [
              0.1111111111111111,
              "#46039f"
             ],
             [
              0.2222222222222222,
              "#7201a8"
             ],
             [
              0.3333333333333333,
              "#9c179e"
             ],
             [
              0.4444444444444444,
              "#bd3786"
             ],
             [
              0.5555555555555556,
              "#d8576b"
             ],
             [
              0.6666666666666666,
              "#ed7953"
             ],
             [
              0.7777777777777778,
              "#fb9f3a"
             ],
             [
              0.8888888888888888,
              "#fdca26"
             ],
             [
              1,
              "#f0f921"
             ]
            ],
            "type": "histogram2d"
           }
          ],
          "histogram2dcontour": [
           {
            "colorbar": {
             "outlinewidth": 0,
             "ticks": ""
            },
            "colorscale": [
             [
              0,
              "#0d0887"
             ],
             [
              0.1111111111111111,
              "#46039f"
             ],
             [
              0.2222222222222222,
              "#7201a8"
             ],
             [
              0.3333333333333333,
              "#9c179e"
             ],
             [
              0.4444444444444444,
              "#bd3786"
             ],
             [
              0.5555555555555556,
              "#d8576b"
             ],
             [
              0.6666666666666666,
              "#ed7953"
             ],
             [
              0.7777777777777778,
              "#fb9f3a"
             ],
             [
              0.8888888888888888,
              "#fdca26"
             ],
             [
              1,
              "#f0f921"
             ]
            ],
            "type": "histogram2dcontour"
           }
          ],
          "mesh3d": [
           {
            "colorbar": {
             "outlinewidth": 0,
             "ticks": ""
            },
            "type": "mesh3d"
           }
          ],
          "parcoords": [
           {
            "line": {
             "colorbar": {
              "outlinewidth": 0,
              "ticks": ""
             }
            },
            "type": "parcoords"
           }
          ],
          "pie": [
           {
            "automargin": true,
            "type": "pie"
           }
          ],
          "scatter": [
           {
            "fillpattern": {
             "fillmode": "overlay",
             "size": 10,
             "solidity": 0.2
            },
            "type": "scatter"
           }
          ],
          "scatter3d": [
           {
            "line": {
             "colorbar": {
              "outlinewidth": 0,
              "ticks": ""
             }
            },
            "marker": {
             "colorbar": {
              "outlinewidth": 0,
              "ticks": ""
             }
            },
            "type": "scatter3d"
           }
          ],
          "scattercarpet": [
           {
            "marker": {
             "colorbar": {
              "outlinewidth": 0,
              "ticks": ""
             }
            },
            "type": "scattercarpet"
           }
          ],
          "scattergeo": [
           {
            "marker": {
             "colorbar": {
              "outlinewidth": 0,
              "ticks": ""
             }
            },
            "type": "scattergeo"
           }
          ],
          "scattergl": [
           {
            "marker": {
             "colorbar": {
              "outlinewidth": 0,
              "ticks": ""
             }
            },
            "type": "scattergl"
           }
          ],
          "scattermapbox": [
           {
            "marker": {
             "colorbar": {
              "outlinewidth": 0,
              "ticks": ""
             }
            },
            "type": "scattermapbox"
           }
          ],
          "scatterpolar": [
           {
            "marker": {
             "colorbar": {
              "outlinewidth": 0,
              "ticks": ""
             }
            },
            "type": "scatterpolar"
           }
          ],
          "scatterpolargl": [
           {
            "marker": {
             "colorbar": {
              "outlinewidth": 0,
              "ticks": ""
             }
            },
            "type": "scatterpolargl"
           }
          ],
          "scatterternary": [
           {
            "marker": {
             "colorbar": {
              "outlinewidth": 0,
              "ticks": ""
             }
            },
            "type": "scatterternary"
           }
          ],
          "surface": [
           {
            "colorbar": {
             "outlinewidth": 0,
             "ticks": ""
            },
            "colorscale": [
             [
              0,
              "#0d0887"
             ],
             [
              0.1111111111111111,
              "#46039f"
             ],
             [
              0.2222222222222222,
              "#7201a8"
             ],
             [
              0.3333333333333333,
              "#9c179e"
             ],
             [
              0.4444444444444444,
              "#bd3786"
             ],
             [
              0.5555555555555556,
              "#d8576b"
             ],
             [
              0.6666666666666666,
              "#ed7953"
             ],
             [
              0.7777777777777778,
              "#fb9f3a"
             ],
             [
              0.8888888888888888,
              "#fdca26"
             ],
             [
              1,
              "#f0f921"
             ]
            ],
            "type": "surface"
           }
          ],
          "table": [
           {
            "cells": {
             "fill": {
              "color": "#EBF0F8"
             },
             "line": {
              "color": "white"
             }
            },
            "header": {
             "fill": {
              "color": "#C8D4E3"
             },
             "line": {
              "color": "white"
             }
            },
            "type": "table"
           }
          ]
         },
         "layout": {
          "annotationdefaults": {
           "arrowcolor": "#2a3f5f",
           "arrowhead": 0,
           "arrowwidth": 1
          },
          "autotypenumbers": "strict",
          "coloraxis": {
           "colorbar": {
            "outlinewidth": 0,
            "ticks": ""
           }
          },
          "colorscale": {
           "diverging": [
            [
             0,
             "#8e0152"
            ],
            [
             0.1,
             "#c51b7d"
            ],
            [
             0.2,
             "#de77ae"
            ],
            [
             0.3,
             "#f1b6da"
            ],
            [
             0.4,
             "#fde0ef"
            ],
            [
             0.5,
             "#f7f7f7"
            ],
            [
             0.6,
             "#e6f5d0"
            ],
            [
             0.7,
             "#b8e186"
            ],
            [
             0.8,
             "#7fbc41"
            ],
            [
             0.9,
             "#4d9221"
            ],
            [
             1,
             "#276419"
            ]
           ],
           "sequential": [
            [
             0,
             "#0d0887"
            ],
            [
             0.1111111111111111,
             "#46039f"
            ],
            [
             0.2222222222222222,
             "#7201a8"
            ],
            [
             0.3333333333333333,
             "#9c179e"
            ],
            [
             0.4444444444444444,
             "#bd3786"
            ],
            [
             0.5555555555555556,
             "#d8576b"
            ],
            [
             0.6666666666666666,
             "#ed7953"
            ],
            [
             0.7777777777777778,
             "#fb9f3a"
            ],
            [
             0.8888888888888888,
             "#fdca26"
            ],
            [
             1,
             "#f0f921"
            ]
           ],
           "sequentialminus": [
            [
             0,
             "#0d0887"
            ],
            [
             0.1111111111111111,
             "#46039f"
            ],
            [
             0.2222222222222222,
             "#7201a8"
            ],
            [
             0.3333333333333333,
             "#9c179e"
            ],
            [
             0.4444444444444444,
             "#bd3786"
            ],
            [
             0.5555555555555556,
             "#d8576b"
            ],
            [
             0.6666666666666666,
             "#ed7953"
            ],
            [
             0.7777777777777778,
             "#fb9f3a"
            ],
            [
             0.8888888888888888,
             "#fdca26"
            ],
            [
             1,
             "#f0f921"
            ]
           ]
          },
          "colorway": [
           "#636efa",
           "#EF553B",
           "#00cc96",
           "#ab63fa",
           "#FFA15A",
           "#19d3f3",
           "#FF6692",
           "#B6E880",
           "#FF97FF",
           "#FECB52"
          ],
          "font": {
           "color": "#2a3f5f"
          },
          "geo": {
           "bgcolor": "white",
           "lakecolor": "white",
           "landcolor": "#E5ECF6",
           "showlakes": true,
           "showland": true,
           "subunitcolor": "white"
          },
          "hoverlabel": {
           "align": "left"
          },
          "hovermode": "closest",
          "mapbox": {
           "style": "light"
          },
          "paper_bgcolor": "white",
          "plot_bgcolor": "#E5ECF6",
          "polar": {
           "angularaxis": {
            "gridcolor": "white",
            "linecolor": "white",
            "ticks": ""
           },
           "bgcolor": "#E5ECF6",
           "radialaxis": {
            "gridcolor": "white",
            "linecolor": "white",
            "ticks": ""
           }
          },
          "scene": {
           "xaxis": {
            "backgroundcolor": "#E5ECF6",
            "gridcolor": "white",
            "gridwidth": 2,
            "linecolor": "white",
            "showbackground": true,
            "ticks": "",
            "zerolinecolor": "white"
           },
           "yaxis": {
            "backgroundcolor": "#E5ECF6",
            "gridcolor": "white",
            "gridwidth": 2,
            "linecolor": "white",
            "showbackground": true,
            "ticks": "",
            "zerolinecolor": "white"
           },
           "zaxis": {
            "backgroundcolor": "#E5ECF6",
            "gridcolor": "white",
            "gridwidth": 2,
            "linecolor": "white",
            "showbackground": true,
            "ticks": "",
            "zerolinecolor": "white"
           }
          },
          "shapedefaults": {
           "line": {
            "color": "#2a3f5f"
           }
          },
          "ternary": {
           "aaxis": {
            "gridcolor": "white",
            "linecolor": "white",
            "ticks": ""
           },
           "baxis": {
            "gridcolor": "white",
            "linecolor": "white",
            "ticks": ""
           },
           "bgcolor": "#E5ECF6",
           "caxis": {
            "gridcolor": "white",
            "linecolor": "white",
            "ticks": ""
           }
          },
          "title": {
           "x": 0.05
          },
          "xaxis": {
           "automargin": true,
           "gridcolor": "white",
           "linecolor": "white",
           "ticks": "",
           "title": {
            "standoff": 15
           },
           "zerolinecolor": "white",
           "zerolinewidth": 2
          },
          "yaxis": {
           "automargin": true,
           "gridcolor": "white",
           "linecolor": "white",
           "ticks": "",
           "title": {
            "standoff": 15
           },
           "zerolinecolor": "white",
           "zerolinewidth": 2
          }
         }
        },
        "title": {
         "text": "sort comparision"
        },
        "width": 1200,
        "xaxis": {
         "anchor": "y",
         "domain": [
          0,
          0.45
         ]
        },
        "xaxis2": {
         "anchor": "y2",
         "domain": [
          0.55,
          1
         ]
        },
        "xaxis3": {
         "anchor": "y3",
         "domain": [
          0,
          0.45
         ]
        },
        "xaxis4": {
         "anchor": "y4",
         "domain": [
          0.55,
          1
         ]
        },
        "xaxis5": {
         "anchor": "y5",
         "domain": [
          0,
          0.45
         ]
        },
        "xaxis6": {
         "anchor": "y6",
         "domain": [
          0.55,
          1
         ]
        },
        "yaxis": {
         "anchor": "x",
         "domain": [
          0.7777777777777778,
          1
         ],
         "title": {
          "text": "time [s]"
         }
        },
        "yaxis2": {
         "anchor": "x2",
         "domain": [
          0.7777777777777778,
          1
         ],
         "title": {
          "text": "time [s]"
         }
        },
        "yaxis3": {
         "anchor": "x3",
         "domain": [
          0.3888888888888889,
          0.6111111111111112
         ],
         "title": {
          "text": "time [s]"
         }
        },
        "yaxis4": {
         "anchor": "x4",
         "domain": [
          0.3888888888888889,
          0.6111111111111112
         ],
         "title": {
          "text": "time [s]"
         }
        },
        "yaxis5": {
         "anchor": "x5",
         "domain": [
          0,
          0.22222222222222224
         ],
         "title": {
          "text": "time [s]"
         }
        },
        "yaxis6": {
         "anchor": "x6",
         "domain": [
          0,
          0.22222222222222224
         ]
        }
       }
      }
     },
     "metadata": {},
     "output_type": "display_data"
    }
   ],
   "source": [
    "compareSortTimesForGraphRepresentation(times, \"sort comparision\")"
   ]
  },
  {
   "cell_type": "code",
   "execution_count": 43,
   "metadata": {},
   "outputs": [
    {
     "data": {
      "application/vnd.plotly.v1+json": {
       "config": {
        "plotlyServerURL": "https://plot.ly"
       },
       "data": [
        {
         "name": "",
         "text": [
          "0.1",
          "0.003",
          "0.021",
          "0.001",
          "0.001"
         ],
         "textposition": "auto",
         "type": "bar",
         "x": [
          "IncidenceMatrix",
          "AdjacencyMatrix",
          "ArcList",
          "AdjacencyList",
          "ForwardStar"
         ],
         "xaxis": "x",
         "y": [
          0.10009121894836426,
          0.0029952526092529297,
          0.021001577377319336,
          0.001001596450805664,
          0.0010013580322265625
         ],
         "yaxis": "y"
        },
        {
         "name": "",
         "text": [
          "0.83",
          "0.01",
          "0.143",
          "0.005",
          "0.005"
         ],
         "textposition": "auto",
         "type": "bar",
         "x": [
          "IncidenceMatrix",
          "AdjacencyMatrix",
          "ArcList",
          "AdjacencyList",
          "ForwardStar"
         ],
         "xaxis": "x2",
         "y": [
          0.8303403854370117,
          0.010013103485107422,
          0.14278626441955566,
          0.005005359649658203,
          0.0050046443939208984
         ],
         "yaxis": "y2"
        },
        {
         "name": "",
         "text": [
          "2.812",
          "0.028",
          "0.542",
          "0.013",
          "0.015"
         ],
         "textposition": "auto",
         "type": "bar",
         "x": [
          "IncidenceMatrix",
          "AdjacencyMatrix",
          "ArcList",
          "AdjacencyList",
          "ForwardStar"
         ],
         "xaxis": "x3",
         "y": [
          2.811925172805786,
          0.028391122817993164,
          0.542381763458252,
          0.013012170791625977,
          0.015013456344604492
         ],
         "yaxis": "y3"
        },
        {
         "name": "",
         "text": [
          "6.777",
          "0.046",
          "1.126",
          "0.021",
          "0.025"
         ],
         "textposition": "auto",
         "type": "bar",
         "x": [
          "IncidenceMatrix",
          "AdjacencyMatrix",
          "ArcList",
          "AdjacencyList",
          "ForwardStar"
         ],
         "xaxis": "x4",
         "y": [
          6.7767555713653564,
          0.04604196548461914,
          1.1260240077972412,
          0.02101922035217285,
          0.02502298355102539
         ],
         "yaxis": "y4"
        },
        {
         "name": "",
         "text": [
          "12.843",
          "0.072",
          "2.265",
          "0.035",
          "0.04"
         ],
         "textposition": "auto",
         "type": "bar",
         "x": [
          "IncidenceMatrix",
          "AdjacencyMatrix",
          "ArcList",
          "AdjacencyList",
          "ForwardStar"
         ],
         "xaxis": "x5",
         "y": [
          12.843332767486572,
          0.07206511497497559,
          2.2651350498199463,
          0.035032033920288086,
          0.04003572463989258
         ],
         "yaxis": "y5"
        },
        {
         "name": "",
         "text": [
          "43.612",
          "0.167",
          "7.313",
          "0.085",
          "0.096"
         ],
         "textposition": "auto",
         "type": "bar",
         "x": [
          "IncidenceMatrix",
          "AdjacencyMatrix",
          "ArcList",
          "AdjacencyList",
          "ForwardStar"
         ],
         "xaxis": "x6",
         "y": [
          43.61151456832886,
          0.16715240478515625,
          7.31288480758667,
          0.08507728576660156,
          0.09608888626098633
         ],
         "yaxis": "y6"
        },
        {
         "name": "",
         "text": [
          "105.062",
          "0.302",
          "17.012",
          "0.16",
          "0.179"
         ],
         "textposition": "auto",
         "type": "bar",
         "x": [
          "IncidenceMatrix",
          "AdjacencyMatrix",
          "ArcList",
          "AdjacencyList",
          "ForwardStar"
         ],
         "xaxis": "x7",
         "y": [
          105.06217741966248,
          0.3020033836364746,
          17.012296438217163,
          0.16014575958251953,
          0.17916250228881836
         ],
         "yaxis": "y7"
        },
        {
         "name": "",
         "text": [
          "206.415",
          "0.492",
          "33.197",
          "0.253",
          "0.282"
         ],
         "textposition": "auto",
         "type": "bar",
         "x": [
          "IncidenceMatrix",
          "AdjacencyMatrix",
          "ArcList",
          "AdjacencyList",
          "ForwardStar"
         ],
         "xaxis": "x8",
         "y": [
          206.4146933555603,
          0.4924476146697998,
          33.19694447517395,
          0.2532308101654053,
          0.2822575569152832
         ],
         "yaxis": "y8"
        },
        {
         "name": "",
         "text": [
          "0.711",
          "58.027",
          "0.37",
          "0.417"
         ],
         "textposition": "auto",
         "type": "bar",
         "x": [
          "AdjacencyMatrix",
          "ArcList",
          "AdjacencyList",
          "ForwardStar"
         ],
         "xaxis": "x9",
         "y": [
          0.7106468677520752,
          58.02684688568115,
          0.37033724784851074,
          0.41709208488464355
         ],
         "yaxis": "y9"
        },
        {
         "name": "",
         "text": [
          "1.259",
          "0.671",
          "0.746"
         ],
         "textposition": "auto",
         "type": "bar",
         "x": [
          "AdjacencyMatrix",
          "AdjacencyList",
          "ForwardStar"
         ],
         "xaxis": "x10",
         "y": [
          1.2585368156433105,
          0.6707212924957275,
          0.7456786632537842
         ],
         "yaxis": "y10"
        },
        {
         "name": "",
         "text": [
          "1.984",
          "1.048",
          "1.182"
         ],
         "textposition": "auto",
         "type": "bar",
         "x": [
          "AdjacencyMatrix",
          "AdjacencyList",
          "ForwardStar"
         ],
         "xaxis": "x11",
         "y": [
          1.9838075637817383,
          1.048285722732544,
          1.1819939613342285
         ],
         "yaxis": "y11"
        },
        {
         "name": "",
         "text": [
          "2.882",
          "1.508",
          "1.771"
         ],
         "textposition": "auto",
         "type": "bar",
         "x": [
          "AdjacencyMatrix",
          "AdjacencyList",
          "ForwardStar"
         ],
         "xaxis": "x12",
         "y": [
          2.8818976879119873,
          1.5084922313690186,
          1.770611047744751
         ],
         "yaxis": "y12"
        },
        {
         "name": "",
         "text": [
          "5.126",
          "2.743",
          "3.045"
         ],
         "textposition": "auto",
         "type": "bar",
         "x": [
          "AdjacencyMatrix",
          "AdjacencyList",
          "ForwardStar"
         ],
         "xaxis": "x13",
         "y": [
          5.126069784164429,
          2.7426340579986572,
          3.044771909713745
         ],
         "yaxis": "y13"
        },
        {
         "name": "",
         "text": [
          "8.011",
          "4.455",
          "4.673"
         ],
         "textposition": "auto",
         "type": "bar",
         "x": [
          "AdjacencyMatrix",
          "AdjacencyList",
          "ForwardStar"
         ],
         "xaxis": "x14",
         "y": [
          8.011027336120605,
          4.455080032348633,
          4.672515153884888
         ],
         "yaxis": "y14"
        }
       ],
       "layout": {
        "annotations": [
         {
          "font": {
           "size": 16
          },
          "showarrow": false,
          "text": "nodes: 100  edges:4950",
          "x": 0.225,
          "xanchor": "center",
          "xref": "paper",
          "y": 0.9999999999999999,
          "yanchor": "bottom",
          "yref": "paper"
         },
         {
          "font": {
           "size": 16
          },
          "showarrow": false,
          "text": "nodes: 200  edges:19900",
          "x": 0.775,
          "xanchor": "center",
          "xref": "paper",
          "y": 0.9999999999999999,
          "yanchor": "bottom",
          "yref": "paper"
         },
         {
          "font": {
           "size": 16
          },
          "showarrow": false,
          "text": "nodes: 300  edges:44850",
          "x": 0.225,
          "xanchor": "center",
          "xref": "paper",
          "y": 0.8469387755102039,
          "yanchor": "bottom",
          "yref": "paper"
         },
         {
          "font": {
           "size": 16
          },
          "showarrow": false,
          "text": "nodes: 400  edges:79800",
          "x": 0.775,
          "xanchor": "center",
          "xref": "paper",
          "y": 0.8469387755102039,
          "yanchor": "bottom",
          "yref": "paper"
         },
         {
          "font": {
           "size": 16
          },
          "showarrow": false,
          "text": "nodes: 500  edges:124750",
          "x": 0.225,
          "xanchor": "center",
          "xref": "paper",
          "y": 0.6938775510204082,
          "yanchor": "bottom",
          "yref": "paper"
         },
         {
          "font": {
           "size": 16
          },
          "showarrow": false,
          "text": "nodes: 750  edges:280875",
          "x": 0.775,
          "xanchor": "center",
          "xref": "paper",
          "y": 0.6938775510204082,
          "yanchor": "bottom",
          "yref": "paper"
         },
         {
          "font": {
           "size": 16
          },
          "showarrow": false,
          "text": "nodes: 1000  edges:499500",
          "x": 0.225,
          "xanchor": "center",
          "xref": "paper",
          "y": 0.5408163265306122,
          "yanchor": "bottom",
          "yref": "paper"
         },
         {
          "font": {
           "size": 16
          },
          "showarrow": false,
          "text": "nodes: 1250  edges:780625",
          "x": 0.775,
          "xanchor": "center",
          "xref": "paper",
          "y": 0.5408163265306122,
          "yanchor": "bottom",
          "yref": "paper"
         },
         {
          "font": {
           "size": 16
          },
          "showarrow": false,
          "text": "nodes: 1500  edges:1124250",
          "x": 0.225,
          "xanchor": "center",
          "xref": "paper",
          "y": 0.3877551020408163,
          "yanchor": "bottom",
          "yref": "paper"
         },
         {
          "font": {
           "size": 16
          },
          "showarrow": false,
          "text": "nodes: 2000  edges:1999000",
          "x": 0.775,
          "xanchor": "center",
          "xref": "paper",
          "y": 0.3877551020408163,
          "yanchor": "bottom",
          "yref": "paper"
         },
         {
          "font": {
           "size": 16
          },
          "showarrow": false,
          "text": "nodes: 2500  edges:3123750",
          "x": 0.225,
          "xanchor": "center",
          "xref": "paper",
          "y": 0.2346938775510204,
          "yanchor": "bottom",
          "yref": "paper"
         },
         {
          "font": {
           "size": 16
          },
          "showarrow": false,
          "text": "nodes: 3000  edges:4498500",
          "x": 0.775,
          "xanchor": "center",
          "xref": "paper",
          "y": 0.2346938775510204,
          "yanchor": "bottom",
          "yref": "paper"
         },
         {
          "font": {
           "size": 16
          },
          "showarrow": false,
          "text": "nodes: 4000  edges:7998000",
          "x": 0.225,
          "xanchor": "center",
          "xref": "paper",
          "y": 0.08163265306122448,
          "yanchor": "bottom",
          "yref": "paper"
         },
         {
          "font": {
           "size": 16
          },
          "showarrow": false,
          "text": "nodes: 5000  edges:12497500",
          "x": 0.775,
          "xanchor": "center",
          "xref": "paper",
          "y": 0.08163265306122448,
          "yanchor": "bottom",
          "yref": "paper"
         }
        ],
        "height": 1600,
        "template": {
         "data": {
          "bar": [
           {
            "error_x": {
             "color": "#2a3f5f"
            },
            "error_y": {
             "color": "#2a3f5f"
            },
            "marker": {
             "line": {
              "color": "#E5ECF6",
              "width": 0.5
             },
             "pattern": {
              "fillmode": "overlay",
              "size": 10,
              "solidity": 0.2
             }
            },
            "type": "bar"
           }
          ],
          "barpolar": [
           {
            "marker": {
             "line": {
              "color": "#E5ECF6",
              "width": 0.5
             },
             "pattern": {
              "fillmode": "overlay",
              "size": 10,
              "solidity": 0.2
             }
            },
            "type": "barpolar"
           }
          ],
          "carpet": [
           {
            "aaxis": {
             "endlinecolor": "#2a3f5f",
             "gridcolor": "white",
             "linecolor": "white",
             "minorgridcolor": "white",
             "startlinecolor": "#2a3f5f"
            },
            "baxis": {
             "endlinecolor": "#2a3f5f",
             "gridcolor": "white",
             "linecolor": "white",
             "minorgridcolor": "white",
             "startlinecolor": "#2a3f5f"
            },
            "type": "carpet"
           }
          ],
          "choropleth": [
           {
            "colorbar": {
             "outlinewidth": 0,
             "ticks": ""
            },
            "type": "choropleth"
           }
          ],
          "contour": [
           {
            "colorbar": {
             "outlinewidth": 0,
             "ticks": ""
            },
            "colorscale": [
             [
              0,
              "#0d0887"
             ],
             [
              0.1111111111111111,
              "#46039f"
             ],
             [
              0.2222222222222222,
              "#7201a8"
             ],
             [
              0.3333333333333333,
              "#9c179e"
             ],
             [
              0.4444444444444444,
              "#bd3786"
             ],
             [
              0.5555555555555556,
              "#d8576b"
             ],
             [
              0.6666666666666666,
              "#ed7953"
             ],
             [
              0.7777777777777778,
              "#fb9f3a"
             ],
             [
              0.8888888888888888,
              "#fdca26"
             ],
             [
              1,
              "#f0f921"
             ]
            ],
            "type": "contour"
           }
          ],
          "contourcarpet": [
           {
            "colorbar": {
             "outlinewidth": 0,
             "ticks": ""
            },
            "type": "contourcarpet"
           }
          ],
          "heatmap": [
           {
            "colorbar": {
             "outlinewidth": 0,
             "ticks": ""
            },
            "colorscale": [
             [
              0,
              "#0d0887"
             ],
             [
              0.1111111111111111,
              "#46039f"
             ],
             [
              0.2222222222222222,
              "#7201a8"
             ],
             [
              0.3333333333333333,
              "#9c179e"
             ],
             [
              0.4444444444444444,
              "#bd3786"
             ],
             [
              0.5555555555555556,
              "#d8576b"
             ],
             [
              0.6666666666666666,
              "#ed7953"
             ],
             [
              0.7777777777777778,
              "#fb9f3a"
             ],
             [
              0.8888888888888888,
              "#fdca26"
             ],
             [
              1,
              "#f0f921"
             ]
            ],
            "type": "heatmap"
           }
          ],
          "heatmapgl": [
           {
            "colorbar": {
             "outlinewidth": 0,
             "ticks": ""
            },
            "colorscale": [
             [
              0,
              "#0d0887"
             ],
             [
              0.1111111111111111,
              "#46039f"
             ],
             [
              0.2222222222222222,
              "#7201a8"
             ],
             [
              0.3333333333333333,
              "#9c179e"
             ],
             [
              0.4444444444444444,
              "#bd3786"
             ],
             [
              0.5555555555555556,
              "#d8576b"
             ],
             [
              0.6666666666666666,
              "#ed7953"
             ],
             [
              0.7777777777777778,
              "#fb9f3a"
             ],
             [
              0.8888888888888888,
              "#fdca26"
             ],
             [
              1,
              "#f0f921"
             ]
            ],
            "type": "heatmapgl"
           }
          ],
          "histogram": [
           {
            "marker": {
             "pattern": {
              "fillmode": "overlay",
              "size": 10,
              "solidity": 0.2
             }
            },
            "type": "histogram"
           }
          ],
          "histogram2d": [
           {
            "colorbar": {
             "outlinewidth": 0,
             "ticks": ""
            },
            "colorscale": [
             [
              0,
              "#0d0887"
             ],
             [
              0.1111111111111111,
              "#46039f"
             ],
             [
              0.2222222222222222,
              "#7201a8"
             ],
             [
              0.3333333333333333,
              "#9c179e"
             ],
             [
              0.4444444444444444,
              "#bd3786"
             ],
             [
              0.5555555555555556,
              "#d8576b"
             ],
             [
              0.6666666666666666,
              "#ed7953"
             ],
             [
              0.7777777777777778,
              "#fb9f3a"
             ],
             [
              0.8888888888888888,
              "#fdca26"
             ],
             [
              1,
              "#f0f921"
             ]
            ],
            "type": "histogram2d"
           }
          ],
          "histogram2dcontour": [
           {
            "colorbar": {
             "outlinewidth": 0,
             "ticks": ""
            },
            "colorscale": [
             [
              0,
              "#0d0887"
             ],
             [
              0.1111111111111111,
              "#46039f"
             ],
             [
              0.2222222222222222,
              "#7201a8"
             ],
             [
              0.3333333333333333,
              "#9c179e"
             ],
             [
              0.4444444444444444,
              "#bd3786"
             ],
             [
              0.5555555555555556,
              "#d8576b"
             ],
             [
              0.6666666666666666,
              "#ed7953"
             ],
             [
              0.7777777777777778,
              "#fb9f3a"
             ],
             [
              0.8888888888888888,
              "#fdca26"
             ],
             [
              1,
              "#f0f921"
             ]
            ],
            "type": "histogram2dcontour"
           }
          ],
          "mesh3d": [
           {
            "colorbar": {
             "outlinewidth": 0,
             "ticks": ""
            },
            "type": "mesh3d"
           }
          ],
          "parcoords": [
           {
            "line": {
             "colorbar": {
              "outlinewidth": 0,
              "ticks": ""
             }
            },
            "type": "parcoords"
           }
          ],
          "pie": [
           {
            "automargin": true,
            "type": "pie"
           }
          ],
          "scatter": [
           {
            "fillpattern": {
             "fillmode": "overlay",
             "size": 10,
             "solidity": 0.2
            },
            "type": "scatter"
           }
          ],
          "scatter3d": [
           {
            "line": {
             "colorbar": {
              "outlinewidth": 0,
              "ticks": ""
             }
            },
            "marker": {
             "colorbar": {
              "outlinewidth": 0,
              "ticks": ""
             }
            },
            "type": "scatter3d"
           }
          ],
          "scattercarpet": [
           {
            "marker": {
             "colorbar": {
              "outlinewidth": 0,
              "ticks": ""
             }
            },
            "type": "scattercarpet"
           }
          ],
          "scattergeo": [
           {
            "marker": {
             "colorbar": {
              "outlinewidth": 0,
              "ticks": ""
             }
            },
            "type": "scattergeo"
           }
          ],
          "scattergl": [
           {
            "marker": {
             "colorbar": {
              "outlinewidth": 0,
              "ticks": ""
             }
            },
            "type": "scattergl"
           }
          ],
          "scattermapbox": [
           {
            "marker": {
             "colorbar": {
              "outlinewidth": 0,
              "ticks": ""
             }
            },
            "type": "scattermapbox"
           }
          ],
          "scatterpolar": [
           {
            "marker": {
             "colorbar": {
              "outlinewidth": 0,
              "ticks": ""
             }
            },
            "type": "scatterpolar"
           }
          ],
          "scatterpolargl": [
           {
            "marker": {
             "colorbar": {
              "outlinewidth": 0,
              "ticks": ""
             }
            },
            "type": "scatterpolargl"
           }
          ],
          "scatterternary": [
           {
            "marker": {
             "colorbar": {
              "outlinewidth": 0,
              "ticks": ""
             }
            },
            "type": "scatterternary"
           }
          ],
          "surface": [
           {
            "colorbar": {
             "outlinewidth": 0,
             "ticks": ""
            },
            "colorscale": [
             [
              0,
              "#0d0887"
             ],
             [
              0.1111111111111111,
              "#46039f"
             ],
             [
              0.2222222222222222,
              "#7201a8"
             ],
             [
              0.3333333333333333,
              "#9c179e"
             ],
             [
              0.4444444444444444,
              "#bd3786"
             ],
             [
              0.5555555555555556,
              "#d8576b"
             ],
             [
              0.6666666666666666,
              "#ed7953"
             ],
             [
              0.7777777777777778,
              "#fb9f3a"
             ],
             [
              0.8888888888888888,
              "#fdca26"
             ],
             [
              1,
              "#f0f921"
             ]
            ],
            "type": "surface"
           }
          ],
          "table": [
           {
            "cells": {
             "fill": {
              "color": "#EBF0F8"
             },
             "line": {
              "color": "white"
             }
            },
            "header": {
             "fill": {
              "color": "#C8D4E3"
             },
             "line": {
              "color": "white"
             }
            },
            "type": "table"
           }
          ]
         },
         "layout": {
          "annotationdefaults": {
           "arrowcolor": "#2a3f5f",
           "arrowhead": 0,
           "arrowwidth": 1
          },
          "autotypenumbers": "strict",
          "coloraxis": {
           "colorbar": {
            "outlinewidth": 0,
            "ticks": ""
           }
          },
          "colorscale": {
           "diverging": [
            [
             0,
             "#8e0152"
            ],
            [
             0.1,
             "#c51b7d"
            ],
            [
             0.2,
             "#de77ae"
            ],
            [
             0.3,
             "#f1b6da"
            ],
            [
             0.4,
             "#fde0ef"
            ],
            [
             0.5,
             "#f7f7f7"
            ],
            [
             0.6,
             "#e6f5d0"
            ],
            [
             0.7,
             "#b8e186"
            ],
            [
             0.8,
             "#7fbc41"
            ],
            [
             0.9,
             "#4d9221"
            ],
            [
             1,
             "#276419"
            ]
           ],
           "sequential": [
            [
             0,
             "#0d0887"
            ],
            [
             0.1111111111111111,
             "#46039f"
            ],
            [
             0.2222222222222222,
             "#7201a8"
            ],
            [
             0.3333333333333333,
             "#9c179e"
            ],
            [
             0.4444444444444444,
             "#bd3786"
            ],
            [
             0.5555555555555556,
             "#d8576b"
            ],
            [
             0.6666666666666666,
             "#ed7953"
            ],
            [
             0.7777777777777778,
             "#fb9f3a"
            ],
            [
             0.8888888888888888,
             "#fdca26"
            ],
            [
             1,
             "#f0f921"
            ]
           ],
           "sequentialminus": [
            [
             0,
             "#0d0887"
            ],
            [
             0.1111111111111111,
             "#46039f"
            ],
            [
             0.2222222222222222,
             "#7201a8"
            ],
            [
             0.3333333333333333,
             "#9c179e"
            ],
            [
             0.4444444444444444,
             "#bd3786"
            ],
            [
             0.5555555555555556,
             "#d8576b"
            ],
            [
             0.6666666666666666,
             "#ed7953"
            ],
            [
             0.7777777777777778,
             "#fb9f3a"
            ],
            [
             0.8888888888888888,
             "#fdca26"
            ],
            [
             1,
             "#f0f921"
            ]
           ]
          },
          "colorway": [
           "#636efa",
           "#EF553B",
           "#00cc96",
           "#ab63fa",
           "#FFA15A",
           "#19d3f3",
           "#FF6692",
           "#B6E880",
           "#FF97FF",
           "#FECB52"
          ],
          "font": {
           "color": "#2a3f5f"
          },
          "geo": {
           "bgcolor": "white",
           "lakecolor": "white",
           "landcolor": "#E5ECF6",
           "showlakes": true,
           "showland": true,
           "subunitcolor": "white"
          },
          "hoverlabel": {
           "align": "left"
          },
          "hovermode": "closest",
          "mapbox": {
           "style": "light"
          },
          "paper_bgcolor": "white",
          "plot_bgcolor": "#E5ECF6",
          "polar": {
           "angularaxis": {
            "gridcolor": "white",
            "linecolor": "white",
            "ticks": ""
           },
           "bgcolor": "#E5ECF6",
           "radialaxis": {
            "gridcolor": "white",
            "linecolor": "white",
            "ticks": ""
           }
          },
          "scene": {
           "xaxis": {
            "backgroundcolor": "#E5ECF6",
            "gridcolor": "white",
            "gridwidth": 2,
            "linecolor": "white",
            "showbackground": true,
            "ticks": "",
            "zerolinecolor": "white"
           },
           "yaxis": {
            "backgroundcolor": "#E5ECF6",
            "gridcolor": "white",
            "gridwidth": 2,
            "linecolor": "white",
            "showbackground": true,
            "ticks": "",
            "zerolinecolor": "white"
           },
           "zaxis": {
            "backgroundcolor": "#E5ECF6",
            "gridcolor": "white",
            "gridwidth": 2,
            "linecolor": "white",
            "showbackground": true,
            "ticks": "",
            "zerolinecolor": "white"
           }
          },
          "shapedefaults": {
           "line": {
            "color": "#2a3f5f"
           }
          },
          "ternary": {
           "aaxis": {
            "gridcolor": "white",
            "linecolor": "white",
            "ticks": ""
           },
           "baxis": {
            "gridcolor": "white",
            "linecolor": "white",
            "ticks": ""
           },
           "bgcolor": "#E5ECF6",
           "caxis": {
            "gridcolor": "white",
            "linecolor": "white",
            "ticks": ""
           }
          },
          "title": {
           "x": 0.05
          },
          "xaxis": {
           "automargin": true,
           "gridcolor": "white",
           "linecolor": "white",
           "ticks": "",
           "title": {
            "standoff": 15
           },
           "zerolinecolor": "white",
           "zerolinewidth": 2
          },
          "yaxis": {
           "automargin": true,
           "gridcolor": "white",
           "linecolor": "white",
           "ticks": "",
           "title": {
            "standoff": 15
           },
           "zerolinecolor": "white",
           "zerolinewidth": 2
          }
         }
        },
        "title": {
         "text": "kahn_sort"
        },
        "width": 1200,
        "xaxis": {
         "anchor": "y",
         "domain": [
          0,
          0.45
         ]
        },
        "xaxis10": {
         "anchor": "y10",
         "domain": [
          0.55,
          1
         ]
        },
        "xaxis11": {
         "anchor": "y11",
         "domain": [
          0,
          0.45
         ]
        },
        "xaxis12": {
         "anchor": "y12",
         "domain": [
          0.55,
          1
         ]
        },
        "xaxis13": {
         "anchor": "y13",
         "domain": [
          0,
          0.45
         ]
        },
        "xaxis14": {
         "anchor": "y14",
         "domain": [
          0.55,
          1
         ]
        },
        "xaxis2": {
         "anchor": "y2",
         "domain": [
          0.55,
          1
         ]
        },
        "xaxis3": {
         "anchor": "y3",
         "domain": [
          0,
          0.45
         ]
        },
        "xaxis4": {
         "anchor": "y4",
         "domain": [
          0.55,
          1
         ]
        },
        "xaxis5": {
         "anchor": "y5",
         "domain": [
          0,
          0.45
         ]
        },
        "xaxis6": {
         "anchor": "y6",
         "domain": [
          0.55,
          1
         ]
        },
        "xaxis7": {
         "anchor": "y7",
         "domain": [
          0,
          0.45
         ]
        },
        "xaxis8": {
         "anchor": "y8",
         "domain": [
          0.55,
          1
         ]
        },
        "xaxis9": {
         "anchor": "y9",
         "domain": [
          0,
          0.45
         ]
        },
        "yaxis": {
         "anchor": "x",
         "domain": [
          0.9183673469387754,
          0.9999999999999999
         ],
         "title": {
          "text": "time [s]"
         }
        },
        "yaxis10": {
         "anchor": "x10",
         "domain": [
          0.30612244897959184,
          0.3877551020408163
         ],
         "title": {
          "text": "time [s]"
         }
        },
        "yaxis11": {
         "anchor": "x11",
         "domain": [
          0.15306122448979592,
          0.2346938775510204
         ],
         "title": {
          "text": "time [s]"
         }
        },
        "yaxis12": {
         "anchor": "x12",
         "domain": [
          0.15306122448979592,
          0.2346938775510204
         ],
         "title": {
          "text": "time [s]"
         }
        },
        "yaxis13": {
         "anchor": "x13",
         "domain": [
          0,
          0.08163265306122448
         ],
         "title": {
          "text": "time [s]"
         }
        },
        "yaxis14": {
         "anchor": "x14",
         "domain": [
          0,
          0.08163265306122448
         ],
         "title": {
          "text": "time [s]"
         }
        },
        "yaxis2": {
         "anchor": "x2",
         "domain": [
          0.9183673469387754,
          0.9999999999999999
         ],
         "title": {
          "text": "time [s]"
         }
        },
        "yaxis3": {
         "anchor": "x3",
         "domain": [
          0.7653061224489794,
          0.8469387755102039
         ],
         "title": {
          "text": "time [s]"
         }
        },
        "yaxis4": {
         "anchor": "x4",
         "domain": [
          0.7653061224489794,
          0.8469387755102039
         ],
         "title": {
          "text": "time [s]"
         }
        },
        "yaxis5": {
         "anchor": "x5",
         "domain": [
          0.6122448979591837,
          0.6938775510204082
         ],
         "title": {
          "text": "time [s]"
         }
        },
        "yaxis6": {
         "anchor": "x6",
         "domain": [
          0.6122448979591837,
          0.6938775510204082
         ],
         "title": {
          "text": "time [s]"
         }
        },
        "yaxis7": {
         "anchor": "x7",
         "domain": [
          0.4591836734693877,
          0.5408163265306122
         ],
         "title": {
          "text": "time [s]"
         }
        },
        "yaxis8": {
         "anchor": "x8",
         "domain": [
          0.4591836734693877,
          0.5408163265306122
         ],
         "title": {
          "text": "time [s]"
         }
        },
        "yaxis9": {
         "anchor": "x9",
         "domain": [
          0.30612244897959184,
          0.3877551020408163
         ],
         "title": {
          "text": "time [s]"
         }
        }
       }
      }
     },
     "metadata": {},
     "output_type": "display_data"
    }
   ],
   "source": [
    "compareSortTimesForGraphSizes(times[\"kahn_sort\"], \"kahn_sort\")"
   ]
  },
  {
   "cell_type": "code",
   "execution_count": 45,
   "metadata": {},
   "outputs": [
    {
     "data": {
      "application/vnd.plotly.v1+json": {
       "config": {
        "plotlyServerURL": "https://plot.ly"
       },
       "data": [
        {
         "name": "",
         "text": [
          "0.088",
          "0.001",
          "0.017",
          "0.0",
          "0.0"
         ],
         "textposition": "auto",
         "type": "bar",
         "x": [
          "IncidenceMatrix",
          "AdjacencyMatrix",
          "ArcList",
          "AdjacencyList",
          "ForwardStar"
         ],
         "xaxis": "x",
         "y": [
          0.08846521377563477,
          0.0009918212890625,
          0.017292499542236328,
          0,
          0
         ],
         "yaxis": "y"
        },
        {
         "name": "",
         "text": [
          "0.684",
          "0.005",
          "0.137",
          "0.001",
          "0.001"
         ],
         "textposition": "auto",
         "type": "bar",
         "x": [
          "IncidenceMatrix",
          "AdjacencyMatrix",
          "ArcList",
          "AdjacencyList",
          "ForwardStar"
         ],
         "xaxis": "x2",
         "y": [
          0.683753252029419,
          0.0050048828125,
          0.13712525367736816,
          0.0010020732879638672,
          0.001001119613647461
         ],
         "yaxis": "y2"
        },
        {
         "name": "",
         "text": [
          "2.368",
          "0.013",
          "0.486",
          "0.003",
          "0.003"
         ],
         "textposition": "auto",
         "type": "bar",
         "x": [
          "IncidenceMatrix",
          "AdjacencyMatrix",
          "ArcList",
          "AdjacencyList",
          "ForwardStar"
         ],
         "xaxis": "x3",
         "y": [
          2.3681557178497314,
          0.013013839721679688,
          0.48644328117370605,
          0.0030031204223632812,
          0.0030028820037841797
         ],
         "yaxis": "y3"
        },
        {
         "name": "",
         "text": [
          "5.697",
          "0.022",
          "1.128",
          "0.004",
          "0.005"
         ],
         "textposition": "auto",
         "type": "bar",
         "x": [
          "IncidenceMatrix",
          "AdjacencyMatrix",
          "ArcList",
          "AdjacencyList",
          "ForwardStar"
         ],
         "xaxis": "x4",
         "y": [
          5.696633577346802,
          0.02202010154724121,
          1.1280276775360107,
          0.0040035247802734375,
          0.004902362823486328
         ],
         "yaxis": "y4"
        },
        {
         "name": "",
         "text": [
          "11.286",
          "0.034",
          "2.238",
          "0.006",
          "0.009"
         ],
         "textposition": "auto",
         "type": "bar",
         "x": [
          "IncidenceMatrix",
          "AdjacencyMatrix",
          "ArcList",
          "AdjacencyList",
          "ForwardStar"
         ],
         "xaxis": "x5",
         "y": [
          11.285679578781128,
          0.03403067588806152,
          2.2384033203125,
          0.006005525588989258,
          0.009008646011352539
         ],
         "yaxis": "y5"
        },
        {
         "name": "",
         "text": [
          "38.384",
          "0.083",
          "7.317",
          "0.015",
          "0.018"
         ],
         "textposition": "auto",
         "type": "bar",
         "x": [
          "IncidenceMatrix",
          "AdjacencyMatrix",
          "ArcList",
          "AdjacencyList",
          "ForwardStar"
         ],
         "xaxis": "x6",
         "y": [
          38.38372492790222,
          0.08314371109008789,
          7.316927671432495,
          0.015013456344604492,
          0.018015384674072266
         ],
         "yaxis": "y6"
        },
        {
         "name": "",
         "text": [
          "96.983",
          "0.144",
          "17.176",
          "0.027",
          "0.034"
         ],
         "textposition": "auto",
         "type": "bar",
         "x": [
          "IncidenceMatrix",
          "AdjacencyMatrix",
          "ArcList",
          "AdjacencyList",
          "ForwardStar"
         ],
         "xaxis": "x7",
         "y": [
          96.98319435119629,
          0.1436467170715332,
          17.175874948501587,
          0.02702474594116211,
          0.03403115272521973
         ],
         "yaxis": "y7"
        },
        {
         "name": "",
         "text": [
          "189.15",
          "0.224",
          "33.515",
          "0.043",
          "0.057"
         ],
         "textposition": "auto",
         "type": "bar",
         "x": [
          "IncidenceMatrix",
          "AdjacencyMatrix",
          "ArcList",
          "AdjacencyList",
          "ForwardStar"
         ],
         "xaxis": "x8",
         "y": [
          189.15009951591492,
          0.22420501708984375,
          33.51469373703003,
          0.04303932189941406,
          0.0570526123046875
         ],
         "yaxis": "y8"
        },
        {
         "name": "",
         "text": [
          "0.324",
          "57.387",
          "0.062",
          "0.076"
         ],
         "textposition": "auto",
         "type": "bar",
         "x": [
          "AdjacencyMatrix",
          "ArcList",
          "AdjacencyList",
          "ForwardStar"
         ],
         "xaxis": "x9",
         "y": [
          0.3242957592010498,
          57.38702845573425,
          0.062056779861450195,
          0.07606935501098633
         ],
         "yaxis": "y9"
        },
        {
         "name": "",
         "text": [
          "0.574",
          "0.11",
          "0.138"
         ],
         "textposition": "auto",
         "type": "bar",
         "x": [
          "AdjacencyMatrix",
          "AdjacencyList",
          "ForwardStar"
         ],
         "xaxis": "x10",
         "y": [
          0.5735213756561279,
          0.11010050773620605,
          0.13812518119812012
         ],
         "yaxis": "y10"
        },
        {
         "name": "",
         "text": [
          "0.905",
          "0.177",
          "0.216"
         ],
         "textposition": "auto",
         "type": "bar",
         "x": [
          "AdjacencyMatrix",
          "AdjacencyList",
          "ForwardStar"
         ],
         "xaxis": "x11",
         "y": [
          0.9051010608673096,
          0.1765587329864502,
          0.21619749069213867
         ],
         "yaxis": "y11"
        },
        {
         "name": "",
         "text": [
          "1.306",
          "0.271",
          "0.313"
         ],
         "textposition": "auto",
         "type": "bar",
         "x": [
          "AdjacencyMatrix",
          "AdjacencyList",
          "ForwardStar"
         ],
         "xaxis": "x12",
         "y": [
          1.3061888217926025,
          0.27124691009521484,
          0.31329894065856934
         ],
         "yaxis": "y12"
        },
        {
         "name": "",
         "text": [
          "2.348",
          "0.473",
          "0.597"
         ],
         "textposition": "auto",
         "type": "bar",
         "x": [
          "AdjacencyMatrix",
          "AdjacencyList",
          "ForwardStar"
         ],
         "xaxis": "x13",
         "y": [
          2.3481383323669434,
          0.473430871963501,
          0.596543550491333
         ],
         "yaxis": "y13"
        },
        {
         "name": "",
         "text": [
          "3.644",
          "0.749",
          "0.927"
         ],
         "textposition": "auto",
         "type": "bar",
         "x": [
          "AdjacencyMatrix",
          "AdjacencyList",
          "ForwardStar"
         ],
         "xaxis": "x14",
         "y": [
          3.644317626953125,
          0.7486815452575684,
          0.9268443584442139
         ],
         "yaxis": "y14"
        }
       ],
       "layout": {
        "annotations": [
         {
          "font": {
           "size": 16
          },
          "showarrow": false,
          "text": "nodes: 100  edges:4950",
          "x": 0.225,
          "xanchor": "center",
          "xref": "paper",
          "y": 0.9999999999999999,
          "yanchor": "bottom",
          "yref": "paper"
         },
         {
          "font": {
           "size": 16
          },
          "showarrow": false,
          "text": "nodes: 200  edges:19900",
          "x": 0.775,
          "xanchor": "center",
          "xref": "paper",
          "y": 0.9999999999999999,
          "yanchor": "bottom",
          "yref": "paper"
         },
         {
          "font": {
           "size": 16
          },
          "showarrow": false,
          "text": "nodes: 300  edges:44850",
          "x": 0.225,
          "xanchor": "center",
          "xref": "paper",
          "y": 0.8469387755102039,
          "yanchor": "bottom",
          "yref": "paper"
         },
         {
          "font": {
           "size": 16
          },
          "showarrow": false,
          "text": "nodes: 400  edges:79800",
          "x": 0.775,
          "xanchor": "center",
          "xref": "paper",
          "y": 0.8469387755102039,
          "yanchor": "bottom",
          "yref": "paper"
         },
         {
          "font": {
           "size": 16
          },
          "showarrow": false,
          "text": "nodes: 500  edges:124750",
          "x": 0.225,
          "xanchor": "center",
          "xref": "paper",
          "y": 0.6938775510204082,
          "yanchor": "bottom",
          "yref": "paper"
         },
         {
          "font": {
           "size": 16
          },
          "showarrow": false,
          "text": "nodes: 750  edges:280875",
          "x": 0.775,
          "xanchor": "center",
          "xref": "paper",
          "y": 0.6938775510204082,
          "yanchor": "bottom",
          "yref": "paper"
         },
         {
          "font": {
           "size": 16
          },
          "showarrow": false,
          "text": "nodes: 1000  edges:499500",
          "x": 0.225,
          "xanchor": "center",
          "xref": "paper",
          "y": 0.5408163265306122,
          "yanchor": "bottom",
          "yref": "paper"
         },
         {
          "font": {
           "size": 16
          },
          "showarrow": false,
          "text": "nodes: 1250  edges:780625",
          "x": 0.775,
          "xanchor": "center",
          "xref": "paper",
          "y": 0.5408163265306122,
          "yanchor": "bottom",
          "yref": "paper"
         },
         {
          "font": {
           "size": 16
          },
          "showarrow": false,
          "text": "nodes: 1500  edges:1124250",
          "x": 0.225,
          "xanchor": "center",
          "xref": "paper",
          "y": 0.3877551020408163,
          "yanchor": "bottom",
          "yref": "paper"
         },
         {
          "font": {
           "size": 16
          },
          "showarrow": false,
          "text": "nodes: 2000  edges:1999000",
          "x": 0.775,
          "xanchor": "center",
          "xref": "paper",
          "y": 0.3877551020408163,
          "yanchor": "bottom",
          "yref": "paper"
         },
         {
          "font": {
           "size": 16
          },
          "showarrow": false,
          "text": "nodes: 2500  edges:3123750",
          "x": 0.225,
          "xanchor": "center",
          "xref": "paper",
          "y": 0.2346938775510204,
          "yanchor": "bottom",
          "yref": "paper"
         },
         {
          "font": {
           "size": 16
          },
          "showarrow": false,
          "text": "nodes: 3000  edges:4498500",
          "x": 0.775,
          "xanchor": "center",
          "xref": "paper",
          "y": 0.2346938775510204,
          "yanchor": "bottom",
          "yref": "paper"
         },
         {
          "font": {
           "size": 16
          },
          "showarrow": false,
          "text": "nodes: 4000  edges:7998000",
          "x": 0.225,
          "xanchor": "center",
          "xref": "paper",
          "y": 0.08163265306122448,
          "yanchor": "bottom",
          "yref": "paper"
         },
         {
          "font": {
           "size": 16
          },
          "showarrow": false,
          "text": "nodes: 5000  edges:12497500",
          "x": 0.775,
          "xanchor": "center",
          "xref": "paper",
          "y": 0.08163265306122448,
          "yanchor": "bottom",
          "yref": "paper"
         }
        ],
        "height": 1600,
        "template": {
         "data": {
          "bar": [
           {
            "error_x": {
             "color": "#2a3f5f"
            },
            "error_y": {
             "color": "#2a3f5f"
            },
            "marker": {
             "line": {
              "color": "#E5ECF6",
              "width": 0.5
             },
             "pattern": {
              "fillmode": "overlay",
              "size": 10,
              "solidity": 0.2
             }
            },
            "type": "bar"
           }
          ],
          "barpolar": [
           {
            "marker": {
             "line": {
              "color": "#E5ECF6",
              "width": 0.5
             },
             "pattern": {
              "fillmode": "overlay",
              "size": 10,
              "solidity": 0.2
             }
            },
            "type": "barpolar"
           }
          ],
          "carpet": [
           {
            "aaxis": {
             "endlinecolor": "#2a3f5f",
             "gridcolor": "white",
             "linecolor": "white",
             "minorgridcolor": "white",
             "startlinecolor": "#2a3f5f"
            },
            "baxis": {
             "endlinecolor": "#2a3f5f",
             "gridcolor": "white",
             "linecolor": "white",
             "minorgridcolor": "white",
             "startlinecolor": "#2a3f5f"
            },
            "type": "carpet"
           }
          ],
          "choropleth": [
           {
            "colorbar": {
             "outlinewidth": 0,
             "ticks": ""
            },
            "type": "choropleth"
           }
          ],
          "contour": [
           {
            "colorbar": {
             "outlinewidth": 0,
             "ticks": ""
            },
            "colorscale": [
             [
              0,
              "#0d0887"
             ],
             [
              0.1111111111111111,
              "#46039f"
             ],
             [
              0.2222222222222222,
              "#7201a8"
             ],
             [
              0.3333333333333333,
              "#9c179e"
             ],
             [
              0.4444444444444444,
              "#bd3786"
             ],
             [
              0.5555555555555556,
              "#d8576b"
             ],
             [
              0.6666666666666666,
              "#ed7953"
             ],
             [
              0.7777777777777778,
              "#fb9f3a"
             ],
             [
              0.8888888888888888,
              "#fdca26"
             ],
             [
              1,
              "#f0f921"
             ]
            ],
            "type": "contour"
           }
          ],
          "contourcarpet": [
           {
            "colorbar": {
             "outlinewidth": 0,
             "ticks": ""
            },
            "type": "contourcarpet"
           }
          ],
          "heatmap": [
           {
            "colorbar": {
             "outlinewidth": 0,
             "ticks": ""
            },
            "colorscale": [
             [
              0,
              "#0d0887"
             ],
             [
              0.1111111111111111,
              "#46039f"
             ],
             [
              0.2222222222222222,
              "#7201a8"
             ],
             [
              0.3333333333333333,
              "#9c179e"
             ],
             [
              0.4444444444444444,
              "#bd3786"
             ],
             [
              0.5555555555555556,
              "#d8576b"
             ],
             [
              0.6666666666666666,
              "#ed7953"
             ],
             [
              0.7777777777777778,
              "#fb9f3a"
             ],
             [
              0.8888888888888888,
              "#fdca26"
             ],
             [
              1,
              "#f0f921"
             ]
            ],
            "type": "heatmap"
           }
          ],
          "heatmapgl": [
           {
            "colorbar": {
             "outlinewidth": 0,
             "ticks": ""
            },
            "colorscale": [
             [
              0,
              "#0d0887"
             ],
             [
              0.1111111111111111,
              "#46039f"
             ],
             [
              0.2222222222222222,
              "#7201a8"
             ],
             [
              0.3333333333333333,
              "#9c179e"
             ],
             [
              0.4444444444444444,
              "#bd3786"
             ],
             [
              0.5555555555555556,
              "#d8576b"
             ],
             [
              0.6666666666666666,
              "#ed7953"
             ],
             [
              0.7777777777777778,
              "#fb9f3a"
             ],
             [
              0.8888888888888888,
              "#fdca26"
             ],
             [
              1,
              "#f0f921"
             ]
            ],
            "type": "heatmapgl"
           }
          ],
          "histogram": [
           {
            "marker": {
             "pattern": {
              "fillmode": "overlay",
              "size": 10,
              "solidity": 0.2
             }
            },
            "type": "histogram"
           }
          ],
          "histogram2d": [
           {
            "colorbar": {
             "outlinewidth": 0,
             "ticks": ""
            },
            "colorscale": [
             [
              0,
              "#0d0887"
             ],
             [
              0.1111111111111111,
              "#46039f"
             ],
             [
              0.2222222222222222,
              "#7201a8"
             ],
             [
              0.3333333333333333,
              "#9c179e"
             ],
             [
              0.4444444444444444,
              "#bd3786"
             ],
             [
              0.5555555555555556,
              "#d8576b"
             ],
             [
              0.6666666666666666,
              "#ed7953"
             ],
             [
              0.7777777777777778,
              "#fb9f3a"
             ],
             [
              0.8888888888888888,
              "#fdca26"
             ],
             [
              1,
              "#f0f921"
             ]
            ],
            "type": "histogram2d"
           }
          ],
          "histogram2dcontour": [
           {
            "colorbar": {
             "outlinewidth": 0,
             "ticks": ""
            },
            "colorscale": [
             [
              0,
              "#0d0887"
             ],
             [
              0.1111111111111111,
              "#46039f"
             ],
             [
              0.2222222222222222,
              "#7201a8"
             ],
             [
              0.3333333333333333,
              "#9c179e"
             ],
             [
              0.4444444444444444,
              "#bd3786"
             ],
             [
              0.5555555555555556,
              "#d8576b"
             ],
             [
              0.6666666666666666,
              "#ed7953"
             ],
             [
              0.7777777777777778,
              "#fb9f3a"
             ],
             [
              0.8888888888888888,
              "#fdca26"
             ],
             [
              1,
              "#f0f921"
             ]
            ],
            "type": "histogram2dcontour"
           }
          ],
          "mesh3d": [
           {
            "colorbar": {
             "outlinewidth": 0,
             "ticks": ""
            },
            "type": "mesh3d"
           }
          ],
          "parcoords": [
           {
            "line": {
             "colorbar": {
              "outlinewidth": 0,
              "ticks": ""
             }
            },
            "type": "parcoords"
           }
          ],
          "pie": [
           {
            "automargin": true,
            "type": "pie"
           }
          ],
          "scatter": [
           {
            "fillpattern": {
             "fillmode": "overlay",
             "size": 10,
             "solidity": 0.2
            },
            "type": "scatter"
           }
          ],
          "scatter3d": [
           {
            "line": {
             "colorbar": {
              "outlinewidth": 0,
              "ticks": ""
             }
            },
            "marker": {
             "colorbar": {
              "outlinewidth": 0,
              "ticks": ""
             }
            },
            "type": "scatter3d"
           }
          ],
          "scattercarpet": [
           {
            "marker": {
             "colorbar": {
              "outlinewidth": 0,
              "ticks": ""
             }
            },
            "type": "scattercarpet"
           }
          ],
          "scattergeo": [
           {
            "marker": {
             "colorbar": {
              "outlinewidth": 0,
              "ticks": ""
             }
            },
            "type": "scattergeo"
           }
          ],
          "scattergl": [
           {
            "marker": {
             "colorbar": {
              "outlinewidth": 0,
              "ticks": ""
             }
            },
            "type": "scattergl"
           }
          ],
          "scattermapbox": [
           {
            "marker": {
             "colorbar": {
              "outlinewidth": 0,
              "ticks": ""
             }
            },
            "type": "scattermapbox"
           }
          ],
          "scatterpolar": [
           {
            "marker": {
             "colorbar": {
              "outlinewidth": 0,
              "ticks": ""
             }
            },
            "type": "scatterpolar"
           }
          ],
          "scatterpolargl": [
           {
            "marker": {
             "colorbar": {
              "outlinewidth": 0,
              "ticks": ""
             }
            },
            "type": "scatterpolargl"
           }
          ],
          "scatterternary": [
           {
            "marker": {
             "colorbar": {
              "outlinewidth": 0,
              "ticks": ""
             }
            },
            "type": "scatterternary"
           }
          ],
          "surface": [
           {
            "colorbar": {
             "outlinewidth": 0,
             "ticks": ""
            },
            "colorscale": [
             [
              0,
              "#0d0887"
             ],
             [
              0.1111111111111111,
              "#46039f"
             ],
             [
              0.2222222222222222,
              "#7201a8"
             ],
             [
              0.3333333333333333,
              "#9c179e"
             ],
             [
              0.4444444444444444,
              "#bd3786"
             ],
             [
              0.5555555555555556,
              "#d8576b"
             ],
             [
              0.6666666666666666,
              "#ed7953"
             ],
             [
              0.7777777777777778,
              "#fb9f3a"
             ],
             [
              0.8888888888888888,
              "#fdca26"
             ],
             [
              1,
              "#f0f921"
             ]
            ],
            "type": "surface"
           }
          ],
          "table": [
           {
            "cells": {
             "fill": {
              "color": "#EBF0F8"
             },
             "line": {
              "color": "white"
             }
            },
            "header": {
             "fill": {
              "color": "#C8D4E3"
             },
             "line": {
              "color": "white"
             }
            },
            "type": "table"
           }
          ]
         },
         "layout": {
          "annotationdefaults": {
           "arrowcolor": "#2a3f5f",
           "arrowhead": 0,
           "arrowwidth": 1
          },
          "autotypenumbers": "strict",
          "coloraxis": {
           "colorbar": {
            "outlinewidth": 0,
            "ticks": ""
           }
          },
          "colorscale": {
           "diverging": [
            [
             0,
             "#8e0152"
            ],
            [
             0.1,
             "#c51b7d"
            ],
            [
             0.2,
             "#de77ae"
            ],
            [
             0.3,
             "#f1b6da"
            ],
            [
             0.4,
             "#fde0ef"
            ],
            [
             0.5,
             "#f7f7f7"
            ],
            [
             0.6,
             "#e6f5d0"
            ],
            [
             0.7,
             "#b8e186"
            ],
            [
             0.8,
             "#7fbc41"
            ],
            [
             0.9,
             "#4d9221"
            ],
            [
             1,
             "#276419"
            ]
           ],
           "sequential": [
            [
             0,
             "#0d0887"
            ],
            [
             0.1111111111111111,
             "#46039f"
            ],
            [
             0.2222222222222222,
             "#7201a8"
            ],
            [
             0.3333333333333333,
             "#9c179e"
            ],
            [
             0.4444444444444444,
             "#bd3786"
            ],
            [
             0.5555555555555556,
             "#d8576b"
            ],
            [
             0.6666666666666666,
             "#ed7953"
            ],
            [
             0.7777777777777778,
             "#fb9f3a"
            ],
            [
             0.8888888888888888,
             "#fdca26"
            ],
            [
             1,
             "#f0f921"
            ]
           ],
           "sequentialminus": [
            [
             0,
             "#0d0887"
            ],
            [
             0.1111111111111111,
             "#46039f"
            ],
            [
             0.2222222222222222,
             "#7201a8"
            ],
            [
             0.3333333333333333,
             "#9c179e"
            ],
            [
             0.4444444444444444,
             "#bd3786"
            ],
            [
             0.5555555555555556,
             "#d8576b"
            ],
            [
             0.6666666666666666,
             "#ed7953"
            ],
            [
             0.7777777777777778,
             "#fb9f3a"
            ],
            [
             0.8888888888888888,
             "#fdca26"
            ],
            [
             1,
             "#f0f921"
            ]
           ]
          },
          "colorway": [
           "#636efa",
           "#EF553B",
           "#00cc96",
           "#ab63fa",
           "#FFA15A",
           "#19d3f3",
           "#FF6692",
           "#B6E880",
           "#FF97FF",
           "#FECB52"
          ],
          "font": {
           "color": "#2a3f5f"
          },
          "geo": {
           "bgcolor": "white",
           "lakecolor": "white",
           "landcolor": "#E5ECF6",
           "showlakes": true,
           "showland": true,
           "subunitcolor": "white"
          },
          "hoverlabel": {
           "align": "left"
          },
          "hovermode": "closest",
          "mapbox": {
           "style": "light"
          },
          "paper_bgcolor": "white",
          "plot_bgcolor": "#E5ECF6",
          "polar": {
           "angularaxis": {
            "gridcolor": "white",
            "linecolor": "white",
            "ticks": ""
           },
           "bgcolor": "#E5ECF6",
           "radialaxis": {
            "gridcolor": "white",
            "linecolor": "white",
            "ticks": ""
           }
          },
          "scene": {
           "xaxis": {
            "backgroundcolor": "#E5ECF6",
            "gridcolor": "white",
            "gridwidth": 2,
            "linecolor": "white",
            "showbackground": true,
            "ticks": "",
            "zerolinecolor": "white"
           },
           "yaxis": {
            "backgroundcolor": "#E5ECF6",
            "gridcolor": "white",
            "gridwidth": 2,
            "linecolor": "white",
            "showbackground": true,
            "ticks": "",
            "zerolinecolor": "white"
           },
           "zaxis": {
            "backgroundcolor": "#E5ECF6",
            "gridcolor": "white",
            "gridwidth": 2,
            "linecolor": "white",
            "showbackground": true,
            "ticks": "",
            "zerolinecolor": "white"
           }
          },
          "shapedefaults": {
           "line": {
            "color": "#2a3f5f"
           }
          },
          "ternary": {
           "aaxis": {
            "gridcolor": "white",
            "linecolor": "white",
            "ticks": ""
           },
           "baxis": {
            "gridcolor": "white",
            "linecolor": "white",
            "ticks": ""
           },
           "bgcolor": "#E5ECF6",
           "caxis": {
            "gridcolor": "white",
            "linecolor": "white",
            "ticks": ""
           }
          },
          "title": {
           "x": 0.05
          },
          "xaxis": {
           "automargin": true,
           "gridcolor": "white",
           "linecolor": "white",
           "ticks": "",
           "title": {
            "standoff": 15
           },
           "zerolinecolor": "white",
           "zerolinewidth": 2
          },
          "yaxis": {
           "automargin": true,
           "gridcolor": "white",
           "linecolor": "white",
           "ticks": "",
           "title": {
            "standoff": 15
           },
           "zerolinecolor": "white",
           "zerolinewidth": 2
          }
         }
        },
        "title": {
         "text": "dfs_sort"
        },
        "width": 1200,
        "xaxis": {
         "anchor": "y",
         "domain": [
          0,
          0.45
         ]
        },
        "xaxis10": {
         "anchor": "y10",
         "domain": [
          0.55,
          1
         ]
        },
        "xaxis11": {
         "anchor": "y11",
         "domain": [
          0,
          0.45
         ]
        },
        "xaxis12": {
         "anchor": "y12",
         "domain": [
          0.55,
          1
         ]
        },
        "xaxis13": {
         "anchor": "y13",
         "domain": [
          0,
          0.45
         ]
        },
        "xaxis14": {
         "anchor": "y14",
         "domain": [
          0.55,
          1
         ]
        },
        "xaxis2": {
         "anchor": "y2",
         "domain": [
          0.55,
          1
         ]
        },
        "xaxis3": {
         "anchor": "y3",
         "domain": [
          0,
          0.45
         ]
        },
        "xaxis4": {
         "anchor": "y4",
         "domain": [
          0.55,
          1
         ]
        },
        "xaxis5": {
         "anchor": "y5",
         "domain": [
          0,
          0.45
         ]
        },
        "xaxis6": {
         "anchor": "y6",
         "domain": [
          0.55,
          1
         ]
        },
        "xaxis7": {
         "anchor": "y7",
         "domain": [
          0,
          0.45
         ]
        },
        "xaxis8": {
         "anchor": "y8",
         "domain": [
          0.55,
          1
         ]
        },
        "xaxis9": {
         "anchor": "y9",
         "domain": [
          0,
          0.45
         ]
        },
        "yaxis": {
         "anchor": "x",
         "domain": [
          0.9183673469387754,
          0.9999999999999999
         ],
         "title": {
          "text": "time [s]"
         }
        },
        "yaxis10": {
         "anchor": "x10",
         "domain": [
          0.30612244897959184,
          0.3877551020408163
         ],
         "title": {
          "text": "time [s]"
         }
        },
        "yaxis11": {
         "anchor": "x11",
         "domain": [
          0.15306122448979592,
          0.2346938775510204
         ],
         "title": {
          "text": "time [s]"
         }
        },
        "yaxis12": {
         "anchor": "x12",
         "domain": [
          0.15306122448979592,
          0.2346938775510204
         ],
         "title": {
          "text": "time [s]"
         }
        },
        "yaxis13": {
         "anchor": "x13",
         "domain": [
          0,
          0.08163265306122448
         ],
         "title": {
          "text": "time [s]"
         }
        },
        "yaxis14": {
         "anchor": "x14",
         "domain": [
          0,
          0.08163265306122448
         ],
         "title": {
          "text": "time [s]"
         }
        },
        "yaxis2": {
         "anchor": "x2",
         "domain": [
          0.9183673469387754,
          0.9999999999999999
         ],
         "title": {
          "text": "time [s]"
         }
        },
        "yaxis3": {
         "anchor": "x3",
         "domain": [
          0.7653061224489794,
          0.8469387755102039
         ],
         "title": {
          "text": "time [s]"
         }
        },
        "yaxis4": {
         "anchor": "x4",
         "domain": [
          0.7653061224489794,
          0.8469387755102039
         ],
         "title": {
          "text": "time [s]"
         }
        },
        "yaxis5": {
         "anchor": "x5",
         "domain": [
          0.6122448979591837,
          0.6938775510204082
         ],
         "title": {
          "text": "time [s]"
         }
        },
        "yaxis6": {
         "anchor": "x6",
         "domain": [
          0.6122448979591837,
          0.6938775510204082
         ],
         "title": {
          "text": "time [s]"
         }
        },
        "yaxis7": {
         "anchor": "x7",
         "domain": [
          0.4591836734693877,
          0.5408163265306122
         ],
         "title": {
          "text": "time [s]"
         }
        },
        "yaxis8": {
         "anchor": "x8",
         "domain": [
          0.4591836734693877,
          0.5408163265306122
         ],
         "title": {
          "text": "time [s]"
         }
        },
        "yaxis9": {
         "anchor": "x9",
         "domain": [
          0.30612244897959184,
          0.3877551020408163
         ],
         "title": {
          "text": "time [s]"
         }
        }
       }
      }
     },
     "metadata": {},
     "output_type": "display_data"
    }
   ],
   "source": [
    "compareSortTimesForGraphSizes(times[\"dfs_sort\"], \"dfs_sort\")"
   ]
  },
  {
   "attachments": {},
   "cell_type": "markdown",
   "metadata": {},
   "source": [
    "### Conclusions:\n",
    "\n",
    "TODO first rest of report needed\n",
    "    \n"
   ]
  }
 ],
 "metadata": {
  "kernelspec": {
   "display_name": "base",
   "language": "python",
   "name": "python3"
  },
  "language_info": {
   "codemirror_mode": {
    "name": "ipython",
    "version": 3
   },
   "file_extension": ".py",
   "mimetype": "text/x-python",
   "name": "python",
   "nbconvert_exporter": "python",
   "pygments_lexer": "ipython3",
   "version": "3.9.16"
  },
  "orig_nbformat": 4
 },
 "nbformat": 4,
 "nbformat_minor": 2
}
