{
 "cells": [
  {
   "attachments": {},
   "cell_type": "markdown",
   "metadata": {},
   "source": [
    "# Report 3"
   ]
  },
  {
   "attachments": {},
   "cell_type": "markdown",
   "metadata": {},
   "source": [
    "## Basic Graph Algorithms"
   ]
  },
  {
   "attachments": {},
   "cell_type": "markdown",
   "metadata": {},
   "source": [
    "#### Marcin Kapiszewski 156048\n",
    "#### Adam Tomys 156057"
   ]
  },
  {
   "attachments": {},
   "cell_type": "markdown",
   "metadata": {},
   "source": [
    "Group 2"
   ]
  },
  {
   "attachments": {},
   "cell_type": "markdown",
   "metadata": {},
   "source": [
    "### Compared diraph representations:\n",
    "\n",
    "1. Incidence matrix:\n",
    "    - Matrix consists of vertices (rows), arcs (columns), and values(cells)\n",
    "    - Values:\n",
    "        - 1 means the head of the arc\n",
    "        - 0 means that the arc is not connected to that node\n",
    "        - -1 means the tail of the arc\n",
    "2. Adjacency matrix:\n",
    "    - Matrix consists of starting vertices (rows), ending vertices (columns), and values(cells)\n",
    "    - Values:\n",
    "        - 1 means that the given arc from tail to head exists\n",
    "        - 0 means that the given arc from tail to head does not exist\n",
    "        - -1 means that there is an arc from ending vertice to starting vertice (this value is not required)\n",
    "3. Arc list:\n",
    "    - The list contains entires containing arcs\n",
    "    - arc is represented as a tuple containing the tail and the head\n",
    "4. Adjacency list:\n",
    "    - It consists of one node for each vertice\n",
    "    - Each node contains all of the successors of the vertice\n",
    "    - Its possible to store all precessors too but as an additional list\n",
    "5. Forward star (in our case uses AVL tree):\n",
    "    - It is the same as the previos one, but instead of storing successors in a list it uses an AVL tree (in our case) or hashtable"
   ]
  },
  {
   "attachments": {},
   "cell_type": "markdown",
   "metadata": {},
   "source": [
    "### Implementation Difficulties:\n",
    "NO difficulties so far"
   ]
  },
  {
   "attachments": {},
   "cell_type": "markdown",
   "metadata": {},
   "source": [
    "### DAG Generation:\n",
    "TODO you better understood it and its not written anyway"
   ]
  },
  {
   "cell_type": "code",
   "execution_count": 1,
   "metadata": {},
   "outputs": [],
   "source": [
    "%load_ext autoreload\n",
    "%autoreload 2"
   ]
  },
  {
   "attachments": {},
   "cell_type": "markdown",
   "metadata": {},
   "source": [
    "### COMPARE GRAPH REPRESENTATION DEPENDING ON DAG SATURATION AND DENSITY\n",
    "TODO Probably should be done mathematically not by program"
   ]
  },
  {
   "attachments": {},
   "cell_type": "markdown",
   "metadata": {},
   "source": [
    "### Compared topological sorts:\n",
    "\n",
    "1. Inspired by Kahn algorithm:\n",
    "    - First we count for each node the number of predecessors\n",
    "    - We initalize an output list, a number of visited nodes as 0, and a queue containing all vertices that do not have any predecessors\n",
    "    - While our queue is not empty:\n",
    "        - Increment visited nodes by one\n",
    "        - Remove a vertice from queue and add it to the output\n",
    "        - For each successor of dequeued node:\n",
    "            - Decrease their number of predecessors by one\n",
    "            - If the number is now 0 add it to the queue\n",
    "    - If the number of visisted nodes is diffrent than the number of all nodes it is not possible to sort this graph and an error or message should be returned\n",
    "    - Otherwise return out output list\n",
    "2. Making use of DFS (graph coloring):\n",
    "    - Our code used recursion for this\n",
    "    - First we initialize a stack as our output and a set for visited nodes\n",
    "    - Now we iterate over every node:\n",
    "        - If it was not visited already we call our helper function dfs\n",
    "    - At the end we return out stack as a list (stack was used for fast pushing new values on the left)\n",
    "\n",
    "    - Our helper dfs function:\n",
    "        - It takes the graph, the current node, the set of visited nodes, and the output stack as arguments\n",
    "        - It adds the node to the visited set\n",
    "        - For each successors of the node if that successor was not visited it calls dfs again\n",
    "        - At the end the current node is pushed to the left of the stack"
   ]
  },
  {
   "cell_type": "code",
   "execution_count": 2,
   "metadata": {},
   "outputs": [],
   "source": [
    "from collections import defaultdict\n",
    "\n",
    "from generate_DAG import generateDAG\n",
    "\n",
    "from kahn import kahn_sort\n",
    "from dfs_sort import dfs_sort\n",
    "\n",
    "from graph_representations.adjacencyList import AdjacencyList\n",
    "from graph_representations.adjacencyMatrix import AdjacencyMatrix\n",
    "from graph_representations.arcList import ArcList\n",
    "from graph_representations.forwardStar import ForwardStar\n",
    "from graph_representations.incidenceMatrix import IncidenceMatrix\n",
    "from graph_representations.digraphRepresentation import Digraph\n",
    "\n",
    "from evaluate_program import measureTime\n",
    "\n",
    "import plotly.graph_objects as go\n",
    "from plotly.subplots import make_subplots"
   ]
  },
  {
   "cell_type": "code",
   "execution_count": 3,
   "metadata": {},
   "outputs": [],
   "source": [
    "sortAlgorithms = [kahn_sort, dfs_sort]\n",
    "graphRepresentations = [IncidenceMatrix, AdjacencyMatrix, ArcList, AdjacencyList, ForwardStar]\n",
    "nodesNumbers = [100, 200, 300, 400, 500, 750, 1000, 1250, 1500, 2000, 2500, 3000, 4000, 5000]"
   ]
  },
  {
   "cell_type": "code",
   "execution_count": 4,
   "metadata": {},
   "outputs": [],
   "source": [
    "def inicializaceGraph(graph: Digraph, DAG):\n",
    "    for node in range(len(DAG)):\n",
    "        graph.addNode(node)\n",
    "    for startNode in range(len(DAG)):\n",
    "        for endNode in range(len(DAG)):\n",
    "            if DAG[startNode][endNode] == 1:\n",
    "                graph.addEdge(startNode, endNode)"
   ]
  },
  {
   "cell_type": "code",
   "execution_count": 5,
   "metadata": {},
   "outputs": [],
   "source": [
    "def evaluateSortAlgorithm(sortAlgorithm):\n",
    "    graphRepresentation: Digraph\n",
    "    times = {} # times.nodesNumber.graphRepresentation\n",
    "    for nodesNumber in nodesNumbers:\n",
    "        print(f\"{nodesNumber}:\")\n",
    "        times[nodesNumber] = {}\n",
    "        DAG = generateDAG(nodesNumber)\n",
    "        for graphRepresentation in graphRepresentations:\n",
    "            if (graphRepresentation.__name__ == \"IncidenceMatrix\" and nodesNumber >= 1500) or (graphRepresentation.__name__ == \"ArcList\" and nodesNumber >= 2000):\n",
    "                continue\n",
    "            graph = graphRepresentation()\n",
    "            inicializaceGraph(graph, DAG)\n",
    "            times[nodesNumber][graphRepresentation.__name__] = measureTime(sortAlgorithm, [graph])\n",
    "            print(f\"\\t{graphRepresentation.__name__} --> {times[nodesNumber][graphRepresentation.__name__]}\")\n",
    "    return times"
   ]
  },
  {
   "cell_type": "code",
   "execution_count": 6,
   "metadata": {},
   "outputs": [
    {
     "name": "stdout",
     "output_type": "stream",
     "text": [
      "100:\n",
      "\tIncidenceMatrix --> 0.07241463661193848\n",
      "\tAdjacencyMatrix --> 0.007050991058349609\n",
      "\tArcList --> 0.017047643661499023\n",
      "\tAdjacencyList --> 0.0\n",
      "\tForwardStar --> 0.0005192756652832031\n",
      "200:\n",
      "\tIncidenceMatrix --> 0.5595002174377441\n",
      "\tAdjacencyMatrix --> 0.009897470474243164\n",
      "\tArcList --> 0.12316250801086426\n",
      "\tAdjacencyList --> 0.009442806243896484\n",
      "\tForwardStar --> 0.013160228729248047\n",
      "300:\n",
      "\tIncidenceMatrix --> 1.8069813251495361\n",
      "\tAdjacencyMatrix --> 0.017364501953125\n",
      "\tArcList --> 0.40325307846069336\n",
      "\tAdjacencyList --> 0.008790969848632812\n",
      "\tForwardStar --> 0.03179764747619629\n",
      "400:\n",
      "\tIncidenceMatrix --> 3.8091235160827637\n",
      "\tAdjacencyMatrix --> 0.032140493392944336\n",
      "\tArcList --> 0.8691544532775879\n",
      "\tAdjacencyList --> 0.016213178634643555\n",
      "\tForwardStar --> 0.05322575569152832\n",
      "500:\n",
      "\tIncidenceMatrix --> 7.29220724105835\n",
      "\tAdjacencyMatrix --> 0.0441286563873291\n",
      "\tArcList --> 1.8299329280853271\n",
      "\tAdjacencyList --> 0.02230978012084961\n",
      "\tForwardStar --> 0.08801603317260742\n",
      "750:\n",
      "\tIncidenceMatrix --> 26.52824091911316\n",
      "\tAdjacencyMatrix --> 0.10468554496765137\n",
      "\tArcList --> 6.330894231796265\n",
      "\tAdjacencyList --> 0.05260109901428223\n",
      "\tForwardStar --> 0.19329118728637695\n",
      "1000:\n",
      "\tIncidenceMatrix --> 67.31314063072205\n",
      "\tAdjacencyMatrix --> 0.18840789794921875\n",
      "\tArcList --> 14.5560781955719\n",
      "\tAdjacencyList --> 0.09155440330505371\n",
      "\tForwardStar --> 0.33586835861206055\n",
      "1250:\n",
      "\tIncidenceMatrix --> 136.39665746688843\n",
      "\tAdjacencyMatrix --> 0.30031704902648926\n",
      "\tArcList --> 28.332396507263184\n",
      "\tAdjacencyList --> 0.14756560325622559\n",
      "\tForwardStar --> 0.5180943012237549\n",
      "1500:\n",
      "\tAdjacencyMatrix --> 0.42583274841308594\n",
      "\tArcList --> 48.13426876068115\n",
      "\tAdjacencyList --> 0.21286630630493164\n",
      "\tForwardStar --> 0.7454700469970703\n",
      "2000:\n",
      "\tAdjacencyMatrix --> 0.749650239944458\n",
      "\tAdjacencyList --> 0.3732125759124756\n",
      "\tForwardStar --> 1.3409984111785889\n",
      "2500:\n",
      "\tAdjacencyMatrix --> 1.2072796821594238\n",
      "\tAdjacencyList --> 0.592918872833252\n",
      "\tForwardStar --> 2.1020493507385254\n",
      "3000:\n",
      "\tAdjacencyMatrix --> 1.7485928535461426\n",
      "\tAdjacencyList --> 0.8459475040435791\n",
      "\tForwardStar --> 3.0621743202209473\n",
      "4000:\n",
      "\tAdjacencyMatrix --> 3.088930368423462\n",
      "\tAdjacencyList --> 1.5035068988800049\n",
      "\tForwardStar --> 5.493795871734619\n",
      "5000:\n",
      "\tAdjacencyMatrix --> 4.92633843421936\n",
      "\tAdjacencyList --> 2.3795299530029297\n",
      "\tForwardStar --> 8.34325647354126\n",
      "100:\n",
      "\tIncidenceMatrix --> 0.051178932189941406\n",
      "\tAdjacencyMatrix --> 0.0\n",
      "\tArcList --> 0.009866714477539062\n",
      "\tAdjacencyList --> 0.0\n",
      "\tForwardStar --> 0.0\n",
      "200:\n",
      "\tIncidenceMatrix --> 0.3911314010620117\n",
      "\tAdjacencyMatrix --> 0.0\n",
      "\tArcList --> 0.10901832580566406\n",
      "\tAdjacencyList --> 0.0\n",
      "\tForwardStar --> 0.010825395584106445\n",
      "300:\n",
      "\tIncidenceMatrix --> 1.3288967609405518\n",
      "\tAdjacencyMatrix --> 0.009887456893920898\n",
      "\tArcList --> 0.36606431007385254\n",
      "\tAdjacencyList --> 0.0\n",
      "\tForwardStar --> 0.010834455490112305\n",
      "400:\n",
      "\tIncidenceMatrix --> 3.194575309753418\n",
      "\tAdjacencyMatrix --> 0.015344381332397461\n",
      "\tArcList --> 0.8918275833129883\n",
      "\tAdjacencyList --> 0.0\n",
      "\tForwardStar --> 0.022487640380859375\n",
      "500:\n",
      "\tIncidenceMatrix --> 6.239508867263794\n",
      "\tAdjacencyMatrix --> 0.024724245071411133\n",
      "\tArcList --> 2.1770565509796143\n",
      "\tAdjacencyList --> 0.003238677978515625\n",
      "\tForwardStar --> 0.028387069702148438\n",
      "750:\n",
      "\tIncidenceMatrix --> 59.88650989532471\n",
      "\tAdjacencyMatrix --> 0.1251509189605713\n",
      "\tArcList --> 15.85792851448059\n",
      "\tAdjacencyList --> 0.015612602233886719\n",
      "\tForwardStar --> 0.18749737739562988\n",
      "1000:\n",
      "\tIncidenceMatrix --> 147.04980039596558\n",
      "\tAdjacencyMatrix --> 0.21790719032287598\n",
      "\tArcList --> 34.38048839569092\n",
      "\tAdjacencyList --> 0.03240633010864258\n",
      "\tForwardStar --> 0.3109169006347656\n",
      "1250:\n",
      "\tIncidenceMatrix --> 325.3075633049011\n",
      "\tAdjacencyMatrix --> 0.35559701919555664\n",
      "\tArcList --> 65.18653082847595\n",
      "\tAdjacencyList --> 0.04156899452209473\n",
      "\tForwardStar --> 0.4980161190032959\n",
      "1500:\n",
      "\tAdjacencyMatrix --> 0.5044336318969727\n",
      "\tArcList --> 110.88394045829773\n",
      "\tAdjacencyList --> 0.06666803359985352\n",
      "\tForwardStar --> 0.7307136058807373\n",
      "2000:\n",
      "\tAdjacencyMatrix --> 0.36455559730529785\n",
      "\tAdjacencyList --> 0.05082559585571289\n",
      "\tForwardStar --> 0.5551662445068359\n",
      "2500:\n",
      "\tAdjacencyMatrix --> 0.5619864463806152\n",
      "\tAdjacencyList --> 0.08546161651611328\n",
      "\tForwardStar --> 0.8801116943359375\n",
      "3000:\n",
      "\tAdjacencyMatrix --> 0.8314347267150879\n",
      "\tAdjacencyList --> 0.12956738471984863\n",
      "\tForwardStar --> 1.281456708908081\n",
      "4000:\n",
      "\tAdjacencyMatrix --> 1.5111122131347656\n",
      "\tAdjacencyList --> 0.26755356788635254\n",
      "\tForwardStar --> 2.278860569000244\n",
      "5000:\n",
      "\tAdjacencyMatrix --> 2.321565628051758\n",
      "\tAdjacencyList --> 0.45675039291381836\n",
      "\tForwardStar --> 3.684474468231201\n"
     ]
    }
   ],
   "source": [
    "times = {}\n",
    "for sortAlgorithm in sortAlgorithms:\n",
    "    times[sortAlgorithm.__name__] = evaluateSortAlgorithm(sortAlgorithm)"
   ]
  },
  {
   "cell_type": "code",
   "execution_count": 26,
   "metadata": {},
   "outputs": [],
   "source": [
    "def compareSortTimesForGraphSizes(times, title):\n",
    "    titles = [f\"nodes: {nodesNumber}  edges:{((nodesNumber-1)*nodesNumber)//2}\" for nodesNumber in  nodesNumbers]\n",
    "    fig = make_subplots(rows=((len(times) - 1)//2 + 1), cols=2,subplot_titles=titles)\n",
    "\n",
    "    i=0\n",
    "    for nodesNumber in nodesNumbers:\n",
    "        d = times[nodesNumber]\n",
    "        fig.add_trace(go.Bar(x=list(d.keys()), y=list(d.values()), text=[round(x,3) for x in d.values()],\n",
    "                            textposition=\"auto\", name=\"\"),\n",
    "                        row=i//2+1, col=i%2+1)\n",
    "        fig.update_yaxes(title_text=\"time [s]\", row=i//2+1, col=i%2+1)\n",
    "        i+=1\n",
    "\n",
    "    fig.update_layout(height=1600, width=1200,\n",
    "                    title_text=title)\n",
    "\n",
    "    fig.show()"
   ]
  },
  {
   "cell_type": "code",
   "execution_count": 27,
   "metadata": {},
   "outputs": [],
   "source": [
    "def compareSortTimesForGraphRepresentation(times, title):\n",
    "    fig = make_subplots(rows=3, cols=2, subplot_titles=[representation.__name__ for representation in graphRepresentations])\n",
    "\n",
    "    i=0\n",
    "    for graphRepresentation in graphRepresentations:\n",
    "        d = defaultdict(lambda : {})\n",
    "        for nodesNumber, time in times.items():\n",
    "            # edgesNumber = ((nodesNumber-1)*nodesNumber)/2\n",
    "            if graphRepresentation.__name__ in time.keys():\n",
    "                d[nodesNumber] = time[graphRepresentation.__name__]\n",
    "        fig.add_trace(go.Scatter(x=list(d.keys()), y=list(d.values()), text=[round(x,3) for x in d.values()]),\n",
    "                        row=i//2+1, col=i%2+1)\n",
    "        fig.update_yaxes(title_text=\"time [s]\", row=i//2+1, col=i%2+1)\n",
    "        i+=1\n",
    "\n",
    "    fig.update_layout(height=800, width=1200,\n",
    "                    title_text=title)\n",
    "\n",
    "    fig.show()"
   ]
  },
  {
   "cell_type": "code",
   "execution_count": 28,
   "metadata": {},
   "outputs": [
    {
     "data": {
      "application/vnd.plotly.v1+json": {
       "config": {
        "plotlyServerURL": "https://plot.ly"
       },
       "data": [
        {
         "text": [
          "0.072",
          "0.56",
          "1.807",
          "3.809",
          "7.292",
          "26.528",
          "67.313",
          "136.397"
         ],
         "type": "scatter",
         "x": [
          100,
          200,
          300,
          400,
          500,
          750,
          1000,
          1250
         ],
         "xaxis": "x",
         "y": [
          0.07241463661193848,
          0.5595002174377441,
          1.8069813251495361,
          3.8091235160827637,
          7.29220724105835,
          26.52824091911316,
          67.31314063072205,
          136.39665746688843
         ],
         "yaxis": "y"
        },
        {
         "text": [
          "0.007",
          "0.01",
          "0.017",
          "0.032",
          "0.044",
          "0.105",
          "0.188",
          "0.3",
          "0.426",
          "0.75",
          "1.207",
          "1.749",
          "3.089",
          "4.926"
         ],
         "type": "scatter",
         "x": [
          100,
          200,
          300,
          400,
          500,
          750,
          1000,
          1250,
          1500,
          2000,
          2500,
          3000,
          4000,
          5000
         ],
         "xaxis": "x2",
         "y": [
          0.007050991058349609,
          0.009897470474243164,
          0.017364501953125,
          0.032140493392944336,
          0.0441286563873291,
          0.10468554496765137,
          0.18840789794921875,
          0.30031704902648926,
          0.42583274841308594,
          0.749650239944458,
          1.2072796821594238,
          1.7485928535461426,
          3.088930368423462,
          4.92633843421936
         ],
         "yaxis": "y2"
        },
        {
         "text": [
          "0.017",
          "0.123",
          "0.403",
          "0.869",
          "1.83",
          "6.331",
          "14.556",
          "28.332",
          "48.134"
         ],
         "type": "scatter",
         "x": [
          100,
          200,
          300,
          400,
          500,
          750,
          1000,
          1250,
          1500
         ],
         "xaxis": "x3",
         "y": [
          0.017047643661499023,
          0.12316250801086426,
          0.40325307846069336,
          0.8691544532775879,
          1.8299329280853271,
          6.330894231796265,
          14.5560781955719,
          28.332396507263184,
          48.13426876068115
         ],
         "yaxis": "y3"
        },
        {
         "text": [
          "0.0",
          "0.009",
          "0.009",
          "0.016",
          "0.022",
          "0.053",
          "0.092",
          "0.148",
          "0.213",
          "0.373",
          "0.593",
          "0.846",
          "1.504",
          "2.38"
         ],
         "type": "scatter",
         "x": [
          100,
          200,
          300,
          400,
          500,
          750,
          1000,
          1250,
          1500,
          2000,
          2500,
          3000,
          4000,
          5000
         ],
         "xaxis": "x4",
         "y": [
          0,
          0.009442806243896484,
          0.008790969848632812,
          0.016213178634643555,
          0.02230978012084961,
          0.05260109901428223,
          0.09155440330505371,
          0.14756560325622559,
          0.21286630630493164,
          0.3732125759124756,
          0.592918872833252,
          0.8459475040435791,
          1.5035068988800049,
          2.3795299530029297
         ],
         "yaxis": "y4"
        },
        {
         "text": [
          "0.001",
          "0.013",
          "0.032",
          "0.053",
          "0.088",
          "0.193",
          "0.336",
          "0.518",
          "0.745",
          "1.341",
          "2.102",
          "3.062",
          "5.494",
          "8.343"
         ],
         "type": "scatter",
         "x": [
          100,
          200,
          300,
          400,
          500,
          750,
          1000,
          1250,
          1500,
          2000,
          2500,
          3000,
          4000,
          5000
         ],
         "xaxis": "x5",
         "y": [
          0.0005192756652832031,
          0.013160228729248047,
          0.03179764747619629,
          0.05322575569152832,
          0.08801603317260742,
          0.19329118728637695,
          0.33586835861206055,
          0.5180943012237549,
          0.7454700469970703,
          1.3409984111785889,
          2.1020493507385254,
          3.0621743202209473,
          5.493795871734619,
          8.34325647354126
         ],
         "yaxis": "y5"
        }
       ],
       "layout": {
        "annotations": [
         {
          "font": {
           "size": 16
          },
          "showarrow": false,
          "text": "IncidenceMatrix",
          "x": 0.225,
          "xanchor": "center",
          "xref": "paper",
          "y": 1,
          "yanchor": "bottom",
          "yref": "paper"
         },
         {
          "font": {
           "size": 16
          },
          "showarrow": false,
          "text": "AdjacencyMatrix",
          "x": 0.775,
          "xanchor": "center",
          "xref": "paper",
          "y": 1,
          "yanchor": "bottom",
          "yref": "paper"
         },
         {
          "font": {
           "size": 16
          },
          "showarrow": false,
          "text": "ArcList",
          "x": 0.225,
          "xanchor": "center",
          "xref": "paper",
          "y": 0.6111111111111112,
          "yanchor": "bottom",
          "yref": "paper"
         },
         {
          "font": {
           "size": 16
          },
          "showarrow": false,
          "text": "AdjacencyList",
          "x": 0.775,
          "xanchor": "center",
          "xref": "paper",
          "y": 0.6111111111111112,
          "yanchor": "bottom",
          "yref": "paper"
         },
         {
          "font": {
           "size": 16
          },
          "showarrow": false,
          "text": "ForwardStar",
          "x": 0.225,
          "xanchor": "center",
          "xref": "paper",
          "y": 0.22222222222222224,
          "yanchor": "bottom",
          "yref": "paper"
         }
        ],
        "height": 800,
        "template": {
         "data": {
          "bar": [
           {
            "error_x": {
             "color": "#2a3f5f"
            },
            "error_y": {
             "color": "#2a3f5f"
            },
            "marker": {
             "line": {
              "color": "#E5ECF6",
              "width": 0.5
             },
             "pattern": {
              "fillmode": "overlay",
              "size": 10,
              "solidity": 0.2
             }
            },
            "type": "bar"
           }
          ],
          "barpolar": [
           {
            "marker": {
             "line": {
              "color": "#E5ECF6",
              "width": 0.5
             },
             "pattern": {
              "fillmode": "overlay",
              "size": 10,
              "solidity": 0.2
             }
            },
            "type": "barpolar"
           }
          ],
          "carpet": [
           {
            "aaxis": {
             "endlinecolor": "#2a3f5f",
             "gridcolor": "white",
             "linecolor": "white",
             "minorgridcolor": "white",
             "startlinecolor": "#2a3f5f"
            },
            "baxis": {
             "endlinecolor": "#2a3f5f",
             "gridcolor": "white",
             "linecolor": "white",
             "minorgridcolor": "white",
             "startlinecolor": "#2a3f5f"
            },
            "type": "carpet"
           }
          ],
          "choropleth": [
           {
            "colorbar": {
             "outlinewidth": 0,
             "ticks": ""
            },
            "type": "choropleth"
           }
          ],
          "contour": [
           {
            "colorbar": {
             "outlinewidth": 0,
             "ticks": ""
            },
            "colorscale": [
             [
              0,
              "#0d0887"
             ],
             [
              0.1111111111111111,
              "#46039f"
             ],
             [
              0.2222222222222222,
              "#7201a8"
             ],
             [
              0.3333333333333333,
              "#9c179e"
             ],
             [
              0.4444444444444444,
              "#bd3786"
             ],
             [
              0.5555555555555556,
              "#d8576b"
             ],
             [
              0.6666666666666666,
              "#ed7953"
             ],
             [
              0.7777777777777778,
              "#fb9f3a"
             ],
             [
              0.8888888888888888,
              "#fdca26"
             ],
             [
              1,
              "#f0f921"
             ]
            ],
            "type": "contour"
           }
          ],
          "contourcarpet": [
           {
            "colorbar": {
             "outlinewidth": 0,
             "ticks": ""
            },
            "type": "contourcarpet"
           }
          ],
          "heatmap": [
           {
            "colorbar": {
             "outlinewidth": 0,
             "ticks": ""
            },
            "colorscale": [
             [
              0,
              "#0d0887"
             ],
             [
              0.1111111111111111,
              "#46039f"
             ],
             [
              0.2222222222222222,
              "#7201a8"
             ],
             [
              0.3333333333333333,
              "#9c179e"
             ],
             [
              0.4444444444444444,
              "#bd3786"
             ],
             [
              0.5555555555555556,
              "#d8576b"
             ],
             [
              0.6666666666666666,
              "#ed7953"
             ],
             [
              0.7777777777777778,
              "#fb9f3a"
             ],
             [
              0.8888888888888888,
              "#fdca26"
             ],
             [
              1,
              "#f0f921"
             ]
            ],
            "type": "heatmap"
           }
          ],
          "heatmapgl": [
           {
            "colorbar": {
             "outlinewidth": 0,
             "ticks": ""
            },
            "colorscale": [
             [
              0,
              "#0d0887"
             ],
             [
              0.1111111111111111,
              "#46039f"
             ],
             [
              0.2222222222222222,
              "#7201a8"
             ],
             [
              0.3333333333333333,
              "#9c179e"
             ],
             [
              0.4444444444444444,
              "#bd3786"
             ],
             [
              0.5555555555555556,
              "#d8576b"
             ],
             [
              0.6666666666666666,
              "#ed7953"
             ],
             [
              0.7777777777777778,
              "#fb9f3a"
             ],
             [
              0.8888888888888888,
              "#fdca26"
             ],
             [
              1,
              "#f0f921"
             ]
            ],
            "type": "heatmapgl"
           }
          ],
          "histogram": [
           {
            "marker": {
             "pattern": {
              "fillmode": "overlay",
              "size": 10,
              "solidity": 0.2
             }
            },
            "type": "histogram"
           }
          ],
          "histogram2d": [
           {
            "colorbar": {
             "outlinewidth": 0,
             "ticks": ""
            },
            "colorscale": [
             [
              0,
              "#0d0887"
             ],
             [
              0.1111111111111111,
              "#46039f"
             ],
             [
              0.2222222222222222,
              "#7201a8"
             ],
             [
              0.3333333333333333,
              "#9c179e"
             ],
             [
              0.4444444444444444,
              "#bd3786"
             ],
             [
              0.5555555555555556,
              "#d8576b"
             ],
             [
              0.6666666666666666,
              "#ed7953"
             ],
             [
              0.7777777777777778,
              "#fb9f3a"
             ],
             [
              0.8888888888888888,
              "#fdca26"
             ],
             [
              1,
              "#f0f921"
             ]
            ],
            "type": "histogram2d"
           }
          ],
          "histogram2dcontour": [
           {
            "colorbar": {
             "outlinewidth": 0,
             "ticks": ""
            },
            "colorscale": [
             [
              0,
              "#0d0887"
             ],
             [
              0.1111111111111111,
              "#46039f"
             ],
             [
              0.2222222222222222,
              "#7201a8"
             ],
             [
              0.3333333333333333,
              "#9c179e"
             ],
             [
              0.4444444444444444,
              "#bd3786"
             ],
             [
              0.5555555555555556,
              "#d8576b"
             ],
             [
              0.6666666666666666,
              "#ed7953"
             ],
             [
              0.7777777777777778,
              "#fb9f3a"
             ],
             [
              0.8888888888888888,
              "#fdca26"
             ],
             [
              1,
              "#f0f921"
             ]
            ],
            "type": "histogram2dcontour"
           }
          ],
          "mesh3d": [
           {
            "colorbar": {
             "outlinewidth": 0,
             "ticks": ""
            },
            "type": "mesh3d"
           }
          ],
          "parcoords": [
           {
            "line": {
             "colorbar": {
              "outlinewidth": 0,
              "ticks": ""
             }
            },
            "type": "parcoords"
           }
          ],
          "pie": [
           {
            "automargin": true,
            "type": "pie"
           }
          ],
          "scatter": [
           {
            "fillpattern": {
             "fillmode": "overlay",
             "size": 10,
             "solidity": 0.2
            },
            "type": "scatter"
           }
          ],
          "scatter3d": [
           {
            "line": {
             "colorbar": {
              "outlinewidth": 0,
              "ticks": ""
             }
            },
            "marker": {
             "colorbar": {
              "outlinewidth": 0,
              "ticks": ""
             }
            },
            "type": "scatter3d"
           }
          ],
          "scattercarpet": [
           {
            "marker": {
             "colorbar": {
              "outlinewidth": 0,
              "ticks": ""
             }
            },
            "type": "scattercarpet"
           }
          ],
          "scattergeo": [
           {
            "marker": {
             "colorbar": {
              "outlinewidth": 0,
              "ticks": ""
             }
            },
            "type": "scattergeo"
           }
          ],
          "scattergl": [
           {
            "marker": {
             "colorbar": {
              "outlinewidth": 0,
              "ticks": ""
             }
            },
            "type": "scattergl"
           }
          ],
          "scattermapbox": [
           {
            "marker": {
             "colorbar": {
              "outlinewidth": 0,
              "ticks": ""
             }
            },
            "type": "scattermapbox"
           }
          ],
          "scatterpolar": [
           {
            "marker": {
             "colorbar": {
              "outlinewidth": 0,
              "ticks": ""
             }
            },
            "type": "scatterpolar"
           }
          ],
          "scatterpolargl": [
           {
            "marker": {
             "colorbar": {
              "outlinewidth": 0,
              "ticks": ""
             }
            },
            "type": "scatterpolargl"
           }
          ],
          "scatterternary": [
           {
            "marker": {
             "colorbar": {
              "outlinewidth": 0,
              "ticks": ""
             }
            },
            "type": "scatterternary"
           }
          ],
          "surface": [
           {
            "colorbar": {
             "outlinewidth": 0,
             "ticks": ""
            },
            "colorscale": [
             [
              0,
              "#0d0887"
             ],
             [
              0.1111111111111111,
              "#46039f"
             ],
             [
              0.2222222222222222,
              "#7201a8"
             ],
             [
              0.3333333333333333,
              "#9c179e"
             ],
             [
              0.4444444444444444,
              "#bd3786"
             ],
             [
              0.5555555555555556,
              "#d8576b"
             ],
             [
              0.6666666666666666,
              "#ed7953"
             ],
             [
              0.7777777777777778,
              "#fb9f3a"
             ],
             [
              0.8888888888888888,
              "#fdca26"
             ],
             [
              1,
              "#f0f921"
             ]
            ],
            "type": "surface"
           }
          ],
          "table": [
           {
            "cells": {
             "fill": {
              "color": "#EBF0F8"
             },
             "line": {
              "color": "white"
             }
            },
            "header": {
             "fill": {
              "color": "#C8D4E3"
             },
             "line": {
              "color": "white"
             }
            },
            "type": "table"
           }
          ]
         },
         "layout": {
          "annotationdefaults": {
           "arrowcolor": "#2a3f5f",
           "arrowhead": 0,
           "arrowwidth": 1
          },
          "autotypenumbers": "strict",
          "coloraxis": {
           "colorbar": {
            "outlinewidth": 0,
            "ticks": ""
           }
          },
          "colorscale": {
           "diverging": [
            [
             0,
             "#8e0152"
            ],
            [
             0.1,
             "#c51b7d"
            ],
            [
             0.2,
             "#de77ae"
            ],
            [
             0.3,
             "#f1b6da"
            ],
            [
             0.4,
             "#fde0ef"
            ],
            [
             0.5,
             "#f7f7f7"
            ],
            [
             0.6,
             "#e6f5d0"
            ],
            [
             0.7,
             "#b8e186"
            ],
            [
             0.8,
             "#7fbc41"
            ],
            [
             0.9,
             "#4d9221"
            ],
            [
             1,
             "#276419"
            ]
           ],
           "sequential": [
            [
             0,
             "#0d0887"
            ],
            [
             0.1111111111111111,
             "#46039f"
            ],
            [
             0.2222222222222222,
             "#7201a8"
            ],
            [
             0.3333333333333333,
             "#9c179e"
            ],
            [
             0.4444444444444444,
             "#bd3786"
            ],
            [
             0.5555555555555556,
             "#d8576b"
            ],
            [
             0.6666666666666666,
             "#ed7953"
            ],
            [
             0.7777777777777778,
             "#fb9f3a"
            ],
            [
             0.8888888888888888,
             "#fdca26"
            ],
            [
             1,
             "#f0f921"
            ]
           ],
           "sequentialminus": [
            [
             0,
             "#0d0887"
            ],
            [
             0.1111111111111111,
             "#46039f"
            ],
            [
             0.2222222222222222,
             "#7201a8"
            ],
            [
             0.3333333333333333,
             "#9c179e"
            ],
            [
             0.4444444444444444,
             "#bd3786"
            ],
            [
             0.5555555555555556,
             "#d8576b"
            ],
            [
             0.6666666666666666,
             "#ed7953"
            ],
            [
             0.7777777777777778,
             "#fb9f3a"
            ],
            [
             0.8888888888888888,
             "#fdca26"
            ],
            [
             1,
             "#f0f921"
            ]
           ]
          },
          "colorway": [
           "#636efa",
           "#EF553B",
           "#00cc96",
           "#ab63fa",
           "#FFA15A",
           "#19d3f3",
           "#FF6692",
           "#B6E880",
           "#FF97FF",
           "#FECB52"
          ],
          "font": {
           "color": "#2a3f5f"
          },
          "geo": {
           "bgcolor": "white",
           "lakecolor": "white",
           "landcolor": "#E5ECF6",
           "showlakes": true,
           "showland": true,
           "subunitcolor": "white"
          },
          "hoverlabel": {
           "align": "left"
          },
          "hovermode": "closest",
          "mapbox": {
           "style": "light"
          },
          "paper_bgcolor": "white",
          "plot_bgcolor": "#E5ECF6",
          "polar": {
           "angularaxis": {
            "gridcolor": "white",
            "linecolor": "white",
            "ticks": ""
           },
           "bgcolor": "#E5ECF6",
           "radialaxis": {
            "gridcolor": "white",
            "linecolor": "white",
            "ticks": ""
           }
          },
          "scene": {
           "xaxis": {
            "backgroundcolor": "#E5ECF6",
            "gridcolor": "white",
            "gridwidth": 2,
            "linecolor": "white",
            "showbackground": true,
            "ticks": "",
            "zerolinecolor": "white"
           },
           "yaxis": {
            "backgroundcolor": "#E5ECF6",
            "gridcolor": "white",
            "gridwidth": 2,
            "linecolor": "white",
            "showbackground": true,
            "ticks": "",
            "zerolinecolor": "white"
           },
           "zaxis": {
            "backgroundcolor": "#E5ECF6",
            "gridcolor": "white",
            "gridwidth": 2,
            "linecolor": "white",
            "showbackground": true,
            "ticks": "",
            "zerolinecolor": "white"
           }
          },
          "shapedefaults": {
           "line": {
            "color": "#2a3f5f"
           }
          },
          "ternary": {
           "aaxis": {
            "gridcolor": "white",
            "linecolor": "white",
            "ticks": ""
           },
           "baxis": {
            "gridcolor": "white",
            "linecolor": "white",
            "ticks": ""
           },
           "bgcolor": "#E5ECF6",
           "caxis": {
            "gridcolor": "white",
            "linecolor": "white",
            "ticks": ""
           }
          },
          "title": {
           "x": 0.05
          },
          "xaxis": {
           "automargin": true,
           "gridcolor": "white",
           "linecolor": "white",
           "ticks": "",
           "title": {
            "standoff": 15
           },
           "zerolinecolor": "white",
           "zerolinewidth": 2
          },
          "yaxis": {
           "automargin": true,
           "gridcolor": "white",
           "linecolor": "white",
           "ticks": "",
           "title": {
            "standoff": 15
           },
           "zerolinecolor": "white",
           "zerolinewidth": 2
          }
         }
        },
        "title": {
         "text": "kahn_sort"
        },
        "width": 1200,
        "xaxis": {
         "anchor": "y",
         "domain": [
          0,
          0.45
         ]
        },
        "xaxis2": {
         "anchor": "y2",
         "domain": [
          0.55,
          1
         ]
        },
        "xaxis3": {
         "anchor": "y3",
         "domain": [
          0,
          0.45
         ]
        },
        "xaxis4": {
         "anchor": "y4",
         "domain": [
          0.55,
          1
         ]
        },
        "xaxis5": {
         "anchor": "y5",
         "domain": [
          0,
          0.45
         ]
        },
        "xaxis6": {
         "anchor": "y6",
         "domain": [
          0.55,
          1
         ]
        },
        "yaxis": {
         "anchor": "x",
         "domain": [
          0.7777777777777778,
          1
         ],
         "title": {
          "text": "time [s]"
         }
        },
        "yaxis2": {
         "anchor": "x2",
         "domain": [
          0.7777777777777778,
          1
         ],
         "title": {
          "text": "time [s]"
         }
        },
        "yaxis3": {
         "anchor": "x3",
         "domain": [
          0.3888888888888889,
          0.6111111111111112
         ],
         "title": {
          "text": "time [s]"
         }
        },
        "yaxis4": {
         "anchor": "x4",
         "domain": [
          0.3888888888888889,
          0.6111111111111112
         ],
         "title": {
          "text": "time [s]"
         }
        },
        "yaxis5": {
         "anchor": "x5",
         "domain": [
          0,
          0.22222222222222224
         ],
         "title": {
          "text": "time [s]"
         }
        },
        "yaxis6": {
         "anchor": "x6",
         "domain": [
          0,
          0.22222222222222224
         ]
        }
       }
      }
     },
     "metadata": {},
     "output_type": "display_data"
    }
   ],
   "source": [
    "compareSortTimesForGraphRepresentation(times[\"kahn_sort\"], \"kahn_sort\")"
   ]
  },
  {
   "cell_type": "code",
   "execution_count": 29,
   "metadata": {},
   "outputs": [
    {
     "data": {
      "application/vnd.plotly.v1+json": {
       "config": {
        "plotlyServerURL": "https://plot.ly"
       },
       "data": [
        {
         "name": "",
         "text": [
          "0.072",
          "0.007",
          "0.017",
          "0.0",
          "0.001"
         ],
         "textposition": "auto",
         "type": "bar",
         "x": [
          "IncidenceMatrix",
          "AdjacencyMatrix",
          "ArcList",
          "AdjacencyList",
          "ForwardStar"
         ],
         "xaxis": "x",
         "y": [
          0.07241463661193848,
          0.007050991058349609,
          0.017047643661499023,
          0,
          0.0005192756652832031
         ],
         "yaxis": "y"
        },
        {
         "name": "",
         "text": [
          "0.56",
          "0.01",
          "0.123",
          "0.009",
          "0.013"
         ],
         "textposition": "auto",
         "type": "bar",
         "x": [
          "IncidenceMatrix",
          "AdjacencyMatrix",
          "ArcList",
          "AdjacencyList",
          "ForwardStar"
         ],
         "xaxis": "x2",
         "y": [
          0.5595002174377441,
          0.009897470474243164,
          0.12316250801086426,
          0.009442806243896484,
          0.013160228729248047
         ],
         "yaxis": "y2"
        },
        {
         "name": "",
         "text": [
          "1.807",
          "0.017",
          "0.403",
          "0.009",
          "0.032"
         ],
         "textposition": "auto",
         "type": "bar",
         "x": [
          "IncidenceMatrix",
          "AdjacencyMatrix",
          "ArcList",
          "AdjacencyList",
          "ForwardStar"
         ],
         "xaxis": "x3",
         "y": [
          1.8069813251495361,
          0.017364501953125,
          0.40325307846069336,
          0.008790969848632812,
          0.03179764747619629
         ],
         "yaxis": "y3"
        },
        {
         "name": "",
         "text": [
          "3.809",
          "0.032",
          "0.869",
          "0.016",
          "0.053"
         ],
         "textposition": "auto",
         "type": "bar",
         "x": [
          "IncidenceMatrix",
          "AdjacencyMatrix",
          "ArcList",
          "AdjacencyList",
          "ForwardStar"
         ],
         "xaxis": "x4",
         "y": [
          3.8091235160827637,
          0.032140493392944336,
          0.8691544532775879,
          0.016213178634643555,
          0.05322575569152832
         ],
         "yaxis": "y4"
        },
        {
         "name": "",
         "text": [
          "7.292",
          "0.044",
          "1.83",
          "0.022",
          "0.088"
         ],
         "textposition": "auto",
         "type": "bar",
         "x": [
          "IncidenceMatrix",
          "AdjacencyMatrix",
          "ArcList",
          "AdjacencyList",
          "ForwardStar"
         ],
         "xaxis": "x5",
         "y": [
          7.29220724105835,
          0.0441286563873291,
          1.8299329280853271,
          0.02230978012084961,
          0.08801603317260742
         ],
         "yaxis": "y5"
        },
        {
         "name": "",
         "text": [
          "26.528",
          "0.105",
          "6.331",
          "0.053",
          "0.193"
         ],
         "textposition": "auto",
         "type": "bar",
         "x": [
          "IncidenceMatrix",
          "AdjacencyMatrix",
          "ArcList",
          "AdjacencyList",
          "ForwardStar"
         ],
         "xaxis": "x6",
         "y": [
          26.52824091911316,
          0.10468554496765137,
          6.330894231796265,
          0.05260109901428223,
          0.19329118728637695
         ],
         "yaxis": "y6"
        },
        {
         "name": "",
         "text": [
          "67.313",
          "0.188",
          "14.556",
          "0.092",
          "0.336"
         ],
         "textposition": "auto",
         "type": "bar",
         "x": [
          "IncidenceMatrix",
          "AdjacencyMatrix",
          "ArcList",
          "AdjacencyList",
          "ForwardStar"
         ],
         "xaxis": "x7",
         "y": [
          67.31314063072205,
          0.18840789794921875,
          14.5560781955719,
          0.09155440330505371,
          0.33586835861206055
         ],
         "yaxis": "y7"
        },
        {
         "name": "",
         "text": [
          "136.397",
          "0.3",
          "28.332",
          "0.148",
          "0.518"
         ],
         "textposition": "auto",
         "type": "bar",
         "x": [
          "IncidenceMatrix",
          "AdjacencyMatrix",
          "ArcList",
          "AdjacencyList",
          "ForwardStar"
         ],
         "xaxis": "x8",
         "y": [
          136.39665746688843,
          0.30031704902648926,
          28.332396507263184,
          0.14756560325622559,
          0.5180943012237549
         ],
         "yaxis": "y8"
        },
        {
         "name": "",
         "text": [
          "0.426",
          "48.134",
          "0.213",
          "0.745"
         ],
         "textposition": "auto",
         "type": "bar",
         "x": [
          "AdjacencyMatrix",
          "ArcList",
          "AdjacencyList",
          "ForwardStar"
         ],
         "xaxis": "x9",
         "y": [
          0.42583274841308594,
          48.13426876068115,
          0.21286630630493164,
          0.7454700469970703
         ],
         "yaxis": "y9"
        },
        {
         "name": "",
         "text": [
          "0.75",
          "0.373",
          "1.341"
         ],
         "textposition": "auto",
         "type": "bar",
         "x": [
          "AdjacencyMatrix",
          "AdjacencyList",
          "ForwardStar"
         ],
         "xaxis": "x10",
         "y": [
          0.749650239944458,
          0.3732125759124756,
          1.3409984111785889
         ],
         "yaxis": "y10"
        },
        {
         "name": "",
         "text": [
          "1.207",
          "0.593",
          "2.102"
         ],
         "textposition": "auto",
         "type": "bar",
         "x": [
          "AdjacencyMatrix",
          "AdjacencyList",
          "ForwardStar"
         ],
         "xaxis": "x11",
         "y": [
          1.2072796821594238,
          0.592918872833252,
          2.1020493507385254
         ],
         "yaxis": "y11"
        },
        {
         "name": "",
         "text": [
          "1.749",
          "0.846",
          "3.062"
         ],
         "textposition": "auto",
         "type": "bar",
         "x": [
          "AdjacencyMatrix",
          "AdjacencyList",
          "ForwardStar"
         ],
         "xaxis": "x12",
         "y": [
          1.7485928535461426,
          0.8459475040435791,
          3.0621743202209473
         ],
         "yaxis": "y12"
        },
        {
         "name": "",
         "text": [
          "3.089",
          "1.504",
          "5.494"
         ],
         "textposition": "auto",
         "type": "bar",
         "x": [
          "AdjacencyMatrix",
          "AdjacencyList",
          "ForwardStar"
         ],
         "xaxis": "x13",
         "y": [
          3.088930368423462,
          1.5035068988800049,
          5.493795871734619
         ],
         "yaxis": "y13"
        },
        {
         "name": "",
         "text": [
          "4.926",
          "2.38",
          "8.343"
         ],
         "textposition": "auto",
         "type": "bar",
         "x": [
          "AdjacencyMatrix",
          "AdjacencyList",
          "ForwardStar"
         ],
         "xaxis": "x14",
         "y": [
          4.92633843421936,
          2.3795299530029297,
          8.34325647354126
         ],
         "yaxis": "y14"
        }
       ],
       "layout": {
        "annotations": [
         {
          "font": {
           "size": 16
          },
          "showarrow": false,
          "text": "100",
          "x": 0.225,
          "xanchor": "center",
          "xref": "paper",
          "y": 0.9999999999999999,
          "yanchor": "bottom",
          "yref": "paper"
         },
         {
          "font": {
           "size": 16
          },
          "showarrow": false,
          "text": "200",
          "x": 0.775,
          "xanchor": "center",
          "xref": "paper",
          "y": 0.9999999999999999,
          "yanchor": "bottom",
          "yref": "paper"
         },
         {
          "font": {
           "size": 16
          },
          "showarrow": false,
          "text": "300",
          "x": 0.225,
          "xanchor": "center",
          "xref": "paper",
          "y": 0.8469387755102039,
          "yanchor": "bottom",
          "yref": "paper"
         },
         {
          "font": {
           "size": 16
          },
          "showarrow": false,
          "text": "400",
          "x": 0.775,
          "xanchor": "center",
          "xref": "paper",
          "y": 0.8469387755102039,
          "yanchor": "bottom",
          "yref": "paper"
         },
         {
          "font": {
           "size": 16
          },
          "showarrow": false,
          "text": "500",
          "x": 0.225,
          "xanchor": "center",
          "xref": "paper",
          "y": 0.6938775510204082,
          "yanchor": "bottom",
          "yref": "paper"
         },
         {
          "font": {
           "size": 16
          },
          "showarrow": false,
          "text": "750",
          "x": 0.775,
          "xanchor": "center",
          "xref": "paper",
          "y": 0.6938775510204082,
          "yanchor": "bottom",
          "yref": "paper"
         },
         {
          "font": {
           "size": 16
          },
          "showarrow": false,
          "text": "1000",
          "x": 0.225,
          "xanchor": "center",
          "xref": "paper",
          "y": 0.5408163265306122,
          "yanchor": "bottom",
          "yref": "paper"
         },
         {
          "font": {
           "size": 16
          },
          "showarrow": false,
          "text": "1250",
          "x": 0.775,
          "xanchor": "center",
          "xref": "paper",
          "y": 0.5408163265306122,
          "yanchor": "bottom",
          "yref": "paper"
         },
         {
          "font": {
           "size": 16
          },
          "showarrow": false,
          "text": "1500",
          "x": 0.225,
          "xanchor": "center",
          "xref": "paper",
          "y": 0.3877551020408163,
          "yanchor": "bottom",
          "yref": "paper"
         },
         {
          "font": {
           "size": 16
          },
          "showarrow": false,
          "text": "2000",
          "x": 0.775,
          "xanchor": "center",
          "xref": "paper",
          "y": 0.3877551020408163,
          "yanchor": "bottom",
          "yref": "paper"
         },
         {
          "font": {
           "size": 16
          },
          "showarrow": false,
          "text": "2500",
          "x": 0.225,
          "xanchor": "center",
          "xref": "paper",
          "y": 0.2346938775510204,
          "yanchor": "bottom",
          "yref": "paper"
         },
         {
          "font": {
           "size": 16
          },
          "showarrow": false,
          "text": "3000",
          "x": 0.775,
          "xanchor": "center",
          "xref": "paper",
          "y": 0.2346938775510204,
          "yanchor": "bottom",
          "yref": "paper"
         },
         {
          "font": {
           "size": 16
          },
          "showarrow": false,
          "text": "4000",
          "x": 0.225,
          "xanchor": "center",
          "xref": "paper",
          "y": 0.08163265306122448,
          "yanchor": "bottom",
          "yref": "paper"
         },
         {
          "font": {
           "size": 16
          },
          "showarrow": false,
          "text": "5000",
          "x": 0.775,
          "xanchor": "center",
          "xref": "paper",
          "y": 0.08163265306122448,
          "yanchor": "bottom",
          "yref": "paper"
         }
        ],
        "height": 1600,
        "template": {
         "data": {
          "bar": [
           {
            "error_x": {
             "color": "#2a3f5f"
            },
            "error_y": {
             "color": "#2a3f5f"
            },
            "marker": {
             "line": {
              "color": "#E5ECF6",
              "width": 0.5
             },
             "pattern": {
              "fillmode": "overlay",
              "size": 10,
              "solidity": 0.2
             }
            },
            "type": "bar"
           }
          ],
          "barpolar": [
           {
            "marker": {
             "line": {
              "color": "#E5ECF6",
              "width": 0.5
             },
             "pattern": {
              "fillmode": "overlay",
              "size": 10,
              "solidity": 0.2
             }
            },
            "type": "barpolar"
           }
          ],
          "carpet": [
           {
            "aaxis": {
             "endlinecolor": "#2a3f5f",
             "gridcolor": "white",
             "linecolor": "white",
             "minorgridcolor": "white",
             "startlinecolor": "#2a3f5f"
            },
            "baxis": {
             "endlinecolor": "#2a3f5f",
             "gridcolor": "white",
             "linecolor": "white",
             "minorgridcolor": "white",
             "startlinecolor": "#2a3f5f"
            },
            "type": "carpet"
           }
          ],
          "choropleth": [
           {
            "colorbar": {
             "outlinewidth": 0,
             "ticks": ""
            },
            "type": "choropleth"
           }
          ],
          "contour": [
           {
            "colorbar": {
             "outlinewidth": 0,
             "ticks": ""
            },
            "colorscale": [
             [
              0,
              "#0d0887"
             ],
             [
              0.1111111111111111,
              "#46039f"
             ],
             [
              0.2222222222222222,
              "#7201a8"
             ],
             [
              0.3333333333333333,
              "#9c179e"
             ],
             [
              0.4444444444444444,
              "#bd3786"
             ],
             [
              0.5555555555555556,
              "#d8576b"
             ],
             [
              0.6666666666666666,
              "#ed7953"
             ],
             [
              0.7777777777777778,
              "#fb9f3a"
             ],
             [
              0.8888888888888888,
              "#fdca26"
             ],
             [
              1,
              "#f0f921"
             ]
            ],
            "type": "contour"
           }
          ],
          "contourcarpet": [
           {
            "colorbar": {
             "outlinewidth": 0,
             "ticks": ""
            },
            "type": "contourcarpet"
           }
          ],
          "heatmap": [
           {
            "colorbar": {
             "outlinewidth": 0,
             "ticks": ""
            },
            "colorscale": [
             [
              0,
              "#0d0887"
             ],
             [
              0.1111111111111111,
              "#46039f"
             ],
             [
              0.2222222222222222,
              "#7201a8"
             ],
             [
              0.3333333333333333,
              "#9c179e"
             ],
             [
              0.4444444444444444,
              "#bd3786"
             ],
             [
              0.5555555555555556,
              "#d8576b"
             ],
             [
              0.6666666666666666,
              "#ed7953"
             ],
             [
              0.7777777777777778,
              "#fb9f3a"
             ],
             [
              0.8888888888888888,
              "#fdca26"
             ],
             [
              1,
              "#f0f921"
             ]
            ],
            "type": "heatmap"
           }
          ],
          "heatmapgl": [
           {
            "colorbar": {
             "outlinewidth": 0,
             "ticks": ""
            },
            "colorscale": [
             [
              0,
              "#0d0887"
             ],
             [
              0.1111111111111111,
              "#46039f"
             ],
             [
              0.2222222222222222,
              "#7201a8"
             ],
             [
              0.3333333333333333,
              "#9c179e"
             ],
             [
              0.4444444444444444,
              "#bd3786"
             ],
             [
              0.5555555555555556,
              "#d8576b"
             ],
             [
              0.6666666666666666,
              "#ed7953"
             ],
             [
              0.7777777777777778,
              "#fb9f3a"
             ],
             [
              0.8888888888888888,
              "#fdca26"
             ],
             [
              1,
              "#f0f921"
             ]
            ],
            "type": "heatmapgl"
           }
          ],
          "histogram": [
           {
            "marker": {
             "pattern": {
              "fillmode": "overlay",
              "size": 10,
              "solidity": 0.2
             }
            },
            "type": "histogram"
           }
          ],
          "histogram2d": [
           {
            "colorbar": {
             "outlinewidth": 0,
             "ticks": ""
            },
            "colorscale": [
             [
              0,
              "#0d0887"
             ],
             [
              0.1111111111111111,
              "#46039f"
             ],
             [
              0.2222222222222222,
              "#7201a8"
             ],
             [
              0.3333333333333333,
              "#9c179e"
             ],
             [
              0.4444444444444444,
              "#bd3786"
             ],
             [
              0.5555555555555556,
              "#d8576b"
             ],
             [
              0.6666666666666666,
              "#ed7953"
             ],
             [
              0.7777777777777778,
              "#fb9f3a"
             ],
             [
              0.8888888888888888,
              "#fdca26"
             ],
             [
              1,
              "#f0f921"
             ]
            ],
            "type": "histogram2d"
           }
          ],
          "histogram2dcontour": [
           {
            "colorbar": {
             "outlinewidth": 0,
             "ticks": ""
            },
            "colorscale": [
             [
              0,
              "#0d0887"
             ],
             [
              0.1111111111111111,
              "#46039f"
             ],
             [
              0.2222222222222222,
              "#7201a8"
             ],
             [
              0.3333333333333333,
              "#9c179e"
             ],
             [
              0.4444444444444444,
              "#bd3786"
             ],
             [
              0.5555555555555556,
              "#d8576b"
             ],
             [
              0.6666666666666666,
              "#ed7953"
             ],
             [
              0.7777777777777778,
              "#fb9f3a"
             ],
             [
              0.8888888888888888,
              "#fdca26"
             ],
             [
              1,
              "#f0f921"
             ]
            ],
            "type": "histogram2dcontour"
           }
          ],
          "mesh3d": [
           {
            "colorbar": {
             "outlinewidth": 0,
             "ticks": ""
            },
            "type": "mesh3d"
           }
          ],
          "parcoords": [
           {
            "line": {
             "colorbar": {
              "outlinewidth": 0,
              "ticks": ""
             }
            },
            "type": "parcoords"
           }
          ],
          "pie": [
           {
            "automargin": true,
            "type": "pie"
           }
          ],
          "scatter": [
           {
            "fillpattern": {
             "fillmode": "overlay",
             "size": 10,
             "solidity": 0.2
            },
            "type": "scatter"
           }
          ],
          "scatter3d": [
           {
            "line": {
             "colorbar": {
              "outlinewidth": 0,
              "ticks": ""
             }
            },
            "marker": {
             "colorbar": {
              "outlinewidth": 0,
              "ticks": ""
             }
            },
            "type": "scatter3d"
           }
          ],
          "scattercarpet": [
           {
            "marker": {
             "colorbar": {
              "outlinewidth": 0,
              "ticks": ""
             }
            },
            "type": "scattercarpet"
           }
          ],
          "scattergeo": [
           {
            "marker": {
             "colorbar": {
              "outlinewidth": 0,
              "ticks": ""
             }
            },
            "type": "scattergeo"
           }
          ],
          "scattergl": [
           {
            "marker": {
             "colorbar": {
              "outlinewidth": 0,
              "ticks": ""
             }
            },
            "type": "scattergl"
           }
          ],
          "scattermapbox": [
           {
            "marker": {
             "colorbar": {
              "outlinewidth": 0,
              "ticks": ""
             }
            },
            "type": "scattermapbox"
           }
          ],
          "scatterpolar": [
           {
            "marker": {
             "colorbar": {
              "outlinewidth": 0,
              "ticks": ""
             }
            },
            "type": "scatterpolar"
           }
          ],
          "scatterpolargl": [
           {
            "marker": {
             "colorbar": {
              "outlinewidth": 0,
              "ticks": ""
             }
            },
            "type": "scatterpolargl"
           }
          ],
          "scatterternary": [
           {
            "marker": {
             "colorbar": {
              "outlinewidth": 0,
              "ticks": ""
             }
            },
            "type": "scatterternary"
           }
          ],
          "surface": [
           {
            "colorbar": {
             "outlinewidth": 0,
             "ticks": ""
            },
            "colorscale": [
             [
              0,
              "#0d0887"
             ],
             [
              0.1111111111111111,
              "#46039f"
             ],
             [
              0.2222222222222222,
              "#7201a8"
             ],
             [
              0.3333333333333333,
              "#9c179e"
             ],
             [
              0.4444444444444444,
              "#bd3786"
             ],
             [
              0.5555555555555556,
              "#d8576b"
             ],
             [
              0.6666666666666666,
              "#ed7953"
             ],
             [
              0.7777777777777778,
              "#fb9f3a"
             ],
             [
              0.8888888888888888,
              "#fdca26"
             ],
             [
              1,
              "#f0f921"
             ]
            ],
            "type": "surface"
           }
          ],
          "table": [
           {
            "cells": {
             "fill": {
              "color": "#EBF0F8"
             },
             "line": {
              "color": "white"
             }
            },
            "header": {
             "fill": {
              "color": "#C8D4E3"
             },
             "line": {
              "color": "white"
             }
            },
            "type": "table"
           }
          ]
         },
         "layout": {
          "annotationdefaults": {
           "arrowcolor": "#2a3f5f",
           "arrowhead": 0,
           "arrowwidth": 1
          },
          "autotypenumbers": "strict",
          "coloraxis": {
           "colorbar": {
            "outlinewidth": 0,
            "ticks": ""
           }
          },
          "colorscale": {
           "diverging": [
            [
             0,
             "#8e0152"
            ],
            [
             0.1,
             "#c51b7d"
            ],
            [
             0.2,
             "#de77ae"
            ],
            [
             0.3,
             "#f1b6da"
            ],
            [
             0.4,
             "#fde0ef"
            ],
            [
             0.5,
             "#f7f7f7"
            ],
            [
             0.6,
             "#e6f5d0"
            ],
            [
             0.7,
             "#b8e186"
            ],
            [
             0.8,
             "#7fbc41"
            ],
            [
             0.9,
             "#4d9221"
            ],
            [
             1,
             "#276419"
            ]
           ],
           "sequential": [
            [
             0,
             "#0d0887"
            ],
            [
             0.1111111111111111,
             "#46039f"
            ],
            [
             0.2222222222222222,
             "#7201a8"
            ],
            [
             0.3333333333333333,
             "#9c179e"
            ],
            [
             0.4444444444444444,
             "#bd3786"
            ],
            [
             0.5555555555555556,
             "#d8576b"
            ],
            [
             0.6666666666666666,
             "#ed7953"
            ],
            [
             0.7777777777777778,
             "#fb9f3a"
            ],
            [
             0.8888888888888888,
             "#fdca26"
            ],
            [
             1,
             "#f0f921"
            ]
           ],
           "sequentialminus": [
            [
             0,
             "#0d0887"
            ],
            [
             0.1111111111111111,
             "#46039f"
            ],
            [
             0.2222222222222222,
             "#7201a8"
            ],
            [
             0.3333333333333333,
             "#9c179e"
            ],
            [
             0.4444444444444444,
             "#bd3786"
            ],
            [
             0.5555555555555556,
             "#d8576b"
            ],
            [
             0.6666666666666666,
             "#ed7953"
            ],
            [
             0.7777777777777778,
             "#fb9f3a"
            ],
            [
             0.8888888888888888,
             "#fdca26"
            ],
            [
             1,
             "#f0f921"
            ]
           ]
          },
          "colorway": [
           "#636efa",
           "#EF553B",
           "#00cc96",
           "#ab63fa",
           "#FFA15A",
           "#19d3f3",
           "#FF6692",
           "#B6E880",
           "#FF97FF",
           "#FECB52"
          ],
          "font": {
           "color": "#2a3f5f"
          },
          "geo": {
           "bgcolor": "white",
           "lakecolor": "white",
           "landcolor": "#E5ECF6",
           "showlakes": true,
           "showland": true,
           "subunitcolor": "white"
          },
          "hoverlabel": {
           "align": "left"
          },
          "hovermode": "closest",
          "mapbox": {
           "style": "light"
          },
          "paper_bgcolor": "white",
          "plot_bgcolor": "#E5ECF6",
          "polar": {
           "angularaxis": {
            "gridcolor": "white",
            "linecolor": "white",
            "ticks": ""
           },
           "bgcolor": "#E5ECF6",
           "radialaxis": {
            "gridcolor": "white",
            "linecolor": "white",
            "ticks": ""
           }
          },
          "scene": {
           "xaxis": {
            "backgroundcolor": "#E5ECF6",
            "gridcolor": "white",
            "gridwidth": 2,
            "linecolor": "white",
            "showbackground": true,
            "ticks": "",
            "zerolinecolor": "white"
           },
           "yaxis": {
            "backgroundcolor": "#E5ECF6",
            "gridcolor": "white",
            "gridwidth": 2,
            "linecolor": "white",
            "showbackground": true,
            "ticks": "",
            "zerolinecolor": "white"
           },
           "zaxis": {
            "backgroundcolor": "#E5ECF6",
            "gridcolor": "white",
            "gridwidth": 2,
            "linecolor": "white",
            "showbackground": true,
            "ticks": "",
            "zerolinecolor": "white"
           }
          },
          "shapedefaults": {
           "line": {
            "color": "#2a3f5f"
           }
          },
          "ternary": {
           "aaxis": {
            "gridcolor": "white",
            "linecolor": "white",
            "ticks": ""
           },
           "baxis": {
            "gridcolor": "white",
            "linecolor": "white",
            "ticks": ""
           },
           "bgcolor": "#E5ECF6",
           "caxis": {
            "gridcolor": "white",
            "linecolor": "white",
            "ticks": ""
           }
          },
          "title": {
           "x": 0.05
          },
          "xaxis": {
           "automargin": true,
           "gridcolor": "white",
           "linecolor": "white",
           "ticks": "",
           "title": {
            "standoff": 15
           },
           "zerolinecolor": "white",
           "zerolinewidth": 2
          },
          "yaxis": {
           "automargin": true,
           "gridcolor": "white",
           "linecolor": "white",
           "ticks": "",
           "title": {
            "standoff": 15
           },
           "zerolinecolor": "white",
           "zerolinewidth": 2
          }
         }
        },
        "title": {
         "text": "kahn_sort"
        },
        "width": 1200,
        "xaxis": {
         "anchor": "y",
         "domain": [
          0,
          0.45
         ]
        },
        "xaxis10": {
         "anchor": "y10",
         "domain": [
          0.55,
          1
         ]
        },
        "xaxis11": {
         "anchor": "y11",
         "domain": [
          0,
          0.45
         ]
        },
        "xaxis12": {
         "anchor": "y12",
         "domain": [
          0.55,
          1
         ]
        },
        "xaxis13": {
         "anchor": "y13",
         "domain": [
          0,
          0.45
         ]
        },
        "xaxis14": {
         "anchor": "y14",
         "domain": [
          0.55,
          1
         ]
        },
        "xaxis2": {
         "anchor": "y2",
         "domain": [
          0.55,
          1
         ]
        },
        "xaxis3": {
         "anchor": "y3",
         "domain": [
          0,
          0.45
         ]
        },
        "xaxis4": {
         "anchor": "y4",
         "domain": [
          0.55,
          1
         ]
        },
        "xaxis5": {
         "anchor": "y5",
         "domain": [
          0,
          0.45
         ]
        },
        "xaxis6": {
         "anchor": "y6",
         "domain": [
          0.55,
          1
         ]
        },
        "xaxis7": {
         "anchor": "y7",
         "domain": [
          0,
          0.45
         ]
        },
        "xaxis8": {
         "anchor": "y8",
         "domain": [
          0.55,
          1
         ]
        },
        "xaxis9": {
         "anchor": "y9",
         "domain": [
          0,
          0.45
         ]
        },
        "yaxis": {
         "anchor": "x",
         "domain": [
          0.9183673469387754,
          0.9999999999999999
         ],
         "title": {
          "text": "time [s]"
         }
        },
        "yaxis10": {
         "anchor": "x10",
         "domain": [
          0.30612244897959184,
          0.3877551020408163
         ],
         "title": {
          "text": "time [s]"
         }
        },
        "yaxis11": {
         "anchor": "x11",
         "domain": [
          0.15306122448979592,
          0.2346938775510204
         ],
         "title": {
          "text": "time [s]"
         }
        },
        "yaxis12": {
         "anchor": "x12",
         "domain": [
          0.15306122448979592,
          0.2346938775510204
         ],
         "title": {
          "text": "time [s]"
         }
        },
        "yaxis13": {
         "anchor": "x13",
         "domain": [
          0,
          0.08163265306122448
         ],
         "title": {
          "text": "time [s]"
         }
        },
        "yaxis14": {
         "anchor": "x14",
         "domain": [
          0,
          0.08163265306122448
         ],
         "title": {
          "text": "time [s]"
         }
        },
        "yaxis2": {
         "anchor": "x2",
         "domain": [
          0.9183673469387754,
          0.9999999999999999
         ],
         "title": {
          "text": "time [s]"
         }
        },
        "yaxis3": {
         "anchor": "x3",
         "domain": [
          0.7653061224489794,
          0.8469387755102039
         ],
         "title": {
          "text": "time [s]"
         }
        },
        "yaxis4": {
         "anchor": "x4",
         "domain": [
          0.7653061224489794,
          0.8469387755102039
         ],
         "title": {
          "text": "time [s]"
         }
        },
        "yaxis5": {
         "anchor": "x5",
         "domain": [
          0.6122448979591837,
          0.6938775510204082
         ],
         "title": {
          "text": "time [s]"
         }
        },
        "yaxis6": {
         "anchor": "x6",
         "domain": [
          0.6122448979591837,
          0.6938775510204082
         ],
         "title": {
          "text": "time [s]"
         }
        },
        "yaxis7": {
         "anchor": "x7",
         "domain": [
          0.4591836734693877,
          0.5408163265306122
         ],
         "title": {
          "text": "time [s]"
         }
        },
        "yaxis8": {
         "anchor": "x8",
         "domain": [
          0.4591836734693877,
          0.5408163265306122
         ],
         "title": {
          "text": "time [s]"
         }
        },
        "yaxis9": {
         "anchor": "x9",
         "domain": [
          0.30612244897959184,
          0.3877551020408163
         ],
         "title": {
          "text": "time [s]"
         }
        }
       }
      }
     },
     "metadata": {},
     "output_type": "display_data"
    }
   ],
   "source": [
    "compareSortTimesForGraphSizes(times[\"kahn_sort\"], \"kahn_sort\")"
   ]
  },
  {
   "cell_type": "code",
   "execution_count": 31,
   "metadata": {},
   "outputs": [
    {
     "data": {
      "application/vnd.plotly.v1+json": {
       "config": {
        "plotlyServerURL": "https://plot.ly"
       },
       "data": [
        {
         "text": [
          "0.051",
          "0.391",
          "1.329",
          "3.195",
          "6.24",
          "59.887",
          "147.05",
          "325.308"
         ],
         "type": "scatter",
         "x": [
          100,
          200,
          300,
          400,
          500,
          750,
          1000,
          1250
         ],
         "xaxis": "x",
         "y": [
          0.051178932189941406,
          0.3911314010620117,
          1.3288967609405518,
          3.194575309753418,
          6.239508867263794,
          59.88650989532471,
          147.04980039596558,
          325.3075633049011
         ],
         "yaxis": "y"
        },
        {
         "text": [
          "0.0",
          "0.0",
          "0.01",
          "0.015",
          "0.025",
          "0.125",
          "0.218",
          "0.356",
          "0.504",
          "0.365",
          "0.562",
          "0.831",
          "1.511",
          "2.322"
         ],
         "type": "scatter",
         "x": [
          100,
          200,
          300,
          400,
          500,
          750,
          1000,
          1250,
          1500,
          2000,
          2500,
          3000,
          4000,
          5000
         ],
         "xaxis": "x2",
         "y": [
          0,
          0,
          0.009887456893920898,
          0.015344381332397461,
          0.024724245071411133,
          0.1251509189605713,
          0.21790719032287598,
          0.35559701919555664,
          0.5044336318969727,
          0.36455559730529785,
          0.5619864463806152,
          0.8314347267150879,
          1.5111122131347656,
          2.321565628051758
         ],
         "yaxis": "y2"
        },
        {
         "text": [
          "0.01",
          "0.109",
          "0.366",
          "0.892",
          "2.177",
          "15.858",
          "34.38",
          "65.187",
          "110.884"
         ],
         "type": "scatter",
         "x": [
          100,
          200,
          300,
          400,
          500,
          750,
          1000,
          1250,
          1500
         ],
         "xaxis": "x3",
         "y": [
          0.009866714477539062,
          0.10901832580566406,
          0.36606431007385254,
          0.8918275833129883,
          2.1770565509796143,
          15.85792851448059,
          34.38048839569092,
          65.18653082847595,
          110.88394045829773
         ],
         "yaxis": "y3"
        },
        {
         "text": [
          "0.0",
          "0.0",
          "0.0",
          "0.0",
          "0.003",
          "0.016",
          "0.032",
          "0.042",
          "0.067",
          "0.051",
          "0.085",
          "0.13",
          "0.268",
          "0.457"
         ],
         "type": "scatter",
         "x": [
          100,
          200,
          300,
          400,
          500,
          750,
          1000,
          1250,
          1500,
          2000,
          2500,
          3000,
          4000,
          5000
         ],
         "xaxis": "x4",
         "y": [
          0,
          0,
          0,
          0,
          0.003238677978515625,
          0.015612602233886719,
          0.03240633010864258,
          0.04156899452209473,
          0.06666803359985352,
          0.05082559585571289,
          0.08546161651611328,
          0.12956738471984863,
          0.26755356788635254,
          0.45675039291381836
         ],
         "yaxis": "y4"
        },
        {
         "text": [
          "0.0",
          "0.011",
          "0.011",
          "0.022",
          "0.028",
          "0.187",
          "0.311",
          "0.498",
          "0.731",
          "0.555",
          "0.88",
          "1.281",
          "2.279",
          "3.684"
         ],
         "type": "scatter",
         "x": [
          100,
          200,
          300,
          400,
          500,
          750,
          1000,
          1250,
          1500,
          2000,
          2500,
          3000,
          4000,
          5000
         ],
         "xaxis": "x5",
         "y": [
          0,
          0.010825395584106445,
          0.010834455490112305,
          0.022487640380859375,
          0.028387069702148438,
          0.18749737739562988,
          0.3109169006347656,
          0.4980161190032959,
          0.7307136058807373,
          0.5551662445068359,
          0.8801116943359375,
          1.281456708908081,
          2.278860569000244,
          3.684474468231201
         ],
         "yaxis": "y5"
        }
       ],
       "layout": {
        "annotations": [
         {
          "font": {
           "size": 16
          },
          "showarrow": false,
          "text": "IncidenceMatrix",
          "x": 0.225,
          "xanchor": "center",
          "xref": "paper",
          "y": 1,
          "yanchor": "bottom",
          "yref": "paper"
         },
         {
          "font": {
           "size": 16
          },
          "showarrow": false,
          "text": "AdjacencyMatrix",
          "x": 0.775,
          "xanchor": "center",
          "xref": "paper",
          "y": 1,
          "yanchor": "bottom",
          "yref": "paper"
         },
         {
          "font": {
           "size": 16
          },
          "showarrow": false,
          "text": "ArcList",
          "x": 0.225,
          "xanchor": "center",
          "xref": "paper",
          "y": 0.6111111111111112,
          "yanchor": "bottom",
          "yref": "paper"
         },
         {
          "font": {
           "size": 16
          },
          "showarrow": false,
          "text": "AdjacencyList",
          "x": 0.775,
          "xanchor": "center",
          "xref": "paper",
          "y": 0.6111111111111112,
          "yanchor": "bottom",
          "yref": "paper"
         },
         {
          "font": {
           "size": 16
          },
          "showarrow": false,
          "text": "ForwardStar",
          "x": 0.225,
          "xanchor": "center",
          "xref": "paper",
          "y": 0.22222222222222224,
          "yanchor": "bottom",
          "yref": "paper"
         }
        ],
        "height": 800,
        "template": {
         "data": {
          "bar": [
           {
            "error_x": {
             "color": "#2a3f5f"
            },
            "error_y": {
             "color": "#2a3f5f"
            },
            "marker": {
             "line": {
              "color": "#E5ECF6",
              "width": 0.5
             },
             "pattern": {
              "fillmode": "overlay",
              "size": 10,
              "solidity": 0.2
             }
            },
            "type": "bar"
           }
          ],
          "barpolar": [
           {
            "marker": {
             "line": {
              "color": "#E5ECF6",
              "width": 0.5
             },
             "pattern": {
              "fillmode": "overlay",
              "size": 10,
              "solidity": 0.2
             }
            },
            "type": "barpolar"
           }
          ],
          "carpet": [
           {
            "aaxis": {
             "endlinecolor": "#2a3f5f",
             "gridcolor": "white",
             "linecolor": "white",
             "minorgridcolor": "white",
             "startlinecolor": "#2a3f5f"
            },
            "baxis": {
             "endlinecolor": "#2a3f5f",
             "gridcolor": "white",
             "linecolor": "white",
             "minorgridcolor": "white",
             "startlinecolor": "#2a3f5f"
            },
            "type": "carpet"
           }
          ],
          "choropleth": [
           {
            "colorbar": {
             "outlinewidth": 0,
             "ticks": ""
            },
            "type": "choropleth"
           }
          ],
          "contour": [
           {
            "colorbar": {
             "outlinewidth": 0,
             "ticks": ""
            },
            "colorscale": [
             [
              0,
              "#0d0887"
             ],
             [
              0.1111111111111111,
              "#46039f"
             ],
             [
              0.2222222222222222,
              "#7201a8"
             ],
             [
              0.3333333333333333,
              "#9c179e"
             ],
             [
              0.4444444444444444,
              "#bd3786"
             ],
             [
              0.5555555555555556,
              "#d8576b"
             ],
             [
              0.6666666666666666,
              "#ed7953"
             ],
             [
              0.7777777777777778,
              "#fb9f3a"
             ],
             [
              0.8888888888888888,
              "#fdca26"
             ],
             [
              1,
              "#f0f921"
             ]
            ],
            "type": "contour"
           }
          ],
          "contourcarpet": [
           {
            "colorbar": {
             "outlinewidth": 0,
             "ticks": ""
            },
            "type": "contourcarpet"
           }
          ],
          "heatmap": [
           {
            "colorbar": {
             "outlinewidth": 0,
             "ticks": ""
            },
            "colorscale": [
             [
              0,
              "#0d0887"
             ],
             [
              0.1111111111111111,
              "#46039f"
             ],
             [
              0.2222222222222222,
              "#7201a8"
             ],
             [
              0.3333333333333333,
              "#9c179e"
             ],
             [
              0.4444444444444444,
              "#bd3786"
             ],
             [
              0.5555555555555556,
              "#d8576b"
             ],
             [
              0.6666666666666666,
              "#ed7953"
             ],
             [
              0.7777777777777778,
              "#fb9f3a"
             ],
             [
              0.8888888888888888,
              "#fdca26"
             ],
             [
              1,
              "#f0f921"
             ]
            ],
            "type": "heatmap"
           }
          ],
          "heatmapgl": [
           {
            "colorbar": {
             "outlinewidth": 0,
             "ticks": ""
            },
            "colorscale": [
             [
              0,
              "#0d0887"
             ],
             [
              0.1111111111111111,
              "#46039f"
             ],
             [
              0.2222222222222222,
              "#7201a8"
             ],
             [
              0.3333333333333333,
              "#9c179e"
             ],
             [
              0.4444444444444444,
              "#bd3786"
             ],
             [
              0.5555555555555556,
              "#d8576b"
             ],
             [
              0.6666666666666666,
              "#ed7953"
             ],
             [
              0.7777777777777778,
              "#fb9f3a"
             ],
             [
              0.8888888888888888,
              "#fdca26"
             ],
             [
              1,
              "#f0f921"
             ]
            ],
            "type": "heatmapgl"
           }
          ],
          "histogram": [
           {
            "marker": {
             "pattern": {
              "fillmode": "overlay",
              "size": 10,
              "solidity": 0.2
             }
            },
            "type": "histogram"
           }
          ],
          "histogram2d": [
           {
            "colorbar": {
             "outlinewidth": 0,
             "ticks": ""
            },
            "colorscale": [
             [
              0,
              "#0d0887"
             ],
             [
              0.1111111111111111,
              "#46039f"
             ],
             [
              0.2222222222222222,
              "#7201a8"
             ],
             [
              0.3333333333333333,
              "#9c179e"
             ],
             [
              0.4444444444444444,
              "#bd3786"
             ],
             [
              0.5555555555555556,
              "#d8576b"
             ],
             [
              0.6666666666666666,
              "#ed7953"
             ],
             [
              0.7777777777777778,
              "#fb9f3a"
             ],
             [
              0.8888888888888888,
              "#fdca26"
             ],
             [
              1,
              "#f0f921"
             ]
            ],
            "type": "histogram2d"
           }
          ],
          "histogram2dcontour": [
           {
            "colorbar": {
             "outlinewidth": 0,
             "ticks": ""
            },
            "colorscale": [
             [
              0,
              "#0d0887"
             ],
             [
              0.1111111111111111,
              "#46039f"
             ],
             [
              0.2222222222222222,
              "#7201a8"
             ],
             [
              0.3333333333333333,
              "#9c179e"
             ],
             [
              0.4444444444444444,
              "#bd3786"
             ],
             [
              0.5555555555555556,
              "#d8576b"
             ],
             [
              0.6666666666666666,
              "#ed7953"
             ],
             [
              0.7777777777777778,
              "#fb9f3a"
             ],
             [
              0.8888888888888888,
              "#fdca26"
             ],
             [
              1,
              "#f0f921"
             ]
            ],
            "type": "histogram2dcontour"
           }
          ],
          "mesh3d": [
           {
            "colorbar": {
             "outlinewidth": 0,
             "ticks": ""
            },
            "type": "mesh3d"
           }
          ],
          "parcoords": [
           {
            "line": {
             "colorbar": {
              "outlinewidth": 0,
              "ticks": ""
             }
            },
            "type": "parcoords"
           }
          ],
          "pie": [
           {
            "automargin": true,
            "type": "pie"
           }
          ],
          "scatter": [
           {
            "fillpattern": {
             "fillmode": "overlay",
             "size": 10,
             "solidity": 0.2
            },
            "type": "scatter"
           }
          ],
          "scatter3d": [
           {
            "line": {
             "colorbar": {
              "outlinewidth": 0,
              "ticks": ""
             }
            },
            "marker": {
             "colorbar": {
              "outlinewidth": 0,
              "ticks": ""
             }
            },
            "type": "scatter3d"
           }
          ],
          "scattercarpet": [
           {
            "marker": {
             "colorbar": {
              "outlinewidth": 0,
              "ticks": ""
             }
            },
            "type": "scattercarpet"
           }
          ],
          "scattergeo": [
           {
            "marker": {
             "colorbar": {
              "outlinewidth": 0,
              "ticks": ""
             }
            },
            "type": "scattergeo"
           }
          ],
          "scattergl": [
           {
            "marker": {
             "colorbar": {
              "outlinewidth": 0,
              "ticks": ""
             }
            },
            "type": "scattergl"
           }
          ],
          "scattermapbox": [
           {
            "marker": {
             "colorbar": {
              "outlinewidth": 0,
              "ticks": ""
             }
            },
            "type": "scattermapbox"
           }
          ],
          "scatterpolar": [
           {
            "marker": {
             "colorbar": {
              "outlinewidth": 0,
              "ticks": ""
             }
            },
            "type": "scatterpolar"
           }
          ],
          "scatterpolargl": [
           {
            "marker": {
             "colorbar": {
              "outlinewidth": 0,
              "ticks": ""
             }
            },
            "type": "scatterpolargl"
           }
          ],
          "scatterternary": [
           {
            "marker": {
             "colorbar": {
              "outlinewidth": 0,
              "ticks": ""
             }
            },
            "type": "scatterternary"
           }
          ],
          "surface": [
           {
            "colorbar": {
             "outlinewidth": 0,
             "ticks": ""
            },
            "colorscale": [
             [
              0,
              "#0d0887"
             ],
             [
              0.1111111111111111,
              "#46039f"
             ],
             [
              0.2222222222222222,
              "#7201a8"
             ],
             [
              0.3333333333333333,
              "#9c179e"
             ],
             [
              0.4444444444444444,
              "#bd3786"
             ],
             [
              0.5555555555555556,
              "#d8576b"
             ],
             [
              0.6666666666666666,
              "#ed7953"
             ],
             [
              0.7777777777777778,
              "#fb9f3a"
             ],
             [
              0.8888888888888888,
              "#fdca26"
             ],
             [
              1,
              "#f0f921"
             ]
            ],
            "type": "surface"
           }
          ],
          "table": [
           {
            "cells": {
             "fill": {
              "color": "#EBF0F8"
             },
             "line": {
              "color": "white"
             }
            },
            "header": {
             "fill": {
              "color": "#C8D4E3"
             },
             "line": {
              "color": "white"
             }
            },
            "type": "table"
           }
          ]
         },
         "layout": {
          "annotationdefaults": {
           "arrowcolor": "#2a3f5f",
           "arrowhead": 0,
           "arrowwidth": 1
          },
          "autotypenumbers": "strict",
          "coloraxis": {
           "colorbar": {
            "outlinewidth": 0,
            "ticks": ""
           }
          },
          "colorscale": {
           "diverging": [
            [
             0,
             "#8e0152"
            ],
            [
             0.1,
             "#c51b7d"
            ],
            [
             0.2,
             "#de77ae"
            ],
            [
             0.3,
             "#f1b6da"
            ],
            [
             0.4,
             "#fde0ef"
            ],
            [
             0.5,
             "#f7f7f7"
            ],
            [
             0.6,
             "#e6f5d0"
            ],
            [
             0.7,
             "#b8e186"
            ],
            [
             0.8,
             "#7fbc41"
            ],
            [
             0.9,
             "#4d9221"
            ],
            [
             1,
             "#276419"
            ]
           ],
           "sequential": [
            [
             0,
             "#0d0887"
            ],
            [
             0.1111111111111111,
             "#46039f"
            ],
            [
             0.2222222222222222,
             "#7201a8"
            ],
            [
             0.3333333333333333,
             "#9c179e"
            ],
            [
             0.4444444444444444,
             "#bd3786"
            ],
            [
             0.5555555555555556,
             "#d8576b"
            ],
            [
             0.6666666666666666,
             "#ed7953"
            ],
            [
             0.7777777777777778,
             "#fb9f3a"
            ],
            [
             0.8888888888888888,
             "#fdca26"
            ],
            [
             1,
             "#f0f921"
            ]
           ],
           "sequentialminus": [
            [
             0,
             "#0d0887"
            ],
            [
             0.1111111111111111,
             "#46039f"
            ],
            [
             0.2222222222222222,
             "#7201a8"
            ],
            [
             0.3333333333333333,
             "#9c179e"
            ],
            [
             0.4444444444444444,
             "#bd3786"
            ],
            [
             0.5555555555555556,
             "#d8576b"
            ],
            [
             0.6666666666666666,
             "#ed7953"
            ],
            [
             0.7777777777777778,
             "#fb9f3a"
            ],
            [
             0.8888888888888888,
             "#fdca26"
            ],
            [
             1,
             "#f0f921"
            ]
           ]
          },
          "colorway": [
           "#636efa",
           "#EF553B",
           "#00cc96",
           "#ab63fa",
           "#FFA15A",
           "#19d3f3",
           "#FF6692",
           "#B6E880",
           "#FF97FF",
           "#FECB52"
          ],
          "font": {
           "color": "#2a3f5f"
          },
          "geo": {
           "bgcolor": "white",
           "lakecolor": "white",
           "landcolor": "#E5ECF6",
           "showlakes": true,
           "showland": true,
           "subunitcolor": "white"
          },
          "hoverlabel": {
           "align": "left"
          },
          "hovermode": "closest",
          "mapbox": {
           "style": "light"
          },
          "paper_bgcolor": "white",
          "plot_bgcolor": "#E5ECF6",
          "polar": {
           "angularaxis": {
            "gridcolor": "white",
            "linecolor": "white",
            "ticks": ""
           },
           "bgcolor": "#E5ECF6",
           "radialaxis": {
            "gridcolor": "white",
            "linecolor": "white",
            "ticks": ""
           }
          },
          "scene": {
           "xaxis": {
            "backgroundcolor": "#E5ECF6",
            "gridcolor": "white",
            "gridwidth": 2,
            "linecolor": "white",
            "showbackground": true,
            "ticks": "",
            "zerolinecolor": "white"
           },
           "yaxis": {
            "backgroundcolor": "#E5ECF6",
            "gridcolor": "white",
            "gridwidth": 2,
            "linecolor": "white",
            "showbackground": true,
            "ticks": "",
            "zerolinecolor": "white"
           },
           "zaxis": {
            "backgroundcolor": "#E5ECF6",
            "gridcolor": "white",
            "gridwidth": 2,
            "linecolor": "white",
            "showbackground": true,
            "ticks": "",
            "zerolinecolor": "white"
           }
          },
          "shapedefaults": {
           "line": {
            "color": "#2a3f5f"
           }
          },
          "ternary": {
           "aaxis": {
            "gridcolor": "white",
            "linecolor": "white",
            "ticks": ""
           },
           "baxis": {
            "gridcolor": "white",
            "linecolor": "white",
            "ticks": ""
           },
           "bgcolor": "#E5ECF6",
           "caxis": {
            "gridcolor": "white",
            "linecolor": "white",
            "ticks": ""
           }
          },
          "title": {
           "x": 0.05
          },
          "xaxis": {
           "automargin": true,
           "gridcolor": "white",
           "linecolor": "white",
           "ticks": "",
           "title": {
            "standoff": 15
           },
           "zerolinecolor": "white",
           "zerolinewidth": 2
          },
          "yaxis": {
           "automargin": true,
           "gridcolor": "white",
           "linecolor": "white",
           "ticks": "",
           "title": {
            "standoff": 15
           },
           "zerolinecolor": "white",
           "zerolinewidth": 2
          }
         }
        },
        "title": {
         "text": "dfs_sort"
        },
        "width": 1200,
        "xaxis": {
         "anchor": "y",
         "domain": [
          0,
          0.45
         ]
        },
        "xaxis2": {
         "anchor": "y2",
         "domain": [
          0.55,
          1
         ]
        },
        "xaxis3": {
         "anchor": "y3",
         "domain": [
          0,
          0.45
         ]
        },
        "xaxis4": {
         "anchor": "y4",
         "domain": [
          0.55,
          1
         ]
        },
        "xaxis5": {
         "anchor": "y5",
         "domain": [
          0,
          0.45
         ]
        },
        "xaxis6": {
         "anchor": "y6",
         "domain": [
          0.55,
          1
         ]
        },
        "yaxis": {
         "anchor": "x",
         "domain": [
          0.7777777777777778,
          1
         ],
         "title": {
          "text": "time [s]"
         }
        },
        "yaxis2": {
         "anchor": "x2",
         "domain": [
          0.7777777777777778,
          1
         ],
         "title": {
          "text": "time [s]"
         }
        },
        "yaxis3": {
         "anchor": "x3",
         "domain": [
          0.3888888888888889,
          0.6111111111111112
         ],
         "title": {
          "text": "time [s]"
         }
        },
        "yaxis4": {
         "anchor": "x4",
         "domain": [
          0.3888888888888889,
          0.6111111111111112
         ],
         "title": {
          "text": "time [s]"
         }
        },
        "yaxis5": {
         "anchor": "x5",
         "domain": [
          0,
          0.22222222222222224
         ],
         "title": {
          "text": "time [s]"
         }
        },
        "yaxis6": {
         "anchor": "x6",
         "domain": [
          0,
          0.22222222222222224
         ]
        }
       }
      }
     },
     "metadata": {},
     "output_type": "display_data"
    }
   ],
   "source": [
    "compareSortTimesForGraphRepresentation(times[\"dfs_sort\"], \"dfs_sort\")"
   ]
  },
  {
   "cell_type": "code",
   "execution_count": 30,
   "metadata": {},
   "outputs": [
    {
     "data": {
      "application/vnd.plotly.v1+json": {
       "config": {
        "plotlyServerURL": "https://plot.ly"
       },
       "data": [
        {
         "name": "",
         "text": [
          "0.051",
          "0.0",
          "0.01",
          "0.0",
          "0.0"
         ],
         "textposition": "auto",
         "type": "bar",
         "x": [
          "IncidenceMatrix",
          "AdjacencyMatrix",
          "ArcList",
          "AdjacencyList",
          "ForwardStar"
         ],
         "xaxis": "x",
         "y": [
          0.051178932189941406,
          0,
          0.009866714477539062,
          0,
          0
         ],
         "yaxis": "y"
        },
        {
         "name": "",
         "text": [
          "0.391",
          "0.0",
          "0.109",
          "0.0",
          "0.011"
         ],
         "textposition": "auto",
         "type": "bar",
         "x": [
          "IncidenceMatrix",
          "AdjacencyMatrix",
          "ArcList",
          "AdjacencyList",
          "ForwardStar"
         ],
         "xaxis": "x2",
         "y": [
          0.3911314010620117,
          0,
          0.10901832580566406,
          0,
          0.010825395584106445
         ],
         "yaxis": "y2"
        },
        {
         "name": "",
         "text": [
          "1.329",
          "0.01",
          "0.366",
          "0.0",
          "0.011"
         ],
         "textposition": "auto",
         "type": "bar",
         "x": [
          "IncidenceMatrix",
          "AdjacencyMatrix",
          "ArcList",
          "AdjacencyList",
          "ForwardStar"
         ],
         "xaxis": "x3",
         "y": [
          1.3288967609405518,
          0.009887456893920898,
          0.36606431007385254,
          0,
          0.010834455490112305
         ],
         "yaxis": "y3"
        },
        {
         "name": "",
         "text": [
          "3.195",
          "0.015",
          "0.892",
          "0.0",
          "0.022"
         ],
         "textposition": "auto",
         "type": "bar",
         "x": [
          "IncidenceMatrix",
          "AdjacencyMatrix",
          "ArcList",
          "AdjacencyList",
          "ForwardStar"
         ],
         "xaxis": "x4",
         "y": [
          3.194575309753418,
          0.015344381332397461,
          0.8918275833129883,
          0,
          0.022487640380859375
         ],
         "yaxis": "y4"
        },
        {
         "name": "",
         "text": [
          "6.24",
          "0.025",
          "2.177",
          "0.003",
          "0.028"
         ],
         "textposition": "auto",
         "type": "bar",
         "x": [
          "IncidenceMatrix",
          "AdjacencyMatrix",
          "ArcList",
          "AdjacencyList",
          "ForwardStar"
         ],
         "xaxis": "x5",
         "y": [
          6.239508867263794,
          0.024724245071411133,
          2.1770565509796143,
          0.003238677978515625,
          0.028387069702148438
         ],
         "yaxis": "y5"
        },
        {
         "name": "",
         "text": [
          "59.887",
          "0.125",
          "15.858",
          "0.016",
          "0.187"
         ],
         "textposition": "auto",
         "type": "bar",
         "x": [
          "IncidenceMatrix",
          "AdjacencyMatrix",
          "ArcList",
          "AdjacencyList",
          "ForwardStar"
         ],
         "xaxis": "x6",
         "y": [
          59.88650989532471,
          0.1251509189605713,
          15.85792851448059,
          0.015612602233886719,
          0.18749737739562988
         ],
         "yaxis": "y6"
        },
        {
         "name": "",
         "text": [
          "147.05",
          "0.218",
          "34.38",
          "0.032",
          "0.311"
         ],
         "textposition": "auto",
         "type": "bar",
         "x": [
          "IncidenceMatrix",
          "AdjacencyMatrix",
          "ArcList",
          "AdjacencyList",
          "ForwardStar"
         ],
         "xaxis": "x7",
         "y": [
          147.04980039596558,
          0.21790719032287598,
          34.38048839569092,
          0.03240633010864258,
          0.3109169006347656
         ],
         "yaxis": "y7"
        },
        {
         "name": "",
         "text": [
          "325.308",
          "0.356",
          "65.187",
          "0.042",
          "0.498"
         ],
         "textposition": "auto",
         "type": "bar",
         "x": [
          "IncidenceMatrix",
          "AdjacencyMatrix",
          "ArcList",
          "AdjacencyList",
          "ForwardStar"
         ],
         "xaxis": "x8",
         "y": [
          325.3075633049011,
          0.35559701919555664,
          65.18653082847595,
          0.04156899452209473,
          0.4980161190032959
         ],
         "yaxis": "y8"
        },
        {
         "name": "",
         "text": [
          "0.504",
          "110.884",
          "0.067",
          "0.731"
         ],
         "textposition": "auto",
         "type": "bar",
         "x": [
          "AdjacencyMatrix",
          "ArcList",
          "AdjacencyList",
          "ForwardStar"
         ],
         "xaxis": "x9",
         "y": [
          0.5044336318969727,
          110.88394045829773,
          0.06666803359985352,
          0.7307136058807373
         ],
         "yaxis": "y9"
        },
        {
         "name": "",
         "text": [
          "0.365",
          "0.051",
          "0.555"
         ],
         "textposition": "auto",
         "type": "bar",
         "x": [
          "AdjacencyMatrix",
          "AdjacencyList",
          "ForwardStar"
         ],
         "xaxis": "x10",
         "y": [
          0.36455559730529785,
          0.05082559585571289,
          0.5551662445068359
         ],
         "yaxis": "y10"
        },
        {
         "name": "",
         "text": [
          "0.562",
          "0.085",
          "0.88"
         ],
         "textposition": "auto",
         "type": "bar",
         "x": [
          "AdjacencyMatrix",
          "AdjacencyList",
          "ForwardStar"
         ],
         "xaxis": "x11",
         "y": [
          0.5619864463806152,
          0.08546161651611328,
          0.8801116943359375
         ],
         "yaxis": "y11"
        },
        {
         "name": "",
         "text": [
          "0.831",
          "0.13",
          "1.281"
         ],
         "textposition": "auto",
         "type": "bar",
         "x": [
          "AdjacencyMatrix",
          "AdjacencyList",
          "ForwardStar"
         ],
         "xaxis": "x12",
         "y": [
          0.8314347267150879,
          0.12956738471984863,
          1.281456708908081
         ],
         "yaxis": "y12"
        },
        {
         "name": "",
         "text": [
          "1.511",
          "0.268",
          "2.279"
         ],
         "textposition": "auto",
         "type": "bar",
         "x": [
          "AdjacencyMatrix",
          "AdjacencyList",
          "ForwardStar"
         ],
         "xaxis": "x13",
         "y": [
          1.5111122131347656,
          0.26755356788635254,
          2.278860569000244
         ],
         "yaxis": "y13"
        },
        {
         "name": "",
         "text": [
          "2.322",
          "0.457",
          "3.684"
         ],
         "textposition": "auto",
         "type": "bar",
         "x": [
          "AdjacencyMatrix",
          "AdjacencyList",
          "ForwardStar"
         ],
         "xaxis": "x14",
         "y": [
          2.321565628051758,
          0.45675039291381836,
          3.684474468231201
         ],
         "yaxis": "y14"
        }
       ],
       "layout": {
        "annotations": [
         {
          "font": {
           "size": 16
          },
          "showarrow": false,
          "text": "100",
          "x": 0.225,
          "xanchor": "center",
          "xref": "paper",
          "y": 0.9999999999999999,
          "yanchor": "bottom",
          "yref": "paper"
         },
         {
          "font": {
           "size": 16
          },
          "showarrow": false,
          "text": "200",
          "x": 0.775,
          "xanchor": "center",
          "xref": "paper",
          "y": 0.9999999999999999,
          "yanchor": "bottom",
          "yref": "paper"
         },
         {
          "font": {
           "size": 16
          },
          "showarrow": false,
          "text": "300",
          "x": 0.225,
          "xanchor": "center",
          "xref": "paper",
          "y": 0.8469387755102039,
          "yanchor": "bottom",
          "yref": "paper"
         },
         {
          "font": {
           "size": 16
          },
          "showarrow": false,
          "text": "400",
          "x": 0.775,
          "xanchor": "center",
          "xref": "paper",
          "y": 0.8469387755102039,
          "yanchor": "bottom",
          "yref": "paper"
         },
         {
          "font": {
           "size": 16
          },
          "showarrow": false,
          "text": "500",
          "x": 0.225,
          "xanchor": "center",
          "xref": "paper",
          "y": 0.6938775510204082,
          "yanchor": "bottom",
          "yref": "paper"
         },
         {
          "font": {
           "size": 16
          },
          "showarrow": false,
          "text": "750",
          "x": 0.775,
          "xanchor": "center",
          "xref": "paper",
          "y": 0.6938775510204082,
          "yanchor": "bottom",
          "yref": "paper"
         },
         {
          "font": {
           "size": 16
          },
          "showarrow": false,
          "text": "1000",
          "x": 0.225,
          "xanchor": "center",
          "xref": "paper",
          "y": 0.5408163265306122,
          "yanchor": "bottom",
          "yref": "paper"
         },
         {
          "font": {
           "size": 16
          },
          "showarrow": false,
          "text": "1250",
          "x": 0.775,
          "xanchor": "center",
          "xref": "paper",
          "y": 0.5408163265306122,
          "yanchor": "bottom",
          "yref": "paper"
         },
         {
          "font": {
           "size": 16
          },
          "showarrow": false,
          "text": "1500",
          "x": 0.225,
          "xanchor": "center",
          "xref": "paper",
          "y": 0.3877551020408163,
          "yanchor": "bottom",
          "yref": "paper"
         },
         {
          "font": {
           "size": 16
          },
          "showarrow": false,
          "text": "2000",
          "x": 0.775,
          "xanchor": "center",
          "xref": "paper",
          "y": 0.3877551020408163,
          "yanchor": "bottom",
          "yref": "paper"
         },
         {
          "font": {
           "size": 16
          },
          "showarrow": false,
          "text": "2500",
          "x": 0.225,
          "xanchor": "center",
          "xref": "paper",
          "y": 0.2346938775510204,
          "yanchor": "bottom",
          "yref": "paper"
         },
         {
          "font": {
           "size": 16
          },
          "showarrow": false,
          "text": "3000",
          "x": 0.775,
          "xanchor": "center",
          "xref": "paper",
          "y": 0.2346938775510204,
          "yanchor": "bottom",
          "yref": "paper"
         },
         {
          "font": {
           "size": 16
          },
          "showarrow": false,
          "text": "4000",
          "x": 0.225,
          "xanchor": "center",
          "xref": "paper",
          "y": 0.08163265306122448,
          "yanchor": "bottom",
          "yref": "paper"
         },
         {
          "font": {
           "size": 16
          },
          "showarrow": false,
          "text": "5000",
          "x": 0.775,
          "xanchor": "center",
          "xref": "paper",
          "y": 0.08163265306122448,
          "yanchor": "bottom",
          "yref": "paper"
         }
        ],
        "height": 1600,
        "template": {
         "data": {
          "bar": [
           {
            "error_x": {
             "color": "#2a3f5f"
            },
            "error_y": {
             "color": "#2a3f5f"
            },
            "marker": {
             "line": {
              "color": "#E5ECF6",
              "width": 0.5
             },
             "pattern": {
              "fillmode": "overlay",
              "size": 10,
              "solidity": 0.2
             }
            },
            "type": "bar"
           }
          ],
          "barpolar": [
           {
            "marker": {
             "line": {
              "color": "#E5ECF6",
              "width": 0.5
             },
             "pattern": {
              "fillmode": "overlay",
              "size": 10,
              "solidity": 0.2
             }
            },
            "type": "barpolar"
           }
          ],
          "carpet": [
           {
            "aaxis": {
             "endlinecolor": "#2a3f5f",
             "gridcolor": "white",
             "linecolor": "white",
             "minorgridcolor": "white",
             "startlinecolor": "#2a3f5f"
            },
            "baxis": {
             "endlinecolor": "#2a3f5f",
             "gridcolor": "white",
             "linecolor": "white",
             "minorgridcolor": "white",
             "startlinecolor": "#2a3f5f"
            },
            "type": "carpet"
           }
          ],
          "choropleth": [
           {
            "colorbar": {
             "outlinewidth": 0,
             "ticks": ""
            },
            "type": "choropleth"
           }
          ],
          "contour": [
           {
            "colorbar": {
             "outlinewidth": 0,
             "ticks": ""
            },
            "colorscale": [
             [
              0,
              "#0d0887"
             ],
             [
              0.1111111111111111,
              "#46039f"
             ],
             [
              0.2222222222222222,
              "#7201a8"
             ],
             [
              0.3333333333333333,
              "#9c179e"
             ],
             [
              0.4444444444444444,
              "#bd3786"
             ],
             [
              0.5555555555555556,
              "#d8576b"
             ],
             [
              0.6666666666666666,
              "#ed7953"
             ],
             [
              0.7777777777777778,
              "#fb9f3a"
             ],
             [
              0.8888888888888888,
              "#fdca26"
             ],
             [
              1,
              "#f0f921"
             ]
            ],
            "type": "contour"
           }
          ],
          "contourcarpet": [
           {
            "colorbar": {
             "outlinewidth": 0,
             "ticks": ""
            },
            "type": "contourcarpet"
           }
          ],
          "heatmap": [
           {
            "colorbar": {
             "outlinewidth": 0,
             "ticks": ""
            },
            "colorscale": [
             [
              0,
              "#0d0887"
             ],
             [
              0.1111111111111111,
              "#46039f"
             ],
             [
              0.2222222222222222,
              "#7201a8"
             ],
             [
              0.3333333333333333,
              "#9c179e"
             ],
             [
              0.4444444444444444,
              "#bd3786"
             ],
             [
              0.5555555555555556,
              "#d8576b"
             ],
             [
              0.6666666666666666,
              "#ed7953"
             ],
             [
              0.7777777777777778,
              "#fb9f3a"
             ],
             [
              0.8888888888888888,
              "#fdca26"
             ],
             [
              1,
              "#f0f921"
             ]
            ],
            "type": "heatmap"
           }
          ],
          "heatmapgl": [
           {
            "colorbar": {
             "outlinewidth": 0,
             "ticks": ""
            },
            "colorscale": [
             [
              0,
              "#0d0887"
             ],
             [
              0.1111111111111111,
              "#46039f"
             ],
             [
              0.2222222222222222,
              "#7201a8"
             ],
             [
              0.3333333333333333,
              "#9c179e"
             ],
             [
              0.4444444444444444,
              "#bd3786"
             ],
             [
              0.5555555555555556,
              "#d8576b"
             ],
             [
              0.6666666666666666,
              "#ed7953"
             ],
             [
              0.7777777777777778,
              "#fb9f3a"
             ],
             [
              0.8888888888888888,
              "#fdca26"
             ],
             [
              1,
              "#f0f921"
             ]
            ],
            "type": "heatmapgl"
           }
          ],
          "histogram": [
           {
            "marker": {
             "pattern": {
              "fillmode": "overlay",
              "size": 10,
              "solidity": 0.2
             }
            },
            "type": "histogram"
           }
          ],
          "histogram2d": [
           {
            "colorbar": {
             "outlinewidth": 0,
             "ticks": ""
            },
            "colorscale": [
             [
              0,
              "#0d0887"
             ],
             [
              0.1111111111111111,
              "#46039f"
             ],
             [
              0.2222222222222222,
              "#7201a8"
             ],
             [
              0.3333333333333333,
              "#9c179e"
             ],
             [
              0.4444444444444444,
              "#bd3786"
             ],
             [
              0.5555555555555556,
              "#d8576b"
             ],
             [
              0.6666666666666666,
              "#ed7953"
             ],
             [
              0.7777777777777778,
              "#fb9f3a"
             ],
             [
              0.8888888888888888,
              "#fdca26"
             ],
             [
              1,
              "#f0f921"
             ]
            ],
            "type": "histogram2d"
           }
          ],
          "histogram2dcontour": [
           {
            "colorbar": {
             "outlinewidth": 0,
             "ticks": ""
            },
            "colorscale": [
             [
              0,
              "#0d0887"
             ],
             [
              0.1111111111111111,
              "#46039f"
             ],
             [
              0.2222222222222222,
              "#7201a8"
             ],
             [
              0.3333333333333333,
              "#9c179e"
             ],
             [
              0.4444444444444444,
              "#bd3786"
             ],
             [
              0.5555555555555556,
              "#d8576b"
             ],
             [
              0.6666666666666666,
              "#ed7953"
             ],
             [
              0.7777777777777778,
              "#fb9f3a"
             ],
             [
              0.8888888888888888,
              "#fdca26"
             ],
             [
              1,
              "#f0f921"
             ]
            ],
            "type": "histogram2dcontour"
           }
          ],
          "mesh3d": [
           {
            "colorbar": {
             "outlinewidth": 0,
             "ticks": ""
            },
            "type": "mesh3d"
           }
          ],
          "parcoords": [
           {
            "line": {
             "colorbar": {
              "outlinewidth": 0,
              "ticks": ""
             }
            },
            "type": "parcoords"
           }
          ],
          "pie": [
           {
            "automargin": true,
            "type": "pie"
           }
          ],
          "scatter": [
           {
            "fillpattern": {
             "fillmode": "overlay",
             "size": 10,
             "solidity": 0.2
            },
            "type": "scatter"
           }
          ],
          "scatter3d": [
           {
            "line": {
             "colorbar": {
              "outlinewidth": 0,
              "ticks": ""
             }
            },
            "marker": {
             "colorbar": {
              "outlinewidth": 0,
              "ticks": ""
             }
            },
            "type": "scatter3d"
           }
          ],
          "scattercarpet": [
           {
            "marker": {
             "colorbar": {
              "outlinewidth": 0,
              "ticks": ""
             }
            },
            "type": "scattercarpet"
           }
          ],
          "scattergeo": [
           {
            "marker": {
             "colorbar": {
              "outlinewidth": 0,
              "ticks": ""
             }
            },
            "type": "scattergeo"
           }
          ],
          "scattergl": [
           {
            "marker": {
             "colorbar": {
              "outlinewidth": 0,
              "ticks": ""
             }
            },
            "type": "scattergl"
           }
          ],
          "scattermapbox": [
           {
            "marker": {
             "colorbar": {
              "outlinewidth": 0,
              "ticks": ""
             }
            },
            "type": "scattermapbox"
           }
          ],
          "scatterpolar": [
           {
            "marker": {
             "colorbar": {
              "outlinewidth": 0,
              "ticks": ""
             }
            },
            "type": "scatterpolar"
           }
          ],
          "scatterpolargl": [
           {
            "marker": {
             "colorbar": {
              "outlinewidth": 0,
              "ticks": ""
             }
            },
            "type": "scatterpolargl"
           }
          ],
          "scatterternary": [
           {
            "marker": {
             "colorbar": {
              "outlinewidth": 0,
              "ticks": ""
             }
            },
            "type": "scatterternary"
           }
          ],
          "surface": [
           {
            "colorbar": {
             "outlinewidth": 0,
             "ticks": ""
            },
            "colorscale": [
             [
              0,
              "#0d0887"
             ],
             [
              0.1111111111111111,
              "#46039f"
             ],
             [
              0.2222222222222222,
              "#7201a8"
             ],
             [
              0.3333333333333333,
              "#9c179e"
             ],
             [
              0.4444444444444444,
              "#bd3786"
             ],
             [
              0.5555555555555556,
              "#d8576b"
             ],
             [
              0.6666666666666666,
              "#ed7953"
             ],
             [
              0.7777777777777778,
              "#fb9f3a"
             ],
             [
              0.8888888888888888,
              "#fdca26"
             ],
             [
              1,
              "#f0f921"
             ]
            ],
            "type": "surface"
           }
          ],
          "table": [
           {
            "cells": {
             "fill": {
              "color": "#EBF0F8"
             },
             "line": {
              "color": "white"
             }
            },
            "header": {
             "fill": {
              "color": "#C8D4E3"
             },
             "line": {
              "color": "white"
             }
            },
            "type": "table"
           }
          ]
         },
         "layout": {
          "annotationdefaults": {
           "arrowcolor": "#2a3f5f",
           "arrowhead": 0,
           "arrowwidth": 1
          },
          "autotypenumbers": "strict",
          "coloraxis": {
           "colorbar": {
            "outlinewidth": 0,
            "ticks": ""
           }
          },
          "colorscale": {
           "diverging": [
            [
             0,
             "#8e0152"
            ],
            [
             0.1,
             "#c51b7d"
            ],
            [
             0.2,
             "#de77ae"
            ],
            [
             0.3,
             "#f1b6da"
            ],
            [
             0.4,
             "#fde0ef"
            ],
            [
             0.5,
             "#f7f7f7"
            ],
            [
             0.6,
             "#e6f5d0"
            ],
            [
             0.7,
             "#b8e186"
            ],
            [
             0.8,
             "#7fbc41"
            ],
            [
             0.9,
             "#4d9221"
            ],
            [
             1,
             "#276419"
            ]
           ],
           "sequential": [
            [
             0,
             "#0d0887"
            ],
            [
             0.1111111111111111,
             "#46039f"
            ],
            [
             0.2222222222222222,
             "#7201a8"
            ],
            [
             0.3333333333333333,
             "#9c179e"
            ],
            [
             0.4444444444444444,
             "#bd3786"
            ],
            [
             0.5555555555555556,
             "#d8576b"
            ],
            [
             0.6666666666666666,
             "#ed7953"
            ],
            [
             0.7777777777777778,
             "#fb9f3a"
            ],
            [
             0.8888888888888888,
             "#fdca26"
            ],
            [
             1,
             "#f0f921"
            ]
           ],
           "sequentialminus": [
            [
             0,
             "#0d0887"
            ],
            [
             0.1111111111111111,
             "#46039f"
            ],
            [
             0.2222222222222222,
             "#7201a8"
            ],
            [
             0.3333333333333333,
             "#9c179e"
            ],
            [
             0.4444444444444444,
             "#bd3786"
            ],
            [
             0.5555555555555556,
             "#d8576b"
            ],
            [
             0.6666666666666666,
             "#ed7953"
            ],
            [
             0.7777777777777778,
             "#fb9f3a"
            ],
            [
             0.8888888888888888,
             "#fdca26"
            ],
            [
             1,
             "#f0f921"
            ]
           ]
          },
          "colorway": [
           "#636efa",
           "#EF553B",
           "#00cc96",
           "#ab63fa",
           "#FFA15A",
           "#19d3f3",
           "#FF6692",
           "#B6E880",
           "#FF97FF",
           "#FECB52"
          ],
          "font": {
           "color": "#2a3f5f"
          },
          "geo": {
           "bgcolor": "white",
           "lakecolor": "white",
           "landcolor": "#E5ECF6",
           "showlakes": true,
           "showland": true,
           "subunitcolor": "white"
          },
          "hoverlabel": {
           "align": "left"
          },
          "hovermode": "closest",
          "mapbox": {
           "style": "light"
          },
          "paper_bgcolor": "white",
          "plot_bgcolor": "#E5ECF6",
          "polar": {
           "angularaxis": {
            "gridcolor": "white",
            "linecolor": "white",
            "ticks": ""
           },
           "bgcolor": "#E5ECF6",
           "radialaxis": {
            "gridcolor": "white",
            "linecolor": "white",
            "ticks": ""
           }
          },
          "scene": {
           "xaxis": {
            "backgroundcolor": "#E5ECF6",
            "gridcolor": "white",
            "gridwidth": 2,
            "linecolor": "white",
            "showbackground": true,
            "ticks": "",
            "zerolinecolor": "white"
           },
           "yaxis": {
            "backgroundcolor": "#E5ECF6",
            "gridcolor": "white",
            "gridwidth": 2,
            "linecolor": "white",
            "showbackground": true,
            "ticks": "",
            "zerolinecolor": "white"
           },
           "zaxis": {
            "backgroundcolor": "#E5ECF6",
            "gridcolor": "white",
            "gridwidth": 2,
            "linecolor": "white",
            "showbackground": true,
            "ticks": "",
            "zerolinecolor": "white"
           }
          },
          "shapedefaults": {
           "line": {
            "color": "#2a3f5f"
           }
          },
          "ternary": {
           "aaxis": {
            "gridcolor": "white",
            "linecolor": "white",
            "ticks": ""
           },
           "baxis": {
            "gridcolor": "white",
            "linecolor": "white",
            "ticks": ""
           },
           "bgcolor": "#E5ECF6",
           "caxis": {
            "gridcolor": "white",
            "linecolor": "white",
            "ticks": ""
           }
          },
          "title": {
           "x": 0.05
          },
          "xaxis": {
           "automargin": true,
           "gridcolor": "white",
           "linecolor": "white",
           "ticks": "",
           "title": {
            "standoff": 15
           },
           "zerolinecolor": "white",
           "zerolinewidth": 2
          },
          "yaxis": {
           "automargin": true,
           "gridcolor": "white",
           "linecolor": "white",
           "ticks": "",
           "title": {
            "standoff": 15
           },
           "zerolinecolor": "white",
           "zerolinewidth": 2
          }
         }
        },
        "title": {
         "text": "dfs_sort"
        },
        "width": 1200,
        "xaxis": {
         "anchor": "y",
         "domain": [
          0,
          0.45
         ]
        },
        "xaxis10": {
         "anchor": "y10",
         "domain": [
          0.55,
          1
         ]
        },
        "xaxis11": {
         "anchor": "y11",
         "domain": [
          0,
          0.45
         ]
        },
        "xaxis12": {
         "anchor": "y12",
         "domain": [
          0.55,
          1
         ]
        },
        "xaxis13": {
         "anchor": "y13",
         "domain": [
          0,
          0.45
         ]
        },
        "xaxis14": {
         "anchor": "y14",
         "domain": [
          0.55,
          1
         ]
        },
        "xaxis2": {
         "anchor": "y2",
         "domain": [
          0.55,
          1
         ]
        },
        "xaxis3": {
         "anchor": "y3",
         "domain": [
          0,
          0.45
         ]
        },
        "xaxis4": {
         "anchor": "y4",
         "domain": [
          0.55,
          1
         ]
        },
        "xaxis5": {
         "anchor": "y5",
         "domain": [
          0,
          0.45
         ]
        },
        "xaxis6": {
         "anchor": "y6",
         "domain": [
          0.55,
          1
         ]
        },
        "xaxis7": {
         "anchor": "y7",
         "domain": [
          0,
          0.45
         ]
        },
        "xaxis8": {
         "anchor": "y8",
         "domain": [
          0.55,
          1
         ]
        },
        "xaxis9": {
         "anchor": "y9",
         "domain": [
          0,
          0.45
         ]
        },
        "yaxis": {
         "anchor": "x",
         "domain": [
          0.9183673469387754,
          0.9999999999999999
         ],
         "title": {
          "text": "time [s]"
         }
        },
        "yaxis10": {
         "anchor": "x10",
         "domain": [
          0.30612244897959184,
          0.3877551020408163
         ],
         "title": {
          "text": "time [s]"
         }
        },
        "yaxis11": {
         "anchor": "x11",
         "domain": [
          0.15306122448979592,
          0.2346938775510204
         ],
         "title": {
          "text": "time [s]"
         }
        },
        "yaxis12": {
         "anchor": "x12",
         "domain": [
          0.15306122448979592,
          0.2346938775510204
         ],
         "title": {
          "text": "time [s]"
         }
        },
        "yaxis13": {
         "anchor": "x13",
         "domain": [
          0,
          0.08163265306122448
         ],
         "title": {
          "text": "time [s]"
         }
        },
        "yaxis14": {
         "anchor": "x14",
         "domain": [
          0,
          0.08163265306122448
         ],
         "title": {
          "text": "time [s]"
         }
        },
        "yaxis2": {
         "anchor": "x2",
         "domain": [
          0.9183673469387754,
          0.9999999999999999
         ],
         "title": {
          "text": "time [s]"
         }
        },
        "yaxis3": {
         "anchor": "x3",
         "domain": [
          0.7653061224489794,
          0.8469387755102039
         ],
         "title": {
          "text": "time [s]"
         }
        },
        "yaxis4": {
         "anchor": "x4",
         "domain": [
          0.7653061224489794,
          0.8469387755102039
         ],
         "title": {
          "text": "time [s]"
         }
        },
        "yaxis5": {
         "anchor": "x5",
         "domain": [
          0.6122448979591837,
          0.6938775510204082
         ],
         "title": {
          "text": "time [s]"
         }
        },
        "yaxis6": {
         "anchor": "x6",
         "domain": [
          0.6122448979591837,
          0.6938775510204082
         ],
         "title": {
          "text": "time [s]"
         }
        },
        "yaxis7": {
         "anchor": "x7",
         "domain": [
          0.4591836734693877,
          0.5408163265306122
         ],
         "title": {
          "text": "time [s]"
         }
        },
        "yaxis8": {
         "anchor": "x8",
         "domain": [
          0.4591836734693877,
          0.5408163265306122
         ],
         "title": {
          "text": "time [s]"
         }
        },
        "yaxis9": {
         "anchor": "x9",
         "domain": [
          0.30612244897959184,
          0.3877551020408163
         ],
         "title": {
          "text": "time [s]"
         }
        }
       }
      }
     },
     "metadata": {},
     "output_type": "display_data"
    }
   ],
   "source": [
    "compareSortTimesForGraphSizes(times[\"dfs_sort\"], \"dfs_sort\")"
   ]
  },
  {
   "attachments": {},
   "cell_type": "markdown",
   "metadata": {},
   "source": [
    "### Conclusions:\n",
    "\n",
    "TODO first rest of report needed\n",
    "    \n"
   ]
  }
 ],
 "metadata": {
  "kernelspec": {
   "display_name": "base",
   "language": "python",
   "name": "python3"
  },
  "language_info": {
   "codemirror_mode": {
    "name": "ipython",
    "version": 3
   },
   "file_extension": ".py",
   "mimetype": "text/x-python",
   "name": "python",
   "nbconvert_exporter": "python",
   "pygments_lexer": "ipython3",
   "version": "3.9.16"
  },
  "orig_nbformat": 4
 },
 "nbformat": 4,
 "nbformat_minor": 2
}
