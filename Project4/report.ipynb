{
 "cells": [
  {
   "attachments": {},
   "cell_type": "markdown",
   "metadata": {},
   "source": [
    "# Report 4"
   ]
  },
  {
   "attachments": {},
   "cell_type": "markdown",
   "metadata": {},
   "source": [
    "## Algorithms with backtracking"
   ]
  },
  {
   "attachments": {},
   "cell_type": "markdown",
   "metadata": {},
   "source": [
    "#### Marcin Kapiszewski 156048\n",
    "#### Adam Tomys 156057"
   ]
  },
  {
   "attachments": {},
   "cell_type": "markdown",
   "metadata": {},
   "source": [
    "Group 2"
   ]
  },
  {
   "attachments": {},
   "cell_type": "markdown",
   "metadata": {},
   "source": [
    "### Algorithms:\n",
    "#### Roberts-Flores algorithm:\n",
    "- we choose random node and check all possible paths(using DFS) witch contain every node only ones\n",
    "- we build the path as long as we can (we save it on stack). If we can't build further, we remove the last added vertex and see if we can start building further using another, next edge\n",
    "- when we have all elements in the heap we check if we can end the cycle\n",
    "\n",
    "#### Hilholzen algorithm:\n",
    "- check if Eulerian graph exists(all nodes degrees are even and not 0)\n",
    "- choose random vertex v\n",
    "- follow a trail of edges from that vertex until returning to v\n",
    "- as long as there exists a vertex u that belongs to the current tour, but that has adjacent edges not part of the tour, start another trail from u, following unused edges until returning to u, and join the tour formed in this way to the previous tour"
   ]
  },
  {
   "attachments": {},
   "cell_type": "markdown",
   "metadata": {},
   "source": [
    "### Graph generators:\n",
    "#### With HC:\n",
    "- we generate cycle by shuffle the list of all nodes and connect all adjacent nodes and first with the last one(if the second elem is equal to last one we swap second element with third), after that we fulfill the graph with edges until density is correct\n",
    "#### Without HC:\n",
    "-\n",
    "#### With EC:\n",
    "-\n",
    "#### Without EC:\n",
    "-"
   ]
  },
  {
   "attachments": {},
   "cell_type": "markdown",
   "metadata": {},
   "source": [
    "Choosen undirected graph representation: Adjacency List"
   ]
  }
 ],
 "metadata": {
  "language_info": {
   "name": "python"
  },
  "orig_nbformat": 4
 },
 "nbformat": 4,
 "nbformat_minor": 2
}
