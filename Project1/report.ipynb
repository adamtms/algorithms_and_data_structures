{
 "cells": [
  {
   "attachments": {},
   "cell_type": "markdown",
   "metadata": {},
   "source": [
    "# Report 1\n",
    "## Sorting algorithms"
   ]
  },
  {
   "attachments": {},
   "cell_type": "markdown",
   "metadata": {},
   "source": [
    "#### Marcin Kapiszewski 156048\n",
    "#### Adam Tomys ------"
   ]
  },
  {
   "attachments": {},
   "cell_type": "markdown",
   "metadata": {},
   "source": [
    "Group 2"
   ]
  },
  {
   "cell_type": "code",
   "execution_count": 1,
   "metadata": {},
   "outputs": [],
   "source": [
    "from Program_Evaluation.Generate_input import generateInput\n",
    "from Sorting_algorithms.Bubble_sort import bubbleSort\n",
    "from Sorting_algorithms.Python_Build_Sorting import pythonBuildSorting\n",
    "from Sorting_algorithms.Quicksort import quickSort\n",
    "from Program_Evaluation.Evaluate_program import evaluate_program\n",
    "from statistics import mean"
   ]
  },
  {
   "cell_type": "code",
   "execution_count": 2,
   "metadata": {},
   "outputs": [
    {
     "name": "stdout",
     "output_type": "stream",
     "text": [
      "Input size = 10\n",
      "\tAverage time of bubble sort ==> 0.0\n",
      "\tAverage time of quick sort ==> 0.0\n",
      "Input size = 100\n",
      "\tAverage time of bubble sort ==> 0.00116119384765625\n",
      "\tAverage time of quick sort ==> 0.00012195110321044922\n",
      "Input size = 1000\n",
      "\tAverage time of bubble sort ==> 0.14291021823883057\n",
      "\tAverage time of quick sort ==> 0.003362703323364258\n",
      "Input size = 2000\n",
      "\tAverage time of bubble sort ==> 0.5634370088577271\n",
      "\tAverage time of quick sort ==> 0.006953001022338867\n",
      "Input size = 3000\n",
      "\tAverage time of bubble sort ==> 1.2744029998779296\n",
      "\tAverage time of quick sort ==> 0.011252498626708985\n"
     ]
    }
   ],
   "source": [
    "input_sizes = [10, 100, 1000, 2000, 3000]\n",
    "for input_size in input_sizes:\n",
    "    print(f'Input size = {input_size}')\n",
    "    bubbleSortTimes = []\n",
    "    quickSortTimes = []\n",
    "    for _ in range(10):\n",
    "        sample_input = generateInput(input_size)\n",
    "        bubbleSortTimes.append(evaluate_program(bubbleSort, sample_input.copy()))\n",
    "        quickSortTimes.append(evaluate_program(quickSort, sample_input.copy()))\n",
    "    bubbleSortAverageTime = mean(bubbleSortTimes)\n",
    "    quickSortAverageTime = mean(quickSortTimes)\n",
    "    print(f'\\tAverage time of bubble sort ==> {bubbleSortAverageTime}')\n",
    "    print(f'\\tAverage time of quick sort ==> {quickSortAverageTime}')"
   ]
  },
  {
   "cell_type": "code",
   "execution_count": 3,
   "metadata": {},
   "outputs": [
    {
     "name": "stdout",
     "output_type": "stream",
     "text": [
      "1.2744029998779296\n",
      "0.011252498626708985\n"
     ]
    }
   ],
   "source": [
    "print(bubbleSortAverageTime)\n",
    "print(quickSortAverageTime)"
   ]
  }
 ],
 "metadata": {
  "kernelspec": {
   "display_name": "base",
   "language": "python",
   "name": "python3"
  },
  "language_info": {
   "codemirror_mode": {
    "name": "ipython",
    "version": 3
   },
   "file_extension": ".py",
   "mimetype": "text/x-python",
   "name": "python",
   "nbconvert_exporter": "python",
   "pygments_lexer": "ipython3",
   "version": "3.9.13"
  },
  "orig_nbformat": 4
 },
 "nbformat": 4,
 "nbformat_minor": 2
}
