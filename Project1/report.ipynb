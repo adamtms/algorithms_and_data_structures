{
 "cells": [
  {
   "attachments": {},
   "cell_type": "markdown",
   "metadata": {},
   "source": [
    "# Report 1\n",
    "## Sorting algorithms"
   ]
  },
  {
   "attachments": {},
   "cell_type": "markdown",
   "metadata": {},
   "source": [
    "#### Marcin Kapiszewski 156048\n",
    "#### Adam Tomys 156057"
   ]
  },
  {
   "attachments": {},
   "cell_type": "markdown",
   "metadata": {},
   "source": [
    "Group 2"
   ]
  },
  {
   "cell_type": "code",
   "execution_count": 1,
   "metadata": {},
   "outputs": [],
   "source": [
    "from Program_Evaluation.Generate_input import *\n",
    "from Sorting_algorithms.Bubble_sort import bubble_sort\n",
    "from Sorting_algorithms.Built_in_sort import built_in_sort\n",
    "from Sorting_algorithms.Quick_sort import quick_sort\n",
    "from Sorting_algorithms.Insertion_sort import insert_sort\n",
    "from Sorting_algorithms.Counting_sort import counting_sort\n",
    "from Program_Evaluation.Evaluate_program import evaluate_program\n",
    "from statistics import mean\n",
    "import sys"
   ]
  },
  {
   "cell_type": "code",
   "execution_count": 2,
   "metadata": {},
   "outputs": [],
   "source": [
    "sys.setrecursionlimit(100_000)"
   ]
  },
  {
   "cell_type": "code",
   "execution_count": 3,
   "metadata": {},
   "outputs": [],
   "source": [
    "SORTS = (built_in_sort, bubble_sort, insert_sort, quick_sort, counting_sort)\n",
    "INPUT_TYPES = (generate_increasing, generate_decreasing, generate_v_shape)\n",
    "INPUT_DENSITIES = (generate_dense, generate_sparse)\n",
    "INPUT_SIZES = [10, 100, 1_000, 2_500, 5_000, 10_000]\n",
    "STANDARD_SIZE = 5_000\n",
    "STANDARD_GENERATOR = generate_random"
   ]
  },
  {
   "cell_type": "code",
   "execution_count": 4,
   "metadata": {},
   "outputs": [],
   "source": [
    "def get_times(sort, input_types=INPUT_TYPES, input_sizes=INPUT_SIZES, input_densities=INPUT_DENSITIES):\n",
    "    time_size = {}\n",
    "    for input_size in input_sizes:\n",
    "        times = []\n",
    "        for _ in range(10):\n",
    "            sample_input = STANDARD_GENERATOR(input_size)\n",
    "            time = evaluate_program(sort, sample_input)\n",
    "            times.append(time)\n",
    "        time_size[input_size] = mean(times)\n",
    "\n",
    "    time_type = {\"generate_random\": time_size[STANDARD_SIZE]}\n",
    "    for input_type in input_types:\n",
    "        times = []\n",
    "        for _ in range(10):\n",
    "            sample_input = input_type()\n",
    "            time = evaluate_program(sort, sample_input)\n",
    "            times.append(time)        \n",
    "        time_type[input_type.__name__] = mean(times)\n",
    "    \n",
    "    time_density = {\"generate_standard\": time_size[STANDARD_SIZE]}\n",
    "    for input_density in input_densities:\n",
    "        times = []\n",
    "        for _ in range(10):\n",
    "            sample_input = input_type()\n",
    "            time = evaluate_program(sort, sample_input)\n",
    "            times.append(time)        \n",
    "        time_density[input_density.__name__] = mean(times)\n",
    "\n",
    "    return time_size, time_type, time_density"
   ]
  },
  {
   "cell_type": "code",
   "execution_count": 5,
   "metadata": {},
   "outputs": [
    {
     "data": {
      "text/plain": [
       "({10: 6.008148193359375e-06,\n",
       "  100: 8.084774017333985e-05,\n",
       "  1000: 0.0013134241104125976,\n",
       "  2500: 0.003613710403442383,\n",
       "  5000: 0.0077669620513916016,\n",
       "  10000: 0.016744518280029298},\n",
       " {'generate_random': 0.0077669620513916016,\n",
       "  'generate_increasing': 1.4454606771469116,\n",
       "  'generate_decreasing': 0.9433600425720214,\n",
       "  'generate_v_shape': 0.17792298793792724},\n",
       " {'generate_standard': 0.0077669620513916016,\n",
       "  'generate_dense': 0.18449172973632813,\n",
       "  'generate_sparse': 0.18810043334960938})"
      ]
     },
     "execution_count": 5,
     "metadata": {},
     "output_type": "execute_result"
    }
   ],
   "source": [
    "get_times(quick_sort)"
   ]
  },
  {
   "cell_type": "code",
   "execution_count": 6,
   "metadata": {},
   "outputs": [
    {
     "data": {
      "text/plain": [
       "({10: 5.483627319335937e-07,\n",
       "  100: 5.14984130859375e-06,\n",
       "  1000: 7.431507110595703e-05,\n",
       "  2500: 0.0001847982406616211,\n",
       "  5000: 0.00040628910064697263,\n",
       "  10000: 0.0008827447891235352},\n",
       " {'generate_random': 0.00040628910064697263,\n",
       "  'generate_increasing': 2.605915069580078e-05,\n",
       "  'generate_decreasing': 9.043216705322266e-05,\n",
       "  'generate_v_shape': 4.0078163146972655e-05},\n",
       " {'generate_standard': 0.00040628910064697263,\n",
       "  'generate_dense': 4.029273986816406e-05,\n",
       "  'generate_sparse': 4.00543212890625e-05})"
      ]
     },
     "execution_count": 6,
     "metadata": {},
     "output_type": "execute_result"
    }
   ],
   "source": [
    "get_times(built_in_sort)"
   ]
  },
  {
   "cell_type": "code",
   "execution_count": 7,
   "metadata": {},
   "outputs": [
    {
     "data": {
      "text/plain": [
       "({10: 7.915496826171876e-06,\n",
       "  100: 8.597373962402344e-05,\n",
       "  1000: 0.0010612726211547852,\n",
       "  2500: 0.0025079011917114257,\n",
       "  5000: 0.005034995079040527,\n",
       "  10000: 0.01005859375},\n",
       " {'generate_random': 0.005034995079040527,\n",
       "  'generate_increasing': 0.0049440860748291016,\n",
       "  'generate_decreasing': 0.004938459396362305,\n",
       "  'generate_v_shape': 0.004955649375915527},\n",
       " {'generate_standard': 0.005034995079040527,\n",
       "  'generate_dense': 0.004899501800537109,\n",
       "  'generate_sparse': 0.004941082000732422})"
      ]
     },
     "execution_count": 7,
     "metadata": {},
     "output_type": "execute_result"
    }
   ],
   "source": [
    "get_times(counting_sort)"
   ]
  },
  {
   "cell_type": "code",
   "execution_count": 10,
   "metadata": {},
   "outputs": [
    {
     "name": "stdout",
     "output_type": "stream",
     "text": [
      "Input size = 10\n",
      "\tAverage time of bubble sort ==> 8.20159912109375e-06\n",
      "\tAverage time of quick sort ==> 7.414817810058594e-06\n",
      "Input size = 100\n",
      "\tAverage time of bubble sort ==> 0.0006416082382202148\n",
      "\tAverage time of quick sort ==> 0.00010392665863037109\n",
      "Input size = 1000\n",
      "\tAverage time of bubble sort ==> 0.05877718925476074\n",
      "\tAverage time of quick sort ==> 0.001259613037109375\n",
      "Input size = 2500\n",
      "\tAverage time of bubble sort ==> 0.36706621646881105\n",
      "\tAverage time of quick sort ==> 0.003698110580444336\n",
      "Input size = 5000\n",
      "\tAverage time of bubble sort ==> 1.472951602935791\n",
      "\tAverage time of quick sort ==> 0.00752110481262207\n",
      "Input size = 10000\n",
      "\tAverage time of bubble sort ==> 5.900842881202697\n",
      "\tAverage time of quick sort ==> 0.016446185111999512\n"
     ]
    }
   ],
   "source": [
    "for input_size in INPUT_SIZES:\n",
    "    print(f'Input size = {input_size}')\n",
    "    bubble_sort_times = []\n",
    "    quickSortTimes = []\n",
    "    for _ in range(10):\n",
    "        sample_input = generate_random(input_size)\n",
    "        bubble_sort_times.append(evaluate_program(bubble_sort, sample_input.copy()))\n",
    "        quickSortTimes.append(evaluate_program(quick_sort, sample_input.copy()))\n",
    "    bubble_sort_average_time = mean(bubble_sort_times)\n",
    "    quick_sort_average_time = mean(quickSortTimes)\n",
    "    print(f'\\tAverage time of bubble sort ==> {bubble_sort_average_time}')\n",
    "    print(f'\\tAverage time of quick sort ==> {quick_sort_average_time}')"
   ]
  },
  {
   "cell_type": "code",
   "execution_count": 9,
   "metadata": {},
   "outputs": [
    {
     "name": "stdout",
     "output_type": "stream",
     "text": [
      "5.949746608734131\n",
      "0.01646895408630371\n"
     ]
    }
   ],
   "source": [
    "print(bubble_sort_average_time)\n",
    "print(quick_sort_average_time)"
   ]
  }
 ],
 "metadata": {
  "kernelspec": {
   "display_name": "ItAI_labs",
   "language": "python",
   "name": "python3"
  },
  "language_info": {
   "codemirror_mode": {
    "name": "ipython",
    "version": 3
   },
   "file_extension": ".py",
   "mimetype": "text/x-python",
   "name": "python",
   "nbconvert_exporter": "python",
   "pygments_lexer": "ipython3",
   "version": "3.9.16"
  },
  "orig_nbformat": 4,
  "vscode": {
   "interpreter": {
    "hash": "d916ae262df0157241e3a81bb8ef770b0b700ec0c31bef15e62c26fd50d78867"
   }
  }
 },
 "nbformat": 4,
 "nbformat_minor": 2
}
