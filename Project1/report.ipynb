{
 "cells": [
  {
   "attachments": {},
   "cell_type": "markdown",
   "metadata": {},
   "source": [
    "# Report 1\n",
    "## Sorting algorithms"
   ]
  },
  {
   "attachments": {},
   "cell_type": "markdown",
   "metadata": {},
   "source": [
    "#### Marcin Kapiszewski 156048\n",
    "#### Adam Tomys 156057"
   ]
  },
  {
   "attachments": {},
   "cell_type": "markdown",
   "metadata": {},
   "source": [
    "Group 2"
   ]
  },
  {
   "cell_type": "code",
   "execution_count": 1,
   "metadata": {},
   "outputs": [],
   "source": [
    "from Program_Evaluation.Generate_input import *\n",
    "from Sorting_algorithms.Bubble_sort import bubble_sort\n",
    "from Sorting_algorithms.Built_in_sort import built_in_sort\n",
    "from Sorting_algorithms.Quick_sort import quick_sort\n",
    "from Sorting_algorithms.Insertion_sort import insert_sort\n",
    "from Sorting_algorithms.Counting_sort import counting_sort\n",
    "from Program_Evaluation.Evaluate_program import evaluate_program\n",
    "import sys"
   ]
  },
  {
   "cell_type": "code",
   "execution_count": 2,
   "metadata": {},
   "outputs": [],
   "source": [
    "sys.setrecursionlimit(100_000)"
   ]
  },
  {
   "cell_type": "code",
   "execution_count": 3,
   "metadata": {},
   "outputs": [],
   "source": [
    "SORTS = (built_in_sort, bubble_sort, insert_sort, quick_sort, counting_sort)\n",
    "INPUT_TYPES = (generate_increasing, generate_decreasing, generate_v_shape)\n",
    "INPUT_DENSITIES = (generate_condense, generate_sparse)\n",
    "INPUT_SIZES = [10, 100, 1_000, 2_500, 5_000, 10_000]\n",
    "STANDARD_SIZE = 5_000\n",
    "STANDARD_GENERATOR = generate_random"
   ]
  },
  {
   "cell_type": "code",
   "execution_count": 4,
   "metadata": {},
   "outputs": [],
   "source": [
    "def get_times(sort):\n",
    "    time_size = {}\n",
    "    for input_size in INPUT_SIZES:\n",
    "        time_size[input_size] = evaluate_program(sort, STANDARD_GENERATOR, input_size)\n",
    "\n",
    "    time_type = {\"generate_random\": time_size[STANDARD_SIZE]}\n",
    "    for input_type in INPUT_TYPES:       \n",
    "        time_type[input_type.__name__] = evaluate_program(sort, input_type)\n",
    "    \n",
    "    time_density = {\"generate_standard\": time_size[STANDARD_SIZE]}\n",
    "    for input_density in INPUT_DENSITIES:\n",
    "        time_density[input_density.__name__] = evaluate_program(sort, input_density)\n",
    "\n",
    "    return time_size, time_type, time_density"
   ]
  },
  {
   "cell_type": "code",
   "execution_count": 5,
   "metadata": {},
   "outputs": [],
   "source": [
    "times = {}\n",
    "for sort in SORTS:\n",
    "    times[sort.__name__] = get_times(sort)"
   ]
  },
  {
   "cell_type": "code",
   "execution_count": 6,
   "metadata": {},
   "outputs": [
    {
     "data": {
      "text/plain": [
       "{'built_in_sort': ({10: 4.0531158447265624e-07,\n",
       "   100: 5.0067901611328125e-06,\n",
       "   1000: 7.205009460449218e-05,\n",
       "   2500: 0.00019044876098632811,\n",
       "   5000: 0.0004245758056640625,\n",
       "   10000: 0.0009350061416625976},\n",
       "  {'generate_random': 0.0004245758056640625,\n",
       "   'generate_increasing': 2.2935867309570313e-05,\n",
       "   'generate_decreasing': 0.00010747909545898438,\n",
       "   'generate_v_shape': 4.267692565917969e-05},\n",
       "  {'generate_standard': 0.0004245758056640625,\n",
       "   'generate_condense': 0.0004020214080810547,\n",
       "   'generate_sparse': 0.00043528079986572267}),\n",
       " 'bubble_sort': ({10: 6.175041198730468e-06,\n",
       "   100: 0.0004606008529663086,\n",
       "   1000: 0.0586505651473999,\n",
       "   2500: 0.36075167655944823,\n",
       "   5000: 1.4366053581237792,\n",
       "   10000: 5.725918221473694},\n",
       "  {'generate_random': 1.4366053581237792,\n",
       "   'generate_increasing': 0.8695818901062011,\n",
       "   'generate_decreasing': 1.9496145486831664,\n",
       "   'generate_v_shape': 1.4011131286621095},\n",
       "  {'generate_standard': 1.4366053581237792,\n",
       "   'generate_condense': 1.4316941261291505,\n",
       "   'generate_sparse': 1.423531985282898}),\n",
       " 'insert_sort': ({10: 4.00543212890625e-06,\n",
       "   100: 0.0002489328384399414,\n",
       "   1000: 0.031276798248291014,\n",
       "   2500: 0.20610640048980713,\n",
       "   5000: 0.8305920600891114,\n",
       "   10000: 3.34019021987915},\n",
       "  {'generate_random': 0.8305920600891114,\n",
       "   'generate_increasing': 0.0005582094192504883,\n",
       "   'generate_decreasing': 1.6747689723968506,\n",
       "   'generate_v_shape': 0.8308940887451172},\n",
       "  {'generate_standard': 0.8305920600891114,\n",
       "   'generate_condense': 0.8441725730895996,\n",
       "   'generate_sparse': 0.8380785703659057}),\n",
       " 'quick_sort': ({10: 6.556510925292969e-06,\n",
       "   100: 9.114742279052735e-05,\n",
       "   1000: 0.0012786388397216797,\n",
       "   2500: 0.0037261962890625,\n",
       "   5000: 0.008120203018188476,\n",
       "   10000: 0.017720460891723633},\n",
       "  {'generate_random': 0.008120203018188476,\n",
       "   'generate_increasing': 1.449864101409912,\n",
       "   'generate_decreasing': 0.9572962045669555,\n",
       "   'generate_v_shape': 0.7233813524246215},\n",
       "  {'generate_standard': 0.008120203018188476,\n",
       "   'generate_condense': 0.01050736904144287,\n",
       "   'generate_sparse': 0.008054375648498535}),\n",
       " 'counting_sort': ({10: 9.036064147949218e-06,\n",
       "   100: 8.859634399414063e-05,\n",
       "   1000: 0.0009842872619628905,\n",
       "   2500: 0.002506566047668457,\n",
       "   5000: 0.005014204978942871,\n",
       "   10000: 0.010225796699523925},\n",
       "  {'generate_random': 0.005014204978942871,\n",
       "   'generate_increasing': 0.004979515075683593,\n",
       "   'generate_decreasing': 0.005007505416870117,\n",
       "   'generate_v_shape': 0.004998254776000977},\n",
       "  {'generate_standard': 0.005014204978942871,\n",
       "   'generate_condense': 0.0006986618041992188,\n",
       "   'generate_sparse': 0.4528194427490234})}"
      ]
     },
     "execution_count": 6,
     "metadata": {},
     "output_type": "execute_result"
    }
   ],
   "source": [
    "times"
   ]
  }
 ],
 "metadata": {
  "kernelspec": {
   "display_name": "ItAI_labs",
   "language": "python",
   "name": "python3"
  },
  "language_info": {
   "codemirror_mode": {
    "name": "ipython",
    "version": 3
   },
   "file_extension": ".py",
   "mimetype": "text/x-python",
   "name": "python",
   "nbconvert_exporter": "python",
   "pygments_lexer": "ipython3",
   "version": "3.9.16"
  },
  "orig_nbformat": 4,
  "vscode": {
   "interpreter": {
    "hash": "d916ae262df0157241e3a81bb8ef770b0b700ec0c31bef15e62c26fd50d78867"
   }
  }
 },
 "nbformat": 4,
 "nbformat_minor": 2
}
