{
 "cells": [
  {
   "attachments": {},
   "cell_type": "markdown",
   "metadata": {},
   "source": [
    "# Report 1\n",
    "## Sorting algorithms"
   ]
  },
  {
   "attachments": {},
   "cell_type": "markdown",
   "metadata": {},
   "source": [
    "#### Marcin Kapiszewski 156048\n",
    "#### Adam Tomys 156057"
   ]
  },
  {
   "attachments": {},
   "cell_type": "markdown",
   "metadata": {},
   "source": [
    "Group 2"
   ]
  },
  {
   "cell_type": "code",
   "execution_count": 1,
   "metadata": {},
   "outputs": [],
   "source": [
    "from Program_Evaluation.Generate_input import generate_input\n",
    "from Sorting_algorithms.Bubble_sort import bubble_sort\n",
    "from Sorting_algorithms.Built_in_sort import built_in_sort\n",
    "from Sorting_algorithms.Quick_sort import quick_sort\n",
    "from Program_Evaluation.Evaluate_program import evaluate_program\n",
    "from statistics import mean"
   ]
  },
  {
   "cell_type": "code",
   "execution_count": 2,
   "metadata": {},
   "outputs": [
    {
     "name": "stdout",
     "output_type": "stream",
     "text": [
      "Input size = 10\n",
      "\tAverage time of bubble sort ==> 1.2111663818359374e-05\n",
      "\tAverage time of quick sort ==> 1.2969970703125e-05\n",
      "Input size = 100\n",
      "\tAverage time of bubble sort ==> 0.0011797904968261718\n",
      "\tAverage time of quick sort ==> 0.00022068023681640626\n",
      "Input size = 1000\n",
      "\tAverage time of bubble sort ==> 0.14980955123901368\n",
      "\tAverage time of quick sort ==> 0.0036126375198364258\n",
      "Input size = 2000\n",
      "\tAverage time of bubble sort ==> 0.5133919000625611\n",
      "\tAverage time of quick sort ==> 0.006289792060852051\n",
      "Input size = 3000\n",
      "\tAverage time of bubble sort ==> 1.036506962776184\n",
      "\tAverage time of quick sort ==> 0.009380650520324708\n"
     ]
    }
   ],
   "source": [
    "input_sizes = [10, 100, 1000, 2000, 3000]\n",
    "for input_size in input_sizes:\n",
    "    print(f'Input size = {input_size}')\n",
    "    bubble_sort_times = []\n",
    "    quickSortTimes = []\n",
    "    for _ in range(10):\n",
    "        sample_input = generate_input(input_size)\n",
    "        bubble_sort_times.append(evaluate_program(bubble_sort, sample_input.copy()))\n",
    "        quickSortTimes.append(evaluate_program(quick_sort, sample_input.copy()))\n",
    "    bubble_sort_average_time = mean(bubble_sort_times)\n",
    "    quick_sort_average_time = mean(quickSortTimes)\n",
    "    print(f'\\tAverage time of bubble sort ==> {bubble_sort_average_time}')\n",
    "    print(f'\\tAverage time of quick sort ==> {quick_sort_average_time}')"
   ]
  },
  {
   "cell_type": "code",
   "execution_count": 3,
   "metadata": {},
   "outputs": [
    {
     "name": "stdout",
     "output_type": "stream",
     "text": [
      "1.036506962776184\n",
      "0.009380650520324708\n"
     ]
    }
   ],
   "source": [
    "print(bubble_sort_average_time)\n",
    "print(quick_sort_average_time)"
   ]
  }
 ],
 "metadata": {
  "kernelspec": {
   "display_name": "base",
   "language": "python",
   "name": "python3"
  },
  "language_info": {
   "codemirror_mode": {
    "name": "ipython",
    "version": 3
   },
   "file_extension": ".py",
   "mimetype": "text/x-python",
   "name": "python",
   "nbconvert_exporter": "python",
   "pygments_lexer": "ipython3",
   "version": "3.9.12"
  },
  "orig_nbformat": 4,
  "vscode": {
   "interpreter": {
    "hash": "b8ed835ade5aab13be076633d5e87a238de5e606470f577f035f892af301f1fb"
   }
  }
 },
 "nbformat": 4,
 "nbformat_minor": 2
}
