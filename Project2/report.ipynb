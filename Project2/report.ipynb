{
 "cells": [
  {
   "attachments": {},
   "cell_type": "markdown",
   "metadata": {},
   "source": [
    "# Report 2"
   ]
  },
  {
   "attachments": {},
   "cell_type": "markdown",
   "metadata": {},
   "source": [
    "## Recursive data structures"
   ]
  },
  {
   "attachments": {},
   "cell_type": "markdown",
   "metadata": {},
   "source": [
    "#### Marcin Kapiszewski 156048\n",
    "#### Adam Tomys 156057"
   ]
  },
  {
   "attachments": {},
   "cell_type": "markdown",
   "metadata": {},
   "source": [
    "Group 2"
   ]
  },
  {
   "attachments": {},
   "cell_type": "markdown",
   "metadata": {},
   "source": [
    "### Compared recursive structures:\n",
    "\n",
    "1. Sorted (singly) linked list:\n",
    "    - It consists of nodes, each of them contains key, value, and a reference to the next node. \n",
    "    - Nodes are sorted by keys.\n",
    "    - First element is called the head and the last element is called the tail.\n",
    "    - Adding element requires going over the list to find the correct place, copying reference from the previous node and overwriting that reference with a reference to the new node. If the new node would be the first element it becomes a new head and copies the reference to the previous head. If it would become a new tail, the previous one would just save the new one's reference.\n",
    "    - Deleting element just overwrites the reference contained by the previous node with the reference that is saved in a node that we are deleting. Unless it is a head then the next one just becomes a head, and if it is a tail we delete the reference in the previous node altogether.\n",
    "2. Binary search tree:\n",
    "    - It consists of nodes, each of them contains key, value, and references to the left and right child.\n",
    "    - The left child's key is always lesser and the right child's is always greater than the parent's.\n",
    "    - First element, at the top, is called the root of the tree.\n",
    "    - Adding element requires us to start at the root. We compare the new node's key with the root's key. If it is lesser we go to the left child, otherwise to the right. we repeat that process until we go across a Null child (that does not exist), then the new Node becomes that child.\n",
    "    - Deleting element: If the node to be deleted does not have children just delete the node. If it has one child just replace that node with the child. If it has 2 children replace its key and value with ones of the node with the least key in the right subtree, and remove that node from the tree.\n",
    "3. AVL tree (optionally):\n",
    "    - It is an extension of binary search tree. It requires each node's left and right subtree to have a diffrence between -1 and 1 in height. After each Addition or deletion it checks if a tree is unbalanced and then it uses one of the following 4 rotaition to rebalance the tree.\n",
    "    - Left rotation: The right child becomes the new root and the original root becomes the left child of the new root.\n",
    "    - Right rotation: The Left child becomes the new root and the original root becomes the right child of the new root.\n",
    "    - Left-right rotation: Use left rotation on the left subtree than right rotation on the tree.\n",
    "    - Right-left rotation: Use right rotation on the right subtree than left rotation on the tree.\n",
    "    \n"
   ]
  },
  {
   "attachments": {},
   "cell_type": "markdown",
   "metadata": {},
   "source": [
    "### Implementation Difficulties:\n",
    "\n",
    "1. Sorted (singly) linked list:\n",
    "    - the simplest structure, we didn't had any problems with implementation.\n",
    "    - firstly, we tried recursive implementation, but with big instance size our program was out of memory.\n",
    "2. Binary search tree:\n",
    "    - our implementation is recursive, so when we create a degenerate tree(by feeding the structure with increasing or decreasing instance type), we have a problem with crashing kernel, but for small instances it works fine(comparing instance size in our experiments is 5000). For our assignment bigger instance sizes weren't necessery, because we wanted to find trends and compare structures with different insert and remove instance type.\n",
    "3. AVL tree (optionally):\n",
    "    - AVL was the most complex structure to implement, a lot of code we copied from our BST(works fine with big instances of all type, because it doesn't allow tree to degenerate, so tree height isn't high)\n",
    "    - it's just BST with additional node attribute and additional balancing logic, balancing logic was the most challenging part"
   ]
  },
  {
   "cell_type": "code",
   "execution_count": 16,
   "metadata": {},
   "outputs": [
    {
     "name": "stdout",
     "output_type": "stream",
     "text": [
      "The autoreload extension is already loaded. To reload it, use:\n",
      "  %reload_ext autoreload\n"
     ]
    }
   ],
   "source": [
    "%load_ext autoreload\n",
    "%autoreload 2"
   ]
  },
  {
   "cell_type": "code",
   "execution_count": 17,
   "metadata": {},
   "outputs": [],
   "source": [
    "import plotly.graph_objects as go\n",
    "from plotly.subplots import make_subplots\n",
    "\n",
    "from Binary_search_tree import BinarySearchTree\n",
    "from Single_linked_list import SingleLinkedList\n",
    "from AVL_Tree import AVLTree\n",
    "from Evaluate_program import measureTime\n",
    "from Generate_input import generateIncreasing, generateRandom, generateDecreasing, generateVShape"
   ]
  },
  {
   "cell_type": "code",
   "execution_count": 18,
   "metadata": {},
   "outputs": [],
   "source": [
    "structers = [BinarySearchTree, SingleLinkedList, AVLTree]"
   ]
  },
  {
   "cell_type": "code",
   "execution_count": 19,
   "metadata": {},
   "outputs": [],
   "source": [
    "def functionToEvaluate(structClass, inputData, dataGenerator):\n",
    "    struct = structClass()\n",
    "    for elem in inputData:\n",
    "        struct.insert(elem, elem)\n",
    "    inputDataRemove = dataGenerator(data = inputData)\n",
    "    for elem in inputDataRemove:\n",
    "        struct.remove(elem)"
   ]
  },
  {
   "cell_type": "code",
   "execution_count": 20,
   "metadata": {},
   "outputs": [],
   "source": [
    "inputTypes = [generateIncreasing, generateDecreasing, generateRandom, generateVShape]\n",
    "def getTimes(structClass):\n",
    "    print(structClass.__name__)\n",
    "    insert_time_type = {}\n",
    "    for insertInputType in inputTypes:\n",
    "        print(f\"\\t{insertInputType.__name__}\")\n",
    "        inputData = insertInputType(5000)\n",
    "        remove_time_type = {}\n",
    "        for removeInputType in inputTypes:\n",
    "            print(f\"\\t\\t{removeInputType.__name__}\")\n",
    "            functionInput = [structClass, inputData, removeInputType]\n",
    "            remove_time_type[removeInputType.__name__] = measureTime(functionToEvaluate, functionInput)\n",
    "        insert_time_type[insertInputType.__name__] = remove_time_type\n",
    "    return insert_time_type\n",
    "        \n",
    "        "
   ]
  },
  {
   "cell_type": "code",
   "execution_count": 21,
   "metadata": {},
   "outputs": [
    {
     "name": "stdout",
     "output_type": "stream",
     "text": [
      "BinarySearchTree\n",
      "\tgenerateIncreasing\n",
      "\t\tgenerateIncreasing\n",
      "\t\tgenerateDecreasing\n",
      "\t\tgenerateRandom\n",
      "\t\tgenerateVShape\n",
      "\tgenerateDecreasing\n",
      "\t\tgenerateIncreasing\n",
      "\t\tgenerateDecreasing\n",
      "\t\tgenerateRandom\n",
      "\t\tgenerateVShape\n",
      "\tgenerateRandom\n",
      "\t\tgenerateIncreasing\n",
      "\t\tgenerateDecreasing\n",
      "\t\tgenerateRandom\n",
      "\t\tgenerateVShape\n",
      "\tgenerateVShape\n",
      "\t\tgenerateIncreasing\n",
      "\t\tgenerateDecreasing\n",
      "\t\tgenerateRandom\n",
      "\t\tgenerateVShape\n",
      "SingleLinkedList\n",
      "\tgenerateIncreasing\n",
      "\t\tgenerateIncreasing\n",
      "\t\tgenerateDecreasing\n",
      "\t\tgenerateRandom\n",
      "\t\tgenerateVShape\n",
      "\tgenerateDecreasing\n",
      "\t\tgenerateIncreasing\n",
      "\t\tgenerateDecreasing\n",
      "\t\tgenerateRandom\n",
      "\t\tgenerateVShape\n",
      "\tgenerateRandom\n",
      "\t\tgenerateIncreasing\n",
      "\t\tgenerateDecreasing\n",
      "\t\tgenerateRandom\n",
      "\t\tgenerateVShape\n",
      "\tgenerateVShape\n",
      "\t\tgenerateIncreasing\n",
      "\t\tgenerateDecreasing\n",
      "\t\tgenerateRandom\n",
      "\t\tgenerateVShape\n",
      "AVLTree\n",
      "\tgenerateIncreasing\n",
      "\t\tgenerateIncreasing\n",
      "\t\tgenerateDecreasing\n",
      "\t\tgenerateRandom\n",
      "\t\tgenerateVShape\n",
      "\tgenerateDecreasing\n",
      "\t\tgenerateIncreasing\n",
      "\t\tgenerateDecreasing\n",
      "\t\tgenerateRandom\n",
      "\t\tgenerateVShape\n",
      "\tgenerateRandom\n",
      "\t\tgenerateIncreasing\n",
      "\t\tgenerateDecreasing\n",
      "\t\tgenerateRandom\n",
      "\t\tgenerateVShape\n",
      "\tgenerateVShape\n",
      "\t\tgenerateIncreasing\n",
      "\t\tgenerateDecreasing\n",
      "\t\tgenerateRandom\n",
      "\t\tgenerateVShape\n"
     ]
    }
   ],
   "source": [
    "times = {}\n",
    "for struct in structers:\n",
    "    times[struct.__name__] = getTimes(struct)"
   ]
  },
  {
   "cell_type": "code",
   "execution_count": 22,
   "metadata": {},
   "outputs": [
    {
     "data": {
      "application/vnd.plotly.v1+json": {
       "config": {
        "plotlyServerURL": "https://plot.ly"
       },
       "data": [
        {
         "type": "bar",
         "x": [
          "BinarySearchTree",
          "SingleLinkedList",
          "AVLTree"
         ],
         "y": [
          45.183470487594604,
          34.578500747680664,
          1.4435396194458008
         ]
        }
       ],
       "layout": {
        "template": {
         "data": {
          "bar": [
           {
            "error_x": {
             "color": "#2a3f5f"
            },
            "error_y": {
             "color": "#2a3f5f"
            },
            "marker": {
             "line": {
              "color": "#E5ECF6",
              "width": 0.5
             },
             "pattern": {
              "fillmode": "overlay",
              "size": 10,
              "solidity": 0.2
             }
            },
            "type": "bar"
           }
          ],
          "barpolar": [
           {
            "marker": {
             "line": {
              "color": "#E5ECF6",
              "width": 0.5
             },
             "pattern": {
              "fillmode": "overlay",
              "size": 10,
              "solidity": 0.2
             }
            },
            "type": "barpolar"
           }
          ],
          "carpet": [
           {
            "aaxis": {
             "endlinecolor": "#2a3f5f",
             "gridcolor": "white",
             "linecolor": "white",
             "minorgridcolor": "white",
             "startlinecolor": "#2a3f5f"
            },
            "baxis": {
             "endlinecolor": "#2a3f5f",
             "gridcolor": "white",
             "linecolor": "white",
             "minorgridcolor": "white",
             "startlinecolor": "#2a3f5f"
            },
            "type": "carpet"
           }
          ],
          "choropleth": [
           {
            "colorbar": {
             "outlinewidth": 0,
             "ticks": ""
            },
            "type": "choropleth"
           }
          ],
          "contour": [
           {
            "colorbar": {
             "outlinewidth": 0,
             "ticks": ""
            },
            "colorscale": [
             [
              0,
              "#0d0887"
             ],
             [
              0.1111111111111111,
              "#46039f"
             ],
             [
              0.2222222222222222,
              "#7201a8"
             ],
             [
              0.3333333333333333,
              "#9c179e"
             ],
             [
              0.4444444444444444,
              "#bd3786"
             ],
             [
              0.5555555555555556,
              "#d8576b"
             ],
             [
              0.6666666666666666,
              "#ed7953"
             ],
             [
              0.7777777777777778,
              "#fb9f3a"
             ],
             [
              0.8888888888888888,
              "#fdca26"
             ],
             [
              1,
              "#f0f921"
             ]
            ],
            "type": "contour"
           }
          ],
          "contourcarpet": [
           {
            "colorbar": {
             "outlinewidth": 0,
             "ticks": ""
            },
            "type": "contourcarpet"
           }
          ],
          "heatmap": [
           {
            "colorbar": {
             "outlinewidth": 0,
             "ticks": ""
            },
            "colorscale": [
             [
              0,
              "#0d0887"
             ],
             [
              0.1111111111111111,
              "#46039f"
             ],
             [
              0.2222222222222222,
              "#7201a8"
             ],
             [
              0.3333333333333333,
              "#9c179e"
             ],
             [
              0.4444444444444444,
              "#bd3786"
             ],
             [
              0.5555555555555556,
              "#d8576b"
             ],
             [
              0.6666666666666666,
              "#ed7953"
             ],
             [
              0.7777777777777778,
              "#fb9f3a"
             ],
             [
              0.8888888888888888,
              "#fdca26"
             ],
             [
              1,
              "#f0f921"
             ]
            ],
            "type": "heatmap"
           }
          ],
          "heatmapgl": [
           {
            "colorbar": {
             "outlinewidth": 0,
             "ticks": ""
            },
            "colorscale": [
             [
              0,
              "#0d0887"
             ],
             [
              0.1111111111111111,
              "#46039f"
             ],
             [
              0.2222222222222222,
              "#7201a8"
             ],
             [
              0.3333333333333333,
              "#9c179e"
             ],
             [
              0.4444444444444444,
              "#bd3786"
             ],
             [
              0.5555555555555556,
              "#d8576b"
             ],
             [
              0.6666666666666666,
              "#ed7953"
             ],
             [
              0.7777777777777778,
              "#fb9f3a"
             ],
             [
              0.8888888888888888,
              "#fdca26"
             ],
             [
              1,
              "#f0f921"
             ]
            ],
            "type": "heatmapgl"
           }
          ],
          "histogram": [
           {
            "marker": {
             "pattern": {
              "fillmode": "overlay",
              "size": 10,
              "solidity": 0.2
             }
            },
            "type": "histogram"
           }
          ],
          "histogram2d": [
           {
            "colorbar": {
             "outlinewidth": 0,
             "ticks": ""
            },
            "colorscale": [
             [
              0,
              "#0d0887"
             ],
             [
              0.1111111111111111,
              "#46039f"
             ],
             [
              0.2222222222222222,
              "#7201a8"
             ],
             [
              0.3333333333333333,
              "#9c179e"
             ],
             [
              0.4444444444444444,
              "#bd3786"
             ],
             [
              0.5555555555555556,
              "#d8576b"
             ],
             [
              0.6666666666666666,
              "#ed7953"
             ],
             [
              0.7777777777777778,
              "#fb9f3a"
             ],
             [
              0.8888888888888888,
              "#fdca26"
             ],
             [
              1,
              "#f0f921"
             ]
            ],
            "type": "histogram2d"
           }
          ],
          "histogram2dcontour": [
           {
            "colorbar": {
             "outlinewidth": 0,
             "ticks": ""
            },
            "colorscale": [
             [
              0,
              "#0d0887"
             ],
             [
              0.1111111111111111,
              "#46039f"
             ],
             [
              0.2222222222222222,
              "#7201a8"
             ],
             [
              0.3333333333333333,
              "#9c179e"
             ],
             [
              0.4444444444444444,
              "#bd3786"
             ],
             [
              0.5555555555555556,
              "#d8576b"
             ],
             [
              0.6666666666666666,
              "#ed7953"
             ],
             [
              0.7777777777777778,
              "#fb9f3a"
             ],
             [
              0.8888888888888888,
              "#fdca26"
             ],
             [
              1,
              "#f0f921"
             ]
            ],
            "type": "histogram2dcontour"
           }
          ],
          "mesh3d": [
           {
            "colorbar": {
             "outlinewidth": 0,
             "ticks": ""
            },
            "type": "mesh3d"
           }
          ],
          "parcoords": [
           {
            "line": {
             "colorbar": {
              "outlinewidth": 0,
              "ticks": ""
             }
            },
            "type": "parcoords"
           }
          ],
          "pie": [
           {
            "automargin": true,
            "type": "pie"
           }
          ],
          "scatter": [
           {
            "fillpattern": {
             "fillmode": "overlay",
             "size": 10,
             "solidity": 0.2
            },
            "type": "scatter"
           }
          ],
          "scatter3d": [
           {
            "line": {
             "colorbar": {
              "outlinewidth": 0,
              "ticks": ""
             }
            },
            "marker": {
             "colorbar": {
              "outlinewidth": 0,
              "ticks": ""
             }
            },
            "type": "scatter3d"
           }
          ],
          "scattercarpet": [
           {
            "marker": {
             "colorbar": {
              "outlinewidth": 0,
              "ticks": ""
             }
            },
            "type": "scattercarpet"
           }
          ],
          "scattergeo": [
           {
            "marker": {
             "colorbar": {
              "outlinewidth": 0,
              "ticks": ""
             }
            },
            "type": "scattergeo"
           }
          ],
          "scattergl": [
           {
            "marker": {
             "colorbar": {
              "outlinewidth": 0,
              "ticks": ""
             }
            },
            "type": "scattergl"
           }
          ],
          "scattermapbox": [
           {
            "marker": {
             "colorbar": {
              "outlinewidth": 0,
              "ticks": ""
             }
            },
            "type": "scattermapbox"
           }
          ],
          "scatterpolar": [
           {
            "marker": {
             "colorbar": {
              "outlinewidth": 0,
              "ticks": ""
             }
            },
            "type": "scatterpolar"
           }
          ],
          "scatterpolargl": [
           {
            "marker": {
             "colorbar": {
              "outlinewidth": 0,
              "ticks": ""
             }
            },
            "type": "scatterpolargl"
           }
          ],
          "scatterternary": [
           {
            "marker": {
             "colorbar": {
              "outlinewidth": 0,
              "ticks": ""
             }
            },
            "type": "scatterternary"
           }
          ],
          "surface": [
           {
            "colorbar": {
             "outlinewidth": 0,
             "ticks": ""
            },
            "colorscale": [
             [
              0,
              "#0d0887"
             ],
             [
              0.1111111111111111,
              "#46039f"
             ],
             [
              0.2222222222222222,
              "#7201a8"
             ],
             [
              0.3333333333333333,
              "#9c179e"
             ],
             [
              0.4444444444444444,
              "#bd3786"
             ],
             [
              0.5555555555555556,
              "#d8576b"
             ],
             [
              0.6666666666666666,
              "#ed7953"
             ],
             [
              0.7777777777777778,
              "#fb9f3a"
             ],
             [
              0.8888888888888888,
              "#fdca26"
             ],
             [
              1,
              "#f0f921"
             ]
            ],
            "type": "surface"
           }
          ],
          "table": [
           {
            "cells": {
             "fill": {
              "color": "#EBF0F8"
             },
             "line": {
              "color": "white"
             }
            },
            "header": {
             "fill": {
              "color": "#C8D4E3"
             },
             "line": {
              "color": "white"
             }
            },
            "type": "table"
           }
          ]
         },
         "layout": {
          "annotationdefaults": {
           "arrowcolor": "#2a3f5f",
           "arrowhead": 0,
           "arrowwidth": 1
          },
          "autotypenumbers": "strict",
          "coloraxis": {
           "colorbar": {
            "outlinewidth": 0,
            "ticks": ""
           }
          },
          "colorscale": {
           "diverging": [
            [
             0,
             "#8e0152"
            ],
            [
             0.1,
             "#c51b7d"
            ],
            [
             0.2,
             "#de77ae"
            ],
            [
             0.3,
             "#f1b6da"
            ],
            [
             0.4,
             "#fde0ef"
            ],
            [
             0.5,
             "#f7f7f7"
            ],
            [
             0.6,
             "#e6f5d0"
            ],
            [
             0.7,
             "#b8e186"
            ],
            [
             0.8,
             "#7fbc41"
            ],
            [
             0.9,
             "#4d9221"
            ],
            [
             1,
             "#276419"
            ]
           ],
           "sequential": [
            [
             0,
             "#0d0887"
            ],
            [
             0.1111111111111111,
             "#46039f"
            ],
            [
             0.2222222222222222,
             "#7201a8"
            ],
            [
             0.3333333333333333,
             "#9c179e"
            ],
            [
             0.4444444444444444,
             "#bd3786"
            ],
            [
             0.5555555555555556,
             "#d8576b"
            ],
            [
             0.6666666666666666,
             "#ed7953"
            ],
            [
             0.7777777777777778,
             "#fb9f3a"
            ],
            [
             0.8888888888888888,
             "#fdca26"
            ],
            [
             1,
             "#f0f921"
            ]
           ],
           "sequentialminus": [
            [
             0,
             "#0d0887"
            ],
            [
             0.1111111111111111,
             "#46039f"
            ],
            [
             0.2222222222222222,
             "#7201a8"
            ],
            [
             0.3333333333333333,
             "#9c179e"
            ],
            [
             0.4444444444444444,
             "#bd3786"
            ],
            [
             0.5555555555555556,
             "#d8576b"
            ],
            [
             0.6666666666666666,
             "#ed7953"
            ],
            [
             0.7777777777777778,
             "#fb9f3a"
            ],
            [
             0.8888888888888888,
             "#fdca26"
            ],
            [
             1,
             "#f0f921"
            ]
           ]
          },
          "colorway": [
           "#636efa",
           "#EF553B",
           "#00cc96",
           "#ab63fa",
           "#FFA15A",
           "#19d3f3",
           "#FF6692",
           "#B6E880",
           "#FF97FF",
           "#FECB52"
          ],
          "font": {
           "color": "#2a3f5f"
          },
          "geo": {
           "bgcolor": "white",
           "lakecolor": "white",
           "landcolor": "#E5ECF6",
           "showlakes": true,
           "showland": true,
           "subunitcolor": "white"
          },
          "hoverlabel": {
           "align": "left"
          },
          "hovermode": "closest",
          "mapbox": {
           "style": "light"
          },
          "paper_bgcolor": "white",
          "plot_bgcolor": "#E5ECF6",
          "polar": {
           "angularaxis": {
            "gridcolor": "white",
            "linecolor": "white",
            "ticks": ""
           },
           "bgcolor": "#E5ECF6",
           "radialaxis": {
            "gridcolor": "white",
            "linecolor": "white",
            "ticks": ""
           }
          },
          "scene": {
           "xaxis": {
            "backgroundcolor": "#E5ECF6",
            "gridcolor": "white",
            "gridwidth": 2,
            "linecolor": "white",
            "showbackground": true,
            "ticks": "",
            "zerolinecolor": "white"
           },
           "yaxis": {
            "backgroundcolor": "#E5ECF6",
            "gridcolor": "white",
            "gridwidth": 2,
            "linecolor": "white",
            "showbackground": true,
            "ticks": "",
            "zerolinecolor": "white"
           },
           "zaxis": {
            "backgroundcolor": "#E5ECF6",
            "gridcolor": "white",
            "gridwidth": 2,
            "linecolor": "white",
            "showbackground": true,
            "ticks": "",
            "zerolinecolor": "white"
           }
          },
          "shapedefaults": {
           "line": {
            "color": "#2a3f5f"
           }
          },
          "ternary": {
           "aaxis": {
            "gridcolor": "white",
            "linecolor": "white",
            "ticks": ""
           },
           "baxis": {
            "gridcolor": "white",
            "linecolor": "white",
            "ticks": ""
           },
           "bgcolor": "#E5ECF6",
           "caxis": {
            "gridcolor": "white",
            "linecolor": "white",
            "ticks": ""
           }
          },
          "title": {
           "x": 0.05
          },
          "xaxis": {
           "automargin": true,
           "gridcolor": "white",
           "linecolor": "white",
           "ticks": "",
           "title": {
            "standoff": 15
           },
           "zerolinecolor": "white",
           "zerolinewidth": 2
          },
          "yaxis": {
           "automargin": true,
           "gridcolor": "white",
           "linecolor": "white",
           "ticks": "",
           "title": {
            "standoff": 15
           },
           "zerolinecolor": "white",
           "zerolinewidth": 2
          }
         }
        },
        "title": {
         "text": "Comparision of structures' efficiency using summed time"
        },
        "yaxis": {
         "title": {
          "text": "time [s]"
         }
        }
       }
      }
     },
     "metadata": {},
     "output_type": "display_data"
    }
   ],
   "source": [
    "d_sum = {}\n",
    "for struct, d in times.items():\n",
    "    d_sum[struct] = sum([sum(d_2.values()) for d_2 in d.values()])\n",
    "\n",
    "fig = go.Figure([go.Bar(x=list(d_sum.keys()), y=list(d_sum.values()))])\n",
    "\n",
    "fig.update_layout(title_text=\"Comparision of structures' efficiency using summed time\")\n",
    "fig.update_yaxes(title=\"time [s]\")\n",
    "fig.show()"
   ]
  },
  {
   "cell_type": "code",
   "execution_count": 23,
   "metadata": {},
   "outputs": [
    {
     "data": {
      "application/vnd.plotly.v1+json": {
       "config": {
        "plotlyServerURL": "https://plot.ly"
       },
       "data": [
        {
         "name": "",
         "text": [
          "2.46",
          "2.113",
          "0.08"
         ],
         "textposition": "auto",
         "type": "bar",
         "x": [
          "BinarySearchTree",
          "SingleLinkedList",
          "AVLTree"
         ],
         "xaxis": "x",
         "y": [
          2.4597623348236084,
          2.1128861904144287,
          0.08004093170166016
         ],
         "yaxis": "y"
        },
        {
         "name": "",
         "text": [
          "5.111",
          "4.239",
          "0.081"
         ],
         "textposition": "auto",
         "type": "bar",
         "x": [
          "BinarySearchTree",
          "SingleLinkedList",
          "AVLTree"
         ],
         "xaxis": "x2",
         "y": [
          5.110674142837524,
          4.239090204238892,
          0.08067512512207031
         ],
         "yaxis": "y2"
        },
        {
         "name": "",
         "text": [
          "3.664",
          "1.08",
          "0.092"
         ],
         "textposition": "auto",
         "type": "bar",
         "x": [
          "BinarySearchTree",
          "SingleLinkedList",
          "AVLTree"
         ],
         "xaxis": "x3",
         "y": [
          3.664067029953003,
          1.0803937911987305,
          0.09188389778137207
         ],
         "yaxis": "y3"
        },
        {
         "name": "",
         "text": [
          "0.031",
          "2.251",
          "0.093"
         ],
         "textposition": "auto",
         "type": "bar",
         "x": [
          "BinarySearchTree",
          "SingleLinkedList",
          "AVLTree"
         ],
         "xaxis": "x4",
         "y": [
          0.030992984771728516,
          2.2507059574127197,
          0.09258174896240234
         ],
         "yaxis": "y4"
        },
        {
         "name": "",
         "text": [
          "4.814",
          "0.005",
          "0.081"
         ],
         "textposition": "auto",
         "type": "bar",
         "x": [
          "BinarySearchTree",
          "SingleLinkedList",
          "AVLTree"
         ],
         "xaxis": "x5",
         "y": [
          4.814157962799072,
          0.0049898624420166016,
          0.08083462715148926
         ],
         "yaxis": "y5"
        },
        {
         "name": "",
         "text": [
          "5.132",
          "4.227",
          "0.083"
         ],
         "textposition": "auto",
         "type": "bar",
         "x": [
          "BinarySearchTree",
          "SingleLinkedList",
          "AVLTree"
         ],
         "xaxis": "x6",
         "y": [
          5.132350921630859,
          4.227023124694824,
          0.0829319953918457
         ],
         "yaxis": "y6"
        },
        {
         "name": "",
         "text": [
          "3.676",
          "1.067",
          "0.136"
         ],
         "textposition": "auto",
         "type": "bar",
         "x": [
          "BinarySearchTree",
          "SingleLinkedList",
          "AVLTree"
         ],
         "xaxis": "x7",
         "y": [
          3.6757869720458984,
          1.0674691200256348,
          0.13583087921142578
         ],
         "yaxis": "y7"
        },
        {
         "name": "",
         "text": [
          "0.029",
          "2.262",
          "0.093"
         ],
         "textposition": "auto",
         "type": "bar",
         "x": [
          "BinarySearchTree",
          "SingleLinkedList",
          "AVLTree"
         ],
         "xaxis": "x8",
         "y": [
          0.02865910530090332,
          2.261894941329956,
          0.09302926063537598
         ],
         "yaxis": "y8"
        },
        {
         "name": "",
         "text": [
          "0.018",
          "1.126",
          "0.087"
         ],
         "textposition": "auto",
         "type": "bar",
         "x": [
          "BinarySearchTree",
          "SingleLinkedList",
          "AVLTree"
         ],
         "xaxis": "x9",
         "y": [
          0.017982959747314453,
          1.1264798641204834,
          0.087432861328125
         ],
         "yaxis": "y9"
        },
        {
         "name": "",
         "text": [
          "5.174",
          "4.259",
          "0.084"
         ],
         "textposition": "auto",
         "type": "bar",
         "x": [
          "BinarySearchTree",
          "SingleLinkedList",
          "AVLTree"
         ],
         "xaxis": "x10",
         "y": [
          5.174318075180054,
          4.259476900100708,
          0.08355522155761719
         ],
         "yaxis": "y10"
        },
        {
         "name": "",
         "text": [
          "3.643",
          "1.093",
          "0.094"
         ],
         "textposition": "auto",
         "type": "bar",
         "x": [
          "BinarySearchTree",
          "SingleLinkedList",
          "AVLTree"
         ],
         "xaxis": "x11",
         "y": [
          3.6431899070739746,
          1.0929691791534424,
          0.09381604194641113
         ],
         "yaxis": "y11"
        },
        {
         "name": "",
         "text": [
          "0.029",
          "2.241",
          "0.093"
         ],
         "textposition": "auto",
         "type": "bar",
         "x": [
          "BinarySearchTree",
          "SingleLinkedList",
          "AVLTree"
         ],
         "xaxis": "x12",
         "y": [
          0.02901601791381836,
          2.24137020111084,
          0.09317517280578613
         ],
         "yaxis": "y12"
        },
        {
         "name": "",
         "text": [
          "2.388",
          "1.063",
          "0.077"
         ],
         "textposition": "auto",
         "type": "bar",
         "x": [
          "BinarySearchTree",
          "SingleLinkedList",
          "AVLTree"
         ],
         "xaxis": "x13",
         "y": [
          2.387657880783081,
          1.0627939701080322,
          0.0773477554321289
         ],
         "yaxis": "y13"
        },
        {
         "name": "",
         "text": [
          "5.239",
          "4.246",
          "0.083"
         ],
         "textposition": "auto",
         "type": "bar",
         "x": [
          "BinarySearchTree",
          "SingleLinkedList",
          "AVLTree"
         ],
         "xaxis": "x14",
         "y": [
          5.23927116394043,
          4.246297121047974,
          0.0829319953918457
         ],
         "yaxis": "y14"
        },
        {
         "name": "",
         "text": [
          "3.702",
          "1.079",
          "0.094"
         ],
         "textposition": "auto",
         "type": "bar",
         "x": [
          "BinarySearchTree",
          "SingleLinkedList",
          "AVLTree"
         ],
         "xaxis": "x15",
         "y": [
          3.7024199962615967,
          1.078550100326538,
          0.09368181228637695
         ],
         "yaxis": "y15"
        },
        {
         "name": "",
         "text": [
          "0.073",
          "2.226",
          "0.094"
         ],
         "textposition": "auto",
         "type": "bar",
         "x": [
          "BinarySearchTree",
          "SingleLinkedList",
          "AVLTree"
         ],
         "xaxis": "x16",
         "y": [
          0.07316303253173828,
          2.2261102199554443,
          0.09379029273986816
         ],
         "yaxis": "y16"
        }
       ],
       "layout": {
        "annotations": [
         {
          "font": {
           "size": 16
          },
          "showarrow": false,
          "text": "add:Increasing, del:Increasing",
          "x": 0.225,
          "xanchor": "center",
          "xref": "paper",
          "y": 1,
          "yanchor": "bottom",
          "yref": "paper"
         },
         {
          "font": {
           "size": 16
          },
          "showarrow": false,
          "text": "add:Increasing, del:Decreasing",
          "x": 0.775,
          "xanchor": "center",
          "xref": "paper",
          "y": 1,
          "yanchor": "bottom",
          "yref": "paper"
         },
         {
          "font": {
           "size": 16
          },
          "showarrow": false,
          "text": "add:Increasing, del:Random",
          "x": 0.225,
          "xanchor": "center",
          "xref": "paper",
          "y": 0.8671875,
          "yanchor": "bottom",
          "yref": "paper"
         },
         {
          "font": {
           "size": 16
          },
          "showarrow": false,
          "text": "add:Increasing, del:VShape",
          "x": 0.775,
          "xanchor": "center",
          "xref": "paper",
          "y": 0.8671875,
          "yanchor": "bottom",
          "yref": "paper"
         },
         {
          "font": {
           "size": 16
          },
          "showarrow": false,
          "text": "add:Decreasing, del:Increasing",
          "x": 0.225,
          "xanchor": "center",
          "xref": "paper",
          "y": 0.734375,
          "yanchor": "bottom",
          "yref": "paper"
         },
         {
          "font": {
           "size": 16
          },
          "showarrow": false,
          "text": "add:Decreasing, del:Decreasing",
          "x": 0.775,
          "xanchor": "center",
          "xref": "paper",
          "y": 0.734375,
          "yanchor": "bottom",
          "yref": "paper"
         },
         {
          "font": {
           "size": 16
          },
          "showarrow": false,
          "text": "add:Decreasing, del:Random",
          "x": 0.225,
          "xanchor": "center",
          "xref": "paper",
          "y": 0.6015625,
          "yanchor": "bottom",
          "yref": "paper"
         },
         {
          "font": {
           "size": 16
          },
          "showarrow": false,
          "text": "add:Decreasing, del:VShape",
          "x": 0.775,
          "xanchor": "center",
          "xref": "paper",
          "y": 0.6015625,
          "yanchor": "bottom",
          "yref": "paper"
         },
         {
          "font": {
           "size": 16
          },
          "showarrow": false,
          "text": "add:Random, del:Increasing",
          "x": 0.225,
          "xanchor": "center",
          "xref": "paper",
          "y": 0.46875,
          "yanchor": "bottom",
          "yref": "paper"
         },
         {
          "font": {
           "size": 16
          },
          "showarrow": false,
          "text": "add:Random, del:Decreasing",
          "x": 0.775,
          "xanchor": "center",
          "xref": "paper",
          "y": 0.46875,
          "yanchor": "bottom",
          "yref": "paper"
         },
         {
          "font": {
           "size": 16
          },
          "showarrow": false,
          "text": "add:Random, del:Random",
          "x": 0.225,
          "xanchor": "center",
          "xref": "paper",
          "y": 0.3359375,
          "yanchor": "bottom",
          "yref": "paper"
         },
         {
          "font": {
           "size": 16
          },
          "showarrow": false,
          "text": "add:Random, del:VShape",
          "x": 0.775,
          "xanchor": "center",
          "xref": "paper",
          "y": 0.3359375,
          "yanchor": "bottom",
          "yref": "paper"
         },
         {
          "font": {
           "size": 16
          },
          "showarrow": false,
          "text": "add:VShape, del:Increasing",
          "x": 0.225,
          "xanchor": "center",
          "xref": "paper",
          "y": 0.203125,
          "yanchor": "bottom",
          "yref": "paper"
         },
         {
          "font": {
           "size": 16
          },
          "showarrow": false,
          "text": "add:VShape, del:Decreasing",
          "x": 0.775,
          "xanchor": "center",
          "xref": "paper",
          "y": 0.203125,
          "yanchor": "bottom",
          "yref": "paper"
         },
         {
          "font": {
           "size": 16
          },
          "showarrow": false,
          "text": "add:VShape, del:Random",
          "x": 0.225,
          "xanchor": "center",
          "xref": "paper",
          "y": 0.0703125,
          "yanchor": "bottom",
          "yref": "paper"
         },
         {
          "font": {
           "size": 16
          },
          "showarrow": false,
          "text": "add:VShape, del:VShape",
          "x": 0.775,
          "xanchor": "center",
          "xref": "paper",
          "y": 0.0703125,
          "yanchor": "bottom",
          "yref": "paper"
         }
        ],
        "height": 1600,
        "template": {
         "data": {
          "bar": [
           {
            "error_x": {
             "color": "#2a3f5f"
            },
            "error_y": {
             "color": "#2a3f5f"
            },
            "marker": {
             "line": {
              "color": "#E5ECF6",
              "width": 0.5
             },
             "pattern": {
              "fillmode": "overlay",
              "size": 10,
              "solidity": 0.2
             }
            },
            "type": "bar"
           }
          ],
          "barpolar": [
           {
            "marker": {
             "line": {
              "color": "#E5ECF6",
              "width": 0.5
             },
             "pattern": {
              "fillmode": "overlay",
              "size": 10,
              "solidity": 0.2
             }
            },
            "type": "barpolar"
           }
          ],
          "carpet": [
           {
            "aaxis": {
             "endlinecolor": "#2a3f5f",
             "gridcolor": "white",
             "linecolor": "white",
             "minorgridcolor": "white",
             "startlinecolor": "#2a3f5f"
            },
            "baxis": {
             "endlinecolor": "#2a3f5f",
             "gridcolor": "white",
             "linecolor": "white",
             "minorgridcolor": "white",
             "startlinecolor": "#2a3f5f"
            },
            "type": "carpet"
           }
          ],
          "choropleth": [
           {
            "colorbar": {
             "outlinewidth": 0,
             "ticks": ""
            },
            "type": "choropleth"
           }
          ],
          "contour": [
           {
            "colorbar": {
             "outlinewidth": 0,
             "ticks": ""
            },
            "colorscale": [
             [
              0,
              "#0d0887"
             ],
             [
              0.1111111111111111,
              "#46039f"
             ],
             [
              0.2222222222222222,
              "#7201a8"
             ],
             [
              0.3333333333333333,
              "#9c179e"
             ],
             [
              0.4444444444444444,
              "#bd3786"
             ],
             [
              0.5555555555555556,
              "#d8576b"
             ],
             [
              0.6666666666666666,
              "#ed7953"
             ],
             [
              0.7777777777777778,
              "#fb9f3a"
             ],
             [
              0.8888888888888888,
              "#fdca26"
             ],
             [
              1,
              "#f0f921"
             ]
            ],
            "type": "contour"
           }
          ],
          "contourcarpet": [
           {
            "colorbar": {
             "outlinewidth": 0,
             "ticks": ""
            },
            "type": "contourcarpet"
           }
          ],
          "heatmap": [
           {
            "colorbar": {
             "outlinewidth": 0,
             "ticks": ""
            },
            "colorscale": [
             [
              0,
              "#0d0887"
             ],
             [
              0.1111111111111111,
              "#46039f"
             ],
             [
              0.2222222222222222,
              "#7201a8"
             ],
             [
              0.3333333333333333,
              "#9c179e"
             ],
             [
              0.4444444444444444,
              "#bd3786"
             ],
             [
              0.5555555555555556,
              "#d8576b"
             ],
             [
              0.6666666666666666,
              "#ed7953"
             ],
             [
              0.7777777777777778,
              "#fb9f3a"
             ],
             [
              0.8888888888888888,
              "#fdca26"
             ],
             [
              1,
              "#f0f921"
             ]
            ],
            "type": "heatmap"
           }
          ],
          "heatmapgl": [
           {
            "colorbar": {
             "outlinewidth": 0,
             "ticks": ""
            },
            "colorscale": [
             [
              0,
              "#0d0887"
             ],
             [
              0.1111111111111111,
              "#46039f"
             ],
             [
              0.2222222222222222,
              "#7201a8"
             ],
             [
              0.3333333333333333,
              "#9c179e"
             ],
             [
              0.4444444444444444,
              "#bd3786"
             ],
             [
              0.5555555555555556,
              "#d8576b"
             ],
             [
              0.6666666666666666,
              "#ed7953"
             ],
             [
              0.7777777777777778,
              "#fb9f3a"
             ],
             [
              0.8888888888888888,
              "#fdca26"
             ],
             [
              1,
              "#f0f921"
             ]
            ],
            "type": "heatmapgl"
           }
          ],
          "histogram": [
           {
            "marker": {
             "pattern": {
              "fillmode": "overlay",
              "size": 10,
              "solidity": 0.2
             }
            },
            "type": "histogram"
           }
          ],
          "histogram2d": [
           {
            "colorbar": {
             "outlinewidth": 0,
             "ticks": ""
            },
            "colorscale": [
             [
              0,
              "#0d0887"
             ],
             [
              0.1111111111111111,
              "#46039f"
             ],
             [
              0.2222222222222222,
              "#7201a8"
             ],
             [
              0.3333333333333333,
              "#9c179e"
             ],
             [
              0.4444444444444444,
              "#bd3786"
             ],
             [
              0.5555555555555556,
              "#d8576b"
             ],
             [
              0.6666666666666666,
              "#ed7953"
             ],
             [
              0.7777777777777778,
              "#fb9f3a"
             ],
             [
              0.8888888888888888,
              "#fdca26"
             ],
             [
              1,
              "#f0f921"
             ]
            ],
            "type": "histogram2d"
           }
          ],
          "histogram2dcontour": [
           {
            "colorbar": {
             "outlinewidth": 0,
             "ticks": ""
            },
            "colorscale": [
             [
              0,
              "#0d0887"
             ],
             [
              0.1111111111111111,
              "#46039f"
             ],
             [
              0.2222222222222222,
              "#7201a8"
             ],
             [
              0.3333333333333333,
              "#9c179e"
             ],
             [
              0.4444444444444444,
              "#bd3786"
             ],
             [
              0.5555555555555556,
              "#d8576b"
             ],
             [
              0.6666666666666666,
              "#ed7953"
             ],
             [
              0.7777777777777778,
              "#fb9f3a"
             ],
             [
              0.8888888888888888,
              "#fdca26"
             ],
             [
              1,
              "#f0f921"
             ]
            ],
            "type": "histogram2dcontour"
           }
          ],
          "mesh3d": [
           {
            "colorbar": {
             "outlinewidth": 0,
             "ticks": ""
            },
            "type": "mesh3d"
           }
          ],
          "parcoords": [
           {
            "line": {
             "colorbar": {
              "outlinewidth": 0,
              "ticks": ""
             }
            },
            "type": "parcoords"
           }
          ],
          "pie": [
           {
            "automargin": true,
            "type": "pie"
           }
          ],
          "scatter": [
           {
            "fillpattern": {
             "fillmode": "overlay",
             "size": 10,
             "solidity": 0.2
            },
            "type": "scatter"
           }
          ],
          "scatter3d": [
           {
            "line": {
             "colorbar": {
              "outlinewidth": 0,
              "ticks": ""
             }
            },
            "marker": {
             "colorbar": {
              "outlinewidth": 0,
              "ticks": ""
             }
            },
            "type": "scatter3d"
           }
          ],
          "scattercarpet": [
           {
            "marker": {
             "colorbar": {
              "outlinewidth": 0,
              "ticks": ""
             }
            },
            "type": "scattercarpet"
           }
          ],
          "scattergeo": [
           {
            "marker": {
             "colorbar": {
              "outlinewidth": 0,
              "ticks": ""
             }
            },
            "type": "scattergeo"
           }
          ],
          "scattergl": [
           {
            "marker": {
             "colorbar": {
              "outlinewidth": 0,
              "ticks": ""
             }
            },
            "type": "scattergl"
           }
          ],
          "scattermapbox": [
           {
            "marker": {
             "colorbar": {
              "outlinewidth": 0,
              "ticks": ""
             }
            },
            "type": "scattermapbox"
           }
          ],
          "scatterpolar": [
           {
            "marker": {
             "colorbar": {
              "outlinewidth": 0,
              "ticks": ""
             }
            },
            "type": "scatterpolar"
           }
          ],
          "scatterpolargl": [
           {
            "marker": {
             "colorbar": {
              "outlinewidth": 0,
              "ticks": ""
             }
            },
            "type": "scatterpolargl"
           }
          ],
          "scatterternary": [
           {
            "marker": {
             "colorbar": {
              "outlinewidth": 0,
              "ticks": ""
             }
            },
            "type": "scatterternary"
           }
          ],
          "surface": [
           {
            "colorbar": {
             "outlinewidth": 0,
             "ticks": ""
            },
            "colorscale": [
             [
              0,
              "#0d0887"
             ],
             [
              0.1111111111111111,
              "#46039f"
             ],
             [
              0.2222222222222222,
              "#7201a8"
             ],
             [
              0.3333333333333333,
              "#9c179e"
             ],
             [
              0.4444444444444444,
              "#bd3786"
             ],
             [
              0.5555555555555556,
              "#d8576b"
             ],
             [
              0.6666666666666666,
              "#ed7953"
             ],
             [
              0.7777777777777778,
              "#fb9f3a"
             ],
             [
              0.8888888888888888,
              "#fdca26"
             ],
             [
              1,
              "#f0f921"
             ]
            ],
            "type": "surface"
           }
          ],
          "table": [
           {
            "cells": {
             "fill": {
              "color": "#EBF0F8"
             },
             "line": {
              "color": "white"
             }
            },
            "header": {
             "fill": {
              "color": "#C8D4E3"
             },
             "line": {
              "color": "white"
             }
            },
            "type": "table"
           }
          ]
         },
         "layout": {
          "annotationdefaults": {
           "arrowcolor": "#2a3f5f",
           "arrowhead": 0,
           "arrowwidth": 1
          },
          "autotypenumbers": "strict",
          "coloraxis": {
           "colorbar": {
            "outlinewidth": 0,
            "ticks": ""
           }
          },
          "colorscale": {
           "diverging": [
            [
             0,
             "#8e0152"
            ],
            [
             0.1,
             "#c51b7d"
            ],
            [
             0.2,
             "#de77ae"
            ],
            [
             0.3,
             "#f1b6da"
            ],
            [
             0.4,
             "#fde0ef"
            ],
            [
             0.5,
             "#f7f7f7"
            ],
            [
             0.6,
             "#e6f5d0"
            ],
            [
             0.7,
             "#b8e186"
            ],
            [
             0.8,
             "#7fbc41"
            ],
            [
             0.9,
             "#4d9221"
            ],
            [
             1,
             "#276419"
            ]
           ],
           "sequential": [
            [
             0,
             "#0d0887"
            ],
            [
             0.1111111111111111,
             "#46039f"
            ],
            [
             0.2222222222222222,
             "#7201a8"
            ],
            [
             0.3333333333333333,
             "#9c179e"
            ],
            [
             0.4444444444444444,
             "#bd3786"
            ],
            [
             0.5555555555555556,
             "#d8576b"
            ],
            [
             0.6666666666666666,
             "#ed7953"
            ],
            [
             0.7777777777777778,
             "#fb9f3a"
            ],
            [
             0.8888888888888888,
             "#fdca26"
            ],
            [
             1,
             "#f0f921"
            ]
           ],
           "sequentialminus": [
            [
             0,
             "#0d0887"
            ],
            [
             0.1111111111111111,
             "#46039f"
            ],
            [
             0.2222222222222222,
             "#7201a8"
            ],
            [
             0.3333333333333333,
             "#9c179e"
            ],
            [
             0.4444444444444444,
             "#bd3786"
            ],
            [
             0.5555555555555556,
             "#d8576b"
            ],
            [
             0.6666666666666666,
             "#ed7953"
            ],
            [
             0.7777777777777778,
             "#fb9f3a"
            ],
            [
             0.8888888888888888,
             "#fdca26"
            ],
            [
             1,
             "#f0f921"
            ]
           ]
          },
          "colorway": [
           "#636efa",
           "#EF553B",
           "#00cc96",
           "#ab63fa",
           "#FFA15A",
           "#19d3f3",
           "#FF6692",
           "#B6E880",
           "#FF97FF",
           "#FECB52"
          ],
          "font": {
           "color": "#2a3f5f"
          },
          "geo": {
           "bgcolor": "white",
           "lakecolor": "white",
           "landcolor": "#E5ECF6",
           "showlakes": true,
           "showland": true,
           "subunitcolor": "white"
          },
          "hoverlabel": {
           "align": "left"
          },
          "hovermode": "closest",
          "mapbox": {
           "style": "light"
          },
          "paper_bgcolor": "white",
          "plot_bgcolor": "#E5ECF6",
          "polar": {
           "angularaxis": {
            "gridcolor": "white",
            "linecolor": "white",
            "ticks": ""
           },
           "bgcolor": "#E5ECF6",
           "radialaxis": {
            "gridcolor": "white",
            "linecolor": "white",
            "ticks": ""
           }
          },
          "scene": {
           "xaxis": {
            "backgroundcolor": "#E5ECF6",
            "gridcolor": "white",
            "gridwidth": 2,
            "linecolor": "white",
            "showbackground": true,
            "ticks": "",
            "zerolinecolor": "white"
           },
           "yaxis": {
            "backgroundcolor": "#E5ECF6",
            "gridcolor": "white",
            "gridwidth": 2,
            "linecolor": "white",
            "showbackground": true,
            "ticks": "",
            "zerolinecolor": "white"
           },
           "zaxis": {
            "backgroundcolor": "#E5ECF6",
            "gridcolor": "white",
            "gridwidth": 2,
            "linecolor": "white",
            "showbackground": true,
            "ticks": "",
            "zerolinecolor": "white"
           }
          },
          "shapedefaults": {
           "line": {
            "color": "#2a3f5f"
           }
          },
          "ternary": {
           "aaxis": {
            "gridcolor": "white",
            "linecolor": "white",
            "ticks": ""
           },
           "baxis": {
            "gridcolor": "white",
            "linecolor": "white",
            "ticks": ""
           },
           "bgcolor": "#E5ECF6",
           "caxis": {
            "gridcolor": "white",
            "linecolor": "white",
            "ticks": ""
           }
          },
          "title": {
           "x": 0.05
          },
          "xaxis": {
           "automargin": true,
           "gridcolor": "white",
           "linecolor": "white",
           "ticks": "",
           "title": {
            "standoff": 15
           },
           "zerolinecolor": "white",
           "zerolinewidth": 2
          },
          "yaxis": {
           "automargin": true,
           "gridcolor": "white",
           "linecolor": "white",
           "ticks": "",
           "title": {
            "standoff": 15
           },
           "zerolinecolor": "white",
           "zerolinewidth": 2
          }
         }
        },
        "title": {
         "text": "Comparision of structures' efficiency based on addition and removal order"
        },
        "width": 1200,
        "xaxis": {
         "anchor": "y",
         "domain": [
          0,
          0.45
         ]
        },
        "xaxis10": {
         "anchor": "y10",
         "domain": [
          0.55,
          1
         ]
        },
        "xaxis11": {
         "anchor": "y11",
         "domain": [
          0,
          0.45
         ]
        },
        "xaxis12": {
         "anchor": "y12",
         "domain": [
          0.55,
          1
         ]
        },
        "xaxis13": {
         "anchor": "y13",
         "domain": [
          0,
          0.45
         ]
        },
        "xaxis14": {
         "anchor": "y14",
         "domain": [
          0.55,
          1
         ]
        },
        "xaxis15": {
         "anchor": "y15",
         "domain": [
          0,
          0.45
         ]
        },
        "xaxis16": {
         "anchor": "y16",
         "domain": [
          0.55,
          1
         ]
        },
        "xaxis2": {
         "anchor": "y2",
         "domain": [
          0.55,
          1
         ]
        },
        "xaxis3": {
         "anchor": "y3",
         "domain": [
          0,
          0.45
         ]
        },
        "xaxis4": {
         "anchor": "y4",
         "domain": [
          0.55,
          1
         ]
        },
        "xaxis5": {
         "anchor": "y5",
         "domain": [
          0,
          0.45
         ]
        },
        "xaxis6": {
         "anchor": "y6",
         "domain": [
          0.55,
          1
         ]
        },
        "xaxis7": {
         "anchor": "y7",
         "domain": [
          0,
          0.45
         ]
        },
        "xaxis8": {
         "anchor": "y8",
         "domain": [
          0.55,
          1
         ]
        },
        "xaxis9": {
         "anchor": "y9",
         "domain": [
          0,
          0.45
         ]
        },
        "yaxis": {
         "anchor": "x",
         "domain": [
          0.9296875,
          1
         ],
         "title": {
          "text": "time [s]"
         }
        },
        "yaxis10": {
         "anchor": "x10",
         "domain": [
          0.3984375,
          0.46875
         ],
         "title": {
          "text": "time [s]"
         }
        },
        "yaxis11": {
         "anchor": "x11",
         "domain": [
          0.265625,
          0.3359375
         ],
         "title": {
          "text": "time [s]"
         }
        },
        "yaxis12": {
         "anchor": "x12",
         "domain": [
          0.265625,
          0.3359375
         ],
         "title": {
          "text": "time [s]"
         }
        },
        "yaxis13": {
         "anchor": "x13",
         "domain": [
          0.1328125,
          0.203125
         ],
         "title": {
          "text": "time [s]"
         }
        },
        "yaxis14": {
         "anchor": "x14",
         "domain": [
          0.1328125,
          0.203125
         ],
         "title": {
          "text": "time [s]"
         }
        },
        "yaxis15": {
         "anchor": "x15",
         "domain": [
          0,
          0.0703125
         ],
         "title": {
          "text": "time [s]"
         }
        },
        "yaxis16": {
         "anchor": "x16",
         "domain": [
          0,
          0.0703125
         ],
         "title": {
          "text": "time [s]"
         }
        },
        "yaxis2": {
         "anchor": "x2",
         "domain": [
          0.9296875,
          1
         ],
         "title": {
          "text": "time [s]"
         }
        },
        "yaxis3": {
         "anchor": "x3",
         "domain": [
          0.796875,
          0.8671875
         ],
         "title": {
          "text": "time [s]"
         }
        },
        "yaxis4": {
         "anchor": "x4",
         "domain": [
          0.796875,
          0.8671875
         ],
         "title": {
          "text": "time [s]"
         }
        },
        "yaxis5": {
         "anchor": "x5",
         "domain": [
          0.6640625,
          0.734375
         ],
         "title": {
          "text": "time [s]"
         }
        },
        "yaxis6": {
         "anchor": "x6",
         "domain": [
          0.6640625,
          0.734375
         ],
         "title": {
          "text": "time [s]"
         }
        },
        "yaxis7": {
         "anchor": "x7",
         "domain": [
          0.53125,
          0.6015625
         ],
         "title": {
          "text": "time [s]"
         }
        },
        "yaxis8": {
         "anchor": "x8",
         "domain": [
          0.53125,
          0.6015625
         ],
         "title": {
          "text": "time [s]"
         }
        },
        "yaxis9": {
         "anchor": "x9",
         "domain": [
          0.3984375,
          0.46875
         ],
         "title": {
          "text": "time [s]"
         }
        }
       }
      }
     },
     "metadata": {},
     "output_type": "display_data"
    }
   ],
   "source": [
    "InputNames = [x.__name__ for x in inputTypes]\n",
    "subplot_titles = []\n",
    "for x in InputNames:\n",
    "    for y in InputNames:\n",
    "        subplot_titles.append(f\"add:{x}, del:{y}\".replace(\"generate\",\"\"))\n",
    "\n",
    "fig = make_subplots(rows=8, cols=2,subplot_titles=subplot_titles)\n",
    "\n",
    "\n",
    "i=0\n",
    "for add_method in InputNames:\n",
    "    for delete_method in InputNames:\n",
    "        d = {}\n",
    "        for struct, time in times.items():\n",
    "            d[struct] = time[add_method][delete_method]\n",
    "        fig.add_trace(go.Bar(x=list(d.keys()), y=list(d.values()), text=[round(x,3) for x in d.values()],\n",
    "                            textposition=\"auto\", name=\"\"),\n",
    "                      row=i//2+1, col=i%2+1)\n",
    "        fig.update_yaxes(title_text=\"time [s]\", row=i//2+1, col=i%2+1)\n",
    "        i+=1\n",
    "\n",
    "fig.update_layout(height=1600, width=1200,\n",
    "                  title_text=\"Comparision of structures' efficiency based on addition and removal order\")\n",
    "\n",
    "fig.show()\n"
   ]
  },
  {
   "attachments": {},
   "cell_type": "markdown",
   "metadata": {},
   "source": [
    "### Conclusions:\n",
    "\n",
    "1. Sorted (singly) linked list:\n",
    "    - the easiest to implement\n",
    "    - low memory usage\n",
    "    - fast addition and deletion of nodes that are close to the head\n",
    "2. Binary search tree:\n",
    "    - more complex\n",
    "    - often becomes degenerate that causes it to become even slower than our linked list\n",
    "    - when it does not become degenerate it is faster than AVL since it doesnt use time for rotations\n",
    "3. AVL tree (optionally):\n",
    "    - the most complex (as it is an extension of the previous one)\n",
    "    - overall the fastest structures and most consistent results\n",
    "    - guaranteed O(logn) time complexity for every operation\n",
    "    \n"
   ]
  }
 ],
 "metadata": {
  "kernelspec": {
   "display_name": "base",
   "language": "python",
   "name": "python3"
  },
  "language_info": {
   "codemirror_mode": {
    "name": "ipython",
    "version": 3
   },
   "file_extension": ".py",
   "mimetype": "text/x-python",
   "name": "python",
   "nbconvert_exporter": "python",
   "pygments_lexer": "ipython3",
   "version": "3.9.16"
  },
  "orig_nbformat": 4
 },
 "nbformat": 4,
 "nbformat_minor": 2
}
