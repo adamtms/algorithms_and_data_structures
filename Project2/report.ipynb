{
 "cells": [
  {
   "attachments": {},
   "cell_type": "markdown",
   "metadata": {},
   "source": [
    "# Report 2"
   ]
  },
  {
   "attachments": {},
   "cell_type": "markdown",
   "metadata": {},
   "source": [
    "## Recursive data structures"
   ]
  },
  {
   "attachments": {},
   "cell_type": "markdown",
   "metadata": {},
   "source": [
    "#### Marcin Kapiszewski 156048\n",
    "#### Adam Tomys 156057"
   ]
  },
  {
   "attachments": {},
   "cell_type": "markdown",
   "metadata": {},
   "source": [
    "Group 2"
   ]
  },
  {
   "attachments": {},
   "cell_type": "markdown",
   "metadata": {},
   "source": [
    "### Compared recursive structures:\n",
    "\n",
    "1. Sorted (singly) linked list:\n",
    "    - It consists of nodes, each of them contains key, value, and a reference to the next node. \n",
    "    - Nodes are sorted by keys.\n",
    "    - First element is called the head and the last element is called the tail.\n",
    "    - Adding element requires going over the list to find the correct place, copying reference from the previous node and overwriting that reference with a reference to the new node. If the new node would be the first element it becomes a new head and copies the reference to the previous head. If it would become a new tail, the previous one would just save the new one's reference.\n",
    "    - Deleting element just overwrites the reference contained by the previous node with the reference that is saved in a node that we are deleting. Unless it is a head then the next one just becomes a head, and if it is a tail we delete the reference in the previous node altogether.\n",
    "2. Binary search tree:\n",
    "    - It consists of nodes, each of them contains key, value, and references to the left and right child.\n",
    "    - The left child's key is always lesser and the right child's is always greater than the parent's.\n",
    "    - First element, at the top, is called the root of the tree.\n",
    "    - Adding element requires us to start at the root. We compare the new node's key with the root's key. If it is lesser we go to the left child, otherwise to the right. we repeat that process until we go across a Null child (that does not exist), then the new Node becomes that child.\n",
    "    - Deleting element: If the node to be deleted does not have children just delete the node. If it has one child just replace that node with the child. If it has 2 children replace its key and value with ones of the node with the least key in the right subtree, and remove that node from the tree.\n",
    "3. AVL tree (optionally):\n",
    "    - It is an extension of binary search tree. It requires each node's left and right subtree to have a diffrence between -1 and 1 in height. After each Addition or deletion it checks if a tree is unbalanced and then it uses one of the following 4 rotaition to rebalance the tree.\n",
    "    - Left rotation: The right child becomes the new root and the original root becomes the left child of the new root.\n",
    "    - Right rotation: The Left child becomes the new root and the original root becomes the right child of the new root.\n",
    "    - Left-right rotation: Use left rotation on the left subtree than right rotation on the tree.\n",
    "    - Right-left rotation: Use right rotation on the right subtree than left rotation on the tree.\n",
    "    \n"
   ]
  },
  {
   "cell_type": "code",
   "execution_count": 116,
   "metadata": {},
   "outputs": [
    {
     "name": "stdout",
     "output_type": "stream",
     "text": [
      "The autoreload extension is already loaded. To reload it, use:\n",
      "  %reload_ext autoreload\n"
     ]
    }
   ],
   "source": [
    "%load_ext autoreload\n",
    "%autoreload 2"
   ]
  },
  {
   "cell_type": "code",
   "execution_count": 117,
   "metadata": {},
   "outputs": [],
   "source": [
    "import sys\n",
    "sys.setrecursionlimit(int(1e8))"
   ]
  },
  {
   "cell_type": "code",
   "execution_count": 118,
   "metadata": {},
   "outputs": [],
   "source": [
    "from Binary_search_tree import BinarySearchTree\n",
    "from Single_linked_list import SingleLinkedList\n",
    "from Evaluate_program import measureTime\n",
    "from Generate_input import generateIncreasing, generateRandom, generateDecreasing, generateVShape\n",
    "import random"
   ]
  },
  {
   "cell_type": "code",
   "execution_count": 119,
   "metadata": {},
   "outputs": [],
   "source": [
    "structers = [BinarySearchTree, SingleLinkedList]"
   ]
  },
  {
   "cell_type": "code",
   "execution_count": 120,
   "metadata": {},
   "outputs": [],
   "source": [
    "def functionToEvaluate(structClass, inputData, numberOfRemoves = None):\n",
    "    if numberOfRemoves == None:\n",
    "        numberOfRemoves = len(inputData)\n",
    "    struct = structClass()\n",
    "    for elem in inputData:\n",
    "        struct.insert(elem, elem)\n",
    "    inputDataRemove = random.sample(inputData, numberOfRemoves)\n",
    "    for elem in inputDataRemove:\n",
    "        struct.remove(elem)"
   ]
  },
  {
   "cell_type": "code",
   "execution_count": 121,
   "metadata": {},
   "outputs": [],
   "source": [
    "inputTypes = [generateIncreasing, generateDecreasing, generateRandom, generateVShape]\n",
    "def getTimes(structClass):\n",
    "    print(structClass.__name__)\n",
    "    time_type = {}\n",
    "    for inputType in inputTypes:\n",
    "        print(f\"\\t{inputType.__name__}\")\n",
    "        inputData = inputType(10000)\n",
    "        functionInput = [structClass, inputData, 0]\n",
    "        time_type[inputType.__name__] = measureTime(functionToEvaluate, functionInput)\n",
    "    return time_type\n",
    "        \n",
    "        "
   ]
  },
  {
   "cell_type": "code",
   "execution_count": 122,
   "metadata": {},
   "outputs": [
    {
     "name": "stdout",
     "output_type": "stream",
     "text": [
      "BinarySearchTree\n",
      "\tgenerateIncreasing\n",
      "\tgenerateDecreasing\n",
      "\tgenerateRandom\n",
      "\tgenerateVShape\n",
      "SingleLinkedList\n",
      "\tgenerateIncreasing\n",
      "\tgenerateDecreasing\n",
      "\tgenerateRandom\n",
      "\tgenerateVShape\n"
     ]
    }
   ],
   "source": [
    "times = {}\n",
    "for struct in structers:\n",
    "    times[struct.__name__] = getTimes(struct)"
   ]
  },
  {
   "cell_type": "code",
   "execution_count": 123,
   "metadata": {},
   "outputs": [
    {
     "data": {
      "text/plain": [
       "{'BinarySearchTree': {'generateIncreasing': 9.583230018615723,\n",
       "  'generateDecreasing': 9.491082668304443,\n",
       "  'generateRandom': 0.03769111633300781,\n",
       "  'generateVShape': 4.853927373886108},\n",
       " 'SingleLinkedList': {'generateIncreasing': 10.558753728866577,\n",
       "  'generateDecreasing': 0.032390594482421875,\n",
       "  'generateRandom': 5.85762357711792,\n",
       "  'generateVShape': 5.423297882080078}}"
      ]
     },
     "execution_count": 123,
     "metadata": {},
     "output_type": "execute_result"
    }
   ],
   "source": [
    "times"
   ]
  }
 ],
 "metadata": {
  "kernelspec": {
   "display_name": "base",
   "language": "python",
   "name": "python3"
  },
  "language_info": {
   "codemirror_mode": {
    "name": "ipython",
    "version": 3
   },
   "file_extension": ".py",
   "mimetype": "text/x-python",
   "name": "python",
   "nbconvert_exporter": "python",
   "pygments_lexer": "ipython3",
   "version": "3.9.13"
  },
  "orig_nbformat": 4
 },
 "nbformat": 4,
 "nbformat_minor": 2
}
